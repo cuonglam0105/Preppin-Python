{
 "cells": [
  {
   "attachments": {},
   "cell_type": "markdown",
   "metadata": {},
   "source": [
    "# 2019: Week 11\n",
    "April 24, 2019\n",
    "\n",
    "This week is all about stocks but you have Ian Baldwin to thank for this challenge. He posed us the challenge of taking a JSON output from a shares website and turning it in to a file for use within Tableau.\n",
    "\n",
    "Tableau Prep does not have a connector to allow us to download the data from the site (yet??), or parse JSON (yet??), but we can take a very raw file and manipulate the data file to build out a table that we would commonly use in Tableau Desktop.\n",
    "\n",
    "# Requirements\n",
    "\n",
    "<img src=\"https://2.bp.blogspot.com/-Xfgu2dHIS7w/XMAKxms_HCI/AAAAAAAAANY/HuIlrr_e-VIkBrqHb0uaisxRn5UogxrJwCLcBGAs/s320/11%2Binput.JPG\" width=\"500\" height=\"300\"/>\n",
    "\n",
    "Input data from the .csv\n",
    "+ Break up the JSON_Name field\n",
    "+ Exclude 'meta' and '' records in the same column to just leave 'indicators' and 'timestamp'\n",
    "+ For the column containing our metrics, if this is blank, take the value from the 'indicators' / 'timestamp' column. Rename this field as 'Data Type'\n",
    "+ There is a column that will contain just numbers (up to 502). If this column is blank then take the value from the other column that contains similar values up to 502. Rename this field to 'Row'\n",
    "+ Rename 'JSON_ValueString' to 'Value'\n",
    "+ Only leave fields in your data set that have been renamed as per the instruction above.\n",
    "+ Pivot fields to form final table structure\n",
    "+ Turn Unix Epoch time in to a real date\n",
    "\n",
    "# Output\n",
    "\n",
    "<img src=\"https://2.bp.blogspot.com/-wXrrYgStbuc/XMAKxgJDNbI/AAAAAAAAANk/bUSwdu-mZPQyqBoLnUY7NffAVqrpi64pgCEwYBhgL/s320/11%2BOutput.JPG\" width=\"600\" height=\"300\" />\n",
    "\n",
    "+ 8 columns\n",
    "+ 503 rows of data (504 including headers)\n",
    "+ No null cells\n"
   ]
  },
  {
   "cell_type": "code",
   "execution_count": 1,
   "metadata": {},
   "outputs": [],
   "source": [
    "import pandas as pd"
   ]
  },
  {
   "cell_type": "code",
   "execution_count": 2,
   "metadata": {},
   "outputs": [
    {
     "name": "stdout",
     "output_type": "stream",
     "text": [
      "                                            JSON_Name  JSON_ValueString\n",
      "0                        chart.result.0.meta.currency               USD\n",
      "1                          chart.result.0.meta.symbol              DATA\n",
      "2                    chart.result.0.meta.exchangeName               NYQ\n",
      "3                  chart.result.0.meta.instrumentType            EQUITY\n",
      "4                  chart.result.0.meta.firstTradeDate        1368777600\n",
      "5                       chart.result.0.meta.gmtoffset            -14400\n",
      "6                        chart.result.0.meta.timezone               EDT\n",
      "7            chart.result.0.meta.exchangeTimezoneName  America/New_York\n",
      "8              chart.result.0.meta.chartPreviousClose             54.09\n",
      "9                       chart.result.0.meta.priceHint                 2\n",
      "10  chart.result.0.meta.currentTradingPeriod.pre.t...               EDT\n",
      "11  chart.result.0.meta.currentTradingPeriod.pre.s...        1556006400\n",
      "12   chart.result.0.meta.currentTradingPeriod.pre.end        1556026200\n",
      "13  chart.result.0.meta.currentTradingPeriod.pre.g...            -14400\n",
      "14  chart.result.0.meta.currentTradingPeriod.regul...               EDT\n",
      "15  chart.result.0.meta.currentTradingPeriod.regul...        1556026200\n",
      "16  chart.result.0.meta.currentTradingPeriod.regul...        1556049600\n",
      "17  chart.result.0.meta.currentTradingPeriod.regul...            -14400\n",
      "18  chart.result.0.meta.currentTradingPeriod.post....               EDT\n",
      "19  chart.result.0.meta.currentTradingPeriod.post....        1556049600\n",
      "====================Data types====================\n",
      "JSON_Name           object\n",
      "JSON_ValueString    object\n",
      "dtype: object\n",
      "==================================================\n"
     ]
    }
   ],
   "source": [
    "df = pd.read_csv(\"input.csv\")\n",
    "print(df.head(20))\n",
    "print(\"====================Data types====================\")\n",
    "print(df.dtypes)\n",
    "print(\"==================================================\")"
   ]
  },
  {
   "cell_type": "code",
   "execution_count": 3,
   "metadata": {},
   "outputs": [
    {
     "name": "stdout",
     "output_type": "stream",
     "text": [
      "  JSON_ValueString JSON_Name - split 1 JSON_Name - split 2  \\\n",
      "0              USD               chart              result   \n",
      "1             DATA               chart              result   \n",
      "2              NYQ               chart              result   \n",
      "3           EQUITY               chart              result   \n",
      "4       1368777600               chart              result   \n",
      "\n",
      "  JSON_Name - split 3 JSON_Name - split 4 JSON_Name - split 5  \\\n",
      "0                   0                meta            currency   \n",
      "1                   0                meta              symbol   \n",
      "2                   0                meta        exchangeName   \n",
      "3                   0                meta      instrumentType   \n",
      "4                   0                meta      firstTradeDate   \n",
      "\n",
      "  JSON_Name - split 6 JSON_Name - split 7 JSON_Name - split 8  \n",
      "0                None                None                None  \n",
      "1                None                None                None  \n",
      "2                None                None                None  \n",
      "3                None                None                None  \n",
      "4                None                None                None  \n"
     ]
    }
   ],
   "source": [
    "# Tìm max \".\" xuất hiện trong cột JSON_Name để xác định sẽ split bao nhiêu cột\n",
    "max_dot_counts = df['JSON_Name'].apply(lambda x: x.count('.')).max()\n",
    "\n",
    "# Đặt tên các cột sẽ split ra\n",
    "split_col_names = [f'JSON_Name - split {i+1}' for i in range(max_dot_counts+1)]\n",
    "\n",
    "# Split cột JSON_Name và bỏ cột JSON_Name\n",
    "df[split_col_names] = df['JSON_Name'].str.split('.', expand=True)\n",
    "df.drop(columns='JSON_Name', inplace=True)\n",
    "print(df.head(5))"
   ]
  },
  {
   "cell_type": "code",
   "execution_count": 4,
   "metadata": {},
   "outputs": [
    {
     "name": "stdout",
     "output_type": "stream",
     "text": [
      "<class 'pandas.core.frame.DataFrame'>\n",
      "Int64Index: 3521 entries, 34 to 3554\n",
      "Data columns (total 9 columns):\n",
      " #   Column               Non-Null Count  Dtype \n",
      "---  ------               --------------  ----- \n",
      " 0   JSON_ValueString     3521 non-null   object\n",
      " 1   JSON_Name - split 1  3521 non-null   object\n",
      " 2   JSON_Name - split 2  3521 non-null   object\n",
      " 3   JSON_Name - split 3  3521 non-null   object\n",
      " 4   JSON_Name - split 4  3521 non-null   object\n",
      " 5   JSON_Name - split 5  3521 non-null   object\n",
      " 6   JSON_Name - split 6  3018 non-null   object\n",
      " 7   JSON_Name - split 7  3018 non-null   object\n",
      " 8   JSON_Name - split 8  3018 non-null   object\n",
      "dtypes: object(9)\n",
      "memory usage: 275.1+ KB\n",
      "None\n",
      "==================================================\n"
     ]
    }
   ],
   "source": [
    "# Thay value NaN thành '' để có thể filter bằng contains\n",
    "df['JSON_Name - split 4'] = df['JSON_Name - split 4'].fillna('')\n",
    "\n",
    "# filter cột split 4\n",
    "df = df[df['JSON_Name - split 4'].str.contains('timestamp|indicators')]\n",
    "# print(sub_df.head(5))\n",
    "# print(\"====================Data types====================\")\n",
    "print(df.info())\n",
    "print(\"==================================================\")"
   ]
  },
  {
   "cell_type": "code",
   "execution_count": 5,
   "metadata": {},
   "outputs": [
    {
     "name": "stdout",
     "output_type": "stream",
     "text": [
      "<class 'pandas.core.frame.DataFrame'>\n",
      "Int64Index: 3521 entries, 34 to 3554\n",
      "Data columns (total 9 columns):\n",
      " #   Column               Non-Null Count  Dtype \n",
      "---  ------               --------------  ----- \n",
      " 0   JSON_ValueString     3521 non-null   object\n",
      " 1   JSON_Name - split 1  3521 non-null   object\n",
      " 2   JSON_Name - split 2  3521 non-null   object\n",
      " 3   JSON_Name - split 3  3521 non-null   object\n",
      " 4   JSON_Name - split 4  3521 non-null   object\n",
      " 5   JSON_Name - split 5  3521 non-null   object\n",
      " 6   JSON_Name - split 6  3018 non-null   object\n",
      " 7   Data Type            3521 non-null   object\n",
      " 8   JSON_Name - split 8  3018 non-null   object\n",
      "dtypes: object(9)\n",
      "memory usage: 275.1+ KB\n",
      "None\n"
     ]
    }
   ],
   "source": [
    "# Nếu dòng nào null giá trị split 7 thì lấy giá trị split 4 thế vào\n",
    "df['JSON_Name - split 7'] = df.apply(lambda row: row['JSON_Name - split 4'] if pd.isna(row['JSON_Name - split 7']) else row['JSON_Name - split 7'], axis=1)\n",
    "\n",
    "# Đổi tên cột split1 7\n",
    "df.rename(columns={'JSON_Name - split 7': 'Data Type'}, inplace=True)\n",
    "print(df.info())\n"
   ]
  },
  {
   "cell_type": "code",
   "execution_count": 6,
   "metadata": {},
   "outputs": [
    {
     "name": "stdout",
     "output_type": "stream",
     "text": [
      "<class 'pandas.core.frame.DataFrame'>\n",
      "Int64Index: 3521 entries, 34 to 3554\n",
      "Data columns (total 3 columns):\n",
      " #   Column     Non-Null Count  Dtype \n",
      "---  ------     --------------  ----- \n",
      " 0   Value      3521 non-null   object\n",
      " 1   Data Type  3521 non-null   object\n",
      " 2   Row        3521 non-null   object\n",
      "dtypes: object(3)\n",
      "memory usage: 110.0+ KB\n",
      "None\n"
     ]
    }
   ],
   "source": [
    "# Trên cột split 8, dòng nào null thì lấy giá trị cột split 5 thế vào\n",
    "df['JSON_Name - split 8'] = df.apply(lambda row: row['JSON_Name - split 5'] if pd.isna(row['JSON_Name - split 8']) else row['JSON_Name - split 8'], axis=1)\n",
    "\n",
    "# Đổi tên cột\n",
    "df.rename(columns={'JSON_Name - split 8': 'Row', 'JSON_ValueString': 'Value'}, inplace=True)\n",
    "\n",
    "# Chỉ giữ lại các cột quan trọng\n",
    "df.drop(columns=list(map(lambda i: f'JSON_Name - split {i+1}' ,range(6))), inplace=True)\n",
    "print(df.info())"
   ]
  },
  {
   "cell_type": "code",
   "execution_count": 7,
   "metadata": {},
   "outputs": [
    {
     "name": "stdout",
     "output_type": "stream",
     "text": [
      "<class 'pandas.core.frame.DataFrame'>\n",
      "RangeIndex: 503 entries, 0 to 502\n",
      "Data columns (total 8 columns):\n",
      " #   Column     Non-Null Count  Dtype  \n",
      "---  ------     --------------  -----  \n",
      " 0   Row        503 non-null    int32  \n",
      " 1   adjclose   503 non-null    float64\n",
      " 2   close      503 non-null    float64\n",
      " 3   high       503 non-null    float64\n",
      " 4   low        503 non-null    float64\n",
      " 5   open       503 non-null    float64\n",
      " 6   timestamp  503 non-null    object \n",
      " 7   volume     503 non-null    int32  \n",
      "dtypes: float64(5), int32(2), object(1)\n",
      "memory usage: 27.6+ KB\n",
      "None\n"
     ]
    }
   ],
   "source": [
    "# Pivot table row to column\n",
    "df = df.pivot(index='Row', columns='Data Type', values='Value')\n",
    "\n",
    "# Chỉnh lại multi index\n",
    "df.reset_index(inplace=True)\n",
    "\n",
    "# Chỉnh lại datatype\n",
    "df['adjclose'] = df['adjclose'].astype(float)\n",
    "df['close'] = df['close'].astype(float)\n",
    "df['high'] = df['high'].astype(float)\n",
    "df['low'] = df['low'].astype(float)\n",
    "df['open'] = df['open'].astype(float)\n",
    "df['volume'] = df['volume'].astype(int)\n",
    "df['Row'] = df['Row'].astype(int)\n",
    "print(df.info())\n",
    "\n"
   ]
  },
  {
   "cell_type": "code",
   "execution_count": 8,
   "metadata": {},
   "outputs": [
    {
     "name": "stdout",
     "output_type": "stream",
     "text": [
      "Data Type  Row  adjclose  close   high    low   open   timestamp   volume\n",
      "0            0     53.98  53.98  54.57  53.00  54.36  1493040600  1349500\n",
      "1            1     53.63  53.63  54.42  53.62  54.37  1493127000   777400\n",
      "2           10     60.05  60.05  60.55  59.44  59.53  1494250200  2401000\n",
      "3          100     75.23  75.23  75.89  74.73  75.28  1505395800   601900\n",
      "4          101     75.02  75.02  75.07  74.27  74.85  1505482200   708000\n",
      "..         ...       ...    ...    ...    ...    ...         ...      ...\n",
      "498         95     72.24  72.24  72.98  72.13  72.35  1504791000  1138700\n",
      "499         96     72.85  72.85  72.98  71.80  72.39  1504877400   656400\n",
      "500         97     74.80  74.80  75.41  73.42  73.42  1505136600  1303900\n",
      "501         98     75.63  75.63  75.75  74.24  74.94  1505223000   641800\n",
      "502         99     75.41  75.41  76.27  75.33  75.63  1505309400   881600\n",
      "\n",
      "[503 rows x 8 columns]\n"
     ]
    }
   ],
   "source": [
    "# Làm tròn số liệu còn 2 chữ số thập phân\n",
    "output = df.round(2)\n",
    "print(output)"
   ]
  }
 ],
 "metadata": {
  "kernelspec": {
   "display_name": "Python 3",
   "language": "python",
   "name": "python3"
  },
  "language_info": {
   "codemirror_mode": {
    "name": "ipython",
    "version": 3
   },
   "file_extension": ".py",
   "mimetype": "text/x-python",
   "name": "python",
   "nbconvert_exporter": "python",
   "pygments_lexer": "ipython3",
   "version": "3.10.0"
  },
  "orig_nbformat": 4
 },
 "nbformat": 4,
 "nbformat_minor": 2
}

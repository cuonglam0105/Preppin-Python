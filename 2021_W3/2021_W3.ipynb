{
 "cells": [
  {
   "attachments": {},
   "cell_type": "markdown",
   "metadata": {},
   "source": [
    "# 2021: Week 3\n",
    "\n",
    "January 20, 2021\n",
    "\n",
    "This week is the third in the Starter Challenges series we are running to kick off 2021.  \n",
    "\n",
    "This challenge will introduce you to the two main types of reshaping data, pivoting and aggregation. We used aggregation last week so we are building on this technique this week. We will also let you work with Unions where we stack data sets that have similar structures on top of each other. \n",
    "\n",
    "As with all of our January 2021 challenges, we will be sharing useful links to helpful videos and articles that will give you more technical support if you need it. \n",
    "\n",
    "This week's challenge sees us looking at the Accessory Sales at our Bike Store.\n",
    "\n",
    "# Input\n",
    "\n",
    "One Excel sheet with 5 tabs of data:\n",
    "* London\n",
    "* Leeds\n",
    "* York\n",
    "* Manchester\n",
    "* Birmingham\n",
    "\n",
    "<img src='https://1.bp.blogspot.com/-SkE1ID3HbKk/YABuumsbvQI/AAAAAAAACHM/GeuEChI9z-Qhc7n6NwEej6fTXSlC-Bs9wCLcBGAsYHQ/w640-h180/Screenshot%2B2021-01-14%2Bat%2B16.17.49.png'>\n",
    "\n",
    "The structure of the data is the same in each worksheet. \n",
    "\n",
    "# Requirements\n",
    "* Input the data source by pulling together all the tables (help)\n",
    "* Pivot 'New' columns and 'Existing' columns (help)\n",
    "* Split the former column headers to form: (help)\n",
    "* Customer Type\n",
    "* Product\n",
    "* Rename the measure created by the Pivot as 'Products Sold'\n",
    "* Create a Store column from the data\n",
    "* Remove any unnecessary data fields\n",
    "* Turn Date into Quarter (help)\n",
    "* Aggregate to form two separate outputs of the number of products sold by: (help)\n",
    "1. Product, Quarter\n",
    "2. Store, Customer Type, Product\n",
    "* Output each data set as a csv file (help)\n",
    "\n",
    "# Output\n",
    "Product Quarter Output\n",
    "\n",
    "<img src='https://1.bp.blogspot.com/-CBupnRR1gq0/YABt-8HOz5I/AAAAAAAACHA/5wL8p38ZlNsTkBWFfVqTv1sn2Ju4-MoiwCLcBGAsYHQ/w400-h290/Screenshot%2B2021-01-14%2Bat%2B16.14.27.png'>\n",
    "\n",
    "3 Data Fields:\n",
    "* Product\n",
    "* Quarter\n",
    "* Products Sold\n",
    "16 rows (17 rows including headers)\n",
    "\n",
    "Customer Product Quarter Output\n",
    "\n",
    "<img src='https://1.bp.blogspot.com/-kfx7Rw9syhE/YABuI15OKmI/AAAAAAAACHE/RpH8HUPChOYT8qE26JL9MvAYaZhW32IxwCLcBGAsYHQ/w640-h364/Screenshot%2B2021-01-14%2Bat%2B16.15.20.png'>\n",
    "\n",
    "4 Data Fields:\n",
    "* Store\n",
    "* Customer Types\n",
    "* Product\n",
    "* Products Sold\n",
    "40 rows (41 rows including headers)"
   ]
  },
  {
   "cell_type": "code",
   "execution_count": 1,
   "metadata": {},
   "outputs": [],
   "source": [
    "import pandas as pd"
   ]
  },
  {
   "cell_type": "code",
   "execution_count": 2,
   "metadata": {},
   "outputs": [
    {
     "name": "stdout",
     "output_type": "stream",
     "text": [
      "['Manchester', 'London', 'Leeds', 'York', 'Birmingham']\n"
     ]
    }
   ],
   "source": [
    "input = 'PD 2021 Wk 3 Input.xlsx'\n",
    "excel = pd.ExcelFile(input)\n",
    "print(excel.sheet_names)"
   ]
  },
  {
   "cell_type": "code",
   "execution_count": 3,
   "metadata": {},
   "outputs": [
    {
     "name": "stdout",
     "output_type": "stream",
     "text": [
      "        Date  New - Saddles  New - Mudguards  New - Wheels  New - Bags  \\\n",
      "0 2021-01-21           13.0             42.0          19.0        38.0   \n",
      "1 2021-02-21            1.0              9.0          14.0         6.0   \n",
      "2 2021-03-21            8.0             22.0           6.0        35.0   \n",
      "3 2021-04-21            3.0              9.0           8.0        16.0   \n",
      "4 2021-05-21            2.0              8.0           5.0        34.0   \n",
      "\n",
      "   Existing - Saddles  Existing - Mudguards  Existing - Wheels  \\\n",
      "0                17.0                  48.0               19.0   \n",
      "1                 2.0                   4.0               19.0   \n",
      "2                 0.0                  48.0               17.0   \n",
      "3                18.0                  50.0               18.0   \n",
      "4                17.0                   3.0               12.0   \n",
      "\n",
      "   Existing - Bags       Store  \n",
      "0             13.0  Manchester  \n",
      "1             24.0  Manchester  \n",
      "2             16.0  Manchester  \n",
      "3             25.0  Manchester  \n",
      "4             19.0  Manchester  \n",
      "<class 'pandas.core.frame.DataFrame'>\n",
      "Int64Index: 60 entries, 0 to 11\n",
      "Data columns (total 10 columns):\n",
      " #   Column                Non-Null Count  Dtype         \n",
      "---  ------                --------------  -----         \n",
      " 0   Date                  60 non-null     datetime64[ns]\n",
      " 1   New - Saddles         60 non-null     float64       \n",
      " 2   New - Mudguards       60 non-null     float64       \n",
      " 3   New - Wheels          60 non-null     float64       \n",
      " 4   New - Bags            60 non-null     float64       \n",
      " 5   Existing - Saddles    60 non-null     float64       \n",
      " 6   Existing - Mudguards  60 non-null     float64       \n",
      " 7   Existing - Wheels     60 non-null     float64       \n",
      " 8   Existing - Bags       60 non-null     float64       \n",
      " 9   Store                 60 non-null     object        \n",
      "dtypes: datetime64[ns](1), float64(8), object(1)\n",
      "memory usage: 5.2+ KB\n",
      "None\n"
     ]
    }
   ],
   "source": [
    "# Input the data source by pulling together all the tables & Create a Store column from the data\n",
    "mini_df = []\n",
    "for i in excel.sheet_names:\n",
    "    temp_df = pd.read_excel(input, sheet_name=i)\n",
    "    temp_df['Store'] = i\n",
    "    mini_df.append(temp_df)\n",
    "df = pd.concat(mini_df, axis=0)\n",
    "print(df.head(5))\n",
    "print(df.info())"
   ]
  },
  {
   "cell_type": "code",
   "execution_count": 4,
   "metadata": {},
   "outputs": [
    {
     "name": "stdout",
     "output_type": "stream",
     "text": [
      "Index(['New - Saddles', 'New - Mudguards', 'New - Wheels', 'New - Bags',\n",
      "       'Existing - Saddles', 'Existing - Mudguards', 'Existing - Wheels',\n",
      "       'Existing - Bags', 'Store'],\n",
      "      dtype='object')\n",
      "        Date       Store     Pivot_name  Pivot_value\n",
      "0 2021-01-21  Manchester  New - Saddles           13\n",
      "1 2021-02-21  Manchester  New - Saddles            1\n",
      "2 2021-03-21  Manchester  New - Saddles            8\n",
      "3 2021-04-21  Manchester  New - Saddles            3\n",
      "4 2021-05-21  Manchester  New - Saddles            2\n",
      "<class 'pandas.core.frame.DataFrame'>\n",
      "RangeIndex: 480 entries, 0 to 479\n",
      "Data columns (total 4 columns):\n",
      " #   Column       Non-Null Count  Dtype         \n",
      "---  ------       --------------  -----         \n",
      " 0   Date         480 non-null    datetime64[ns]\n",
      " 1   Store        480 non-null    object        \n",
      " 2   Pivot_name   480 non-null    object        \n",
      " 3   Pivot_value  480 non-null    int32         \n",
      "dtypes: datetime64[ns](1), int32(1), object(2)\n",
      "memory usage: 13.2+ KB\n",
      "None\n"
     ]
    }
   ],
   "source": [
    "# Pivot 'New' columns and 'Existing' columns\n",
    "columns_to_pivot = df.columns[1:]\n",
    "print(columns_to_pivot)\n",
    "df_pivot = pd.melt(df, id_vars=['Date', 'Store'], value_vars=columns_to_pivot, var_name='Pivot_name', value_name='Pivot_value')\n",
    "df_pivot['Pivot_value'] = df_pivot['Pivot_value'].astype(int)\n",
    "print(df_pivot.head(5))\n",
    "print(df_pivot.info())\n"
   ]
  },
  {
   "cell_type": "code",
   "execution_count": 5,
   "metadata": {},
   "outputs": [
    {
     "name": "stdout",
     "output_type": "stream",
     "text": [
      "        Date       Store  Pivot_value Customer Type  Product\n",
      "0 2021-01-21  Manchester           13           New  Saddles\n",
      "1 2021-02-21  Manchester            1           New  Saddles\n",
      "2 2021-03-21  Manchester            8           New  Saddles\n",
      "3 2021-04-21  Manchester            3           New  Saddles\n",
      "4 2021-05-21  Manchester            2           New  Saddles\n",
      "<class 'pandas.core.frame.DataFrame'>\n",
      "RangeIndex: 480 entries, 0 to 479\n",
      "Data columns (total 5 columns):\n",
      " #   Column         Non-Null Count  Dtype         \n",
      "---  ------         --------------  -----         \n",
      " 0   Date           480 non-null    datetime64[ns]\n",
      " 1   Store          480 non-null    object        \n",
      " 2   Pivot_value    480 non-null    int32         \n",
      " 3   Customer Type  480 non-null    object        \n",
      " 4   Product        480 non-null    object        \n",
      "dtypes: datetime64[ns](1), int32(1), object(3)\n",
      "memory usage: 17.0+ KB\n",
      "None\n"
     ]
    }
   ],
   "source": [
    "# Split the former column headers to form\n",
    "df_pivot[['Customer Type', 'Product']] = df_pivot['Pivot_name'].str.split(' - ', expand=True)\n",
    "df_pivot.drop(columns='Pivot_name', inplace=True)\n",
    "print(df_pivot.head(5))\n",
    "print(df_pivot.info())"
   ]
  },
  {
   "cell_type": "code",
   "execution_count": 6,
   "metadata": {},
   "outputs": [
    {
     "name": "stdout",
     "output_type": "stream",
     "text": [
      "<class 'pandas.core.frame.DataFrame'>\n",
      "RangeIndex: 480 entries, 0 to 479\n",
      "Data columns (total 5 columns):\n",
      " #   Column         Non-Null Count  Dtype         \n",
      "---  ------         --------------  -----         \n",
      " 0   Date           480 non-null    datetime64[ns]\n",
      " 1   Store          480 non-null    object        \n",
      " 2   Products Sold  480 non-null    int32         \n",
      " 3   Customer Type  480 non-null    object        \n",
      " 4   Product        480 non-null    object        \n",
      "dtypes: datetime64[ns](1), int32(1), object(3)\n",
      "memory usage: 17.0+ KB\n",
      "None\n"
     ]
    }
   ],
   "source": [
    "# Rename the measure created by the Pivot as 'Products Sold'\n",
    "df_pivot.rename(columns={'Pivot_value':'Products Sold'}, inplace=True)\n",
    "print(df_pivot.info())"
   ]
  },
  {
   "cell_type": "code",
   "execution_count": 7,
   "metadata": {},
   "outputs": [],
   "source": [
    "# Remove any unnecessary data fields\n",
    "# done"
   ]
  },
  {
   "cell_type": "code",
   "execution_count": 8,
   "metadata": {},
   "outputs": [
    {
     "name": "stdout",
     "output_type": "stream",
     "text": [
      "<class 'pandas.core.frame.DataFrame'>\n",
      "RangeIndex: 480 entries, 0 to 479\n",
      "Data columns (total 5 columns):\n",
      " #   Column         Non-Null Count  Dtype \n",
      "---  ------         --------------  ----- \n",
      " 0   Store          480 non-null    object\n",
      " 1   Products Sold  480 non-null    int32 \n",
      " 2   Customer Type  480 non-null    object\n",
      " 3   Product        480 non-null    object\n",
      " 4   Quarter        480 non-null    int64 \n",
      "dtypes: int32(1), int64(1), object(3)\n",
      "memory usage: 17.0+ KB\n",
      "None\n"
     ]
    }
   ],
   "source": [
    "# Turn Date into Quarter\n",
    "df_pivot['Quarter'] = df_pivot['Date'].dt.quarter\n",
    "df_pivot.drop(columns='Date', inplace=True)\n",
    "print(df_pivot.info())"
   ]
  },
  {
   "cell_type": "code",
   "execution_count": 9,
   "metadata": {},
   "outputs": [
    {
     "name": "stdout",
     "output_type": "stream",
     "text": [
      "     Product  Quarter  Products_sold\n",
      "0       Bags        1            683\n",
      "1       Bags        2            593\n",
      "2       Bags        3            564\n",
      "3       Bags        4            541\n",
      "4  Mudguards        1           1006\n"
     ]
    }
   ],
   "source": [
    "# Aggregate to form two separate outputs of the number of products sold\n",
    "# Output 1\n",
    "output1 = df_pivot.groupby(['Product', 'Quarter']).agg(Products_sold=('Products Sold','sum')).reset_index()\n",
    "print(output1.head(5))"
   ]
  },
  {
   "cell_type": "code",
   "execution_count": 10,
   "metadata": {},
   "outputs": [
    {
     "name": "stdout",
     "output_type": "stream",
     "text": [
      "        Store Customer Type    Product  Products_sold\n",
      "0  Birmingham      Existing       Bags            218\n",
      "1  Birmingham      Existing  Mudguards            266\n",
      "2  Birmingham      Existing    Saddles            185\n",
      "3  Birmingham      Existing     Wheels             78\n",
      "4  Birmingham           New       Bags            312\n"
     ]
    }
   ],
   "source": [
    "# Output 2\n",
    "output2 = df_pivot.groupby(['Store', 'Customer Type', 'Product']).agg(Products_sold=('Products Sold','sum')).reset_index()\n",
    "print(output2.head(5))"
   ]
  }
 ],
 "metadata": {
  "kernelspec": {
   "display_name": "Python 3",
   "language": "python",
   "name": "python3"
  },
  "language_info": {
   "codemirror_mode": {
    "name": "ipython",
    "version": 3
   },
   "file_extension": ".py",
   "mimetype": "text/x-python",
   "name": "python",
   "nbconvert_exporter": "python",
   "pygments_lexer": "ipython3",
   "version": "3.10.0"
  },
  "orig_nbformat": 4
 },
 "nbformat": 4,
 "nbformat_minor": 2
}

{
 "cells": [
  {
   "cell_type": "markdown",
   "metadata": {},
   "source": [
    "# 2024: Week 28 - Wimbledon Special\n",
    "\n",
    "July 10, 2024\n",
    "\n",
    "Challenge by: Jenny Martin\n",
    "\n",
    "Carl's Tour de France challenge last week has inspired a sports themed Preppin' Data month! This week the focus turns to Wimbledon. I thought it would be interesting to understand the crossover of Singles and Doubles Champions. Carl thought there wouldn't be many players who had become champions as both Singles players and Doubles players, but I thought the data could prove otherwise. Who's right? You'll have to complete the challenge to find out!\n",
    "\n",
    "### Inputs\n",
    "\n",
    "The data for the Wimbledon Champions is found in 3 separate tables:\n",
    "\n",
    "1. Singles Champions \n",
    "\n",
    "![1](https://blogger.googleusercontent.com/img/b/R29vZ2xl/AVvXsEhaP-6nLtLHwYxt4ADWhNNWdNx3nBumY_5vmEUZzn1G2bTCK6-75WACc1MWaUQ6KjLegILy4xSdSq5Xye9jYrOxhXovJZjYk6136I5UVxEnnvbMXXq6GokO6_aROoD4tCUJdooKXWgvqxkUVzG6hyphenhyphenZuhAUfYRoWBYB8CDM94P5JmA5CdjPiv6XrjS2g_HUe/s612/Screenshot%202024-07-08%20143623.png)\n",
    "\n",
    "Taken from Britannica\n",
    "\n",
    "2. Doubles Champions \n",
    "\n",
    "![2](https://blogger.googleusercontent.com/img/b/R29vZ2xl/AVvXsEiaQ8u4yzz_W3Hv-c8iEhkoUZiE2_dGLw17Wbmt1FQ4UkanKNFVs33eouv22rNkUMAkjCY2R75GHACZnBUxnkbyDRtifVO0Q9u1HvQFoAg4kJhex1d1uryq4sIsvxqRQagOhlULbN4JYPEQAkWbHvtG0SrSp7TWQi9kwV32jZ3IIgNJezZyQUVeManE44Ni/s920/Screenshot%202024-07-08%20143802.png)\n",
    "\n",
    "Taken from Britannica\n",
    "\n",
    "3. Mixed Doubles Champions \n",
    "\n",
    "![3](https://blogger.googleusercontent.com/img/b/R29vZ2xl/AVvXsEhOCPHGry-u5KXWoB619fOz61h827Hh9JrKrXZl6tTOziAsPfLP1pNs-JKwms99DoA5hi018EFHgy-2Oe5Lg6q7kON0n8BMQA8mlFibQ0Vsbggj0CVCCJGioeTfdmzzcv3k6eMPps8Nro6SbYGLs1KOPGeioxI37QrknwBDAUuC5OnlJ4-6loXm9A5wbzog/s1120/Screenshot%202024-07-08%20143919.png)\n",
    "\n",
    "Taken from Wikipedia\n",
    "### Requirements\n",
    "- Input the data\n",
    "- Filter out the years where the championship did not take place\n",
    "- Ensure the Year field is numeric\n",
    "- Reshape the data so there is a row for each Champion, for each Year, even where there are 2 winners in the Doubles\n",
    "- Make sure it's clear which tournament they were the Champion of:\n",
    "- Either Men's Singles, Women's Singles, Men's Doubles, Women's Doubles or Mixed Doubles\n",
    "- For each Champion, calculate the most recent win across tournaments\n",
    "- Bring the data together so it's clear for each Champion how many of each tournament they've won\n",
    "- Filter the data to only include Champions who have won both Singles and Doubles tournaments\n",
    "- Create a calculation for the Total Championships each Champion has won\n",
    "- Rank the Champions in descending order of their Total Championships \n",
    "- Create a field to indicate the Gender of each Champion\n",
    "- Output the data\n",
    "\n",
    "### Output\n",
    "\n",
    "![4](https://blogger.googleusercontent.com/img/b/R29vZ2xl/AVvXsEiMmX5obL4sB5F28Mq5NZee_-PzWNPdfoGADCVy-KFmBrgiPLf2GMG5Ym3RqPjI7g4nfCVT94c7S5eRn1rErgnIPI9jwrgaklRvRVAYzRG5q1-wu141necV3OUbpiNEJ-9c0Bzv5juUITYzWcQ_r81m2rwefXYqxljJ3hmNb6svVYw_pKk1oAVBuQiHOS1j/s1310/Screenshot%202024-07-08%20143149.png)\n",
    "\n",
    "- 10 fields\n",
    "- Rank\n",
    "- Champion\n",
    "- Gender\n",
    "- Total Championships\n",
    "- Women's Singles\n",
    "- Men's Singles\n",
    "- Women's Doubles\n",
    "- Mixed Doubles\n",
    "- Men's Doubles\n",
    "- Most Recent Win\n",
    "- 58 rows (59 including headers)"
   ]
  },
  {
   "cell_type": "code",
   "execution_count": 125,
   "metadata": {},
   "outputs": [
    {
     "name": "stdout",
     "output_type": "stream",
     "text": [
      "['Singles Champions', 'Doubles Champions', 'Mixed Doubles Champions']\n"
     ]
    }
   ],
   "source": [
    "import pandas as pd\n",
    "\n",
    "# Read the Excel file\n",
    "xls = pd.ExcelFile('Wimbledon Champions.xlsx')\n",
    "\n",
    "# List all sheet names\n",
    "sheet_names = xls.sheet_names\n",
    "print(sheet_names)"
   ]
  },
  {
   "cell_type": "code",
   "execution_count": 126,
   "metadata": {},
   "outputs": [
    {
     "data": {
      "application/vnd.microsoft.datawrangler.viewer.v0+json": {
       "columns": [
        {
         "name": "index",
         "rawType": "int64",
         "type": "integer"
        },
        {
         "name": "year",
         "rawType": "object",
         "type": "unknown"
        },
        {
         "name": "men",
         "rawType": "object",
         "type": "unknown"
        },
        {
         "name": "women",
         "rawType": "object",
         "type": "unknown"
        }
       ],
       "conversionMethod": "pd.DataFrame",
       "ref": "8a402f9a-a6c2-437b-8142-55752f12c1c6",
       "rows": [
        [
         "0",
         "1877",
         "Spencer W. Gore (U.K.)",
         null
        ],
        [
         "1",
         "1878",
         "Frank Hadow (U.K.)",
         null
        ],
        [
         "2",
         "1879",
         "John T. Hartley (U.K.)",
         null
        ],
        [
         "3",
         "1880",
         "John T. Hartley (U.K.)",
         null
        ],
        [
         "4",
         "1881",
         "Willie Renshaw (U.K.)",
         null
        ],
        [
         "5",
         "1882",
         "Willie Renshaw (U.K.)",
         null
        ],
        [
         "6",
         "1883",
         "Willie Renshaw (U.K.)",
         null
        ],
        [
         "7",
         "1884",
         "Willie Renshaw (U.K.)",
         "Maud Watson (U.K.)"
        ],
        [
         "8",
         "1885",
         "Willie Renshaw (U.K.)",
         "Maud Watson (U.K.)"
        ],
        [
         "9",
         "1886",
         "Willie Renshaw (U.K.)",
         "Blanche Bingley (U.K.)"
        ],
        [
         "10",
         "1887",
         "Herbert Lawford (U.K.)",
         "Charlotte Dod (U.K.)"
        ],
        [
         "11",
         "1888",
         "Ernest Renshaw (U.K.)",
         "Charlotte Dod (U.K.)"
        ],
        [
         "12",
         "1889",
         "Willie Renshaw (U.K.)",
         "Blanche Bingley Hillyard (U.K.)"
        ],
        [
         "13",
         "1890",
         "Wiloby Hamilton (U.K.)",
         "Helena Rice (U.K.)"
        ],
        [
         "14",
         "1891",
         "Wilifred Baddeley (U.K.)",
         "Charlotte Dod (U.K.)"
        ],
        [
         "15",
         "1892",
         "Wilifred Baddeley (U.K.)",
         "Charlotte Dod (U.K.)"
        ],
        [
         "16",
         "1893",
         "Joshua Pim (U.K.)",
         "Charlotte Dod (U.K.)"
        ],
        [
         "17",
         "1894",
         "Joshua Pim (U.K.)",
         "Blanche Hillyard (U.K.)"
        ],
        [
         "18",
         "1895",
         "Wilifred Baddeley (U.K.)",
         "Charlotte Cooper (U.K.)"
        ],
        [
         "19",
         "1896",
         "Harold Mahony (U.K.)",
         "Charlotte Cooper (U.K.)"
        ],
        [
         "20",
         "1897",
         "Reggie Doherty (U.K.)",
         "Blanche Hillyard (U.K.)"
        ],
        [
         "21",
         "1898",
         "Reggie Doherty (U.K.)",
         "Charlotte Cooper (U.K.)"
        ],
        [
         "22",
         "1899",
         "Reggie Doherty (U.K.)",
         "Blanche Hillyard (U.K.)"
        ],
        [
         "23",
         "1900",
         "Reggie Doherty (U.K.)",
         "Blanche Hillyard (U.K.)"
        ],
        [
         "24",
         "1901",
         "Arthur Gore (U.K.)",
         "Charlotte Cooper Sterry (U.K.)"
        ],
        [
         "25",
         "1902",
         "Laurie Doherty (U.K.)",
         "Muriel Robb (U.K.)"
        ],
        [
         "26",
         "1903",
         "Laurie Doherty (U.K.)",
         "Dorothea Douglass (U.K.)"
        ],
        [
         "27",
         "1904",
         "Laurie Doherty (U.K.)",
         "Dorothea Douglass (U.K.)"
        ],
        [
         "28",
         "1905",
         "Laurie Doherty (U.K.)",
         "May Sutton (U.S.)"
        ],
        [
         "29",
         "1906",
         "Laurie Doherty (U.K.)",
         "Dorothea Douglass (U.K.)"
        ],
        [
         "30",
         "1907",
         "Norman Brookes (Austl.)",
         "May Sutton (U.S.)"
        ],
        [
         "31",
         "1908",
         "Arthur Gore (U.K.)",
         "Charlotte Cooper Sterry (U.K.)"
        ],
        [
         "32",
         "1909",
         "Arthur Gore (U.K.)",
         "Dora Boothby (U.K.)"
        ],
        [
         "33",
         "1910",
         "Tony Wilding (N.Z.)",
         "Dorothea Douglass Lambert Chambers (U.K.)"
        ],
        [
         "34",
         "1911",
         "Tony Wilding (N.Z.)",
         "Dorothea Douglass Lambert Chambers (U.K.)"
        ],
        [
         "35",
         "1912",
         "Tony Wilding (N.Z.)",
         "Ethel Larcombe (U.K.)"
        ],
        [
         "36",
         "1913",
         "Tony Wilding (N.Z.)",
         "Dorothea Douglass Lambert Chambers (U.K.)"
        ],
        [
         "37",
         "1914",
         "Norman Brookes (Austl.)",
         "Dorothea Douglass Lambert Chambers (U.K.)"
        ],
        [
         "38",
         "1915–181",
         "not held",
         null
        ],
        [
         "39",
         "1919",
         "Gerald Patterson (Austl.)",
         "Suzanne Lenglen (France)"
        ],
        [
         "40",
         "1920",
         "Bill Tilden (U.S.)",
         "Suzanne Lenglen (France)"
        ],
        [
         "41",
         "1921",
         "Bill Tilden (U.S.)",
         "Suzanne Lenglen (France)"
        ],
        [
         "42",
         "1922",
         "Gerald Patterson (Austl.)",
         "Suzanne Lenglen (France)"
        ],
        [
         "43",
         "1923",
         "Bill Johnston (U.S.)",
         "Suzanne Lenglen (France)"
        ],
        [
         "44",
         "1924",
         "Jean Borotra (France)",
         "Kitty McKane (U.K.)"
        ],
        [
         "45",
         "1925",
         "René Lacoste (France)",
         "Suzanne Lenglen (France)"
        ],
        [
         "46",
         "1926",
         "Jean Borotra (France)",
         "Kitty McKane Godfree (U.K.)"
        ],
        [
         "47",
         "1927",
         "Henri Cochet (France)",
         "Helen Wills (U.S.)"
        ],
        [
         "48",
         "1928",
         "René Lacoste (France)",
         "Helen Wills (U.S.)"
        ],
        [
         "49",
         "1929",
         "Henri Cochet (France)",
         "Helen Wills (U.S.)"
        ]
       ],
       "shape": {
        "columns": 3,
        "rows": 143
       }
      },
      "text/html": [
       "<div>\n",
       "<style scoped>\n",
       "    .dataframe tbody tr th:only-of-type {\n",
       "        vertical-align: middle;\n",
       "    }\n",
       "\n",
       "    .dataframe tbody tr th {\n",
       "        vertical-align: top;\n",
       "    }\n",
       "\n",
       "    .dataframe thead th {\n",
       "        text-align: right;\n",
       "    }\n",
       "</style>\n",
       "<table border=\"1\" class=\"dataframe\">\n",
       "  <thead>\n",
       "    <tr style=\"text-align: right;\">\n",
       "      <th></th>\n",
       "      <th>year</th>\n",
       "      <th>men</th>\n",
       "      <th>women</th>\n",
       "    </tr>\n",
       "  </thead>\n",
       "  <tbody>\n",
       "    <tr>\n",
       "      <th>0</th>\n",
       "      <td>1877</td>\n",
       "      <td>Spencer W. Gore (U.K.)</td>\n",
       "      <td>NaN</td>\n",
       "    </tr>\n",
       "    <tr>\n",
       "      <th>1</th>\n",
       "      <td>1878</td>\n",
       "      <td>Frank Hadow (U.K.)</td>\n",
       "      <td>NaN</td>\n",
       "    </tr>\n",
       "    <tr>\n",
       "      <th>2</th>\n",
       "      <td>1879</td>\n",
       "      <td>John T. Hartley (U.K.)</td>\n",
       "      <td>NaN</td>\n",
       "    </tr>\n",
       "    <tr>\n",
       "      <th>3</th>\n",
       "      <td>1880</td>\n",
       "      <td>John T. Hartley (U.K.)</td>\n",
       "      <td>NaN</td>\n",
       "    </tr>\n",
       "    <tr>\n",
       "      <th>4</th>\n",
       "      <td>1881</td>\n",
       "      <td>Willie Renshaw (U.K.)</td>\n",
       "      <td>NaN</td>\n",
       "    </tr>\n",
       "    <tr>\n",
       "      <th>...</th>\n",
       "      <td>...</td>\n",
       "      <td>...</td>\n",
       "      <td>...</td>\n",
       "    </tr>\n",
       "    <tr>\n",
       "      <th>138</th>\n",
       "      <td>2023</td>\n",
       "      <td>Carlos Alcaraz (Spain)</td>\n",
       "      <td>Marketa Vondrousova (Czech.)</td>\n",
       "    </tr>\n",
       "    <tr>\n",
       "      <th>139</th>\n",
       "      <td>1Tournament canceled because of World War I.</td>\n",
       "      <td>NaN</td>\n",
       "      <td>NaN</td>\n",
       "    </tr>\n",
       "    <tr>\n",
       "      <th>140</th>\n",
       "      <td>2Tournament canceled because of World War II.</td>\n",
       "      <td>NaN</td>\n",
       "      <td>NaN</td>\n",
       "    </tr>\n",
       "    <tr>\n",
       "      <th>141</th>\n",
       "      <td>3Open since 1968.</td>\n",
       "      <td>NaN</td>\n",
       "      <td>NaN</td>\n",
       "    </tr>\n",
       "    <tr>\n",
       "      <th>142</th>\n",
       "      <td>4Tournament canceled because of the coronaviru...</td>\n",
       "      <td>NaN</td>\n",
       "      <td>NaN</td>\n",
       "    </tr>\n",
       "  </tbody>\n",
       "</table>\n",
       "<p>143 rows × 3 columns</p>\n",
       "</div>"
      ],
      "text/plain": [
       "                                                  year  \\\n",
       "0                                                 1877   \n",
       "1                                                 1878   \n",
       "2                                                 1879   \n",
       "3                                                 1880   \n",
       "4                                                 1881   \n",
       "..                                                 ...   \n",
       "138                                               2023   \n",
       "139       1Tournament canceled because of World War I.   \n",
       "140      2Tournament canceled because of World War II.   \n",
       "141                                  3Open since 1968.   \n",
       "142  4Tournament canceled because of the coronaviru...   \n",
       "\n",
       "                        men                         women  \n",
       "0    Spencer W. Gore (U.K.)                           NaN  \n",
       "1        Frank Hadow (U.K.)                           NaN  \n",
       "2    John T. Hartley (U.K.)                           NaN  \n",
       "3    John T. Hartley (U.K.)                           NaN  \n",
       "4     Willie Renshaw (U.K.)                           NaN  \n",
       "..                      ...                           ...  \n",
       "138  Carlos Alcaraz (Spain)  Marketa Vondrousova (Czech.)  \n",
       "139                     NaN                           NaN  \n",
       "140                     NaN                           NaN  \n",
       "141                     NaN                           NaN  \n",
       "142                     NaN                           NaN  \n",
       "\n",
       "[143 rows x 3 columns]"
      ]
     },
     "execution_count": 126,
     "metadata": {},
     "output_type": "execute_result"
    }
   ],
   "source": [
    "# Read the Singles Champions sheet into a DataFrame\n",
    "single_df = pd.read_excel(xls, sheet_name='Singles Champions')\n",
    "single_df"
   ]
  },
  {
   "cell_type": "code",
   "execution_count": 127,
   "metadata": {},
   "outputs": [
    {
     "data": {
      "application/vnd.microsoft.datawrangler.viewer.v0+json": {
       "columns": [
        {
         "name": "index",
         "rawType": "int64",
         "type": "integer"
        },
        {
         "name": "year",
         "rawType": "int64",
         "type": "integer"
        },
        {
         "name": "men",
         "rawType": "object",
         "type": "string"
        },
        {
         "name": "women",
         "rawType": "object",
         "type": "unknown"
        }
       ],
       "conversionMethod": "pd.DataFrame",
       "ref": "2c5c62d8-1fcc-45f8-b51a-4bb73fbc3e8c",
       "rows": [
        [
         "0",
         "1877",
         "Spencer W. Gore (U.K.)",
         null
        ],
        [
         "1",
         "1878",
         "Frank Hadow (U.K.)",
         null
        ],
        [
         "2",
         "1879",
         "John T. Hartley (U.K.)",
         null
        ],
        [
         "3",
         "1880",
         "John T. Hartley (U.K.)",
         null
        ],
        [
         "4",
         "1881",
         "Willie Renshaw (U.K.)",
         null
        ],
        [
         "5",
         "1882",
         "Willie Renshaw (U.K.)",
         null
        ],
        [
         "6",
         "1883",
         "Willie Renshaw (U.K.)",
         null
        ],
        [
         "7",
         "1884",
         "Willie Renshaw (U.K.)",
         "Maud Watson (U.K.)"
        ],
        [
         "8",
         "1885",
         "Willie Renshaw (U.K.)",
         "Maud Watson (U.K.)"
        ],
        [
         "9",
         "1886",
         "Willie Renshaw (U.K.)",
         "Blanche Bingley (U.K.)"
        ],
        [
         "10",
         "1887",
         "Herbert Lawford (U.K.)",
         "Charlotte Dod (U.K.)"
        ],
        [
         "11",
         "1888",
         "Ernest Renshaw (U.K.)",
         "Charlotte Dod (U.K.)"
        ],
        [
         "12",
         "1889",
         "Willie Renshaw (U.K.)",
         "Blanche Bingley Hillyard (U.K.)"
        ],
        [
         "13",
         "1890",
         "Wiloby Hamilton (U.K.)",
         "Helena Rice (U.K.)"
        ],
        [
         "14",
         "1891",
         "Wilifred Baddeley (U.K.)",
         "Charlotte Dod (U.K.)"
        ],
        [
         "15",
         "1892",
         "Wilifred Baddeley (U.K.)",
         "Charlotte Dod (U.K.)"
        ],
        [
         "16",
         "1893",
         "Joshua Pim (U.K.)",
         "Charlotte Dod (U.K.)"
        ],
        [
         "17",
         "1894",
         "Joshua Pim (U.K.)",
         "Blanche Hillyard (U.K.)"
        ],
        [
         "18",
         "1895",
         "Wilifred Baddeley (U.K.)",
         "Charlotte Cooper (U.K.)"
        ],
        [
         "19",
         "1896",
         "Harold Mahony (U.K.)",
         "Charlotte Cooper (U.K.)"
        ],
        [
         "20",
         "1897",
         "Reggie Doherty (U.K.)",
         "Blanche Hillyard (U.K.)"
        ],
        [
         "21",
         "1898",
         "Reggie Doherty (U.K.)",
         "Charlotte Cooper (U.K.)"
        ],
        [
         "22",
         "1899",
         "Reggie Doherty (U.K.)",
         "Blanche Hillyard (U.K.)"
        ],
        [
         "23",
         "1900",
         "Reggie Doherty (U.K.)",
         "Blanche Hillyard (U.K.)"
        ],
        [
         "24",
         "1901",
         "Arthur Gore (U.K.)",
         "Charlotte Cooper Sterry (U.K.)"
        ],
        [
         "25",
         "1902",
         "Laurie Doherty (U.K.)",
         "Muriel Robb (U.K.)"
        ],
        [
         "26",
         "1903",
         "Laurie Doherty (U.K.)",
         "Dorothea Douglass (U.K.)"
        ],
        [
         "27",
         "1904",
         "Laurie Doherty (U.K.)",
         "Dorothea Douglass (U.K.)"
        ],
        [
         "28",
         "1905",
         "Laurie Doherty (U.K.)",
         "May Sutton (U.S.)"
        ],
        [
         "29",
         "1906",
         "Laurie Doherty (U.K.)",
         "Dorothea Douglass (U.K.)"
        ],
        [
         "30",
         "1907",
         "Norman Brookes (Austl.)",
         "May Sutton (U.S.)"
        ],
        [
         "31",
         "1908",
         "Arthur Gore (U.K.)",
         "Charlotte Cooper Sterry (U.K.)"
        ],
        [
         "32",
         "1909",
         "Arthur Gore (U.K.)",
         "Dora Boothby (U.K.)"
        ],
        [
         "33",
         "1910",
         "Tony Wilding (N.Z.)",
         "Dorothea Douglass Lambert Chambers (U.K.)"
        ],
        [
         "34",
         "1911",
         "Tony Wilding (N.Z.)",
         "Dorothea Douglass Lambert Chambers (U.K.)"
        ],
        [
         "35",
         "1912",
         "Tony Wilding (N.Z.)",
         "Ethel Larcombe (U.K.)"
        ],
        [
         "36",
         "1913",
         "Tony Wilding (N.Z.)",
         "Dorothea Douglass Lambert Chambers (U.K.)"
        ],
        [
         "37",
         "1914",
         "Norman Brookes (Austl.)",
         "Dorothea Douglass Lambert Chambers (U.K.)"
        ],
        [
         "39",
         "1919",
         "Gerald Patterson (Austl.)",
         "Suzanne Lenglen (France)"
        ],
        [
         "40",
         "1920",
         "Bill Tilden (U.S.)",
         "Suzanne Lenglen (France)"
        ],
        [
         "41",
         "1921",
         "Bill Tilden (U.S.)",
         "Suzanne Lenglen (France)"
        ],
        [
         "42",
         "1922",
         "Gerald Patterson (Austl.)",
         "Suzanne Lenglen (France)"
        ],
        [
         "43",
         "1923",
         "Bill Johnston (U.S.)",
         "Suzanne Lenglen (France)"
        ],
        [
         "44",
         "1924",
         "Jean Borotra (France)",
         "Kitty McKane (U.K.)"
        ],
        [
         "45",
         "1925",
         "René Lacoste (France)",
         "Suzanne Lenglen (France)"
        ],
        [
         "46",
         "1926",
         "Jean Borotra (France)",
         "Kitty McKane Godfree (U.K.)"
        ],
        [
         "47",
         "1927",
         "Henri Cochet (France)",
         "Helen Wills (U.S.)"
        ],
        [
         "48",
         "1928",
         "René Lacoste (France)",
         "Helen Wills (U.S.)"
        ],
        [
         "49",
         "1929",
         "Henri Cochet (France)",
         "Helen Wills (U.S.)"
        ],
        [
         "50",
         "1930",
         "Bill Tilden (U.S.)",
         "Helen Wills Moody (U.S.)"
        ]
       ],
       "shape": {
        "columns": 3,
        "rows": 136
       }
      },
      "text/html": [
       "<div>\n",
       "<style scoped>\n",
       "    .dataframe tbody tr th:only-of-type {\n",
       "        vertical-align: middle;\n",
       "    }\n",
       "\n",
       "    .dataframe tbody tr th {\n",
       "        vertical-align: top;\n",
       "    }\n",
       "\n",
       "    .dataframe thead th {\n",
       "        text-align: right;\n",
       "    }\n",
       "</style>\n",
       "<table border=\"1\" class=\"dataframe\">\n",
       "  <thead>\n",
       "    <tr style=\"text-align: right;\">\n",
       "      <th></th>\n",
       "      <th>year</th>\n",
       "      <th>men</th>\n",
       "      <th>women</th>\n",
       "    </tr>\n",
       "  </thead>\n",
       "  <tbody>\n",
       "    <tr>\n",
       "      <th>0</th>\n",
       "      <td>1877</td>\n",
       "      <td>Spencer W. Gore (U.K.)</td>\n",
       "      <td>NaN</td>\n",
       "    </tr>\n",
       "    <tr>\n",
       "      <th>1</th>\n",
       "      <td>1878</td>\n",
       "      <td>Frank Hadow (U.K.)</td>\n",
       "      <td>NaN</td>\n",
       "    </tr>\n",
       "    <tr>\n",
       "      <th>2</th>\n",
       "      <td>1879</td>\n",
       "      <td>John T. Hartley (U.K.)</td>\n",
       "      <td>NaN</td>\n",
       "    </tr>\n",
       "    <tr>\n",
       "      <th>3</th>\n",
       "      <td>1880</td>\n",
       "      <td>John T. Hartley (U.K.)</td>\n",
       "      <td>NaN</td>\n",
       "    </tr>\n",
       "    <tr>\n",
       "      <th>4</th>\n",
       "      <td>1881</td>\n",
       "      <td>Willie Renshaw (U.K.)</td>\n",
       "      <td>NaN</td>\n",
       "    </tr>\n",
       "    <tr>\n",
       "      <th>...</th>\n",
       "      <td>...</td>\n",
       "      <td>...</td>\n",
       "      <td>...</td>\n",
       "    </tr>\n",
       "    <tr>\n",
       "      <th>133</th>\n",
       "      <td>2018</td>\n",
       "      <td>Novak Djokovic (Serbia)</td>\n",
       "      <td>Angelique Kerber (Ger.)</td>\n",
       "    </tr>\n",
       "    <tr>\n",
       "      <th>134</th>\n",
       "      <td>2019</td>\n",
       "      <td>Novak Djokovic (Serbia)</td>\n",
       "      <td>Simona Halep (Rom.)</td>\n",
       "    </tr>\n",
       "    <tr>\n",
       "      <th>136</th>\n",
       "      <td>2021</td>\n",
       "      <td>Novak Djokovic (Serbia)</td>\n",
       "      <td>Ashleigh Barty (Austl.)</td>\n",
       "    </tr>\n",
       "    <tr>\n",
       "      <th>137</th>\n",
       "      <td>2022</td>\n",
       "      <td>Novak Djokovic (Serbia)</td>\n",
       "      <td>Elena Rybakina (Kazakh.)</td>\n",
       "    </tr>\n",
       "    <tr>\n",
       "      <th>138</th>\n",
       "      <td>2023</td>\n",
       "      <td>Carlos Alcaraz (Spain)</td>\n",
       "      <td>Marketa Vondrousova (Czech.)</td>\n",
       "    </tr>\n",
       "  </tbody>\n",
       "</table>\n",
       "<p>136 rows × 3 columns</p>\n",
       "</div>"
      ],
      "text/plain": [
       "     year                      men                         women\n",
       "0    1877   Spencer W. Gore (U.K.)                           NaN\n",
       "1    1878       Frank Hadow (U.K.)                           NaN\n",
       "2    1879   John T. Hartley (U.K.)                           NaN\n",
       "3    1880   John T. Hartley (U.K.)                           NaN\n",
       "4    1881    Willie Renshaw (U.K.)                           NaN\n",
       "..    ...                      ...                           ...\n",
       "133  2018  Novak Djokovic (Serbia)       Angelique Kerber (Ger.)\n",
       "134  2019  Novak Djokovic (Serbia)           Simona Halep (Rom.)\n",
       "136  2021  Novak Djokovic (Serbia)       Ashleigh Barty (Austl.)\n",
       "137  2022  Novak Djokovic (Serbia)      Elena Rybakina (Kazakh.)\n",
       "138  2023   Carlos Alcaraz (Spain)  Marketa Vondrousova (Czech.)\n",
       "\n",
       "[136 rows x 3 columns]"
      ]
     },
     "execution_count": 127,
     "metadata": {},
     "output_type": "execute_result"
    }
   ],
   "source": [
    "# Filter out records where 'men' or 'women' columns have 'not held' as value\n",
    "single_df = single_df[(single_df['men'] != 'not held') & (single_df['women'] != 'not held')]\n",
    "\n",
    "# Filter out records where both 'men' and 'women' columns are null\n",
    "single_df = single_df.dropna(subset=['men', 'women'], how='all')\n",
    "\n",
    "# Convert the 'year' column to numeric, forcing errors to NaN\n",
    "single_df['year'] = pd.to_numeric(single_df['year'], errors='coerce')\n",
    "\n",
    "# Drop rows with NaN values in 'year' column\n",
    "single_df = single_df.dropna(subset=['year'])\n",
    "\n",
    "# Convert 'year' column to integer type\n",
    "single_df['year'] = single_df['year'].astype(int)\n",
    "single_df"
   ]
  },
  {
   "cell_type": "code",
   "execution_count": 128,
   "metadata": {},
   "outputs": [
    {
     "data": {
      "application/vnd.microsoft.datawrangler.viewer.v0+json": {
       "columns": [
        {
         "name": "index",
         "rawType": "int64",
         "type": "integer"
        },
        {
         "name": "year",
         "rawType": "int64",
         "type": "integer"
        },
        {
         "name": "Tournament",
         "rawType": "object",
         "type": "string"
        },
        {
         "name": "Champions",
         "rawType": "object",
         "type": "string"
        }
       ],
       "conversionMethod": "pd.DataFrame",
       "ref": "8cc98dde-f80d-413f-8c45-83edd0f759a2",
       "rows": [
        [
         "0",
         "1877",
         "Men's Singles",
         "Spencer W. Gore (U.K.)"
        ],
        [
         "1",
         "1878",
         "Men's Singles",
         "Frank Hadow (U.K.)"
        ],
        [
         "2",
         "1879",
         "Men's Singles",
         "John T. Hartley (U.K.)"
        ],
        [
         "3",
         "1880",
         "Men's Singles",
         "John T. Hartley (U.K.)"
        ],
        [
         "4",
         "1881",
         "Men's Singles",
         "Willie Renshaw (U.K.)"
        ],
        [
         "5",
         "1882",
         "Men's Singles",
         "Willie Renshaw (U.K.)"
        ],
        [
         "6",
         "1883",
         "Men's Singles",
         "Willie Renshaw (U.K.)"
        ],
        [
         "7",
         "1884",
         "Men's Singles",
         "Willie Renshaw (U.K.)"
        ],
        [
         "8",
         "1885",
         "Men's Singles",
         "Willie Renshaw (U.K.)"
        ],
        [
         "9",
         "1886",
         "Men's Singles",
         "Willie Renshaw (U.K.)"
        ],
        [
         "10",
         "1887",
         "Men's Singles",
         "Herbert Lawford (U.K.)"
        ],
        [
         "11",
         "1888",
         "Men's Singles",
         "Ernest Renshaw (U.K.)"
        ],
        [
         "12",
         "1889",
         "Men's Singles",
         "Willie Renshaw (U.K.)"
        ],
        [
         "13",
         "1890",
         "Men's Singles",
         "Wiloby Hamilton (U.K.)"
        ],
        [
         "14",
         "1891",
         "Men's Singles",
         "Wilifred Baddeley (U.K.)"
        ],
        [
         "15",
         "1892",
         "Men's Singles",
         "Wilifred Baddeley (U.K.)"
        ],
        [
         "16",
         "1893",
         "Men's Singles",
         "Joshua Pim (U.K.)"
        ],
        [
         "17",
         "1894",
         "Men's Singles",
         "Joshua Pim (U.K.)"
        ],
        [
         "18",
         "1895",
         "Men's Singles",
         "Wilifred Baddeley (U.K.)"
        ],
        [
         "19",
         "1896",
         "Men's Singles",
         "Harold Mahony (U.K.)"
        ],
        [
         "20",
         "1897",
         "Men's Singles",
         "Reggie Doherty (U.K.)"
        ],
        [
         "21",
         "1898",
         "Men's Singles",
         "Reggie Doherty (U.K.)"
        ],
        [
         "22",
         "1899",
         "Men's Singles",
         "Reggie Doherty (U.K.)"
        ],
        [
         "23",
         "1900",
         "Men's Singles",
         "Reggie Doherty (U.K.)"
        ],
        [
         "24",
         "1901",
         "Men's Singles",
         "Arthur Gore (U.K.)"
        ],
        [
         "25",
         "1902",
         "Men's Singles",
         "Laurie Doherty (U.K.)"
        ],
        [
         "26",
         "1903",
         "Men's Singles",
         "Laurie Doherty (U.K.)"
        ],
        [
         "27",
         "1904",
         "Men's Singles",
         "Laurie Doherty (U.K.)"
        ],
        [
         "28",
         "1905",
         "Men's Singles",
         "Laurie Doherty (U.K.)"
        ],
        [
         "29",
         "1906",
         "Men's Singles",
         "Laurie Doherty (U.K.)"
        ],
        [
         "30",
         "1907",
         "Men's Singles",
         "Norman Brookes (Austl.)"
        ],
        [
         "31",
         "1908",
         "Men's Singles",
         "Arthur Gore (U.K.)"
        ],
        [
         "32",
         "1909",
         "Men's Singles",
         "Arthur Gore (U.K.)"
        ],
        [
         "33",
         "1910",
         "Men's Singles",
         "Tony Wilding (N.Z.)"
        ],
        [
         "34",
         "1911",
         "Men's Singles",
         "Tony Wilding (N.Z.)"
        ],
        [
         "35",
         "1912",
         "Men's Singles",
         "Tony Wilding (N.Z.)"
        ],
        [
         "36",
         "1913",
         "Men's Singles",
         "Tony Wilding (N.Z.)"
        ],
        [
         "37",
         "1914",
         "Men's Singles",
         "Norman Brookes (Austl.)"
        ],
        [
         "38",
         "1919",
         "Men's Singles",
         "Gerald Patterson (Austl.)"
        ],
        [
         "39",
         "1920",
         "Men's Singles",
         "Bill Tilden (U.S.)"
        ],
        [
         "40",
         "1921",
         "Men's Singles",
         "Bill Tilden (U.S.)"
        ],
        [
         "41",
         "1922",
         "Men's Singles",
         "Gerald Patterson (Austl.)"
        ],
        [
         "42",
         "1923",
         "Men's Singles",
         "Bill Johnston (U.S.)"
        ],
        [
         "43",
         "1924",
         "Men's Singles",
         "Jean Borotra (France)"
        ],
        [
         "44",
         "1925",
         "Men's Singles",
         "René Lacoste (France)"
        ],
        [
         "45",
         "1926",
         "Men's Singles",
         "Jean Borotra (France)"
        ],
        [
         "46",
         "1927",
         "Men's Singles",
         "Henri Cochet (France)"
        ],
        [
         "47",
         "1928",
         "Men's Singles",
         "René Lacoste (France)"
        ],
        [
         "48",
         "1929",
         "Men's Singles",
         "Henri Cochet (France)"
        ],
        [
         "49",
         "1930",
         "Men's Singles",
         "Bill Tilden (U.S.)"
        ]
       ],
       "shape": {
        "columns": 3,
        "rows": 265
       }
      },
      "text/html": [
       "<div>\n",
       "<style scoped>\n",
       "    .dataframe tbody tr th:only-of-type {\n",
       "        vertical-align: middle;\n",
       "    }\n",
       "\n",
       "    .dataframe tbody tr th {\n",
       "        vertical-align: top;\n",
       "    }\n",
       "\n",
       "    .dataframe thead th {\n",
       "        text-align: right;\n",
       "    }\n",
       "</style>\n",
       "<table border=\"1\" class=\"dataframe\">\n",
       "  <thead>\n",
       "    <tr style=\"text-align: right;\">\n",
       "      <th></th>\n",
       "      <th>year</th>\n",
       "      <th>Tournament</th>\n",
       "      <th>Champions</th>\n",
       "    </tr>\n",
       "  </thead>\n",
       "  <tbody>\n",
       "    <tr>\n",
       "      <th>0</th>\n",
       "      <td>1877</td>\n",
       "      <td>Men's Singles</td>\n",
       "      <td>Spencer W. Gore (U.K.)</td>\n",
       "    </tr>\n",
       "    <tr>\n",
       "      <th>1</th>\n",
       "      <td>1878</td>\n",
       "      <td>Men's Singles</td>\n",
       "      <td>Frank Hadow (U.K.)</td>\n",
       "    </tr>\n",
       "    <tr>\n",
       "      <th>2</th>\n",
       "      <td>1879</td>\n",
       "      <td>Men's Singles</td>\n",
       "      <td>John T. Hartley (U.K.)</td>\n",
       "    </tr>\n",
       "    <tr>\n",
       "      <th>3</th>\n",
       "      <td>1880</td>\n",
       "      <td>Men's Singles</td>\n",
       "      <td>John T. Hartley (U.K.)</td>\n",
       "    </tr>\n",
       "    <tr>\n",
       "      <th>4</th>\n",
       "      <td>1881</td>\n",
       "      <td>Men's Singles</td>\n",
       "      <td>Willie Renshaw (U.K.)</td>\n",
       "    </tr>\n",
       "    <tr>\n",
       "      <th>...</th>\n",
       "      <td>...</td>\n",
       "      <td>...</td>\n",
       "      <td>...</td>\n",
       "    </tr>\n",
       "    <tr>\n",
       "      <th>267</th>\n",
       "      <td>2018</td>\n",
       "      <td>Women's Singles</td>\n",
       "      <td>Angelique Kerber (Ger.)</td>\n",
       "    </tr>\n",
       "    <tr>\n",
       "      <th>268</th>\n",
       "      <td>2019</td>\n",
       "      <td>Women's Singles</td>\n",
       "      <td>Simona Halep (Rom.)</td>\n",
       "    </tr>\n",
       "    <tr>\n",
       "      <th>269</th>\n",
       "      <td>2021</td>\n",
       "      <td>Women's Singles</td>\n",
       "      <td>Ashleigh Barty (Austl.)</td>\n",
       "    </tr>\n",
       "    <tr>\n",
       "      <th>270</th>\n",
       "      <td>2022</td>\n",
       "      <td>Women's Singles</td>\n",
       "      <td>Elena Rybakina (Kazakh.)</td>\n",
       "    </tr>\n",
       "    <tr>\n",
       "      <th>271</th>\n",
       "      <td>2023</td>\n",
       "      <td>Women's Singles</td>\n",
       "      <td>Marketa Vondrousova (Czech.)</td>\n",
       "    </tr>\n",
       "  </tbody>\n",
       "</table>\n",
       "<p>265 rows × 3 columns</p>\n",
       "</div>"
      ],
      "text/plain": [
       "     year       Tournament                     Champions\n",
       "0    1877    Men's Singles        Spencer W. Gore (U.K.)\n",
       "1    1878    Men's Singles            Frank Hadow (U.K.)\n",
       "2    1879    Men's Singles        John T. Hartley (U.K.)\n",
       "3    1880    Men's Singles        John T. Hartley (U.K.)\n",
       "4    1881    Men's Singles         Willie Renshaw (U.K.)\n",
       "..    ...              ...                           ...\n",
       "267  2018  Women's Singles       Angelique Kerber (Ger.)\n",
       "268  2019  Women's Singles           Simona Halep (Rom.)\n",
       "269  2021  Women's Singles       Ashleigh Barty (Austl.)\n",
       "270  2022  Women's Singles      Elena Rybakina (Kazakh.)\n",
       "271  2023  Women's Singles  Marketa Vondrousova (Czech.)\n",
       "\n",
       "[265 rows x 3 columns]"
      ]
     },
     "execution_count": 128,
     "metadata": {},
     "output_type": "execute_result"
    }
   ],
   "source": [
    "# Reshape the single_df DataFrame\n",
    "single_df_melted = single_df.melt(id_vars=['year'], value_vars=['men', 'women'], var_name='Tournament', value_name='Champions')\n",
    "\n",
    "# Drop rows with NaN values in the 'champion' column\n",
    "single_df_melted = single_df_melted.dropna(subset=['Champions'])\n",
    "\n",
    "# Change the values in the 'Tournament' column\n",
    "single_df_melted['Tournament'] = single_df_melted['Tournament'].replace({'men': \"Men's Singles\", 'women': \"Women's Singles\"})\n",
    "\n",
    "single_df_melted"
   ]
  },
  {
   "cell_type": "code",
   "execution_count": 129,
   "metadata": {},
   "outputs": [
    {
     "data": {
      "application/vnd.microsoft.datawrangler.viewer.v0+json": {
       "columns": [
        {
         "name": "index",
         "rawType": "int64",
         "type": "integer"
        },
        {
         "name": "year",
         "rawType": "object",
         "type": "unknown"
        },
        {
         "name": "men",
         "rawType": "object",
         "type": "unknown"
        },
        {
         "name": "women",
         "rawType": "object",
         "type": "unknown"
        }
       ],
       "conversionMethod": "pd.DataFrame",
       "ref": "2427d64a-e967-43fc-8eae-1ceeb3450ada",
       "rows": [
        [
         "0",
         "1879",
         "Robert Erskine, Herbert Lawford",
         null
        ],
        [
         "1",
         "1880",
         "Willie Renshaw, Ernest Renshaw",
         null
        ],
        [
         "2",
         "1881",
         "Willie Renshaw, Ernest Renshaw",
         null
        ],
        [
         "3",
         "1882",
         "John Hartley, R.T. Richardson",
         null
        ],
        [
         "4",
         "1883",
         "C.W. Grinstead, C.E. Welldon",
         null
        ],
        [
         "5",
         "1884",
         "Willie Renshaw, Ernest Renshaw",
         null
        ],
        [
         "6",
         "1885",
         "Willie Renshaw, Ernest Renshaw",
         null
        ],
        [
         "7",
         "1886",
         "Willie Renshaw, Ernest Renshaw",
         null
        ],
        [
         "8",
         "1887",
         "Herbert Wilberforce, Patrick Bowes-Lyon",
         null
        ],
        [
         "9",
         "1888",
         "Willie Renshaw, Ernest Renshaw",
         null
        ],
        [
         "10",
         "1889",
         "Willie Renshaw, Ernest Renshaw",
         null
        ],
        [
         "11",
         "1890",
         "Joshua Pim, Frank Stoker",
         null
        ],
        [
         "12",
         "1891",
         "Wilifred Baddeley, Herbert Baddeley",
         null
        ],
        [
         "13",
         "1892",
         "Ernest Lewis, Harry Barlow",
         null
        ],
        [
         "14",
         "1893",
         "Joshua Pim, Frank Stoker",
         null
        ],
        [
         "15",
         "1894",
         "Wilifred Baddeley, Herbert Baddeley",
         null
        ],
        [
         "16",
         "1895",
         "Wilifred Baddeley, Herbert Baddeley",
         null
        ],
        [
         "17",
         "1896",
         "Wilifred Baddeley, Herbert Baddeley",
         null
        ],
        [
         "18",
         "1897",
         "Reggie Doherty, Laurie Doherty",
         null
        ],
        [
         "19",
         "1898",
         "Reggie Doherty, Laurie Doherty",
         null
        ],
        [
         "20",
         "1899",
         "Reggie Doherty, Laurie Doherty",
         null
        ],
        [
         "21",
         "1900",
         "Reggie Doherty, Laurie Doherty",
         null
        ],
        [
         "22",
         "1901",
         "Reggie Doherty, Laurie Doherty",
         null
        ],
        [
         "23",
         "1902",
         "Sidney Smith, Frank Riseley",
         null
        ],
        [
         "24",
         "1903",
         "Reggie Doherty, Laurie Doherty",
         null
        ],
        [
         "25",
         "1904",
         "Reggie Doherty, Laurie Doherty",
         null
        ],
        [
         "26",
         "1905",
         "Reggie Doherty, Laurie Doherty",
         null
        ],
        [
         "27",
         "1906",
         "Sidney Smith, Frank Riseley",
         null
        ],
        [
         "28",
         "1907",
         "Norman Brookes, Tony Wilding",
         null
        ],
        [
         "29",
         "1908",
         "Tony Wilding, Josiah Ritchie",
         null
        ],
        [
         "30",
         "1909",
         "Arthur Gore, Herbert Roper Barrett",
         null
        ],
        [
         "31",
         "1910",
         "Tony Wilding, Josiah Ritchie",
         null
        ],
        [
         "32",
         "1911",
         "Ándre Gobert, Max Decugis",
         null
        ],
        [
         "33",
         "1912",
         "Herbert Roper Barrett, Charles Dixon",
         null
        ],
        [
         "34",
         "1913",
         "Herbert Roper Barrett, Charles Dixon",
         "Winifred McNair, Dora Boothby"
        ],
        [
         "35",
         "1914",
         "Norman Brookes, Tony Wilding",
         "Elizabeth Ryan, Agnes Morton"
        ],
        [
         "36",
         "1915–181",
         "not held",
         null
        ],
        [
         "37",
         "1919",
         "Ronald Thomas, Pat O'Hara Wood",
         "Suzanne Lenglen, Elizabeth Ryan"
        ],
        [
         "38",
         "1920",
         "Dick Williams, Chuck Garland",
         "Suzanne Lenglen, Elizabeth Ryan"
        ],
        [
         "39",
         "1921",
         "Randolph Lycett, Max Woosnam",
         "Suzanne Lenglen, Elizabeth Ryan"
        ],
        [
         "40",
         "1922",
         "James Anderson, Randolph Lycett",
         "Suzanne Lenglen, Elizabeth Ryan"
        ],
        [
         "41",
         "1923",
         "Leslie Godfree, Randolph Lycett",
         "Suzanne Lenglen, Elizabeth Ryan"
        ],
        [
         "42",
         "1924",
         "Frank Hunter, Vinnie Richards",
         "Hazel Wightman, Helen Wills"
        ],
        [
         "43",
         "1925",
         "Jean Borotra, Rene Lacoste",
         "Suzanne Lenglen, Elizabeth Ryan"
        ],
        [
         "44",
         "1926",
         "Jacques Brugnon, Henri Cochet",
         "Mary Browne, Elizabeth Ryan"
        ],
        [
         "45",
         "1927",
         "Frank Hunter, Bill Tilden",
         "Helen Wills, Elizabeth Ryan"
        ],
        [
         "46",
         "1928",
         "Jacques Brugnon, Henri Cochet",
         "Peggy Saunders, Phoebe Watson"
        ],
        [
         "47",
         "1929",
         "Wilmer Allison, John Van Ryn",
         "Peggy Saunders, Phoebe Watson"
        ],
        [
         "48",
         "1930",
         "Wilmer Allison, John Van Ryn",
         "Helen Wills Moody, Elizabeth Ryan"
        ],
        [
         "49",
         "1931",
         "George Lott, John Van Ryn",
         "Phyllis Mudford, Dorothy Barron"
        ]
       ],
       "shape": {
        "columns": 3,
        "rows": 140
       }
      },
      "text/html": [
       "<div>\n",
       "<style scoped>\n",
       "    .dataframe tbody tr th:only-of-type {\n",
       "        vertical-align: middle;\n",
       "    }\n",
       "\n",
       "    .dataframe tbody tr th {\n",
       "        vertical-align: top;\n",
       "    }\n",
       "\n",
       "    .dataframe thead th {\n",
       "        text-align: right;\n",
       "    }\n",
       "</style>\n",
       "<table border=\"1\" class=\"dataframe\">\n",
       "  <thead>\n",
       "    <tr style=\"text-align: right;\">\n",
       "      <th></th>\n",
       "      <th>year</th>\n",
       "      <th>men</th>\n",
       "      <th>women</th>\n",
       "    </tr>\n",
       "  </thead>\n",
       "  <tbody>\n",
       "    <tr>\n",
       "      <th>0</th>\n",
       "      <td>1879</td>\n",
       "      <td>Robert Erskine, Herbert Lawford</td>\n",
       "      <td>NaN</td>\n",
       "    </tr>\n",
       "    <tr>\n",
       "      <th>1</th>\n",
       "      <td>1880</td>\n",
       "      <td>Willie Renshaw, Ernest Renshaw</td>\n",
       "      <td>NaN</td>\n",
       "    </tr>\n",
       "    <tr>\n",
       "      <th>2</th>\n",
       "      <td>1881</td>\n",
       "      <td>Willie Renshaw, Ernest Renshaw</td>\n",
       "      <td>NaN</td>\n",
       "    </tr>\n",
       "    <tr>\n",
       "      <th>3</th>\n",
       "      <td>1882</td>\n",
       "      <td>John Hartley, R.T. Richardson</td>\n",
       "      <td>NaN</td>\n",
       "    </tr>\n",
       "    <tr>\n",
       "      <th>4</th>\n",
       "      <td>1883</td>\n",
       "      <td>C.W. Grinstead, C.E. Welldon</td>\n",
       "      <td>NaN</td>\n",
       "    </tr>\n",
       "    <tr>\n",
       "      <th>...</th>\n",
       "      <td>...</td>\n",
       "      <td>...</td>\n",
       "      <td>...</td>\n",
       "    </tr>\n",
       "    <tr>\n",
       "      <th>135</th>\n",
       "      <td>2022</td>\n",
       "      <td>Matthew Ebden, Max Purcell</td>\n",
       "      <td>Barbora Krejcikova, Katerina Siniakova</td>\n",
       "    </tr>\n",
       "    <tr>\n",
       "      <th>136</th>\n",
       "      <td>2023</td>\n",
       "      <td>Wesley Koolhof, Neal Skupski</td>\n",
       "      <td>Hsieh Su-wei, Barbora Strycova</td>\n",
       "    </tr>\n",
       "    <tr>\n",
       "      <th>137</th>\n",
       "      <td>1Tournament canceled because of World War I.</td>\n",
       "      <td>NaN</td>\n",
       "      <td>NaN</td>\n",
       "    </tr>\n",
       "    <tr>\n",
       "      <th>138</th>\n",
       "      <td>2Tournament canceled because of World War II.</td>\n",
       "      <td>NaN</td>\n",
       "      <td>NaN</td>\n",
       "    </tr>\n",
       "    <tr>\n",
       "      <th>139</th>\n",
       "      <td>3Tournament canceled because of the coronaviru...</td>\n",
       "      <td>NaN</td>\n",
       "      <td>NaN</td>\n",
       "    </tr>\n",
       "  </tbody>\n",
       "</table>\n",
       "<p>140 rows × 3 columns</p>\n",
       "</div>"
      ],
      "text/plain": [
       "                                                  year  \\\n",
       "0                                                 1879   \n",
       "1                                                 1880   \n",
       "2                                                 1881   \n",
       "3                                                 1882   \n",
       "4                                                 1883   \n",
       "..                                                 ...   \n",
       "135                                               2022   \n",
       "136                                               2023   \n",
       "137       1Tournament canceled because of World War I.   \n",
       "138      2Tournament canceled because of World War II.   \n",
       "139  3Tournament canceled because of the coronaviru...   \n",
       "\n",
       "                                 men                                   women  \n",
       "0    Robert Erskine, Herbert Lawford                                     NaN  \n",
       "1     Willie Renshaw, Ernest Renshaw                                     NaN  \n",
       "2     Willie Renshaw, Ernest Renshaw                                     NaN  \n",
       "3      John Hartley, R.T. Richardson                                     NaN  \n",
       "4       C.W. Grinstead, C.E. Welldon                                     NaN  \n",
       "..                               ...                                     ...  \n",
       "135       Matthew Ebden, Max Purcell  Barbora Krejcikova, Katerina Siniakova  \n",
       "136     Wesley Koolhof, Neal Skupski          Hsieh Su-wei, Barbora Strycova  \n",
       "137                              NaN                                     NaN  \n",
       "138                              NaN                                     NaN  \n",
       "139                              NaN                                     NaN  \n",
       "\n",
       "[140 rows x 3 columns]"
      ]
     },
     "execution_count": 129,
     "metadata": {},
     "output_type": "execute_result"
    }
   ],
   "source": [
    "# Read the Double Champions sheet into a DataFrame\n",
    "double_df = pd.read_excel(xls, sheet_name='Doubles Champions')\n",
    "double_df"
   ]
  },
  {
   "cell_type": "code",
   "execution_count": 130,
   "metadata": {},
   "outputs": [
    {
     "data": {
      "application/vnd.microsoft.datawrangler.viewer.v0+json": {
       "columns": [
        {
         "name": "index",
         "rawType": "int64",
         "type": "integer"
        },
        {
         "name": "year",
         "rawType": "int64",
         "type": "integer"
        },
        {
         "name": "men",
         "rawType": "object",
         "type": "string"
        },
        {
         "name": "women",
         "rawType": "object",
         "type": "unknown"
        }
       ],
       "conversionMethod": "pd.DataFrame",
       "ref": "11c28934-4438-4198-84f0-f5c8d0565a4b",
       "rows": [
        [
         "0",
         "1879",
         "Robert Erskine, Herbert Lawford",
         null
        ],
        [
         "1",
         "1880",
         "Willie Renshaw, Ernest Renshaw",
         null
        ],
        [
         "2",
         "1881",
         "Willie Renshaw, Ernest Renshaw",
         null
        ],
        [
         "3",
         "1882",
         "John Hartley, R.T. Richardson",
         null
        ],
        [
         "4",
         "1883",
         "C.W. Grinstead, C.E. Welldon",
         null
        ],
        [
         "5",
         "1884",
         "Willie Renshaw, Ernest Renshaw",
         null
        ],
        [
         "6",
         "1885",
         "Willie Renshaw, Ernest Renshaw",
         null
        ],
        [
         "7",
         "1886",
         "Willie Renshaw, Ernest Renshaw",
         null
        ],
        [
         "8",
         "1887",
         "Herbert Wilberforce, Patrick Bowes-Lyon",
         null
        ],
        [
         "9",
         "1888",
         "Willie Renshaw, Ernest Renshaw",
         null
        ],
        [
         "10",
         "1889",
         "Willie Renshaw, Ernest Renshaw",
         null
        ],
        [
         "11",
         "1890",
         "Joshua Pim, Frank Stoker",
         null
        ],
        [
         "12",
         "1891",
         "Wilifred Baddeley, Herbert Baddeley",
         null
        ],
        [
         "13",
         "1892",
         "Ernest Lewis, Harry Barlow",
         null
        ],
        [
         "14",
         "1893",
         "Joshua Pim, Frank Stoker",
         null
        ],
        [
         "15",
         "1894",
         "Wilifred Baddeley, Herbert Baddeley",
         null
        ],
        [
         "16",
         "1895",
         "Wilifred Baddeley, Herbert Baddeley",
         null
        ],
        [
         "17",
         "1896",
         "Wilifred Baddeley, Herbert Baddeley",
         null
        ],
        [
         "18",
         "1897",
         "Reggie Doherty, Laurie Doherty",
         null
        ],
        [
         "19",
         "1898",
         "Reggie Doherty, Laurie Doherty",
         null
        ],
        [
         "20",
         "1899",
         "Reggie Doherty, Laurie Doherty",
         null
        ],
        [
         "21",
         "1900",
         "Reggie Doherty, Laurie Doherty",
         null
        ],
        [
         "22",
         "1901",
         "Reggie Doherty, Laurie Doherty",
         null
        ],
        [
         "23",
         "1902",
         "Sidney Smith, Frank Riseley",
         null
        ],
        [
         "24",
         "1903",
         "Reggie Doherty, Laurie Doherty",
         null
        ],
        [
         "25",
         "1904",
         "Reggie Doherty, Laurie Doherty",
         null
        ],
        [
         "26",
         "1905",
         "Reggie Doherty, Laurie Doherty",
         null
        ],
        [
         "27",
         "1906",
         "Sidney Smith, Frank Riseley",
         null
        ],
        [
         "28",
         "1907",
         "Norman Brookes, Tony Wilding",
         null
        ],
        [
         "29",
         "1908",
         "Tony Wilding, Josiah Ritchie",
         null
        ],
        [
         "30",
         "1909",
         "Arthur Gore, Herbert Roper Barrett",
         null
        ],
        [
         "31",
         "1910",
         "Tony Wilding, Josiah Ritchie",
         null
        ],
        [
         "32",
         "1911",
         "Ándre Gobert, Max Decugis",
         null
        ],
        [
         "33",
         "1912",
         "Herbert Roper Barrett, Charles Dixon",
         null
        ],
        [
         "34",
         "1913",
         "Herbert Roper Barrett, Charles Dixon",
         "Winifred McNair, Dora Boothby"
        ],
        [
         "35",
         "1914",
         "Norman Brookes, Tony Wilding",
         "Elizabeth Ryan, Agnes Morton"
        ],
        [
         "37",
         "1919",
         "Ronald Thomas, Pat O'Hara Wood",
         "Suzanne Lenglen, Elizabeth Ryan"
        ],
        [
         "38",
         "1920",
         "Dick Williams, Chuck Garland",
         "Suzanne Lenglen, Elizabeth Ryan"
        ],
        [
         "39",
         "1921",
         "Randolph Lycett, Max Woosnam",
         "Suzanne Lenglen, Elizabeth Ryan"
        ],
        [
         "40",
         "1922",
         "James Anderson, Randolph Lycett",
         "Suzanne Lenglen, Elizabeth Ryan"
        ],
        [
         "41",
         "1923",
         "Leslie Godfree, Randolph Lycett",
         "Suzanne Lenglen, Elizabeth Ryan"
        ],
        [
         "42",
         "1924",
         "Frank Hunter, Vinnie Richards",
         "Hazel Wightman, Helen Wills"
        ],
        [
         "43",
         "1925",
         "Jean Borotra, Rene Lacoste",
         "Suzanne Lenglen, Elizabeth Ryan"
        ],
        [
         "44",
         "1926",
         "Jacques Brugnon, Henri Cochet",
         "Mary Browne, Elizabeth Ryan"
        ],
        [
         "45",
         "1927",
         "Frank Hunter, Bill Tilden",
         "Helen Wills, Elizabeth Ryan"
        ],
        [
         "46",
         "1928",
         "Jacques Brugnon, Henri Cochet",
         "Peggy Saunders, Phoebe Watson"
        ],
        [
         "47",
         "1929",
         "Wilmer Allison, John Van Ryn",
         "Peggy Saunders, Phoebe Watson"
        ],
        [
         "48",
         "1930",
         "Wilmer Allison, John Van Ryn",
         "Helen Wills Moody, Elizabeth Ryan"
        ],
        [
         "49",
         "1931",
         "George Lott, John Van Ryn",
         "Phyllis Mudford, Dorothy Barron"
        ],
        [
         "50",
         "1932",
         "Jean Borotra, Jacques Brugnon",
         "Doris Metaxa, Josanne Sigart"
        ]
       ],
       "shape": {
        "columns": 3,
        "rows": 134
       }
      },
      "text/html": [
       "<div>\n",
       "<style scoped>\n",
       "    .dataframe tbody tr th:only-of-type {\n",
       "        vertical-align: middle;\n",
       "    }\n",
       "\n",
       "    .dataframe tbody tr th {\n",
       "        vertical-align: top;\n",
       "    }\n",
       "\n",
       "    .dataframe thead th {\n",
       "        text-align: right;\n",
       "    }\n",
       "</style>\n",
       "<table border=\"1\" class=\"dataframe\">\n",
       "  <thead>\n",
       "    <tr style=\"text-align: right;\">\n",
       "      <th></th>\n",
       "      <th>year</th>\n",
       "      <th>men</th>\n",
       "      <th>women</th>\n",
       "    </tr>\n",
       "  </thead>\n",
       "  <tbody>\n",
       "    <tr>\n",
       "      <th>0</th>\n",
       "      <td>1879</td>\n",
       "      <td>Robert Erskine, Herbert Lawford</td>\n",
       "      <td>NaN</td>\n",
       "    </tr>\n",
       "    <tr>\n",
       "      <th>1</th>\n",
       "      <td>1880</td>\n",
       "      <td>Willie Renshaw, Ernest Renshaw</td>\n",
       "      <td>NaN</td>\n",
       "    </tr>\n",
       "    <tr>\n",
       "      <th>2</th>\n",
       "      <td>1881</td>\n",
       "      <td>Willie Renshaw, Ernest Renshaw</td>\n",
       "      <td>NaN</td>\n",
       "    </tr>\n",
       "    <tr>\n",
       "      <th>3</th>\n",
       "      <td>1882</td>\n",
       "      <td>John Hartley, R.T. Richardson</td>\n",
       "      <td>NaN</td>\n",
       "    </tr>\n",
       "    <tr>\n",
       "      <th>4</th>\n",
       "      <td>1883</td>\n",
       "      <td>C.W. Grinstead, C.E. Welldon</td>\n",
       "      <td>NaN</td>\n",
       "    </tr>\n",
       "    <tr>\n",
       "      <th>...</th>\n",
       "      <td>...</td>\n",
       "      <td>...</td>\n",
       "      <td>...</td>\n",
       "    </tr>\n",
       "    <tr>\n",
       "      <th>131</th>\n",
       "      <td>2018</td>\n",
       "      <td>Mike Bryan, Jack Sock</td>\n",
       "      <td>Barbora Krejcikova, Katerina Siniakova</td>\n",
       "    </tr>\n",
       "    <tr>\n",
       "      <th>132</th>\n",
       "      <td>2019</td>\n",
       "      <td>Juan Sebastian Cabal, Robert Farah</td>\n",
       "      <td>Hsieh Su-wei, Barbora Strycova</td>\n",
       "    </tr>\n",
       "    <tr>\n",
       "      <th>134</th>\n",
       "      <td>2021</td>\n",
       "      <td>Nikola Mektic, Mate Pavic</td>\n",
       "      <td>Hsieh Su-wei, Elise Mertens</td>\n",
       "    </tr>\n",
       "    <tr>\n",
       "      <th>135</th>\n",
       "      <td>2022</td>\n",
       "      <td>Matthew Ebden, Max Purcell</td>\n",
       "      <td>Barbora Krejcikova, Katerina Siniakova</td>\n",
       "    </tr>\n",
       "    <tr>\n",
       "      <th>136</th>\n",
       "      <td>2023</td>\n",
       "      <td>Wesley Koolhof, Neal Skupski</td>\n",
       "      <td>Hsieh Su-wei, Barbora Strycova</td>\n",
       "    </tr>\n",
       "  </tbody>\n",
       "</table>\n",
       "<p>134 rows × 3 columns</p>\n",
       "</div>"
      ],
      "text/plain": [
       "     year                                 men  \\\n",
       "0    1879     Robert Erskine, Herbert Lawford   \n",
       "1    1880      Willie Renshaw, Ernest Renshaw   \n",
       "2    1881      Willie Renshaw, Ernest Renshaw   \n",
       "3    1882       John Hartley, R.T. Richardson   \n",
       "4    1883        C.W. Grinstead, C.E. Welldon   \n",
       "..    ...                                 ...   \n",
       "131  2018               Mike Bryan, Jack Sock   \n",
       "132  2019  Juan Sebastian Cabal, Robert Farah   \n",
       "134  2021           Nikola Mektic, Mate Pavic   \n",
       "135  2022          Matthew Ebden, Max Purcell   \n",
       "136  2023        Wesley Koolhof, Neal Skupski   \n",
       "\n",
       "                                      women  \n",
       "0                                       NaN  \n",
       "1                                       NaN  \n",
       "2                                       NaN  \n",
       "3                                       NaN  \n",
       "4                                       NaN  \n",
       "..                                      ...  \n",
       "131  Barbora Krejcikova, Katerina Siniakova  \n",
       "132          Hsieh Su-wei, Barbora Strycova  \n",
       "134             Hsieh Su-wei, Elise Mertens  \n",
       "135  Barbora Krejcikova, Katerina Siniakova  \n",
       "136          Hsieh Su-wei, Barbora Strycova  \n",
       "\n",
       "[134 rows x 3 columns]"
      ]
     },
     "execution_count": 130,
     "metadata": {},
     "output_type": "execute_result"
    }
   ],
   "source": [
    "# Filter out records where 'men' or 'women' columns have 'not held' as value\n",
    "double_df = double_df[(double_df['men'] != 'not held') & (double_df['women'] != 'not held')]\n",
    "\n",
    "# Filter out records where both 'men' and 'women' columns are null\n",
    "double_df = double_df.dropna(subset=['men', 'women'], how='all')\n",
    "\n",
    "# Convert the 'year' column to numeric, forcing errors to NaN\n",
    "double_df['year'] = pd.to_numeric(double_df['year'], errors='coerce')\n",
    "\n",
    "# Drop rows with NaN values in 'year' column\n",
    "double_df = double_df.dropna(subset=['year'])\n",
    "\n",
    "# Convert 'year' column to integer type\n",
    "double_df['year'] = double_df['year'].astype(int)\n",
    "double_df"
   ]
  },
  {
   "cell_type": "code",
   "execution_count": 131,
   "metadata": {},
   "outputs": [
    {
     "data": {
      "application/vnd.microsoft.datawrangler.viewer.v0+json": {
       "columns": [
        {
         "name": "index",
         "rawType": "int64",
         "type": "integer"
        },
        {
         "name": "year",
         "rawType": "int64",
         "type": "integer"
        },
        {
         "name": "Tournament",
         "rawType": "object",
         "type": "string"
        },
        {
         "name": "Champions",
         "rawType": "object",
         "type": "string"
        }
       ],
       "conversionMethod": "pd.DataFrame",
       "ref": "78e43178-b474-405b-aa7d-1d00a04a8f20",
       "rows": [
        [
         "0",
         "1879",
         "Men's Doubles",
         "Robert Erskine"
        ],
        [
         "0",
         "1879",
         "Men's Doubles",
         "Herbert Lawford"
        ],
        [
         "1",
         "1880",
         "Men's Doubles",
         "Willie Renshaw"
        ],
        [
         "1",
         "1880",
         "Men's Doubles",
         "Ernest Renshaw"
        ],
        [
         "2",
         "1881",
         "Men's Doubles",
         "Willie Renshaw"
        ],
        [
         "2",
         "1881",
         "Men's Doubles",
         "Ernest Renshaw"
        ],
        [
         "3",
         "1882",
         "Men's Doubles",
         "John Hartley"
        ],
        [
         "3",
         "1882",
         "Men's Doubles",
         "R.T. Richardson"
        ],
        [
         "4",
         "1883",
         "Men's Doubles",
         "C.W. Grinstead"
        ],
        [
         "4",
         "1883",
         "Men's Doubles",
         "C.E. Welldon"
        ],
        [
         "5",
         "1884",
         "Men's Doubles",
         "Willie Renshaw"
        ],
        [
         "5",
         "1884",
         "Men's Doubles",
         "Ernest Renshaw"
        ],
        [
         "6",
         "1885",
         "Men's Doubles",
         "Willie Renshaw"
        ],
        [
         "6",
         "1885",
         "Men's Doubles",
         "Ernest Renshaw"
        ],
        [
         "7",
         "1886",
         "Men's Doubles",
         "Willie Renshaw"
        ],
        [
         "7",
         "1886",
         "Men's Doubles",
         "Ernest Renshaw"
        ],
        [
         "8",
         "1887",
         "Men's Doubles",
         "Herbert Wilberforce"
        ],
        [
         "8",
         "1887",
         "Men's Doubles",
         "Patrick Bowes-Lyon"
        ],
        [
         "9",
         "1888",
         "Men's Doubles",
         "Willie Renshaw"
        ],
        [
         "9",
         "1888",
         "Men's Doubles",
         "Ernest Renshaw"
        ],
        [
         "10",
         "1889",
         "Men's Doubles",
         "Willie Renshaw"
        ],
        [
         "10",
         "1889",
         "Men's Doubles",
         "Ernest Renshaw"
        ],
        [
         "11",
         "1890",
         "Men's Doubles",
         "Joshua Pim"
        ],
        [
         "11",
         "1890",
         "Men's Doubles",
         "Frank Stoker"
        ],
        [
         "12",
         "1891",
         "Men's Doubles",
         "Wilifred Baddeley"
        ],
        [
         "12",
         "1891",
         "Men's Doubles",
         "Herbert Baddeley"
        ],
        [
         "13",
         "1892",
         "Men's Doubles",
         "Ernest Lewis"
        ],
        [
         "13",
         "1892",
         "Men's Doubles",
         "Harry Barlow"
        ],
        [
         "14",
         "1893",
         "Men's Doubles",
         "Joshua Pim"
        ],
        [
         "14",
         "1893",
         "Men's Doubles",
         "Frank Stoker"
        ],
        [
         "15",
         "1894",
         "Men's Doubles",
         "Wilifred Baddeley"
        ],
        [
         "15",
         "1894",
         "Men's Doubles",
         "Herbert Baddeley"
        ],
        [
         "16",
         "1895",
         "Men's Doubles",
         "Wilifred Baddeley"
        ],
        [
         "16",
         "1895",
         "Men's Doubles",
         "Herbert Baddeley"
        ],
        [
         "17",
         "1896",
         "Men's Doubles",
         "Wilifred Baddeley"
        ],
        [
         "17",
         "1896",
         "Men's Doubles",
         "Herbert Baddeley"
        ],
        [
         "18",
         "1897",
         "Men's Doubles",
         "Reggie Doherty"
        ],
        [
         "18",
         "1897",
         "Men's Doubles",
         "Laurie Doherty"
        ],
        [
         "19",
         "1898",
         "Men's Doubles",
         "Reggie Doherty"
        ],
        [
         "19",
         "1898",
         "Men's Doubles",
         "Laurie Doherty"
        ],
        [
         "20",
         "1899",
         "Men's Doubles",
         "Reggie Doherty"
        ],
        [
         "20",
         "1899",
         "Men's Doubles",
         "Laurie Doherty"
        ],
        [
         "21",
         "1900",
         "Men's Doubles",
         "Reggie Doherty"
        ],
        [
         "21",
         "1900",
         "Men's Doubles",
         "Laurie Doherty"
        ],
        [
         "22",
         "1901",
         "Men's Doubles",
         "Reggie Doherty"
        ],
        [
         "22",
         "1901",
         "Men's Doubles",
         "Laurie Doherty"
        ],
        [
         "23",
         "1902",
         "Men's Doubles",
         "Sidney Smith"
        ],
        [
         "23",
         "1902",
         "Men's Doubles",
         "Frank Riseley"
        ],
        [
         "24",
         "1903",
         "Men's Doubles",
         "Reggie Doherty"
        ],
        [
         "24",
         "1903",
         "Men's Doubles",
         "Laurie Doherty"
        ]
       ],
       "shape": {
        "columns": 3,
        "rows": 468
       }
      },
      "text/html": [
       "<div>\n",
       "<style scoped>\n",
       "    .dataframe tbody tr th:only-of-type {\n",
       "        vertical-align: middle;\n",
       "    }\n",
       "\n",
       "    .dataframe tbody tr th {\n",
       "        vertical-align: top;\n",
       "    }\n",
       "\n",
       "    .dataframe thead th {\n",
       "        text-align: right;\n",
       "    }\n",
       "</style>\n",
       "<table border=\"1\" class=\"dataframe\">\n",
       "  <thead>\n",
       "    <tr style=\"text-align: right;\">\n",
       "      <th></th>\n",
       "      <th>year</th>\n",
       "      <th>Tournament</th>\n",
       "      <th>Champions</th>\n",
       "    </tr>\n",
       "  </thead>\n",
       "  <tbody>\n",
       "    <tr>\n",
       "      <th>0</th>\n",
       "      <td>1879</td>\n",
       "      <td>Men's Doubles</td>\n",
       "      <td>Robert Erskine</td>\n",
       "    </tr>\n",
       "    <tr>\n",
       "      <th>0</th>\n",
       "      <td>1879</td>\n",
       "      <td>Men's Doubles</td>\n",
       "      <td>Herbert Lawford</td>\n",
       "    </tr>\n",
       "    <tr>\n",
       "      <th>1</th>\n",
       "      <td>1880</td>\n",
       "      <td>Men's Doubles</td>\n",
       "      <td>Willie Renshaw</td>\n",
       "    </tr>\n",
       "    <tr>\n",
       "      <th>1</th>\n",
       "      <td>1880</td>\n",
       "      <td>Men's Doubles</td>\n",
       "      <td>Ernest Renshaw</td>\n",
       "    </tr>\n",
       "    <tr>\n",
       "      <th>2</th>\n",
       "      <td>1881</td>\n",
       "      <td>Men's Doubles</td>\n",
       "      <td>Willie Renshaw</td>\n",
       "    </tr>\n",
       "    <tr>\n",
       "      <th>...</th>\n",
       "      <td>...</td>\n",
       "      <td>...</td>\n",
       "      <td>...</td>\n",
       "    </tr>\n",
       "    <tr>\n",
       "      <th>265</th>\n",
       "      <td>2021</td>\n",
       "      <td>Women's Doubles</td>\n",
       "      <td>Elise Mertens</td>\n",
       "    </tr>\n",
       "    <tr>\n",
       "      <th>266</th>\n",
       "      <td>2022</td>\n",
       "      <td>Women's Doubles</td>\n",
       "      <td>Barbora Krejcikova</td>\n",
       "    </tr>\n",
       "    <tr>\n",
       "      <th>266</th>\n",
       "      <td>2022</td>\n",
       "      <td>Women's Doubles</td>\n",
       "      <td>Katerina Siniakova</td>\n",
       "    </tr>\n",
       "    <tr>\n",
       "      <th>267</th>\n",
       "      <td>2023</td>\n",
       "      <td>Women's Doubles</td>\n",
       "      <td>Hsieh Su-wei</td>\n",
       "    </tr>\n",
       "    <tr>\n",
       "      <th>267</th>\n",
       "      <td>2023</td>\n",
       "      <td>Women's Doubles</td>\n",
       "      <td>Barbora Strycova</td>\n",
       "    </tr>\n",
       "  </tbody>\n",
       "</table>\n",
       "<p>468 rows × 3 columns</p>\n",
       "</div>"
      ],
      "text/plain": [
       "     year       Tournament           Champions\n",
       "0    1879    Men's Doubles      Robert Erskine\n",
       "0    1879    Men's Doubles     Herbert Lawford\n",
       "1    1880    Men's Doubles      Willie Renshaw\n",
       "1    1880    Men's Doubles      Ernest Renshaw\n",
       "2    1881    Men's Doubles      Willie Renshaw\n",
       "..    ...              ...                 ...\n",
       "265  2021  Women's Doubles       Elise Mertens\n",
       "266  2022  Women's Doubles  Barbora Krejcikova\n",
       "266  2022  Women's Doubles  Katerina Siniakova\n",
       "267  2023  Women's Doubles        Hsieh Su-wei\n",
       "267  2023  Women's Doubles    Barbora Strycova\n",
       "\n",
       "[468 rows x 3 columns]"
      ]
     },
     "execution_count": 131,
     "metadata": {},
     "output_type": "execute_result"
    }
   ],
   "source": [
    "# Reshape the double_df DataFrame\n",
    "double_df_melted = double_df.melt(id_vars=['year'], value_vars=['men', 'women'], var_name='Tournament', value_name='Champions')\n",
    "\n",
    "# Drop rows with NaN values in the 'champion' column\n",
    "double_df_melted = double_df_melted.dropna(subset=['Champions'])\n",
    "\n",
    "# Split the 'champion' column by ',' and explode the DataFrame\n",
    "double_df_melted['Champions'] = double_df_melted['Champions'].str.split(',')\n",
    "double_df_melted = double_df_melted.explode('Champions')\n",
    "\n",
    "# Remove leading and trailing spaces from the 'champion' column\n",
    "double_df_melted['Champions'] = double_df_melted['Champions'].str.strip()\n",
    "\n",
    "# Change the values in the 'tournament' column\n",
    "double_df_melted['Tournament'] = double_df_melted['Tournament'].replace({'men': \"Men's Doubles\", 'women': \"Women's Doubles\"})\n",
    "\n",
    "\n",
    "double_df_melted"
   ]
  },
  {
   "cell_type": "code",
   "execution_count": 132,
   "metadata": {},
   "outputs": [
    {
     "data": {
      "application/vnd.microsoft.datawrangler.viewer.v0+json": {
       "columns": [
        {
         "name": "index",
         "rawType": "int64",
         "type": "integer"
        },
        {
         "name": "Year",
         "rawType": "int64",
         "type": "integer"
        },
        {
         "name": "Champions",
         "rawType": "object",
         "type": "unknown"
        },
        {
         "name": "Runners-up",
         "rawType": "object",
         "type": "unknown"
        },
        {
         "name": "Score[2]",
         "rawType": "object",
         "type": "unknown"
        }
       ],
       "conversionMethod": "pd.DataFrame",
       "ref": "a807bac8-6f92-49ee-bee4-39f7436b954c",
       "rows": [
        [
         "0",
         "1913",
         "Hope Crisp\nAgnes Tuckey",
         "James Cecil Parke\nEthel Larcombe",
         "3–6, 5–3 retired"
        ],
        [
         "1",
         "1914",
         "James Cecil Parke\nEthel Larcombe",
         "Anthony Wilding\nMarguerite Broquedis",
         "4–6, 6–4, 6–2"
        ],
        [
         "2",
         "1915",
         "No competition (due to World War I)",
         null,
         null
        ],
        [
         "3",
         "1916",
         null,
         null,
         null
        ],
        [
         "4",
         "1917",
         null,
         null,
         null
        ],
        [
         "5",
         "1918",
         null,
         null,
         null
        ],
        [
         "6",
         "1919",
         "Randolph Lycett\nElizabeth Ryan",
         "Albert Prebble\nDorothea Lambert Chambers",
         "6–0, 6–0"
        ],
        [
         "7",
         "1920",
         "Gerald Patterson\nSuzanne Lenglen",
         "Randolph Lycett\nElizabeth Ryan",
         "7–5, 6–3"
        ],
        [
         "8",
         "1921",
         "Randolph Lycett(2)\nElizabeth Ryan(2)",
         "Max Woosnam\nPhyllis Howkins",
         "6–3, 6–1"
        ],
        [
         "9",
         "1922",
         "Pat O'Hara Wood\nSuzanne Lenglen(2)",
         "Randolph Lycett\nElizabeth Ryan",
         "6–4, 6–3"
        ],
        [
         "10",
         "1923",
         "Randolph Lycett(3)\nElizabeth Ryan(3)",
         "Lewis Deane\nDorothy Shepherd-Barron",
         "6–4, 7–5"
        ],
        [
         "11",
         "1924",
         "Brian Gilbert\nKitty McKane",
         "Leslie Godfree\nDorothy Shepherd-Barron",
         "6–3, 3–6, 6–3"
        ],
        [
         "12",
         "1925",
         "Jean Borotra\nSuzanne Lenglen(3)",
         "Uberto de Morpurgo\nElizabeth Ryan",
         "6–3, 6–3"
        ],
        [
         "13",
         "1926",
         "Leslie Godfree\nKitty Godfree(2)",
         "Howard Kinsey\nMary Browne",
         "6–3, 6–4"
        ],
        [
         "14",
         "1927",
         "Francis Hunter\nElizabeth Ryan(4)",
         "Leslie Godfree\nKitty Godfree",
         "8–6, 6–0"
        ],
        [
         "15",
         "1928",
         "Pat Spence\nElizabeth Ryan(5)",
         "Jack Crawford\nDaphne Akhurst",
         "7–5, 6–4"
        ],
        [
         "16",
         "1929",
         "Francis Hunter(2)\nHelen Moody",
         "Ian Collins\nJoan Fry",
         "6–1, 6–4"
        ],
        [
         "17",
         "1930",
         "Jack Crawford\nElizabeth Ryan(6)",
         "Daniel Prenn\nHilde Krahwinkel Sperling",
         "6–1, 6–3"
        ],
        [
         "18",
         "1931",
         "George Lott\nAnna Harper",
         "Ian Collins\nJoan Ridley",
         "6–3, 1–6, 6–1"
        ],
        [
         "19",
         "1932",
         "Enrique Maier\nElizabeth Ryan(7)",
         "Harry Hopman\nJosane Sigart",
         "7–5, 6–2"
        ],
        [
         "20",
         "1933",
         "Gottfried von Cramm\nHilde Krahwinkel",
         "Norman Farquharson\nMary Heeley",
         "7–5, 8–6"
        ],
        [
         "21",
         "1934",
         "Ryuki Miki\nDorothy Round",
         "Bunny Austin\nDorothy Shepherd-Barron",
         "3–6, 6–4, 6–0"
        ],
        [
         "22",
         "1935",
         "Fred Perry\nDorothy Round(2)",
         "Harry Hopman\nNell Hopman",
         "7–5, 4–6, 6–2"
        ],
        [
         "23",
         "1936",
         "Fred Perry(2)\nDorothy Round(3)",
         "Don Budge\nSarah Fabyan",
         "7–9, 7–5, 6–4"
        ],
        [
         "24",
         "1937",
         "Don Budge\nAlice Marble",
         "Yvon Petra\nSimonne Mathieu",
         "6–4, 6–1"
        ],
        [
         "25",
         "1938",
         "Don Budge(2)\nAlice Marble(2)",
         "Henner Henkel\nSarah Palfrey Cooke",
         "6–1, 6–4"
        ],
        [
         "26",
         "1939",
         "Bobby Riggs\nAlice Marble(3)",
         "Frank Wilde\nNina Brown",
         "9–7, 6–1"
        ],
        [
         "27",
         "1940",
         "No competition (due to World War II)",
         null,
         null
        ],
        [
         "28",
         "1941",
         null,
         null,
         null
        ],
        [
         "29",
         "1942",
         null,
         null,
         null
        ],
        [
         "30",
         "1943",
         null,
         null,
         null
        ],
        [
         "31",
         "1944",
         null,
         null,
         null
        ],
        [
         "32",
         "1945",
         null,
         null,
         null
        ],
        [
         "33",
         "1946",
         "Tom Brown\nLouise Brough",
         "Geoff Brown\nDorothy Bundy",
         "6–4, 6–4"
        ],
        [
         "34",
         "1947",
         "John Bromwich\nLouise Brough(2)",
         "Colin Long\nNancye Bolton",
         "1–6, 6–4, 6–2"
        ],
        [
         "35",
         "1948",
         "John Bromwich(2)\nLouise Brough(3)",
         "Frank Sedgman\nDoris Hart",
         "6–2, 3–6, 6–3"
        ],
        [
         "36",
         "1949",
         "Eric Sturgess\nSheila Summers",
         "John Bromwich\nLouise Brough",
         "9–7, 9–11, 7–5"
        ],
        [
         "37",
         "1950",
         "Eric Sturgess(2)\nLouise Brough(4)",
         "Geoff Brown\nPatricia Todd",
         "11–9, 1–6, 6–4"
        ],
        [
         "38",
         "1951",
         "Frank Sedgman\nDoris Hart",
         "Mervyn Rose\nNancye Bolton",
         "7–5, 6–2"
        ],
        [
         "39",
         "1952",
         "Frank Sedgman(2)\nDoris Hart(2)",
         "Enrique Morea\nThelma Long",
         "4–6, 6–3, 6–4"
        ],
        [
         "40",
         "1953",
         "Vic Seixas\nDoris Hart(3)",
         "Enrique Morea\nShirley Fry",
         "9–7, 7–5"
        ],
        [
         "41",
         "1954",
         "Vic Seixas(2)\nDoris Hart(4)",
         "Ken Rosewall\nMargaret duPont",
         "5–7, 6–4, 6–3"
        ],
        [
         "42",
         "1955",
         "Vic Seixas(3)\nDoris Hart(5)",
         "Enrique Morea\nLouise Brough",
         "8–6, 2–6, 6–3"
        ],
        [
         "43",
         "1956",
         "Vic Seixas(4)\nShirley Fry",
         "Gardnar Mulloy\nAlthea Gibson",
         "2–6, 6–2, 7–5"
        ],
        [
         "44",
         "1957",
         "Mervyn Rose\nDarlene Hard",
         "Neale Fraser\nAlthea Gibson",
         "6–4, 7–5"
        ],
        [
         "45",
         "1958",
         "Bob Howe\nLorraine Coghlan",
         "Kurt Nielsen\nAlthea Gibson",
         "6–3, 13–11"
        ],
        [
         "46",
         "1959",
         "Rod Laver\nDarlene Hard(2)",
         "Neale Fraser\nMaria Bueno",
         "6–4, 6–3"
        ],
        [
         "47",
         "1960",
         "Rod Laver(2)\nDarlene Hard(3)",
         "Bob Howe\nMaria Bueno",
         "13–11, 3–6, 8–6"
        ],
        [
         "48",
         "1961",
         "Fred Stolle\nLesley Turner Bowrey",
         "Bob Howe\nEdda Buding",
         "11–9, 6–2"
        ],
        [
         "49",
         "1962",
         "Neale Fraser\nMargaret duPont",
         "Dennis Ralston\nAnn Haydon",
         "2–6, 6–3, 13–11"
        ]
       ],
       "shape": {
        "columns": 4,
        "rows": 111
       }
      },
      "text/html": [
       "<div>\n",
       "<style scoped>\n",
       "    .dataframe tbody tr th:only-of-type {\n",
       "        vertical-align: middle;\n",
       "    }\n",
       "\n",
       "    .dataframe tbody tr th {\n",
       "        vertical-align: top;\n",
       "    }\n",
       "\n",
       "    .dataframe thead th {\n",
       "        text-align: right;\n",
       "    }\n",
       "</style>\n",
       "<table border=\"1\" class=\"dataframe\">\n",
       "  <thead>\n",
       "    <tr style=\"text-align: right;\">\n",
       "      <th></th>\n",
       "      <th>Year</th>\n",
       "      <th>Champions</th>\n",
       "      <th>Runners-up</th>\n",
       "      <th>Score[2]</th>\n",
       "    </tr>\n",
       "  </thead>\n",
       "  <tbody>\n",
       "    <tr>\n",
       "      <th>0</th>\n",
       "      <td>1913</td>\n",
       "      <td>Hope Crisp\\nAgnes Tuckey</td>\n",
       "      <td>James Cecil Parke\\nEthel Larcombe</td>\n",
       "      <td>3–6, 5–3 retired</td>\n",
       "    </tr>\n",
       "    <tr>\n",
       "      <th>1</th>\n",
       "      <td>1914</td>\n",
       "      <td>James Cecil Parke\\nEthel Larcombe</td>\n",
       "      <td>Anthony Wilding\\nMarguerite Broquedis</td>\n",
       "      <td>4–6, 6–4, 6–2</td>\n",
       "    </tr>\n",
       "    <tr>\n",
       "      <th>2</th>\n",
       "      <td>1915</td>\n",
       "      <td>No competition (due to World War I)</td>\n",
       "      <td>NaN</td>\n",
       "      <td>NaN</td>\n",
       "    </tr>\n",
       "    <tr>\n",
       "      <th>3</th>\n",
       "      <td>1916</td>\n",
       "      <td>NaN</td>\n",
       "      <td>NaN</td>\n",
       "      <td>NaN</td>\n",
       "    </tr>\n",
       "    <tr>\n",
       "      <th>4</th>\n",
       "      <td>1917</td>\n",
       "      <td>NaN</td>\n",
       "      <td>NaN</td>\n",
       "      <td>NaN</td>\n",
       "    </tr>\n",
       "    <tr>\n",
       "      <th>...</th>\n",
       "      <td>...</td>\n",
       "      <td>...</td>\n",
       "      <td>...</td>\n",
       "      <td>...</td>\n",
       "    </tr>\n",
       "    <tr>\n",
       "      <th>106</th>\n",
       "      <td>2019</td>\n",
       "      <td>Ivan Dodig\\nLatisha Chan</td>\n",
       "      <td>Robert Lindstedt\\nJeļena Ostapenko</td>\n",
       "      <td>6–2, 6–3</td>\n",
       "    </tr>\n",
       "    <tr>\n",
       "      <th>107</th>\n",
       "      <td>2020</td>\n",
       "      <td>No competition (due to COVID-19 pandemic)[3]</td>\n",
       "      <td>NaN</td>\n",
       "      <td>NaN</td>\n",
       "    </tr>\n",
       "    <tr>\n",
       "      <th>108</th>\n",
       "      <td>2021</td>\n",
       "      <td>Neal Skupski\\nDesirae Krawczyk</td>\n",
       "      <td>Joe Salisbury\\nHarriet Dart</td>\n",
       "      <td>6–2, 7–6(7–1)</td>\n",
       "    </tr>\n",
       "    <tr>\n",
       "      <th>109</th>\n",
       "      <td>2022</td>\n",
       "      <td>Neal Skupski(2)\\nDesirae Krawczyk(2)</td>\n",
       "      <td>Matthew Ebden\\nSamantha Stosur</td>\n",
       "      <td>6–4, 6–3</td>\n",
       "    </tr>\n",
       "    <tr>\n",
       "      <th>110</th>\n",
       "      <td>2023</td>\n",
       "      <td>Mate Pavić\\nLyudmyla Kichenok</td>\n",
       "      <td>Joran Vliegen\\nXu Yifan</td>\n",
       "      <td>6–4, 6–7(9–11), 6–3</td>\n",
       "    </tr>\n",
       "  </tbody>\n",
       "</table>\n",
       "<p>111 rows × 4 columns</p>\n",
       "</div>"
      ],
      "text/plain": [
       "     Year                                     Champions  \\\n",
       "0    1913                      Hope Crisp\\nAgnes Tuckey   \n",
       "1    1914             James Cecil Parke\\nEthel Larcombe   \n",
       "2    1915           No competition (due to World War I)   \n",
       "3    1916                                           NaN   \n",
       "4    1917                                           NaN   \n",
       "..    ...                                           ...   \n",
       "106  2019                      Ivan Dodig\\nLatisha Chan   \n",
       "107  2020  No competition (due to COVID-19 pandemic)[3]   \n",
       "108  2021                Neal Skupski\\nDesirae Krawczyk   \n",
       "109  2022          Neal Skupski(2)\\nDesirae Krawczyk(2)   \n",
       "110  2023                 Mate Pavić\\nLyudmyla Kichenok   \n",
       "\n",
       "                                Runners-up             Score[2]  \n",
       "0        James Cecil Parke\\nEthel Larcombe     3–6, 5–3 retired  \n",
       "1    Anthony Wilding\\nMarguerite Broquedis        4–6, 6–4, 6–2  \n",
       "2                                      NaN                  NaN  \n",
       "3                                      NaN                  NaN  \n",
       "4                                      NaN                  NaN  \n",
       "..                                     ...                  ...  \n",
       "106     Robert Lindstedt\\nJeļena Ostapenko             6–2, 6–3  \n",
       "107                                    NaN                  NaN  \n",
       "108            Joe Salisbury\\nHarriet Dart        6–2, 7–6(7–1)  \n",
       "109         Matthew Ebden\\nSamantha Stosur             6–4, 6–3  \n",
       "110                Joran Vliegen\\nXu Yifan  6–4, 6–7(9–11), 6–3  \n",
       "\n",
       "[111 rows x 4 columns]"
      ]
     },
     "execution_count": 132,
     "metadata": {},
     "output_type": "execute_result"
    }
   ],
   "source": [
    "# Read the Mixed Doubles Champions sheet into a DataFrame\n",
    "mixed_double_df = pd.read_excel(xls, sheet_name='Mixed Doubles Champions')\n",
    "mixed_double_df"
   ]
  },
  {
   "cell_type": "code",
   "execution_count": 133,
   "metadata": {},
   "outputs": [
    {
     "data": {
      "application/vnd.microsoft.datawrangler.viewer.v0+json": {
       "columns": [
        {
         "name": "index",
         "rawType": "int64",
         "type": "integer"
        },
        {
         "name": "Year",
         "rawType": "int64",
         "type": "integer"
        },
        {
         "name": "Champions",
         "rawType": "object",
         "type": "string"
        },
        {
         "name": "Runners-up",
         "rawType": "object",
         "type": "string"
        },
        {
         "name": "Score[2]",
         "rawType": "object",
         "type": "string"
        }
       ],
       "conversionMethod": "pd.DataFrame",
       "ref": "006675e3-fdc7-4a60-8b04-16b529de6239",
       "rows": [
        [
         "0",
         "1913",
         "Hope Crisp\nAgnes Tuckey",
         "James Cecil Parke\nEthel Larcombe",
         "3–6, 5–3 retired"
        ],
        [
         "1",
         "1914",
         "James Cecil Parke\nEthel Larcombe",
         "Anthony Wilding\nMarguerite Broquedis",
         "4–6, 6–4, 6–2"
        ],
        [
         "6",
         "1919",
         "Randolph Lycett\nElizabeth Ryan",
         "Albert Prebble\nDorothea Lambert Chambers",
         "6–0, 6–0"
        ],
        [
         "7",
         "1920",
         "Gerald Patterson\nSuzanne Lenglen",
         "Randolph Lycett\nElizabeth Ryan",
         "7–5, 6–3"
        ],
        [
         "8",
         "1921",
         "Randolph Lycett(2)\nElizabeth Ryan(2)",
         "Max Woosnam\nPhyllis Howkins",
         "6–3, 6–1"
        ],
        [
         "9",
         "1922",
         "Pat O'Hara Wood\nSuzanne Lenglen(2)",
         "Randolph Lycett\nElizabeth Ryan",
         "6–4, 6–3"
        ],
        [
         "10",
         "1923",
         "Randolph Lycett(3)\nElizabeth Ryan(3)",
         "Lewis Deane\nDorothy Shepherd-Barron",
         "6–4, 7–5"
        ],
        [
         "11",
         "1924",
         "Brian Gilbert\nKitty McKane",
         "Leslie Godfree\nDorothy Shepherd-Barron",
         "6–3, 3–6, 6–3"
        ],
        [
         "12",
         "1925",
         "Jean Borotra\nSuzanne Lenglen(3)",
         "Uberto de Morpurgo\nElizabeth Ryan",
         "6–3, 6–3"
        ],
        [
         "13",
         "1926",
         "Leslie Godfree\nKitty Godfree(2)",
         "Howard Kinsey\nMary Browne",
         "6–3, 6–4"
        ],
        [
         "14",
         "1927",
         "Francis Hunter\nElizabeth Ryan(4)",
         "Leslie Godfree\nKitty Godfree",
         "8–6, 6–0"
        ],
        [
         "15",
         "1928",
         "Pat Spence\nElizabeth Ryan(5)",
         "Jack Crawford\nDaphne Akhurst",
         "7–5, 6–4"
        ],
        [
         "16",
         "1929",
         "Francis Hunter(2)\nHelen Moody",
         "Ian Collins\nJoan Fry",
         "6–1, 6–4"
        ],
        [
         "17",
         "1930",
         "Jack Crawford\nElizabeth Ryan(6)",
         "Daniel Prenn\nHilde Krahwinkel Sperling",
         "6–1, 6–3"
        ],
        [
         "18",
         "1931",
         "George Lott\nAnna Harper",
         "Ian Collins\nJoan Ridley",
         "6–3, 1–6, 6–1"
        ],
        [
         "19",
         "1932",
         "Enrique Maier\nElizabeth Ryan(7)",
         "Harry Hopman\nJosane Sigart",
         "7–5, 6–2"
        ],
        [
         "20",
         "1933",
         "Gottfried von Cramm\nHilde Krahwinkel",
         "Norman Farquharson\nMary Heeley",
         "7–5, 8–6"
        ],
        [
         "21",
         "1934",
         "Ryuki Miki\nDorothy Round",
         "Bunny Austin\nDorothy Shepherd-Barron",
         "3–6, 6–4, 6–0"
        ],
        [
         "22",
         "1935",
         "Fred Perry\nDorothy Round(2)",
         "Harry Hopman\nNell Hopman",
         "7–5, 4–6, 6–2"
        ],
        [
         "23",
         "1936",
         "Fred Perry(2)\nDorothy Round(3)",
         "Don Budge\nSarah Fabyan",
         "7–9, 7–5, 6–4"
        ],
        [
         "24",
         "1937",
         "Don Budge\nAlice Marble",
         "Yvon Petra\nSimonne Mathieu",
         "6–4, 6–1"
        ],
        [
         "25",
         "1938",
         "Don Budge(2)\nAlice Marble(2)",
         "Henner Henkel\nSarah Palfrey Cooke",
         "6–1, 6–4"
        ],
        [
         "26",
         "1939",
         "Bobby Riggs\nAlice Marble(3)",
         "Frank Wilde\nNina Brown",
         "9–7, 6–1"
        ],
        [
         "33",
         "1946",
         "Tom Brown\nLouise Brough",
         "Geoff Brown\nDorothy Bundy",
         "6–4, 6–4"
        ],
        [
         "34",
         "1947",
         "John Bromwich\nLouise Brough(2)",
         "Colin Long\nNancye Bolton",
         "1–6, 6–4, 6–2"
        ],
        [
         "35",
         "1948",
         "John Bromwich(2)\nLouise Brough(3)",
         "Frank Sedgman\nDoris Hart",
         "6–2, 3–6, 6–3"
        ],
        [
         "36",
         "1949",
         "Eric Sturgess\nSheila Summers",
         "John Bromwich\nLouise Brough",
         "9–7, 9–11, 7–5"
        ],
        [
         "37",
         "1950",
         "Eric Sturgess(2)\nLouise Brough(4)",
         "Geoff Brown\nPatricia Todd",
         "11–9, 1–6, 6–4"
        ],
        [
         "38",
         "1951",
         "Frank Sedgman\nDoris Hart",
         "Mervyn Rose\nNancye Bolton",
         "7–5, 6–2"
        ],
        [
         "39",
         "1952",
         "Frank Sedgman(2)\nDoris Hart(2)",
         "Enrique Morea\nThelma Long",
         "4–6, 6–3, 6–4"
        ],
        [
         "40",
         "1953",
         "Vic Seixas\nDoris Hart(3)",
         "Enrique Morea\nShirley Fry",
         "9–7, 7–5"
        ],
        [
         "41",
         "1954",
         "Vic Seixas(2)\nDoris Hart(4)",
         "Ken Rosewall\nMargaret duPont",
         "5–7, 6–4, 6–3"
        ],
        [
         "42",
         "1955",
         "Vic Seixas(3)\nDoris Hart(5)",
         "Enrique Morea\nLouise Brough",
         "8–6, 2–6, 6–3"
        ],
        [
         "43",
         "1956",
         "Vic Seixas(4)\nShirley Fry",
         "Gardnar Mulloy\nAlthea Gibson",
         "2–6, 6–2, 7–5"
        ],
        [
         "44",
         "1957",
         "Mervyn Rose\nDarlene Hard",
         "Neale Fraser\nAlthea Gibson",
         "6–4, 7–5"
        ],
        [
         "45",
         "1958",
         "Bob Howe\nLorraine Coghlan",
         "Kurt Nielsen\nAlthea Gibson",
         "6–3, 13–11"
        ],
        [
         "46",
         "1959",
         "Rod Laver\nDarlene Hard(2)",
         "Neale Fraser\nMaria Bueno",
         "6–4, 6–3"
        ],
        [
         "47",
         "1960",
         "Rod Laver(2)\nDarlene Hard(3)",
         "Bob Howe\nMaria Bueno",
         "13–11, 3–6, 8–6"
        ],
        [
         "48",
         "1961",
         "Fred Stolle\nLesley Turner Bowrey",
         "Bob Howe\nEdda Buding",
         "11–9, 6–2"
        ],
        [
         "49",
         "1962",
         "Neale Fraser\nMargaret duPont",
         "Dennis Ralston\nAnn Haydon",
         "2–6, 6–3, 13–11"
        ],
        [
         "50",
         "1963",
         "Ken Fletcher\nMargaret Court",
         "Bob Hewitt\nDarlene Hard",
         "11–9, 6–4"
        ],
        [
         "51",
         "1964",
         "Fred Stolle(2)\nLesley Turner(2)",
         "Ken Fletcher\nMargaret Court",
         "6–4, 6–4"
        ],
        [
         "52",
         "1965",
         "Ken Fletcher(2)\nMargaret Court(2)",
         "Tony Roche\nJudy Tegart",
         "12–10, 6–3"
        ],
        [
         "53",
         "1966",
         "Ken Fletcher(3)\nMargaret Court(3)",
         "Dennis Ralston\nBillie Jean King",
         "4–6, 6–3, 6–3"
        ],
        [
         "54",
         "1967",
         "Owen Davidson\nBillie Jean King",
         "Ken Fletcher\nMaria Bueno",
         "7–5, 6–2"
        ],
        [
         "55",
         "1968",
         "Ken Fletcher(4)\nMargaret Court(4)",
         "Alex Metreveli\nOlga Morozova",
         "6–1, 14–12"
        ],
        [
         "56",
         "1969",
         "Fred Stolle(3)\nAnn Jones",
         "Tony Roche\nJudy Tegart",
         "6–2, 6–3"
        ],
        [
         "57",
         "1970",
         "Ilie Năstase\nRosemary Casals",
         "Alex Metreveli\nOlga Morozova",
         "6–3, 4–6, 9–7"
        ],
        [
         "58",
         "1971",
         "Owen Davidson(2)\nBillie Jean King(2)",
         "Marty Riessen\nMargaret Court",
         "3–6, 6–2, 15–13"
        ],
        [
         "59",
         "1972",
         "Ilie Năstase(2)\nRosemary Casals(2)",
         "Kim Warwick\nEvonne Goolagong Cawley",
         "6–4, 6–4"
        ]
       ],
       "shape": {
        "columns": 4,
        "rows": 100
       }
      },
      "text/html": [
       "<div>\n",
       "<style scoped>\n",
       "    .dataframe tbody tr th:only-of-type {\n",
       "        vertical-align: middle;\n",
       "    }\n",
       "\n",
       "    .dataframe tbody tr th {\n",
       "        vertical-align: top;\n",
       "    }\n",
       "\n",
       "    .dataframe thead th {\n",
       "        text-align: right;\n",
       "    }\n",
       "</style>\n",
       "<table border=\"1\" class=\"dataframe\">\n",
       "  <thead>\n",
       "    <tr style=\"text-align: right;\">\n",
       "      <th></th>\n",
       "      <th>Year</th>\n",
       "      <th>Champions</th>\n",
       "      <th>Runners-up</th>\n",
       "      <th>Score[2]</th>\n",
       "    </tr>\n",
       "  </thead>\n",
       "  <tbody>\n",
       "    <tr>\n",
       "      <th>0</th>\n",
       "      <td>1913</td>\n",
       "      <td>Hope Crisp\\nAgnes Tuckey</td>\n",
       "      <td>James Cecil Parke\\nEthel Larcombe</td>\n",
       "      <td>3–6, 5–3 retired</td>\n",
       "    </tr>\n",
       "    <tr>\n",
       "      <th>1</th>\n",
       "      <td>1914</td>\n",
       "      <td>James Cecil Parke\\nEthel Larcombe</td>\n",
       "      <td>Anthony Wilding\\nMarguerite Broquedis</td>\n",
       "      <td>4–6, 6–4, 6–2</td>\n",
       "    </tr>\n",
       "    <tr>\n",
       "      <th>6</th>\n",
       "      <td>1919</td>\n",
       "      <td>Randolph Lycett\\nElizabeth Ryan</td>\n",
       "      <td>Albert Prebble\\nDorothea Lambert Chambers</td>\n",
       "      <td>6–0, 6–0</td>\n",
       "    </tr>\n",
       "    <tr>\n",
       "      <th>7</th>\n",
       "      <td>1920</td>\n",
       "      <td>Gerald Patterson\\nSuzanne Lenglen</td>\n",
       "      <td>Randolph Lycett\\nElizabeth Ryan</td>\n",
       "      <td>7–5, 6–3</td>\n",
       "    </tr>\n",
       "    <tr>\n",
       "      <th>8</th>\n",
       "      <td>1921</td>\n",
       "      <td>Randolph Lycett(2)\\nElizabeth Ryan(2)</td>\n",
       "      <td>Max Woosnam\\nPhyllis Howkins</td>\n",
       "      <td>6–3, 6–1</td>\n",
       "    </tr>\n",
       "    <tr>\n",
       "      <th>...</th>\n",
       "      <td>...</td>\n",
       "      <td>...</td>\n",
       "      <td>...</td>\n",
       "      <td>...</td>\n",
       "    </tr>\n",
       "    <tr>\n",
       "      <th>105</th>\n",
       "      <td>2018</td>\n",
       "      <td>Alexander Peya\\nNicole Melichar</td>\n",
       "      <td>Jamie Murray\\nVictoria Azarenka</td>\n",
       "      <td>7–6(7–1), 6–3</td>\n",
       "    </tr>\n",
       "    <tr>\n",
       "      <th>106</th>\n",
       "      <td>2019</td>\n",
       "      <td>Ivan Dodig\\nLatisha Chan</td>\n",
       "      <td>Robert Lindstedt\\nJeļena Ostapenko</td>\n",
       "      <td>6–2, 6–3</td>\n",
       "    </tr>\n",
       "    <tr>\n",
       "      <th>108</th>\n",
       "      <td>2021</td>\n",
       "      <td>Neal Skupski\\nDesirae Krawczyk</td>\n",
       "      <td>Joe Salisbury\\nHarriet Dart</td>\n",
       "      <td>6–2, 7–6(7–1)</td>\n",
       "    </tr>\n",
       "    <tr>\n",
       "      <th>109</th>\n",
       "      <td>2022</td>\n",
       "      <td>Neal Skupski(2)\\nDesirae Krawczyk(2)</td>\n",
       "      <td>Matthew Ebden\\nSamantha Stosur</td>\n",
       "      <td>6–4, 6–3</td>\n",
       "    </tr>\n",
       "    <tr>\n",
       "      <th>110</th>\n",
       "      <td>2023</td>\n",
       "      <td>Mate Pavić\\nLyudmyla Kichenok</td>\n",
       "      <td>Joran Vliegen\\nXu Yifan</td>\n",
       "      <td>6–4, 6–7(9–11), 6–3</td>\n",
       "    </tr>\n",
       "  </tbody>\n",
       "</table>\n",
       "<p>100 rows × 4 columns</p>\n",
       "</div>"
      ],
      "text/plain": [
       "     Year                              Champions  \\\n",
       "0    1913               Hope Crisp\\nAgnes Tuckey   \n",
       "1    1914      James Cecil Parke\\nEthel Larcombe   \n",
       "6    1919        Randolph Lycett\\nElizabeth Ryan   \n",
       "7    1920      Gerald Patterson\\nSuzanne Lenglen   \n",
       "8    1921  Randolph Lycett(2)\\nElizabeth Ryan(2)   \n",
       "..    ...                                    ...   \n",
       "105  2018        Alexander Peya\\nNicole Melichar   \n",
       "106  2019               Ivan Dodig\\nLatisha Chan   \n",
       "108  2021         Neal Skupski\\nDesirae Krawczyk   \n",
       "109  2022   Neal Skupski(2)\\nDesirae Krawczyk(2)   \n",
       "110  2023          Mate Pavić\\nLyudmyla Kichenok   \n",
       "\n",
       "                                    Runners-up             Score[2]  \n",
       "0            James Cecil Parke\\nEthel Larcombe     3–6, 5–3 retired  \n",
       "1        Anthony Wilding\\nMarguerite Broquedis        4–6, 6–4, 6–2  \n",
       "6    Albert Prebble\\nDorothea Lambert Chambers             6–0, 6–0  \n",
       "7              Randolph Lycett\\nElizabeth Ryan             7–5, 6–3  \n",
       "8                 Max Woosnam\\nPhyllis Howkins             6–3, 6–1  \n",
       "..                                         ...                  ...  \n",
       "105            Jamie Murray\\nVictoria Azarenka        7–6(7–1), 6–3  \n",
       "106         Robert Lindstedt\\nJeļena Ostapenko             6–2, 6–3  \n",
       "108                Joe Salisbury\\nHarriet Dart        6–2, 7–6(7–1)  \n",
       "109             Matthew Ebden\\nSamantha Stosur             6–4, 6–3  \n",
       "110                    Joran Vliegen\\nXu Yifan  6–4, 6–7(9–11), 6–3  \n",
       "\n",
       "[100 rows x 4 columns]"
      ]
     },
     "execution_count": 133,
     "metadata": {},
     "output_type": "execute_result"
    }
   ],
   "source": [
    "# Filter out records with null Score[2]\n",
    "mixed_double_df = mixed_double_df[mixed_double_df['Score[2]'].notna()]\n",
    "mixed_double_df"
   ]
  },
  {
   "cell_type": "code",
   "execution_count": 134,
   "metadata": {},
   "outputs": [
    {
     "data": {
      "application/vnd.microsoft.datawrangler.viewer.v0+json": {
       "columns": [
        {
         "name": "index",
         "rawType": "int64",
         "type": "integer"
        },
        {
         "name": "Year",
         "rawType": "int64",
         "type": "integer"
        },
        {
         "name": "Champions",
         "rawType": "object",
         "type": "string"
        }
       ],
       "conversionMethod": "pd.DataFrame",
       "ref": "0f312b8f-6e46-45f7-a32e-0a8da72e4ac4",
       "rows": [
        [
         "0",
         "1913",
         "Hope Crisp\nAgnes Tuckey"
        ],
        [
         "1",
         "1914",
         "James Cecil Parke\nEthel Larcombe"
        ],
        [
         "6",
         "1919",
         "Randolph Lycett\nElizabeth Ryan"
        ],
        [
         "7",
         "1920",
         "Gerald Patterson\nSuzanne Lenglen"
        ],
        [
         "8",
         "1921",
         "Randolph Lycett(2)\nElizabeth Ryan(2)"
        ],
        [
         "9",
         "1922",
         "Pat O'Hara Wood\nSuzanne Lenglen(2)"
        ],
        [
         "10",
         "1923",
         "Randolph Lycett(3)\nElizabeth Ryan(3)"
        ],
        [
         "11",
         "1924",
         "Brian Gilbert\nKitty McKane"
        ],
        [
         "12",
         "1925",
         "Jean Borotra\nSuzanne Lenglen(3)"
        ],
        [
         "13",
         "1926",
         "Leslie Godfree\nKitty Godfree(2)"
        ],
        [
         "14",
         "1927",
         "Francis Hunter\nElizabeth Ryan(4)"
        ],
        [
         "15",
         "1928",
         "Pat Spence\nElizabeth Ryan(5)"
        ],
        [
         "16",
         "1929",
         "Francis Hunter(2)\nHelen Moody"
        ],
        [
         "17",
         "1930",
         "Jack Crawford\nElizabeth Ryan(6)"
        ],
        [
         "18",
         "1931",
         "George Lott\nAnna Harper"
        ],
        [
         "19",
         "1932",
         "Enrique Maier\nElizabeth Ryan(7)"
        ],
        [
         "20",
         "1933",
         "Gottfried von Cramm\nHilde Krahwinkel"
        ],
        [
         "21",
         "1934",
         "Ryuki Miki\nDorothy Round"
        ],
        [
         "22",
         "1935",
         "Fred Perry\nDorothy Round(2)"
        ],
        [
         "23",
         "1936",
         "Fred Perry(2)\nDorothy Round(3)"
        ],
        [
         "24",
         "1937",
         "Don Budge\nAlice Marble"
        ],
        [
         "25",
         "1938",
         "Don Budge(2)\nAlice Marble(2)"
        ],
        [
         "26",
         "1939",
         "Bobby Riggs\nAlice Marble(3)"
        ],
        [
         "33",
         "1946",
         "Tom Brown\nLouise Brough"
        ],
        [
         "34",
         "1947",
         "John Bromwich\nLouise Brough(2)"
        ],
        [
         "35",
         "1948",
         "John Bromwich(2)\nLouise Brough(3)"
        ],
        [
         "36",
         "1949",
         "Eric Sturgess\nSheila Summers"
        ],
        [
         "37",
         "1950",
         "Eric Sturgess(2)\nLouise Brough(4)"
        ],
        [
         "38",
         "1951",
         "Frank Sedgman\nDoris Hart"
        ],
        [
         "39",
         "1952",
         "Frank Sedgman(2)\nDoris Hart(2)"
        ],
        [
         "40",
         "1953",
         "Vic Seixas\nDoris Hart(3)"
        ],
        [
         "41",
         "1954",
         "Vic Seixas(2)\nDoris Hart(4)"
        ],
        [
         "42",
         "1955",
         "Vic Seixas(3)\nDoris Hart(5)"
        ],
        [
         "43",
         "1956",
         "Vic Seixas(4)\nShirley Fry"
        ],
        [
         "44",
         "1957",
         "Mervyn Rose\nDarlene Hard"
        ],
        [
         "45",
         "1958",
         "Bob Howe\nLorraine Coghlan"
        ],
        [
         "46",
         "1959",
         "Rod Laver\nDarlene Hard(2)"
        ],
        [
         "47",
         "1960",
         "Rod Laver(2)\nDarlene Hard(3)"
        ],
        [
         "48",
         "1961",
         "Fred Stolle\nLesley Turner Bowrey"
        ],
        [
         "49",
         "1962",
         "Neale Fraser\nMargaret duPont"
        ],
        [
         "50",
         "1963",
         "Ken Fletcher\nMargaret Court"
        ],
        [
         "51",
         "1964",
         "Fred Stolle(2)\nLesley Turner(2)"
        ],
        [
         "52",
         "1965",
         "Ken Fletcher(2)\nMargaret Court(2)"
        ],
        [
         "53",
         "1966",
         "Ken Fletcher(3)\nMargaret Court(3)"
        ],
        [
         "54",
         "1967",
         "Owen Davidson\nBillie Jean King"
        ],
        [
         "55",
         "1968",
         "Ken Fletcher(4)\nMargaret Court(4)"
        ],
        [
         "56",
         "1969",
         "Fred Stolle(3)\nAnn Jones"
        ],
        [
         "57",
         "1970",
         "Ilie Năstase\nRosemary Casals"
        ],
        [
         "58",
         "1971",
         "Owen Davidson(2)\nBillie Jean King(2)"
        ],
        [
         "59",
         "1972",
         "Ilie Năstase(2)\nRosemary Casals(2)"
        ]
       ],
       "shape": {
        "columns": 2,
        "rows": 100
       }
      },
      "text/html": [
       "<div>\n",
       "<style scoped>\n",
       "    .dataframe tbody tr th:only-of-type {\n",
       "        vertical-align: middle;\n",
       "    }\n",
       "\n",
       "    .dataframe tbody tr th {\n",
       "        vertical-align: top;\n",
       "    }\n",
       "\n",
       "    .dataframe thead th {\n",
       "        text-align: right;\n",
       "    }\n",
       "</style>\n",
       "<table border=\"1\" class=\"dataframe\">\n",
       "  <thead>\n",
       "    <tr style=\"text-align: right;\">\n",
       "      <th></th>\n",
       "      <th>Year</th>\n",
       "      <th>Champions</th>\n",
       "    </tr>\n",
       "  </thead>\n",
       "  <tbody>\n",
       "    <tr>\n",
       "      <th>0</th>\n",
       "      <td>1913</td>\n",
       "      <td>Hope Crisp\\nAgnes Tuckey</td>\n",
       "    </tr>\n",
       "    <tr>\n",
       "      <th>1</th>\n",
       "      <td>1914</td>\n",
       "      <td>James Cecil Parke\\nEthel Larcombe</td>\n",
       "    </tr>\n",
       "    <tr>\n",
       "      <th>6</th>\n",
       "      <td>1919</td>\n",
       "      <td>Randolph Lycett\\nElizabeth Ryan</td>\n",
       "    </tr>\n",
       "    <tr>\n",
       "      <th>7</th>\n",
       "      <td>1920</td>\n",
       "      <td>Gerald Patterson\\nSuzanne Lenglen</td>\n",
       "    </tr>\n",
       "    <tr>\n",
       "      <th>8</th>\n",
       "      <td>1921</td>\n",
       "      <td>Randolph Lycett(2)\\nElizabeth Ryan(2)</td>\n",
       "    </tr>\n",
       "    <tr>\n",
       "      <th>...</th>\n",
       "      <td>...</td>\n",
       "      <td>...</td>\n",
       "    </tr>\n",
       "    <tr>\n",
       "      <th>105</th>\n",
       "      <td>2018</td>\n",
       "      <td>Alexander Peya\\nNicole Melichar</td>\n",
       "    </tr>\n",
       "    <tr>\n",
       "      <th>106</th>\n",
       "      <td>2019</td>\n",
       "      <td>Ivan Dodig\\nLatisha Chan</td>\n",
       "    </tr>\n",
       "    <tr>\n",
       "      <th>108</th>\n",
       "      <td>2021</td>\n",
       "      <td>Neal Skupski\\nDesirae Krawczyk</td>\n",
       "    </tr>\n",
       "    <tr>\n",
       "      <th>109</th>\n",
       "      <td>2022</td>\n",
       "      <td>Neal Skupski(2)\\nDesirae Krawczyk(2)</td>\n",
       "    </tr>\n",
       "    <tr>\n",
       "      <th>110</th>\n",
       "      <td>2023</td>\n",
       "      <td>Mate Pavić\\nLyudmyla Kichenok</td>\n",
       "    </tr>\n",
       "  </tbody>\n",
       "</table>\n",
       "<p>100 rows × 2 columns</p>\n",
       "</div>"
      ],
      "text/plain": [
       "     Year                              Champions\n",
       "0    1913               Hope Crisp\\nAgnes Tuckey\n",
       "1    1914      James Cecil Parke\\nEthel Larcombe\n",
       "6    1919        Randolph Lycett\\nElizabeth Ryan\n",
       "7    1920      Gerald Patterson\\nSuzanne Lenglen\n",
       "8    1921  Randolph Lycett(2)\\nElizabeth Ryan(2)\n",
       "..    ...                                    ...\n",
       "105  2018        Alexander Peya\\nNicole Melichar\n",
       "106  2019               Ivan Dodig\\nLatisha Chan\n",
       "108  2021         Neal Skupski\\nDesirae Krawczyk\n",
       "109  2022   Neal Skupski(2)\\nDesirae Krawczyk(2)\n",
       "110  2023          Mate Pavić\\nLyudmyla Kichenok\n",
       "\n",
       "[100 rows x 2 columns]"
      ]
     },
     "execution_count": 134,
     "metadata": {},
     "output_type": "execute_result"
    }
   ],
   "source": [
    "mixed_double_df = mixed_double_df.drop(columns=['Runners-up', 'Score[2]'])\n",
    "mixed_double_df"
   ]
  },
  {
   "cell_type": "code",
   "execution_count": 135,
   "metadata": {},
   "outputs": [
    {
     "data": {
      "application/vnd.microsoft.datawrangler.viewer.v0+json": {
       "columns": [
        {
         "name": "index",
         "rawType": "int64",
         "type": "integer"
        },
        {
         "name": "Year",
         "rawType": "int64",
         "type": "integer"
        },
        {
         "name": "Champions",
         "rawType": "object",
         "type": "string"
        }
       ],
       "conversionMethod": "pd.DataFrame",
       "ref": "79d997ea-874b-4033-84e6-fba2e59200ca",
       "rows": [
        [
         "0",
         "1913",
         "Hope Crisp"
        ],
        [
         "0",
         "1913",
         "Agnes Tuckey"
        ],
        [
         "1",
         "1914",
         "James Cecil Parke"
        ],
        [
         "1",
         "1914",
         "Ethel Larcombe"
        ],
        [
         "6",
         "1919",
         "Randolph Lycett"
        ],
        [
         "6",
         "1919",
         "Elizabeth Ryan"
        ],
        [
         "7",
         "1920",
         "Gerald Patterson"
        ],
        [
         "7",
         "1920",
         "Suzanne Lenglen"
        ],
        [
         "8",
         "1921",
         "Randolph Lycett(2)"
        ],
        [
         "8",
         "1921",
         "Elizabeth Ryan(2)"
        ],
        [
         "9",
         "1922",
         "Pat O'Hara Wood"
        ],
        [
         "9",
         "1922",
         "Suzanne Lenglen(2)"
        ],
        [
         "10",
         "1923",
         "Randolph Lycett(3)"
        ],
        [
         "10",
         "1923",
         "Elizabeth Ryan(3)"
        ],
        [
         "11",
         "1924",
         "Brian Gilbert"
        ],
        [
         "11",
         "1924",
         "Kitty McKane"
        ],
        [
         "12",
         "1925",
         "Jean Borotra"
        ],
        [
         "12",
         "1925",
         "Suzanne Lenglen(3)"
        ],
        [
         "13",
         "1926",
         "Leslie Godfree"
        ],
        [
         "13",
         "1926",
         "Kitty Godfree(2)"
        ],
        [
         "14",
         "1927",
         "Francis Hunter"
        ],
        [
         "14",
         "1927",
         "Elizabeth Ryan(4)"
        ],
        [
         "15",
         "1928",
         "Pat Spence"
        ],
        [
         "15",
         "1928",
         "Elizabeth Ryan(5)"
        ],
        [
         "16",
         "1929",
         "Francis Hunter(2)"
        ],
        [
         "16",
         "1929",
         "Helen Moody"
        ],
        [
         "17",
         "1930",
         "Jack Crawford"
        ],
        [
         "17",
         "1930",
         "Elizabeth Ryan(6)"
        ],
        [
         "18",
         "1931",
         "George Lott"
        ],
        [
         "18",
         "1931",
         "Anna Harper"
        ],
        [
         "19",
         "1932",
         "Enrique Maier"
        ],
        [
         "19",
         "1932",
         "Elizabeth Ryan(7)"
        ],
        [
         "20",
         "1933",
         "Gottfried von Cramm"
        ],
        [
         "20",
         "1933",
         "Hilde Krahwinkel"
        ],
        [
         "21",
         "1934",
         "Ryuki Miki"
        ],
        [
         "21",
         "1934",
         "Dorothy Round"
        ],
        [
         "22",
         "1935",
         "Fred Perry"
        ],
        [
         "22",
         "1935",
         "Dorothy Round(2)"
        ],
        [
         "23",
         "1936",
         "Fred Perry(2)"
        ],
        [
         "23",
         "1936",
         "Dorothy Round(3)"
        ],
        [
         "24",
         "1937",
         "Don Budge"
        ],
        [
         "24",
         "1937",
         "Alice Marble"
        ],
        [
         "25",
         "1938",
         "Don Budge(2)"
        ],
        [
         "25",
         "1938",
         "Alice Marble(2)"
        ],
        [
         "26",
         "1939",
         "Bobby Riggs"
        ],
        [
         "26",
         "1939",
         "Alice Marble(3)"
        ],
        [
         "33",
         "1946",
         "Tom Brown"
        ],
        [
         "33",
         "1946",
         "Louise Brough"
        ],
        [
         "34",
         "1947",
         "John Bromwich"
        ],
        [
         "34",
         "1947",
         "Louise Brough(2)"
        ]
       ],
       "shape": {
        "columns": 2,
        "rows": 200
       }
      },
      "text/html": [
       "<div>\n",
       "<style scoped>\n",
       "    .dataframe tbody tr th:only-of-type {\n",
       "        vertical-align: middle;\n",
       "    }\n",
       "\n",
       "    .dataframe tbody tr th {\n",
       "        vertical-align: top;\n",
       "    }\n",
       "\n",
       "    .dataframe thead th {\n",
       "        text-align: right;\n",
       "    }\n",
       "</style>\n",
       "<table border=\"1\" class=\"dataframe\">\n",
       "  <thead>\n",
       "    <tr style=\"text-align: right;\">\n",
       "      <th></th>\n",
       "      <th>Year</th>\n",
       "      <th>Champions</th>\n",
       "    </tr>\n",
       "  </thead>\n",
       "  <tbody>\n",
       "    <tr>\n",
       "      <th>0</th>\n",
       "      <td>1913</td>\n",
       "      <td>Hope Crisp</td>\n",
       "    </tr>\n",
       "    <tr>\n",
       "      <th>0</th>\n",
       "      <td>1913</td>\n",
       "      <td>Agnes Tuckey</td>\n",
       "    </tr>\n",
       "    <tr>\n",
       "      <th>1</th>\n",
       "      <td>1914</td>\n",
       "      <td>James Cecil Parke</td>\n",
       "    </tr>\n",
       "    <tr>\n",
       "      <th>1</th>\n",
       "      <td>1914</td>\n",
       "      <td>Ethel Larcombe</td>\n",
       "    </tr>\n",
       "    <tr>\n",
       "      <th>6</th>\n",
       "      <td>1919</td>\n",
       "      <td>Randolph Lycett</td>\n",
       "    </tr>\n",
       "    <tr>\n",
       "      <th>...</th>\n",
       "      <td>...</td>\n",
       "      <td>...</td>\n",
       "    </tr>\n",
       "    <tr>\n",
       "      <th>108</th>\n",
       "      <td>2021</td>\n",
       "      <td>Desirae Krawczyk</td>\n",
       "    </tr>\n",
       "    <tr>\n",
       "      <th>109</th>\n",
       "      <td>2022</td>\n",
       "      <td>Neal Skupski(2)</td>\n",
       "    </tr>\n",
       "    <tr>\n",
       "      <th>109</th>\n",
       "      <td>2022</td>\n",
       "      <td>Desirae Krawczyk(2)</td>\n",
       "    </tr>\n",
       "    <tr>\n",
       "      <th>110</th>\n",
       "      <td>2023</td>\n",
       "      <td>Mate Pavić</td>\n",
       "    </tr>\n",
       "    <tr>\n",
       "      <th>110</th>\n",
       "      <td>2023</td>\n",
       "      <td>Lyudmyla Kichenok</td>\n",
       "    </tr>\n",
       "  </tbody>\n",
       "</table>\n",
       "<p>200 rows × 2 columns</p>\n",
       "</div>"
      ],
      "text/plain": [
       "     Year            Champions\n",
       "0    1913           Hope Crisp\n",
       "0    1913         Agnes Tuckey\n",
       "1    1914    James Cecil Parke\n",
       "1    1914       Ethel Larcombe\n",
       "6    1919      Randolph Lycett\n",
       "..    ...                  ...\n",
       "108  2021     Desirae Krawczyk\n",
       "109  2022      Neal Skupski(2)\n",
       "109  2022  Desirae Krawczyk(2)\n",
       "110  2023           Mate Pavić\n",
       "110  2023    Lyudmyla Kichenok\n",
       "\n",
       "[200 rows x 2 columns]"
      ]
     },
     "execution_count": 135,
     "metadata": {},
     "output_type": "execute_result"
    }
   ],
   "source": [
    "# Split the 'Champions' column by '\\n' and explode the DataFrame\n",
    "mixed_double_df['Champions'] = mixed_double_df['Champions'].str.split('\\n')\n",
    "mixed_double_df = mixed_double_df.explode('Champions')\n",
    "\n",
    "mixed_double_df"
   ]
  },
  {
   "cell_type": "code",
   "execution_count": 136,
   "metadata": {},
   "outputs": [
    {
     "data": {
      "application/vnd.microsoft.datawrangler.viewer.v0+json": {
       "columns": [
        {
         "name": "index",
         "rawType": "int64",
         "type": "integer"
        },
        {
         "name": "year",
         "rawType": "int64",
         "type": "integer"
        },
        {
         "name": "Champions",
         "rawType": "object",
         "type": "string"
        },
        {
         "name": "Tournament",
         "rawType": "object",
         "type": "string"
        }
       ],
       "conversionMethod": "pd.DataFrame",
       "ref": "31a4de2e-de57-432a-8d8d-76a3ed165efb",
       "rows": [
        [
         "0",
         "1913",
         "Hope Crisp",
         "Mixed Doubles"
        ],
        [
         "0",
         "1913",
         "Agnes Tuckey",
         "Mixed Doubles"
        ],
        [
         "1",
         "1914",
         "James Cecil Parke",
         "Mixed Doubles"
        ],
        [
         "1",
         "1914",
         "Ethel Larcombe",
         "Mixed Doubles"
        ],
        [
         "6",
         "1919",
         "Randolph Lycett",
         "Mixed Doubles"
        ],
        [
         "6",
         "1919",
         "Elizabeth Ryan",
         "Mixed Doubles"
        ],
        [
         "7",
         "1920",
         "Gerald Patterson",
         "Mixed Doubles"
        ],
        [
         "7",
         "1920",
         "Suzanne Lenglen",
         "Mixed Doubles"
        ],
        [
         "8",
         "1921",
         "Randolph Lycett(2)",
         "Mixed Doubles"
        ],
        [
         "8",
         "1921",
         "Elizabeth Ryan(2)",
         "Mixed Doubles"
        ],
        [
         "9",
         "1922",
         "Pat O'Hara Wood",
         "Mixed Doubles"
        ],
        [
         "9",
         "1922",
         "Suzanne Lenglen(2)",
         "Mixed Doubles"
        ],
        [
         "10",
         "1923",
         "Randolph Lycett(3)",
         "Mixed Doubles"
        ],
        [
         "10",
         "1923",
         "Elizabeth Ryan(3)",
         "Mixed Doubles"
        ],
        [
         "11",
         "1924",
         "Brian Gilbert",
         "Mixed Doubles"
        ],
        [
         "11",
         "1924",
         "Kitty McKane",
         "Mixed Doubles"
        ],
        [
         "12",
         "1925",
         "Jean Borotra",
         "Mixed Doubles"
        ],
        [
         "12",
         "1925",
         "Suzanne Lenglen(3)",
         "Mixed Doubles"
        ],
        [
         "13",
         "1926",
         "Leslie Godfree",
         "Mixed Doubles"
        ],
        [
         "13",
         "1926",
         "Kitty Godfree(2)",
         "Mixed Doubles"
        ],
        [
         "14",
         "1927",
         "Francis Hunter",
         "Mixed Doubles"
        ],
        [
         "14",
         "1927",
         "Elizabeth Ryan(4)",
         "Mixed Doubles"
        ],
        [
         "15",
         "1928",
         "Pat Spence",
         "Mixed Doubles"
        ],
        [
         "15",
         "1928",
         "Elizabeth Ryan(5)",
         "Mixed Doubles"
        ],
        [
         "16",
         "1929",
         "Francis Hunter(2)",
         "Mixed Doubles"
        ],
        [
         "16",
         "1929",
         "Helen Moody",
         "Mixed Doubles"
        ],
        [
         "17",
         "1930",
         "Jack Crawford",
         "Mixed Doubles"
        ],
        [
         "17",
         "1930",
         "Elizabeth Ryan(6)",
         "Mixed Doubles"
        ],
        [
         "18",
         "1931",
         "George Lott",
         "Mixed Doubles"
        ],
        [
         "18",
         "1931",
         "Anna Harper",
         "Mixed Doubles"
        ],
        [
         "19",
         "1932",
         "Enrique Maier",
         "Mixed Doubles"
        ],
        [
         "19",
         "1932",
         "Elizabeth Ryan(7)",
         "Mixed Doubles"
        ],
        [
         "20",
         "1933",
         "Gottfried von Cramm",
         "Mixed Doubles"
        ],
        [
         "20",
         "1933",
         "Hilde Krahwinkel",
         "Mixed Doubles"
        ],
        [
         "21",
         "1934",
         "Ryuki Miki",
         "Mixed Doubles"
        ],
        [
         "21",
         "1934",
         "Dorothy Round",
         "Mixed Doubles"
        ],
        [
         "22",
         "1935",
         "Fred Perry",
         "Mixed Doubles"
        ],
        [
         "22",
         "1935",
         "Dorothy Round(2)",
         "Mixed Doubles"
        ],
        [
         "23",
         "1936",
         "Fred Perry(2)",
         "Mixed Doubles"
        ],
        [
         "23",
         "1936",
         "Dorothy Round(3)",
         "Mixed Doubles"
        ],
        [
         "24",
         "1937",
         "Don Budge",
         "Mixed Doubles"
        ],
        [
         "24",
         "1937",
         "Alice Marble",
         "Mixed Doubles"
        ],
        [
         "25",
         "1938",
         "Don Budge(2)",
         "Mixed Doubles"
        ],
        [
         "25",
         "1938",
         "Alice Marble(2)",
         "Mixed Doubles"
        ],
        [
         "26",
         "1939",
         "Bobby Riggs",
         "Mixed Doubles"
        ],
        [
         "26",
         "1939",
         "Alice Marble(3)",
         "Mixed Doubles"
        ],
        [
         "33",
         "1946",
         "Tom Brown",
         "Mixed Doubles"
        ],
        [
         "33",
         "1946",
         "Louise Brough",
         "Mixed Doubles"
        ],
        [
         "34",
         "1947",
         "John Bromwich",
         "Mixed Doubles"
        ],
        [
         "34",
         "1947",
         "Louise Brough(2)",
         "Mixed Doubles"
        ]
       ],
       "shape": {
        "columns": 3,
        "rows": 200
       }
      },
      "text/html": [
       "<div>\n",
       "<style scoped>\n",
       "    .dataframe tbody tr th:only-of-type {\n",
       "        vertical-align: middle;\n",
       "    }\n",
       "\n",
       "    .dataframe tbody tr th {\n",
       "        vertical-align: top;\n",
       "    }\n",
       "\n",
       "    .dataframe thead th {\n",
       "        text-align: right;\n",
       "    }\n",
       "</style>\n",
       "<table border=\"1\" class=\"dataframe\">\n",
       "  <thead>\n",
       "    <tr style=\"text-align: right;\">\n",
       "      <th></th>\n",
       "      <th>year</th>\n",
       "      <th>Champions</th>\n",
       "      <th>Tournament</th>\n",
       "    </tr>\n",
       "  </thead>\n",
       "  <tbody>\n",
       "    <tr>\n",
       "      <th>0</th>\n",
       "      <td>1913</td>\n",
       "      <td>Hope Crisp</td>\n",
       "      <td>Mixed Doubles</td>\n",
       "    </tr>\n",
       "    <tr>\n",
       "      <th>0</th>\n",
       "      <td>1913</td>\n",
       "      <td>Agnes Tuckey</td>\n",
       "      <td>Mixed Doubles</td>\n",
       "    </tr>\n",
       "    <tr>\n",
       "      <th>1</th>\n",
       "      <td>1914</td>\n",
       "      <td>James Cecil Parke</td>\n",
       "      <td>Mixed Doubles</td>\n",
       "    </tr>\n",
       "    <tr>\n",
       "      <th>1</th>\n",
       "      <td>1914</td>\n",
       "      <td>Ethel Larcombe</td>\n",
       "      <td>Mixed Doubles</td>\n",
       "    </tr>\n",
       "    <tr>\n",
       "      <th>6</th>\n",
       "      <td>1919</td>\n",
       "      <td>Randolph Lycett</td>\n",
       "      <td>Mixed Doubles</td>\n",
       "    </tr>\n",
       "    <tr>\n",
       "      <th>...</th>\n",
       "      <td>...</td>\n",
       "      <td>...</td>\n",
       "      <td>...</td>\n",
       "    </tr>\n",
       "    <tr>\n",
       "      <th>108</th>\n",
       "      <td>2021</td>\n",
       "      <td>Desirae Krawczyk</td>\n",
       "      <td>Mixed Doubles</td>\n",
       "    </tr>\n",
       "    <tr>\n",
       "      <th>109</th>\n",
       "      <td>2022</td>\n",
       "      <td>Neal Skupski(2)</td>\n",
       "      <td>Mixed Doubles</td>\n",
       "    </tr>\n",
       "    <tr>\n",
       "      <th>109</th>\n",
       "      <td>2022</td>\n",
       "      <td>Desirae Krawczyk(2)</td>\n",
       "      <td>Mixed Doubles</td>\n",
       "    </tr>\n",
       "    <tr>\n",
       "      <th>110</th>\n",
       "      <td>2023</td>\n",
       "      <td>Mate Pavić</td>\n",
       "      <td>Mixed Doubles</td>\n",
       "    </tr>\n",
       "    <tr>\n",
       "      <th>110</th>\n",
       "      <td>2023</td>\n",
       "      <td>Lyudmyla Kichenok</td>\n",
       "      <td>Mixed Doubles</td>\n",
       "    </tr>\n",
       "  </tbody>\n",
       "</table>\n",
       "<p>200 rows × 3 columns</p>\n",
       "</div>"
      ],
      "text/plain": [
       "     year            Champions     Tournament\n",
       "0    1913           Hope Crisp  Mixed Doubles\n",
       "0    1913         Agnes Tuckey  Mixed Doubles\n",
       "1    1914    James Cecil Parke  Mixed Doubles\n",
       "1    1914       Ethel Larcombe  Mixed Doubles\n",
       "6    1919      Randolph Lycett  Mixed Doubles\n",
       "..    ...                  ...            ...\n",
       "108  2021     Desirae Krawczyk  Mixed Doubles\n",
       "109  2022      Neal Skupski(2)  Mixed Doubles\n",
       "109  2022  Desirae Krawczyk(2)  Mixed Doubles\n",
       "110  2023           Mate Pavić  Mixed Doubles\n",
       "110  2023    Lyudmyla Kichenok  Mixed Doubles\n",
       "\n",
       "[200 rows x 3 columns]"
      ]
     },
     "execution_count": 136,
     "metadata": {},
     "output_type": "execute_result"
    }
   ],
   "source": [
    "mixed_double_df['Tournament'] = 'Mixed Doubles'\n",
    "mixed_double_df.rename(columns={'Year': 'year'}, inplace=True)\n",
    "mixed_double_df"
   ]
  },
  {
   "cell_type": "code",
   "execution_count": 137,
   "metadata": {},
   "outputs": [
    {
     "data": {
      "application/vnd.microsoft.datawrangler.viewer.v0+json": {
       "columns": [
        {
         "name": "index",
         "rawType": "int64",
         "type": "integer"
        },
        {
         "name": "year",
         "rawType": "int64",
         "type": "integer"
        },
        {
         "name": "Tournament",
         "rawType": "object",
         "type": "string"
        },
        {
         "name": "Champions",
         "rawType": "object",
         "type": "string"
        }
       ],
       "conversionMethod": "pd.DataFrame",
       "ref": "96ec6142-ae84-4c96-97a9-001728749973",
       "rows": [
        [
         "0",
         "1877",
         "Men's Singles",
         "Spencer W. Gore (U.K.)"
        ],
        [
         "1",
         "1878",
         "Men's Singles",
         "Frank Hadow (U.K.)"
        ],
        [
         "2",
         "1879",
         "Men's Singles",
         "John T. Hartley (U.K.)"
        ],
        [
         "3",
         "1880",
         "Men's Singles",
         "John T. Hartley (U.K.)"
        ],
        [
         "4",
         "1881",
         "Men's Singles",
         "Willie Renshaw (U.K.)"
        ],
        [
         "5",
         "1882",
         "Men's Singles",
         "Willie Renshaw (U.K.)"
        ],
        [
         "6",
         "1883",
         "Men's Singles",
         "Willie Renshaw (U.K.)"
        ],
        [
         "7",
         "1884",
         "Men's Singles",
         "Willie Renshaw (U.K.)"
        ],
        [
         "8",
         "1885",
         "Men's Singles",
         "Willie Renshaw (U.K.)"
        ],
        [
         "9",
         "1886",
         "Men's Singles",
         "Willie Renshaw (U.K.)"
        ],
        [
         "10",
         "1887",
         "Men's Singles",
         "Herbert Lawford (U.K.)"
        ],
        [
         "11",
         "1888",
         "Men's Singles",
         "Ernest Renshaw (U.K.)"
        ],
        [
         "12",
         "1889",
         "Men's Singles",
         "Willie Renshaw (U.K.)"
        ],
        [
         "13",
         "1890",
         "Men's Singles",
         "Wiloby Hamilton (U.K.)"
        ],
        [
         "14",
         "1891",
         "Men's Singles",
         "Wilifred Baddeley (U.K.)"
        ],
        [
         "15",
         "1892",
         "Men's Singles",
         "Wilifred Baddeley (U.K.)"
        ],
        [
         "16",
         "1893",
         "Men's Singles",
         "Joshua Pim (U.K.)"
        ],
        [
         "17",
         "1894",
         "Men's Singles",
         "Joshua Pim (U.K.)"
        ],
        [
         "18",
         "1895",
         "Men's Singles",
         "Wilifred Baddeley (U.K.)"
        ],
        [
         "19",
         "1896",
         "Men's Singles",
         "Harold Mahony (U.K.)"
        ],
        [
         "20",
         "1897",
         "Men's Singles",
         "Reggie Doherty (U.K.)"
        ],
        [
         "21",
         "1898",
         "Men's Singles",
         "Reggie Doherty (U.K.)"
        ],
        [
         "22",
         "1899",
         "Men's Singles",
         "Reggie Doherty (U.K.)"
        ],
        [
         "23",
         "1900",
         "Men's Singles",
         "Reggie Doherty (U.K.)"
        ],
        [
         "24",
         "1901",
         "Men's Singles",
         "Arthur Gore (U.K.)"
        ],
        [
         "25",
         "1902",
         "Men's Singles",
         "Laurie Doherty (U.K.)"
        ],
        [
         "26",
         "1903",
         "Men's Singles",
         "Laurie Doherty (U.K.)"
        ],
        [
         "27",
         "1904",
         "Men's Singles",
         "Laurie Doherty (U.K.)"
        ],
        [
         "28",
         "1905",
         "Men's Singles",
         "Laurie Doherty (U.K.)"
        ],
        [
         "29",
         "1906",
         "Men's Singles",
         "Laurie Doherty (U.K.)"
        ],
        [
         "30",
         "1907",
         "Men's Singles",
         "Norman Brookes (Austl.)"
        ],
        [
         "31",
         "1908",
         "Men's Singles",
         "Arthur Gore (U.K.)"
        ],
        [
         "32",
         "1909",
         "Men's Singles",
         "Arthur Gore (U.K.)"
        ],
        [
         "33",
         "1910",
         "Men's Singles",
         "Tony Wilding (N.Z.)"
        ],
        [
         "34",
         "1911",
         "Men's Singles",
         "Tony Wilding (N.Z.)"
        ],
        [
         "35",
         "1912",
         "Men's Singles",
         "Tony Wilding (N.Z.)"
        ],
        [
         "36",
         "1913",
         "Men's Singles",
         "Tony Wilding (N.Z.)"
        ],
        [
         "37",
         "1914",
         "Men's Singles",
         "Norman Brookes (Austl.)"
        ],
        [
         "38",
         "1919",
         "Men's Singles",
         "Gerald Patterson (Austl.)"
        ],
        [
         "39",
         "1920",
         "Men's Singles",
         "Bill Tilden (U.S.)"
        ],
        [
         "40",
         "1921",
         "Men's Singles",
         "Bill Tilden (U.S.)"
        ],
        [
         "41",
         "1922",
         "Men's Singles",
         "Gerald Patterson (Austl.)"
        ],
        [
         "42",
         "1923",
         "Men's Singles",
         "Bill Johnston (U.S.)"
        ],
        [
         "43",
         "1924",
         "Men's Singles",
         "Jean Borotra (France)"
        ],
        [
         "44",
         "1925",
         "Men's Singles",
         "René Lacoste (France)"
        ],
        [
         "45",
         "1926",
         "Men's Singles",
         "Jean Borotra (France)"
        ],
        [
         "46",
         "1927",
         "Men's Singles",
         "Henri Cochet (France)"
        ],
        [
         "47",
         "1928",
         "Men's Singles",
         "René Lacoste (France)"
        ],
        [
         "48",
         "1929",
         "Men's Singles",
         "Henri Cochet (France)"
        ],
        [
         "49",
         "1930",
         "Men's Singles",
         "Bill Tilden (U.S.)"
        ]
       ],
       "shape": {
        "columns": 3,
        "rows": 933
       }
      },
      "text/html": [
       "<div>\n",
       "<style scoped>\n",
       "    .dataframe tbody tr th:only-of-type {\n",
       "        vertical-align: middle;\n",
       "    }\n",
       "\n",
       "    .dataframe tbody tr th {\n",
       "        vertical-align: top;\n",
       "    }\n",
       "\n",
       "    .dataframe thead th {\n",
       "        text-align: right;\n",
       "    }\n",
       "</style>\n",
       "<table border=\"1\" class=\"dataframe\">\n",
       "  <thead>\n",
       "    <tr style=\"text-align: right;\">\n",
       "      <th></th>\n",
       "      <th>year</th>\n",
       "      <th>Tournament</th>\n",
       "      <th>Champions</th>\n",
       "    </tr>\n",
       "  </thead>\n",
       "  <tbody>\n",
       "    <tr>\n",
       "      <th>0</th>\n",
       "      <td>1877</td>\n",
       "      <td>Men's Singles</td>\n",
       "      <td>Spencer W. Gore (U.K.)</td>\n",
       "    </tr>\n",
       "    <tr>\n",
       "      <th>1</th>\n",
       "      <td>1878</td>\n",
       "      <td>Men's Singles</td>\n",
       "      <td>Frank Hadow (U.K.)</td>\n",
       "    </tr>\n",
       "    <tr>\n",
       "      <th>2</th>\n",
       "      <td>1879</td>\n",
       "      <td>Men's Singles</td>\n",
       "      <td>John T. Hartley (U.K.)</td>\n",
       "    </tr>\n",
       "    <tr>\n",
       "      <th>3</th>\n",
       "      <td>1880</td>\n",
       "      <td>Men's Singles</td>\n",
       "      <td>John T. Hartley (U.K.)</td>\n",
       "    </tr>\n",
       "    <tr>\n",
       "      <th>4</th>\n",
       "      <td>1881</td>\n",
       "      <td>Men's Singles</td>\n",
       "      <td>Willie Renshaw (U.K.)</td>\n",
       "    </tr>\n",
       "    <tr>\n",
       "      <th>...</th>\n",
       "      <td>...</td>\n",
       "      <td>...</td>\n",
       "      <td>...</td>\n",
       "    </tr>\n",
       "    <tr>\n",
       "      <th>928</th>\n",
       "      <td>2021</td>\n",
       "      <td>Mixed Doubles</td>\n",
       "      <td>Desirae Krawczyk</td>\n",
       "    </tr>\n",
       "    <tr>\n",
       "      <th>929</th>\n",
       "      <td>2022</td>\n",
       "      <td>Mixed Doubles</td>\n",
       "      <td>Neal Skupski(2)</td>\n",
       "    </tr>\n",
       "    <tr>\n",
       "      <th>930</th>\n",
       "      <td>2022</td>\n",
       "      <td>Mixed Doubles</td>\n",
       "      <td>Desirae Krawczyk(2)</td>\n",
       "    </tr>\n",
       "    <tr>\n",
       "      <th>931</th>\n",
       "      <td>2023</td>\n",
       "      <td>Mixed Doubles</td>\n",
       "      <td>Mate Pavić</td>\n",
       "    </tr>\n",
       "    <tr>\n",
       "      <th>932</th>\n",
       "      <td>2023</td>\n",
       "      <td>Mixed Doubles</td>\n",
       "      <td>Lyudmyla Kichenok</td>\n",
       "    </tr>\n",
       "  </tbody>\n",
       "</table>\n",
       "<p>933 rows × 3 columns</p>\n",
       "</div>"
      ],
      "text/plain": [
       "     year     Tournament               Champions\n",
       "0    1877  Men's Singles  Spencer W. Gore (U.K.)\n",
       "1    1878  Men's Singles      Frank Hadow (U.K.)\n",
       "2    1879  Men's Singles  John T. Hartley (U.K.)\n",
       "3    1880  Men's Singles  John T. Hartley (U.K.)\n",
       "4    1881  Men's Singles   Willie Renshaw (U.K.)\n",
       "..    ...            ...                     ...\n",
       "928  2021  Mixed Doubles        Desirae Krawczyk\n",
       "929  2022  Mixed Doubles         Neal Skupski(2)\n",
       "930  2022  Mixed Doubles     Desirae Krawczyk(2)\n",
       "931  2023  Mixed Doubles              Mate Pavić\n",
       "932  2023  Mixed Doubles       Lyudmyla Kichenok\n",
       "\n",
       "[933 rows x 3 columns]"
      ]
     },
     "execution_count": 137,
     "metadata": {},
     "output_type": "execute_result"
    }
   ],
   "source": [
    "combined_df = pd.concat([single_df_melted, double_df_melted, mixed_double_df], ignore_index=True)\n",
    "combined_df"
   ]
  },
  {
   "cell_type": "code",
   "execution_count": 138,
   "metadata": {},
   "outputs": [
    {
     "data": {
      "application/vnd.microsoft.datawrangler.viewer.v0+json": {
       "columns": [
        {
         "name": "index",
         "rawType": "int64",
         "type": "integer"
        },
        {
         "name": "Champions",
         "rawType": "object",
         "type": "string"
        },
        {
         "name": "Most Recent Win",
         "rawType": "int64",
         "type": "integer"
        }
       ],
       "conversionMethod": "pd.DataFrame",
       "ref": "337453a0-5635-4dac-ac34-04a50f49a796",
       "rows": [
        [
         "0",
         "Adrian Quist",
         "1950"
        ],
        [
         "1",
         "Agnes Morton",
         "1914"
        ],
        [
         "2",
         "Agnes Tuckey",
         "1913"
        ],
        [
         "3",
         "Ai Sugiyama",
         "2003"
        ],
        [
         "4",
         "Alejandro Olmedo (Peru)",
         "1959"
        ],
        [
         "5",
         "Alex Mayer",
         "1975"
        ],
        [
         "6",
         "Alexander Peya",
         "2018"
        ],
        [
         "7",
         "Alice Marble",
         "1939"
        ],
        [
         "8",
         "Alice Marble (U.S.)",
         "1939"
        ],
        [
         "9",
         "Alice Marble(2)",
         "1938"
        ],
        [
         "10",
         "Alice Marble(3)",
         "1939"
        ],
        [
         "11",
         "Althea Gibson",
         "1958"
        ],
        [
         "12",
         "Althea Gibson (U.S.)",
         "1958"
        ],
        [
         "13",
         "Amelie Mauresmo (France)",
         "2006"
        ],
        [
         "14",
         "Anders Jarryd",
         "1991"
        ],
        [
         "15",
         "Andre Agassi (U.S.)",
         "1992"
        ],
        [
         "16",
         "Andy Murray (U.K.)",
         "2016"
        ],
        [
         "17",
         "Andy Ram",
         "2006"
        ],
        [
         "18",
         "Angela Buxton",
         "1956"
        ],
        [
         "19",
         "Angela Mortimer",
         "1955"
        ],
        [
         "20",
         "Angela Mortimer (U.K.)",
         "1961"
        ],
        [
         "21",
         "Angelique Kerber (Ger.)",
         "2018"
        ],
        [
         "22",
         "Ann Jones",
         "1969"
        ],
        [
         "23",
         "Ann Jones (U.K.)",
         "1969"
        ],
        [
         "24",
         "Ann Kiyomura",
         "1975"
        ],
        [
         "25",
         "Anna Harper",
         "1931"
        ],
        [
         "26",
         "Anna-Lena Grönefeld",
         "2009"
        ],
        [
         "27",
         "Anne Shilcock",
         "1955"
        ],
        [
         "28",
         "Anne Smith",
         "1982"
        ],
        [
         "29",
         "Antonio Palafox",
         "1963"
        ],
        [
         "30",
         "Arantxa Sánchez Vicario",
         "1995"
        ],
        [
         "31",
         "Arnaud Clément",
         "2007"
        ],
        [
         "32",
         "Arthur Ashe (U.S.)",
         "1975"
        ],
        [
         "33",
         "Arthur Gore",
         "1909"
        ],
        [
         "34",
         "Arthur Gore (U.K.)",
         "1909"
        ],
        [
         "35",
         "Ashleigh Barty (Austl.)",
         "2021"
        ],
        [
         "36",
         "Ashley Cooper (Austl.)",
         "1958"
        ],
        [
         "37",
         "Balazs Taroczy",
         "1985"
        ],
        [
         "38",
         "Barbora Krejcikova",
         "2022"
        ],
        [
         "39",
         "Barbora Strycova",
         "2023"
        ],
        [
         "40",
         "Betty Stove",
         "1972"
        ],
        [
         "41",
         "Betty Stöve",
         "1978"
        ],
        [
         "42",
         "Betty Stöve(2)",
         "1981"
        ],
        [
         "43",
         "Bill Johnston (U.S.)",
         "1923"
        ],
        [
         "44",
         "Bill Tilden",
         "1927"
        ],
        [
         "45",
         "Bill Tilden (U.S.)",
         "1930"
        ],
        [
         "46",
         "Billie Jean King",
         "1979"
        ],
        [
         "47",
         "Billie Jean King (U.S.)",
         "19683"
        ],
        [
         "48",
         "Billie Jean King(2)",
         "1971"
        ],
        [
         "49",
         "Billie Jean King(3)",
         "1973"
        ]
       ],
       "shape": {
        "columns": 2,
        "rows": 518
       }
      },
      "text/html": [
       "<div>\n",
       "<style scoped>\n",
       "    .dataframe tbody tr th:only-of-type {\n",
       "        vertical-align: middle;\n",
       "    }\n",
       "\n",
       "    .dataframe tbody tr th {\n",
       "        vertical-align: top;\n",
       "    }\n",
       "\n",
       "    .dataframe thead th {\n",
       "        text-align: right;\n",
       "    }\n",
       "</style>\n",
       "<table border=\"1\" class=\"dataframe\">\n",
       "  <thead>\n",
       "    <tr style=\"text-align: right;\">\n",
       "      <th></th>\n",
       "      <th>Champions</th>\n",
       "      <th>Most Recent Win</th>\n",
       "    </tr>\n",
       "  </thead>\n",
       "  <tbody>\n",
       "    <tr>\n",
       "      <th>0</th>\n",
       "      <td>Adrian Quist</td>\n",
       "      <td>1950</td>\n",
       "    </tr>\n",
       "    <tr>\n",
       "      <th>1</th>\n",
       "      <td>Agnes Morton</td>\n",
       "      <td>1914</td>\n",
       "    </tr>\n",
       "    <tr>\n",
       "      <th>2</th>\n",
       "      <td>Agnes Tuckey</td>\n",
       "      <td>1913</td>\n",
       "    </tr>\n",
       "    <tr>\n",
       "      <th>3</th>\n",
       "      <td>Ai Sugiyama</td>\n",
       "      <td>2003</td>\n",
       "    </tr>\n",
       "    <tr>\n",
       "      <th>4</th>\n",
       "      <td>Alejandro Olmedo (Peru)</td>\n",
       "      <td>1959</td>\n",
       "    </tr>\n",
       "    <tr>\n",
       "      <th>...</th>\n",
       "      <td>...</td>\n",
       "      <td>...</td>\n",
       "    </tr>\n",
       "    <tr>\n",
       "      <th>513</th>\n",
       "      <td>Yvon Petra (France)</td>\n",
       "      <td>1946</td>\n",
       "    </tr>\n",
       "    <tr>\n",
       "      <th>514</th>\n",
       "      <td>Zi Yan</td>\n",
       "      <td>2006</td>\n",
       "    </tr>\n",
       "    <tr>\n",
       "      <th>515</th>\n",
       "      <td>Zina Garrison</td>\n",
       "      <td>1988</td>\n",
       "    </tr>\n",
       "    <tr>\n",
       "      <th>516</th>\n",
       "      <td>Zina Garrison(2)</td>\n",
       "      <td>1990</td>\n",
       "    </tr>\n",
       "    <tr>\n",
       "      <th>517</th>\n",
       "      <td>Ándre Gobert</td>\n",
       "      <td>1911</td>\n",
       "    </tr>\n",
       "  </tbody>\n",
       "</table>\n",
       "<p>518 rows × 2 columns</p>\n",
       "</div>"
      ],
      "text/plain": [
       "                   Champions  Most Recent Win\n",
       "0               Adrian Quist             1950\n",
       "1               Agnes Morton             1914\n",
       "2               Agnes Tuckey             1913\n",
       "3                Ai Sugiyama             2003\n",
       "4    Alejandro Olmedo (Peru)             1959\n",
       "..                       ...              ...\n",
       "513      Yvon Petra (France)             1946\n",
       "514                   Zi Yan             2006\n",
       "515            Zina Garrison             1988\n",
       "516         Zina Garrison(2)             1990\n",
       "517             Ándre Gobert             1911\n",
       "\n",
       "[518 rows x 2 columns]"
      ]
     },
     "execution_count": 138,
     "metadata": {},
     "output_type": "execute_result"
    }
   ],
   "source": [
    "most_recent_win = combined_df.groupby('Champions')['year'].max().reset_index()\n",
    "most_recent_win.rename(columns={'year': 'Most Recent Win'}, inplace=True)\n",
    "most_recent_win"
   ]
  },
  {
   "cell_type": "code",
   "execution_count": 139,
   "metadata": {},
   "outputs": [
    {
     "data": {
      "application/vnd.microsoft.datawrangler.viewer.v0+json": {
       "columns": [
        {
         "name": "Champions",
         "rawType": "object",
         "type": "string"
        },
        {
         "name": "Men's Doubles",
         "rawType": "int64",
         "type": "integer"
        },
        {
         "name": "Men's Singles",
         "rawType": "int64",
         "type": "integer"
        },
        {
         "name": "Mixed Doubles",
         "rawType": "int64",
         "type": "integer"
        },
        {
         "name": "Women's Doubles",
         "rawType": "int64",
         "type": "integer"
        },
        {
         "name": "Women's Singles",
         "rawType": "int64",
         "type": "integer"
        }
       ],
       "conversionMethod": "pd.DataFrame",
       "ref": "f46b8f0b-e29e-480c-a84a-923c41170f6a",
       "rows": [
        [
         "Adrian Quist",
         "2",
         "0",
         "0",
         "0",
         "0"
        ],
        [
         "Agnes Morton",
         "0",
         "0",
         "0",
         "1",
         "0"
        ],
        [
         "Agnes Tuckey",
         "0",
         "0",
         "1",
         "0",
         "0"
        ],
        [
         "Ai Sugiyama",
         "0",
         "0",
         "0",
         "1",
         "0"
        ],
        [
         "Alejandro Olmedo (Peru)",
         "0",
         "1",
         "0",
         "0",
         "0"
        ],
        [
         "Alex Mayer",
         "1",
         "0",
         "0",
         "0",
         "0"
        ],
        [
         "Alexander Peya",
         "0",
         "0",
         "1",
         "0",
         "0"
        ],
        [
         "Alice Marble",
         "0",
         "0",
         "1",
         "2",
         "0"
        ],
        [
         "Alice Marble (U.S.)",
         "0",
         "0",
         "0",
         "0",
         "1"
        ],
        [
         "Alice Marble(2)",
         "0",
         "0",
         "1",
         "0",
         "0"
        ],
        [
         "Alice Marble(3)",
         "0",
         "0",
         "1",
         "0",
         "0"
        ],
        [
         "Althea Gibson",
         "0",
         "0",
         "0",
         "3",
         "0"
        ],
        [
         "Althea Gibson (U.S.)",
         "0",
         "0",
         "0",
         "0",
         "2"
        ],
        [
         "Amelie Mauresmo (France)",
         "0",
         "0",
         "0",
         "0",
         "1"
        ],
        [
         "Anders Jarryd",
         "2",
         "0",
         "0",
         "0",
         "0"
        ],
        [
         "Andre Agassi (U.S.)",
         "0",
         "1",
         "0",
         "0",
         "0"
        ],
        [
         "Andy Murray (U.K.)",
         "0",
         "2",
         "0",
         "0",
         "0"
        ],
        [
         "Andy Ram",
         "0",
         "0",
         "1",
         "0",
         "0"
        ],
        [
         "Angela Buxton",
         "0",
         "0",
         "0",
         "1",
         "0"
        ],
        [
         "Angela Mortimer",
         "0",
         "0",
         "0",
         "1",
         "0"
        ],
        [
         "Angela Mortimer (U.K.)",
         "0",
         "0",
         "0",
         "0",
         "1"
        ],
        [
         "Angelique Kerber (Ger.)",
         "0",
         "0",
         "0",
         "0",
         "1"
        ],
        [
         "Ann Jones",
         "0",
         "0",
         "1",
         "0",
         "0"
        ],
        [
         "Ann Jones (U.K.)",
         "0",
         "0",
         "0",
         "0",
         "1"
        ],
        [
         "Ann Kiyomura",
         "0",
         "0",
         "0",
         "1",
         "0"
        ],
        [
         "Anna Harper",
         "0",
         "0",
         "1",
         "0",
         "0"
        ],
        [
         "Anna-Lena Grönefeld",
         "0",
         "0",
         "1",
         "0",
         "0"
        ],
        [
         "Anne Shilcock",
         "0",
         "0",
         "0",
         "1",
         "0"
        ],
        [
         "Anne Smith",
         "0",
         "0",
         "1",
         "1",
         "0"
        ],
        [
         "Antonio Palafox",
         "1",
         "0",
         "0",
         "0",
         "0"
        ],
        [
         "Arantxa Sánchez Vicario",
         "0",
         "0",
         "0",
         "1",
         "0"
        ],
        [
         "Arnaud Clément",
         "1",
         "0",
         "0",
         "0",
         "0"
        ],
        [
         "Arthur Ashe (U.S.)",
         "0",
         "1",
         "0",
         "0",
         "0"
        ],
        [
         "Arthur Gore",
         "1",
         "0",
         "0",
         "0",
         "0"
        ],
        [
         "Arthur Gore (U.K.)",
         "0",
         "3",
         "0",
         "0",
         "0"
        ],
        [
         "Ashleigh Barty (Austl.)",
         "0",
         "0",
         "0",
         "0",
         "1"
        ],
        [
         "Ashley Cooper (Austl.)",
         "0",
         "1",
         "0",
         "0",
         "0"
        ],
        [
         "Balazs Taroczy",
         "1",
         "0",
         "0",
         "0",
         "0"
        ],
        [
         "Barbora Krejcikova",
         "0",
         "0",
         "0",
         "2",
         "0"
        ],
        [
         "Barbora Strycova",
         "0",
         "0",
         "0",
         "2",
         "0"
        ],
        [
         "Betty Stove",
         "0",
         "0",
         "0",
         "1",
         "0"
        ],
        [
         "Betty Stöve",
         "0",
         "0",
         "1",
         "0",
         "0"
        ],
        [
         "Betty Stöve(2)",
         "0",
         "0",
         "1",
         "0",
         "0"
        ],
        [
         "Bill Johnston (U.S.)",
         "0",
         "1",
         "0",
         "0",
         "0"
        ],
        [
         "Bill Tilden",
         "1",
         "0",
         "0",
         "0",
         "0"
        ],
        [
         "Bill Tilden (U.S.)",
         "0",
         "3",
         "0",
         "0",
         "0"
        ],
        [
         "Billie Jean King",
         "0",
         "0",
         "1",
         "6",
         "0"
        ],
        [
         "Billie Jean King (U.S.)",
         "0",
         "0",
         "0",
         "0",
         "6"
        ],
        [
         "Billie Jean King(2)",
         "0",
         "0",
         "1",
         "0",
         "0"
        ],
        [
         "Billie Jean King(3)",
         "0",
         "0",
         "1",
         "0",
         "0"
        ]
       ],
       "shape": {
        "columns": 5,
        "rows": 518
       }
      },
      "text/html": [
       "<div>\n",
       "<style scoped>\n",
       "    .dataframe tbody tr th:only-of-type {\n",
       "        vertical-align: middle;\n",
       "    }\n",
       "\n",
       "    .dataframe tbody tr th {\n",
       "        vertical-align: top;\n",
       "    }\n",
       "\n",
       "    .dataframe thead th {\n",
       "        text-align: right;\n",
       "    }\n",
       "</style>\n",
       "<table border=\"1\" class=\"dataframe\">\n",
       "  <thead>\n",
       "    <tr style=\"text-align: right;\">\n",
       "      <th>Tournament</th>\n",
       "      <th>Men's Doubles</th>\n",
       "      <th>Men's Singles</th>\n",
       "      <th>Mixed Doubles</th>\n",
       "      <th>Women's Doubles</th>\n",
       "      <th>Women's Singles</th>\n",
       "    </tr>\n",
       "    <tr>\n",
       "      <th>Champions</th>\n",
       "      <th></th>\n",
       "      <th></th>\n",
       "      <th></th>\n",
       "      <th></th>\n",
       "      <th></th>\n",
       "    </tr>\n",
       "  </thead>\n",
       "  <tbody>\n",
       "    <tr>\n",
       "      <th>Adrian Quist</th>\n",
       "      <td>2</td>\n",
       "      <td>0</td>\n",
       "      <td>0</td>\n",
       "      <td>0</td>\n",
       "      <td>0</td>\n",
       "    </tr>\n",
       "    <tr>\n",
       "      <th>Agnes Morton</th>\n",
       "      <td>0</td>\n",
       "      <td>0</td>\n",
       "      <td>0</td>\n",
       "      <td>1</td>\n",
       "      <td>0</td>\n",
       "    </tr>\n",
       "    <tr>\n",
       "      <th>Agnes Tuckey</th>\n",
       "      <td>0</td>\n",
       "      <td>0</td>\n",
       "      <td>1</td>\n",
       "      <td>0</td>\n",
       "      <td>0</td>\n",
       "    </tr>\n",
       "    <tr>\n",
       "      <th>Ai Sugiyama</th>\n",
       "      <td>0</td>\n",
       "      <td>0</td>\n",
       "      <td>0</td>\n",
       "      <td>1</td>\n",
       "      <td>0</td>\n",
       "    </tr>\n",
       "    <tr>\n",
       "      <th>Alejandro Olmedo (Peru)</th>\n",
       "      <td>0</td>\n",
       "      <td>1</td>\n",
       "      <td>0</td>\n",
       "      <td>0</td>\n",
       "      <td>0</td>\n",
       "    </tr>\n",
       "    <tr>\n",
       "      <th>...</th>\n",
       "      <td>...</td>\n",
       "      <td>...</td>\n",
       "      <td>...</td>\n",
       "      <td>...</td>\n",
       "      <td>...</td>\n",
       "    </tr>\n",
       "    <tr>\n",
       "      <th>Yvon Petra (France)</th>\n",
       "      <td>0</td>\n",
       "      <td>1</td>\n",
       "      <td>0</td>\n",
       "      <td>0</td>\n",
       "      <td>0</td>\n",
       "    </tr>\n",
       "    <tr>\n",
       "      <th>Zi Yan</th>\n",
       "      <td>0</td>\n",
       "      <td>0</td>\n",
       "      <td>0</td>\n",
       "      <td>1</td>\n",
       "      <td>0</td>\n",
       "    </tr>\n",
       "    <tr>\n",
       "      <th>Zina Garrison</th>\n",
       "      <td>0</td>\n",
       "      <td>0</td>\n",
       "      <td>1</td>\n",
       "      <td>0</td>\n",
       "      <td>0</td>\n",
       "    </tr>\n",
       "    <tr>\n",
       "      <th>Zina Garrison(2)</th>\n",
       "      <td>0</td>\n",
       "      <td>0</td>\n",
       "      <td>1</td>\n",
       "      <td>0</td>\n",
       "      <td>0</td>\n",
       "    </tr>\n",
       "    <tr>\n",
       "      <th>Ándre Gobert</th>\n",
       "      <td>1</td>\n",
       "      <td>0</td>\n",
       "      <td>0</td>\n",
       "      <td>0</td>\n",
       "      <td>0</td>\n",
       "    </tr>\n",
       "  </tbody>\n",
       "</table>\n",
       "<p>518 rows × 5 columns</p>\n",
       "</div>"
      ],
      "text/plain": [
       "Tournament               Men's Doubles  Men's Singles  Mixed Doubles  \\\n",
       "Champions                                                              \n",
       "Adrian Quist                         2              0              0   \n",
       "Agnes Morton                         0              0              0   \n",
       "Agnes Tuckey                         0              0              1   \n",
       "Ai Sugiyama                          0              0              0   \n",
       "Alejandro Olmedo (Peru)              0              1              0   \n",
       "...                                ...            ...            ...   \n",
       "Yvon Petra (France)                  0              1              0   \n",
       "Zi Yan                               0              0              0   \n",
       "Zina Garrison                        0              0              1   \n",
       "Zina Garrison(2)                     0              0              1   \n",
       "Ándre Gobert                         1              0              0   \n",
       "\n",
       "Tournament               Women's Doubles  Women's Singles  \n",
       "Champions                                                  \n",
       "Adrian Quist                           0                0  \n",
       "Agnes Morton                           1                0  \n",
       "Agnes Tuckey                           0                0  \n",
       "Ai Sugiyama                            1                0  \n",
       "Alejandro Olmedo (Peru)                0                0  \n",
       "...                                  ...              ...  \n",
       "Yvon Petra (France)                    0                0  \n",
       "Zi Yan                                 1                0  \n",
       "Zina Garrison                          0                0  \n",
       "Zina Garrison(2)                       0                0  \n",
       "Ándre Gobert                           0                0  \n",
       "\n",
       "[518 rows x 5 columns]"
      ]
     },
     "execution_count": 139,
     "metadata": {},
     "output_type": "execute_result"
    }
   ],
   "source": [
    "championship_counts = combined_df.groupby(['Champions', 'Tournament']).size().unstack(fill_value=0)\n",
    "championship_counts"
   ]
  },
  {
   "cell_type": "code",
   "execution_count": 140,
   "metadata": {},
   "outputs": [
    {
     "data": {
      "application/vnd.microsoft.datawrangler.viewer.v0+json": {
       "columns": [
        {
         "name": "Champions",
         "rawType": "object",
         "type": "string"
        },
        {
         "name": "Men's Doubles",
         "rawType": "int64",
         "type": "integer"
        },
        {
         "name": "Men's Singles",
         "rawType": "int64",
         "type": "integer"
        },
        {
         "name": "Mixed Doubles",
         "rawType": "int64",
         "type": "integer"
        },
        {
         "name": "Women's Doubles",
         "rawType": "int64",
         "type": "integer"
        },
        {
         "name": "Women's Singles",
         "rawType": "int64",
         "type": "integer"
        },
        {
         "name": "Total Championships",
         "rawType": "int64",
         "type": "integer"
        }
       ],
       "conversionMethod": "pd.DataFrame",
       "ref": "f41f3fa4-5186-4c22-9964-522d523499e1",
       "rows": [
        [
         "Adrian Quist",
         "2",
         "0",
         "0",
         "0",
         "0",
         "2"
        ],
        [
         "Agnes Morton",
         "0",
         "0",
         "0",
         "1",
         "0",
         "1"
        ],
        [
         "Agnes Tuckey",
         "0",
         "0",
         "1",
         "0",
         "0",
         "1"
        ],
        [
         "Ai Sugiyama",
         "0",
         "0",
         "0",
         "1",
         "0",
         "1"
        ],
        [
         "Alejandro Olmedo (Peru)",
         "0",
         "1",
         "0",
         "0",
         "0",
         "1"
        ],
        [
         "Alex Mayer",
         "1",
         "0",
         "0",
         "0",
         "0",
         "1"
        ],
        [
         "Alexander Peya",
         "0",
         "0",
         "1",
         "0",
         "0",
         "1"
        ],
        [
         "Alice Marble",
         "0",
         "0",
         "1",
         "2",
         "0",
         "3"
        ],
        [
         "Alice Marble (U.S.)",
         "0",
         "0",
         "0",
         "0",
         "1",
         "1"
        ],
        [
         "Alice Marble(2)",
         "0",
         "0",
         "1",
         "0",
         "0",
         "1"
        ],
        [
         "Alice Marble(3)",
         "0",
         "0",
         "1",
         "0",
         "0",
         "1"
        ],
        [
         "Althea Gibson",
         "0",
         "0",
         "0",
         "3",
         "0",
         "3"
        ],
        [
         "Althea Gibson (U.S.)",
         "0",
         "0",
         "0",
         "0",
         "2",
         "2"
        ],
        [
         "Amelie Mauresmo (France)",
         "0",
         "0",
         "0",
         "0",
         "1",
         "1"
        ],
        [
         "Anders Jarryd",
         "2",
         "0",
         "0",
         "0",
         "0",
         "2"
        ],
        [
         "Andre Agassi (U.S.)",
         "0",
         "1",
         "0",
         "0",
         "0",
         "1"
        ],
        [
         "Andy Murray (U.K.)",
         "0",
         "2",
         "0",
         "0",
         "0",
         "2"
        ],
        [
         "Andy Ram",
         "0",
         "0",
         "1",
         "0",
         "0",
         "1"
        ],
        [
         "Angela Buxton",
         "0",
         "0",
         "0",
         "1",
         "0",
         "1"
        ],
        [
         "Angela Mortimer",
         "0",
         "0",
         "0",
         "1",
         "0",
         "1"
        ],
        [
         "Angela Mortimer (U.K.)",
         "0",
         "0",
         "0",
         "0",
         "1",
         "1"
        ],
        [
         "Angelique Kerber (Ger.)",
         "0",
         "0",
         "0",
         "0",
         "1",
         "1"
        ],
        [
         "Ann Jones",
         "0",
         "0",
         "1",
         "0",
         "0",
         "1"
        ],
        [
         "Ann Jones (U.K.)",
         "0",
         "0",
         "0",
         "0",
         "1",
         "1"
        ],
        [
         "Ann Kiyomura",
         "0",
         "0",
         "0",
         "1",
         "0",
         "1"
        ],
        [
         "Anna Harper",
         "0",
         "0",
         "1",
         "0",
         "0",
         "1"
        ],
        [
         "Anna-Lena Grönefeld",
         "0",
         "0",
         "1",
         "0",
         "0",
         "1"
        ],
        [
         "Anne Shilcock",
         "0",
         "0",
         "0",
         "1",
         "0",
         "1"
        ],
        [
         "Anne Smith",
         "0",
         "0",
         "1",
         "1",
         "0",
         "2"
        ],
        [
         "Antonio Palafox",
         "1",
         "0",
         "0",
         "0",
         "0",
         "1"
        ],
        [
         "Arantxa Sánchez Vicario",
         "0",
         "0",
         "0",
         "1",
         "0",
         "1"
        ],
        [
         "Arnaud Clément",
         "1",
         "0",
         "0",
         "0",
         "0",
         "1"
        ],
        [
         "Arthur Ashe (U.S.)",
         "0",
         "1",
         "0",
         "0",
         "0",
         "1"
        ],
        [
         "Arthur Gore",
         "1",
         "0",
         "0",
         "0",
         "0",
         "1"
        ],
        [
         "Arthur Gore (U.K.)",
         "0",
         "3",
         "0",
         "0",
         "0",
         "3"
        ],
        [
         "Ashleigh Barty (Austl.)",
         "0",
         "0",
         "0",
         "0",
         "1",
         "1"
        ],
        [
         "Ashley Cooper (Austl.)",
         "0",
         "1",
         "0",
         "0",
         "0",
         "1"
        ],
        [
         "Balazs Taroczy",
         "1",
         "0",
         "0",
         "0",
         "0",
         "1"
        ],
        [
         "Barbora Krejcikova",
         "0",
         "0",
         "0",
         "2",
         "0",
         "2"
        ],
        [
         "Barbora Strycova",
         "0",
         "0",
         "0",
         "2",
         "0",
         "2"
        ],
        [
         "Betty Stove",
         "0",
         "0",
         "0",
         "1",
         "0",
         "1"
        ],
        [
         "Betty Stöve",
         "0",
         "0",
         "1",
         "0",
         "0",
         "1"
        ],
        [
         "Betty Stöve(2)",
         "0",
         "0",
         "1",
         "0",
         "0",
         "1"
        ],
        [
         "Bill Johnston (U.S.)",
         "0",
         "1",
         "0",
         "0",
         "0",
         "1"
        ],
        [
         "Bill Tilden",
         "1",
         "0",
         "0",
         "0",
         "0",
         "1"
        ],
        [
         "Bill Tilden (U.S.)",
         "0",
         "3",
         "0",
         "0",
         "0",
         "3"
        ],
        [
         "Billie Jean King",
         "0",
         "0",
         "1",
         "6",
         "0",
         "7"
        ],
        [
         "Billie Jean King (U.S.)",
         "0",
         "0",
         "0",
         "0",
         "6",
         "6"
        ],
        [
         "Billie Jean King(2)",
         "0",
         "0",
         "1",
         "0",
         "0",
         "1"
        ],
        [
         "Billie Jean King(3)",
         "0",
         "0",
         "1",
         "0",
         "0",
         "1"
        ]
       ],
       "shape": {
        "columns": 6,
        "rows": 518
       }
      },
      "text/html": [
       "<div>\n",
       "<style scoped>\n",
       "    .dataframe tbody tr th:only-of-type {\n",
       "        vertical-align: middle;\n",
       "    }\n",
       "\n",
       "    .dataframe tbody tr th {\n",
       "        vertical-align: top;\n",
       "    }\n",
       "\n",
       "    .dataframe thead th {\n",
       "        text-align: right;\n",
       "    }\n",
       "</style>\n",
       "<table border=\"1\" class=\"dataframe\">\n",
       "  <thead>\n",
       "    <tr style=\"text-align: right;\">\n",
       "      <th>Tournament</th>\n",
       "      <th>Men's Doubles</th>\n",
       "      <th>Men's Singles</th>\n",
       "      <th>Mixed Doubles</th>\n",
       "      <th>Women's Doubles</th>\n",
       "      <th>Women's Singles</th>\n",
       "      <th>Total Championships</th>\n",
       "    </tr>\n",
       "    <tr>\n",
       "      <th>Champions</th>\n",
       "      <th></th>\n",
       "      <th></th>\n",
       "      <th></th>\n",
       "      <th></th>\n",
       "      <th></th>\n",
       "      <th></th>\n",
       "    </tr>\n",
       "  </thead>\n",
       "  <tbody>\n",
       "    <tr>\n",
       "      <th>Adrian Quist</th>\n",
       "      <td>2</td>\n",
       "      <td>0</td>\n",
       "      <td>0</td>\n",
       "      <td>0</td>\n",
       "      <td>0</td>\n",
       "      <td>2</td>\n",
       "    </tr>\n",
       "    <tr>\n",
       "      <th>Agnes Morton</th>\n",
       "      <td>0</td>\n",
       "      <td>0</td>\n",
       "      <td>0</td>\n",
       "      <td>1</td>\n",
       "      <td>0</td>\n",
       "      <td>1</td>\n",
       "    </tr>\n",
       "    <tr>\n",
       "      <th>Agnes Tuckey</th>\n",
       "      <td>0</td>\n",
       "      <td>0</td>\n",
       "      <td>1</td>\n",
       "      <td>0</td>\n",
       "      <td>0</td>\n",
       "      <td>1</td>\n",
       "    </tr>\n",
       "    <tr>\n",
       "      <th>Ai Sugiyama</th>\n",
       "      <td>0</td>\n",
       "      <td>0</td>\n",
       "      <td>0</td>\n",
       "      <td>1</td>\n",
       "      <td>0</td>\n",
       "      <td>1</td>\n",
       "    </tr>\n",
       "    <tr>\n",
       "      <th>Alejandro Olmedo (Peru)</th>\n",
       "      <td>0</td>\n",
       "      <td>1</td>\n",
       "      <td>0</td>\n",
       "      <td>0</td>\n",
       "      <td>0</td>\n",
       "      <td>1</td>\n",
       "    </tr>\n",
       "    <tr>\n",
       "      <th>...</th>\n",
       "      <td>...</td>\n",
       "      <td>...</td>\n",
       "      <td>...</td>\n",
       "      <td>...</td>\n",
       "      <td>...</td>\n",
       "      <td>...</td>\n",
       "    </tr>\n",
       "    <tr>\n",
       "      <th>Yvon Petra (France)</th>\n",
       "      <td>0</td>\n",
       "      <td>1</td>\n",
       "      <td>0</td>\n",
       "      <td>0</td>\n",
       "      <td>0</td>\n",
       "      <td>1</td>\n",
       "    </tr>\n",
       "    <tr>\n",
       "      <th>Zi Yan</th>\n",
       "      <td>0</td>\n",
       "      <td>0</td>\n",
       "      <td>0</td>\n",
       "      <td>1</td>\n",
       "      <td>0</td>\n",
       "      <td>1</td>\n",
       "    </tr>\n",
       "    <tr>\n",
       "      <th>Zina Garrison</th>\n",
       "      <td>0</td>\n",
       "      <td>0</td>\n",
       "      <td>1</td>\n",
       "      <td>0</td>\n",
       "      <td>0</td>\n",
       "      <td>1</td>\n",
       "    </tr>\n",
       "    <tr>\n",
       "      <th>Zina Garrison(2)</th>\n",
       "      <td>0</td>\n",
       "      <td>0</td>\n",
       "      <td>1</td>\n",
       "      <td>0</td>\n",
       "      <td>0</td>\n",
       "      <td>1</td>\n",
       "    </tr>\n",
       "    <tr>\n",
       "      <th>Ándre Gobert</th>\n",
       "      <td>1</td>\n",
       "      <td>0</td>\n",
       "      <td>0</td>\n",
       "      <td>0</td>\n",
       "      <td>0</td>\n",
       "      <td>1</td>\n",
       "    </tr>\n",
       "  </tbody>\n",
       "</table>\n",
       "<p>518 rows × 6 columns</p>\n",
       "</div>"
      ],
      "text/plain": [
       "Tournament               Men's Doubles  Men's Singles  Mixed Doubles  \\\n",
       "Champions                                                              \n",
       "Adrian Quist                         2              0              0   \n",
       "Agnes Morton                         0              0              0   \n",
       "Agnes Tuckey                         0              0              1   \n",
       "Ai Sugiyama                          0              0              0   \n",
       "Alejandro Olmedo (Peru)              0              1              0   \n",
       "...                                ...            ...            ...   \n",
       "Yvon Petra (France)                  0              1              0   \n",
       "Zi Yan                               0              0              0   \n",
       "Zina Garrison                        0              0              1   \n",
       "Zina Garrison(2)                     0              0              1   \n",
       "Ándre Gobert                         1              0              0   \n",
       "\n",
       "Tournament               Women's Doubles  Women's Singles  Total Championships  \n",
       "Champions                                                                       \n",
       "Adrian Quist                           0                0                    2  \n",
       "Agnes Morton                           1                0                    1  \n",
       "Agnes Tuckey                           0                0                    1  \n",
       "Ai Sugiyama                            1                0                    1  \n",
       "Alejandro Olmedo (Peru)                0                0                    1  \n",
       "...                                  ...              ...                  ...  \n",
       "Yvon Petra (France)                    0                0                    1  \n",
       "Zi Yan                                 1                0                    1  \n",
       "Zina Garrison                          0                0                    1  \n",
       "Zina Garrison(2)                       0                0                    1  \n",
       "Ándre Gobert                           0                0                    1  \n",
       "\n",
       "[518 rows x 6 columns]"
      ]
     },
     "execution_count": 140,
     "metadata": {},
     "output_type": "execute_result"
    }
   ],
   "source": [
    "# Calculate the total championships for each champion\n",
    "championship_counts['Total Championships'] = championship_counts.sum(axis=1)\n",
    "\n",
    "# Display the updated DataFrame\n",
    "championship_counts"
   ]
  },
  {
   "cell_type": "code",
   "execution_count": 141,
   "metadata": {},
   "outputs": [
    {
     "data": {
      "application/vnd.microsoft.datawrangler.viewer.v0+json": {
       "columns": [
        {
         "name": "index",
         "rawType": "int64",
         "type": "integer"
        },
        {
         "name": "Champions",
         "rawType": "object",
         "type": "string"
        },
        {
         "name": "Men's Doubles",
         "rawType": "int64",
         "type": "integer"
        },
        {
         "name": "Men's Singles",
         "rawType": "int64",
         "type": "integer"
        },
        {
         "name": "Mixed Doubles",
         "rawType": "int64",
         "type": "integer"
        },
        {
         "name": "Women's Doubles",
         "rawType": "int64",
         "type": "integer"
        },
        {
         "name": "Women's Singles",
         "rawType": "int64",
         "type": "integer"
        },
        {
         "name": "Total Championships",
         "rawType": "int64",
         "type": "integer"
        },
        {
         "name": "Most Recent Win",
         "rawType": "int64",
         "type": "integer"
        }
       ],
       "conversionMethod": "pd.DataFrame",
       "ref": "872c58d1-9c20-40bf-a458-c10ef7d0fd60",
       "rows": [
        [
         "0",
         "Adrian Quist",
         "2",
         "0",
         "0",
         "0",
         "0",
         "2",
         "1950"
        ],
        [
         "1",
         "Agnes Morton",
         "0",
         "0",
         "0",
         "1",
         "0",
         "1",
         "1914"
        ],
        [
         "2",
         "Agnes Tuckey",
         "0",
         "0",
         "1",
         "0",
         "0",
         "1",
         "1913"
        ],
        [
         "3",
         "Ai Sugiyama",
         "0",
         "0",
         "0",
         "1",
         "0",
         "1",
         "2003"
        ],
        [
         "4",
         "Alejandro Olmedo (Peru)",
         "0",
         "1",
         "0",
         "0",
         "0",
         "1",
         "1959"
        ],
        [
         "5",
         "Alex Mayer",
         "1",
         "0",
         "0",
         "0",
         "0",
         "1",
         "1975"
        ],
        [
         "6",
         "Alexander Peya",
         "0",
         "0",
         "1",
         "0",
         "0",
         "1",
         "2018"
        ],
        [
         "7",
         "Alice Marble",
         "0",
         "0",
         "1",
         "2",
         "0",
         "3",
         "1939"
        ],
        [
         "8",
         "Alice Marble (U.S.)",
         "0",
         "0",
         "0",
         "0",
         "1",
         "1",
         "1939"
        ],
        [
         "9",
         "Alice Marble(2)",
         "0",
         "0",
         "1",
         "0",
         "0",
         "1",
         "1938"
        ],
        [
         "10",
         "Alice Marble(3)",
         "0",
         "0",
         "1",
         "0",
         "0",
         "1",
         "1939"
        ],
        [
         "11",
         "Althea Gibson",
         "0",
         "0",
         "0",
         "3",
         "0",
         "3",
         "1958"
        ],
        [
         "12",
         "Althea Gibson (U.S.)",
         "0",
         "0",
         "0",
         "0",
         "2",
         "2",
         "1958"
        ],
        [
         "13",
         "Amelie Mauresmo (France)",
         "0",
         "0",
         "0",
         "0",
         "1",
         "1",
         "2006"
        ],
        [
         "14",
         "Anders Jarryd",
         "2",
         "0",
         "0",
         "0",
         "0",
         "2",
         "1991"
        ],
        [
         "15",
         "Andre Agassi (U.S.)",
         "0",
         "1",
         "0",
         "0",
         "0",
         "1",
         "1992"
        ],
        [
         "16",
         "Andy Murray (U.K.)",
         "0",
         "2",
         "0",
         "0",
         "0",
         "2",
         "2016"
        ],
        [
         "17",
         "Andy Ram",
         "0",
         "0",
         "1",
         "0",
         "0",
         "1",
         "2006"
        ],
        [
         "18",
         "Angela Buxton",
         "0",
         "0",
         "0",
         "1",
         "0",
         "1",
         "1956"
        ],
        [
         "19",
         "Angela Mortimer",
         "0",
         "0",
         "0",
         "1",
         "0",
         "1",
         "1955"
        ],
        [
         "20",
         "Angela Mortimer (U.K.)",
         "0",
         "0",
         "0",
         "0",
         "1",
         "1",
         "1961"
        ],
        [
         "21",
         "Angelique Kerber (Ger.)",
         "0",
         "0",
         "0",
         "0",
         "1",
         "1",
         "2018"
        ],
        [
         "22",
         "Ann Jones",
         "0",
         "0",
         "1",
         "0",
         "0",
         "1",
         "1969"
        ],
        [
         "23",
         "Ann Jones (U.K.)",
         "0",
         "0",
         "0",
         "0",
         "1",
         "1",
         "1969"
        ],
        [
         "24",
         "Ann Kiyomura",
         "0",
         "0",
         "0",
         "1",
         "0",
         "1",
         "1975"
        ],
        [
         "25",
         "Anna Harper",
         "0",
         "0",
         "1",
         "0",
         "0",
         "1",
         "1931"
        ],
        [
         "26",
         "Anna-Lena Grönefeld",
         "0",
         "0",
         "1",
         "0",
         "0",
         "1",
         "2009"
        ],
        [
         "27",
         "Anne Shilcock",
         "0",
         "0",
         "0",
         "1",
         "0",
         "1",
         "1955"
        ],
        [
         "28",
         "Anne Smith",
         "0",
         "0",
         "1",
         "1",
         "0",
         "2",
         "1982"
        ],
        [
         "29",
         "Antonio Palafox",
         "1",
         "0",
         "0",
         "0",
         "0",
         "1",
         "1963"
        ],
        [
         "30",
         "Arantxa Sánchez Vicario",
         "0",
         "0",
         "0",
         "1",
         "0",
         "1",
         "1995"
        ],
        [
         "31",
         "Arnaud Clément",
         "1",
         "0",
         "0",
         "0",
         "0",
         "1",
         "2007"
        ],
        [
         "32",
         "Arthur Ashe (U.S.)",
         "0",
         "1",
         "0",
         "0",
         "0",
         "1",
         "1975"
        ],
        [
         "33",
         "Arthur Gore",
         "1",
         "0",
         "0",
         "0",
         "0",
         "1",
         "1909"
        ],
        [
         "34",
         "Arthur Gore (U.K.)",
         "0",
         "3",
         "0",
         "0",
         "0",
         "3",
         "1909"
        ],
        [
         "35",
         "Ashleigh Barty (Austl.)",
         "0",
         "0",
         "0",
         "0",
         "1",
         "1",
         "2021"
        ],
        [
         "36",
         "Ashley Cooper (Austl.)",
         "0",
         "1",
         "0",
         "0",
         "0",
         "1",
         "1958"
        ],
        [
         "37",
         "Balazs Taroczy",
         "1",
         "0",
         "0",
         "0",
         "0",
         "1",
         "1985"
        ],
        [
         "38",
         "Barbora Krejcikova",
         "0",
         "0",
         "0",
         "2",
         "0",
         "2",
         "2022"
        ],
        [
         "39",
         "Barbora Strycova",
         "0",
         "0",
         "0",
         "2",
         "0",
         "2",
         "2023"
        ],
        [
         "40",
         "Betty Stove",
         "0",
         "0",
         "0",
         "1",
         "0",
         "1",
         "1972"
        ],
        [
         "41",
         "Betty Stöve",
         "0",
         "0",
         "1",
         "0",
         "0",
         "1",
         "1978"
        ],
        [
         "42",
         "Betty Stöve(2)",
         "0",
         "0",
         "1",
         "0",
         "0",
         "1",
         "1981"
        ],
        [
         "43",
         "Bill Johnston (U.S.)",
         "0",
         "1",
         "0",
         "0",
         "0",
         "1",
         "1923"
        ],
        [
         "44",
         "Bill Tilden",
         "1",
         "0",
         "0",
         "0",
         "0",
         "1",
         "1927"
        ],
        [
         "45",
         "Bill Tilden (U.S.)",
         "0",
         "3",
         "0",
         "0",
         "0",
         "3",
         "1930"
        ],
        [
         "46",
         "Billie Jean King",
         "0",
         "0",
         "1",
         "6",
         "0",
         "7",
         "1979"
        ],
        [
         "47",
         "Billie Jean King (U.S.)",
         "0",
         "0",
         "0",
         "0",
         "6",
         "6",
         "19683"
        ],
        [
         "48",
         "Billie Jean King(2)",
         "0",
         "0",
         "1",
         "0",
         "0",
         "1",
         "1971"
        ],
        [
         "49",
         "Billie Jean King(3)",
         "0",
         "0",
         "1",
         "0",
         "0",
         "1",
         "1973"
        ]
       ],
       "shape": {
        "columns": 8,
        "rows": 518
       }
      },
      "text/html": [
       "<div>\n",
       "<style scoped>\n",
       "    .dataframe tbody tr th:only-of-type {\n",
       "        vertical-align: middle;\n",
       "    }\n",
       "\n",
       "    .dataframe tbody tr th {\n",
       "        vertical-align: top;\n",
       "    }\n",
       "\n",
       "    .dataframe thead th {\n",
       "        text-align: right;\n",
       "    }\n",
       "</style>\n",
       "<table border=\"1\" class=\"dataframe\">\n",
       "  <thead>\n",
       "    <tr style=\"text-align: right;\">\n",
       "      <th></th>\n",
       "      <th>Champions</th>\n",
       "      <th>Men's Doubles</th>\n",
       "      <th>Men's Singles</th>\n",
       "      <th>Mixed Doubles</th>\n",
       "      <th>Women's Doubles</th>\n",
       "      <th>Women's Singles</th>\n",
       "      <th>Total Championships</th>\n",
       "      <th>Most Recent Win</th>\n",
       "    </tr>\n",
       "  </thead>\n",
       "  <tbody>\n",
       "    <tr>\n",
       "      <th>0</th>\n",
       "      <td>Adrian Quist</td>\n",
       "      <td>2</td>\n",
       "      <td>0</td>\n",
       "      <td>0</td>\n",
       "      <td>0</td>\n",
       "      <td>0</td>\n",
       "      <td>2</td>\n",
       "      <td>1950</td>\n",
       "    </tr>\n",
       "    <tr>\n",
       "      <th>1</th>\n",
       "      <td>Agnes Morton</td>\n",
       "      <td>0</td>\n",
       "      <td>0</td>\n",
       "      <td>0</td>\n",
       "      <td>1</td>\n",
       "      <td>0</td>\n",
       "      <td>1</td>\n",
       "      <td>1914</td>\n",
       "    </tr>\n",
       "    <tr>\n",
       "      <th>2</th>\n",
       "      <td>Agnes Tuckey</td>\n",
       "      <td>0</td>\n",
       "      <td>0</td>\n",
       "      <td>1</td>\n",
       "      <td>0</td>\n",
       "      <td>0</td>\n",
       "      <td>1</td>\n",
       "      <td>1913</td>\n",
       "    </tr>\n",
       "    <tr>\n",
       "      <th>3</th>\n",
       "      <td>Ai Sugiyama</td>\n",
       "      <td>0</td>\n",
       "      <td>0</td>\n",
       "      <td>0</td>\n",
       "      <td>1</td>\n",
       "      <td>0</td>\n",
       "      <td>1</td>\n",
       "      <td>2003</td>\n",
       "    </tr>\n",
       "    <tr>\n",
       "      <th>4</th>\n",
       "      <td>Alejandro Olmedo (Peru)</td>\n",
       "      <td>0</td>\n",
       "      <td>1</td>\n",
       "      <td>0</td>\n",
       "      <td>0</td>\n",
       "      <td>0</td>\n",
       "      <td>1</td>\n",
       "      <td>1959</td>\n",
       "    </tr>\n",
       "    <tr>\n",
       "      <th>...</th>\n",
       "      <td>...</td>\n",
       "      <td>...</td>\n",
       "      <td>...</td>\n",
       "      <td>...</td>\n",
       "      <td>...</td>\n",
       "      <td>...</td>\n",
       "      <td>...</td>\n",
       "      <td>...</td>\n",
       "    </tr>\n",
       "    <tr>\n",
       "      <th>513</th>\n",
       "      <td>Yvon Petra (France)</td>\n",
       "      <td>0</td>\n",
       "      <td>1</td>\n",
       "      <td>0</td>\n",
       "      <td>0</td>\n",
       "      <td>0</td>\n",
       "      <td>1</td>\n",
       "      <td>1946</td>\n",
       "    </tr>\n",
       "    <tr>\n",
       "      <th>514</th>\n",
       "      <td>Zi Yan</td>\n",
       "      <td>0</td>\n",
       "      <td>0</td>\n",
       "      <td>0</td>\n",
       "      <td>1</td>\n",
       "      <td>0</td>\n",
       "      <td>1</td>\n",
       "      <td>2006</td>\n",
       "    </tr>\n",
       "    <tr>\n",
       "      <th>515</th>\n",
       "      <td>Zina Garrison</td>\n",
       "      <td>0</td>\n",
       "      <td>0</td>\n",
       "      <td>1</td>\n",
       "      <td>0</td>\n",
       "      <td>0</td>\n",
       "      <td>1</td>\n",
       "      <td>1988</td>\n",
       "    </tr>\n",
       "    <tr>\n",
       "      <th>516</th>\n",
       "      <td>Zina Garrison(2)</td>\n",
       "      <td>0</td>\n",
       "      <td>0</td>\n",
       "      <td>1</td>\n",
       "      <td>0</td>\n",
       "      <td>0</td>\n",
       "      <td>1</td>\n",
       "      <td>1990</td>\n",
       "    </tr>\n",
       "    <tr>\n",
       "      <th>517</th>\n",
       "      <td>Ándre Gobert</td>\n",
       "      <td>1</td>\n",
       "      <td>0</td>\n",
       "      <td>0</td>\n",
       "      <td>0</td>\n",
       "      <td>0</td>\n",
       "      <td>1</td>\n",
       "      <td>1911</td>\n",
       "    </tr>\n",
       "  </tbody>\n",
       "</table>\n",
       "<p>518 rows × 8 columns</p>\n",
       "</div>"
      ],
      "text/plain": [
       "                   Champions  Men's Doubles  Men's Singles  Mixed Doubles  \\\n",
       "0               Adrian Quist              2              0              0   \n",
       "1               Agnes Morton              0              0              0   \n",
       "2               Agnes Tuckey              0              0              1   \n",
       "3                Ai Sugiyama              0              0              0   \n",
       "4    Alejandro Olmedo (Peru)              0              1              0   \n",
       "..                       ...            ...            ...            ...   \n",
       "513      Yvon Petra (France)              0              1              0   \n",
       "514                   Zi Yan              0              0              0   \n",
       "515            Zina Garrison              0              0              1   \n",
       "516         Zina Garrison(2)              0              0              1   \n",
       "517             Ándre Gobert              1              0              0   \n",
       "\n",
       "     Women's Doubles  Women's Singles  Total Championships  Most Recent Win  \n",
       "0                  0                0                    2             1950  \n",
       "1                  1                0                    1             1914  \n",
       "2                  0                0                    1             1913  \n",
       "3                  1                0                    1             2003  \n",
       "4                  0                0                    1             1959  \n",
       "..               ...              ...                  ...              ...  \n",
       "513                0                0                    1             1946  \n",
       "514                1                0                    1             2006  \n",
       "515                0                0                    1             1988  \n",
       "516                0                0                    1             1990  \n",
       "517                0                0                    1             1911  \n",
       "\n",
       "[518 rows x 8 columns]"
      ]
     },
     "execution_count": 141,
     "metadata": {},
     "output_type": "execute_result"
    }
   ],
   "source": [
    "# Merge championship_counts with most_recent_win on the 'Champions' column\n",
    "championship_summary = championship_counts.merge(most_recent_win, on='Champions')\n",
    "\n",
    "# Display the merged DataFrame\n",
    "output = championship_summary\n",
    "output"
   ]
  }
 ],
 "metadata": {
  "kernelspec": {
   "display_name": "Python 3",
   "language": "python",
   "name": "python3"
  },
  "language_info": {
   "codemirror_mode": {
    "name": "ipython",
    "version": 3
   },
   "file_extension": ".py",
   "mimetype": "text/x-python",
   "name": "python",
   "nbconvert_exporter": "python",
   "pygments_lexer": "ipython3",
   "version": "3.13.1"
  }
 },
 "nbformat": 4,
 "nbformat_minor": 2
}

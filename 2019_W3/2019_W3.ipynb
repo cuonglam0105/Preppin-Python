{
 "cells": [
  {
   "cell_type": "markdown",
   "metadata": {},
   "source": [
    "This week we are going to step up the challenge a little. If you are going to blame anyone then it's only yourselves for doing such a great job so far on solving our challenges!\n",
    "\n",
    "This week's inspiration comes from Bethany Lyons, a Tableau Product Manager. Bethany's sessions at the conference are phenomenal each year and always tackle some pretty chunky issues. Her session at the Tableau Conference in 2017 was on how to handle data on subscriptions. If you've never come across this challenge (lucky you) then you are about to experience why this is an issue.\n",
    "\n",
    "Scenario:\n",
    "You work for a mobile / cell phone company. You boss asks you to pull together the revenue report of your current batch of contracts (sadly there are only four contracts!). They need to know how much revenue is generated each month from these contracts whilst they are 'live' (ie from their start date until 'x' months in the future when the contract runs out).\n",
    "\n",
    "<img src=\"https://1.bp.blogspot.com/-gWw4Abb0C24/XHVdQMJ8PtI/AAAAAAAAAJE/91EnUmXH8wIhap5AYHcq_ZkqfehErkfuACLcBGAs/s320/Week%2BThree%2BDesktop%2Bimage.JPG\" alt=\"Alternative text\" />\n",
    "\n",
    " \n",
    " The aim of the week is to be able to create a chart like this but with all the data prep work done in Tableau Prep Builder. If you think that is simple - here's the input data:\n",
    "\n",
    "<img src=\"https://2.bp.blogspot.com/-milRFHDSSBs/XHVe05GRvNI/AAAAAAAAAJQ/6Du1q6B_jS0SlQeR8rf7r2QtHvG6SXMsQCLcBGAs/s320/Week%2BThree%2BInput.JPG\" alt=\"Alternative text\" />\n",
    "\n",
    "Requirements for this week:\n",
    "\n",
    "- Import the file\n",
    "- Make sure you use both sheets\n",
    "- Use one sheet to help you create a row of data for each month the person's contract is 'live' for\n",
    "- Remove unnecessary fields of data\n",
    "\n",
    "<img src=\"https://1.bp.blogspot.com/-Xi0HhGpPslg/XHVf2-IGTdI/AAAAAAAAAJY/ZXba9pIKYl8-DQxNR2dYrxYR9fjbwRx3QCEwYBhgL/s320/Week%2BThree%2Bdata%2Boutput.JPG\" alt=\"Alternative text\" />\n",
    "\n",
    "Your output file should:\n",
    "- Have five columns\n",
    "- Have fifty-five rows of data (including the headers)\n",
    "- Be at the person, per month level of detail\n",
    "- Have no cells without a value\n"
   ]
  },
  {
   "cell_type": "code",
   "execution_count": 92,
   "metadata": {},
   "outputs": [],
   "source": [
    "import pandas as pd\n",
    "pd.options.mode.chained_assignment = None  # default='warn'\n"
   ]
  },
  {
   "cell_type": "code",
   "execution_count": 93,
   "metadata": {},
   "outputs": [
    {
     "name": "stdout",
     "output_type": "stream",
     "text": [
      "       Name  Monthly Cost  Contract Length (months) Start Date\n",
      "0      Carl          20.0                      24.0 2018-12-13\n",
      "1  Jonathan          15.0                       6.0 2019-02-22\n",
      "2      Andy          45.0                      12.0 2018-10-17\n",
      "3    Sophie          30.0                      12.0 2018-11-19\n"
     ]
    }
   ],
   "source": [
    "source = r'C:\\Users\\Raguna\\Documents\\Python\\Preppin Python\\2019_W3\\Preppin’ Data - Week Three.xlsx'\n",
    "table1 = pd.read_excel(source,sheet_name='Contract Details',usecols=[1,2,3,4])\n",
    "print(table1)"
   ]
  },
  {
   "cell_type": "code",
   "execution_count": 94,
   "metadata": {},
   "outputs": [
    {
     "name": "stdout",
     "output_type": "stream",
     "text": [
      "    Length\n",
      "0      1.0\n",
      "1      2.0\n",
      "2      3.0\n",
      "3      4.0\n",
      "4      5.0\n",
      "5      6.0\n",
      "6      7.0\n",
      "7      8.0\n",
      "8      9.0\n",
      "9     10.0\n",
      "10    11.0\n",
      "11    12.0\n",
      "12    13.0\n",
      "13    14.0\n",
      "14    15.0\n",
      "15    16.0\n",
      "16    17.0\n",
      "17    18.0\n",
      "18    19.0\n",
      "19    20.0\n",
      "20    21.0\n",
      "21    22.0\n",
      "22    23.0\n",
      "23    24.0\n"
     ]
    }
   ],
   "source": [
    "table2 = pd.read_excel(source,sheet_name='Scaffold')\n",
    "print(table2)"
   ]
  },
  {
   "cell_type": "markdown",
   "metadata": {},
   "source": [
    "Tạo bảng kết quả"
   ]
  },
  {
   "cell_type": "code",
   "execution_count": 95,
   "metadata": {},
   "outputs": [],
   "source": [
    "modified_table = table1.copy()\n",
    "modified_table['Payment Date'] = table1['Start Date']"
   ]
  },
  {
   "cell_type": "markdown",
   "metadata": {},
   "source": [
    "Tạo vòng lặp, lặp mỗi người theo số Length"
   ]
  },
  {
   "cell_type": "code",
   "execution_count": 96,
   "metadata": {},
   "outputs": [
    {
     "name": "stdout",
     "output_type": "stream",
     "text": [
      "    index      Name  Monthly Cost  Contract Length (months) Start Date  \\\n",
      "0       0      Carl          20.0                      24.0 2018-12-13   \n",
      "1       1  Jonathan          15.0                       6.0 2019-02-22   \n",
      "2       2      Andy          45.0                      12.0 2018-10-17   \n",
      "3       3    Sophie          30.0                      12.0 2018-11-19   \n",
      "4       0      Carl          20.0                      24.0 2018-12-13   \n",
      "5       0      Carl          20.0                      24.0 2018-12-13   \n",
      "6       0      Carl          20.0                      24.0 2018-12-13   \n",
      "7       0      Carl          20.0                      24.0 2018-12-13   \n",
      "8       0      Carl          20.0                      24.0 2018-12-13   \n",
      "9       0      Carl          20.0                      24.0 2018-12-13   \n",
      "10      0      Carl          20.0                      24.0 2018-12-13   \n",
      "11      0      Carl          20.0                      24.0 2018-12-13   \n",
      "12      0      Carl          20.0                      24.0 2018-12-13   \n",
      "13      0      Carl          20.0                      24.0 2018-12-13   \n",
      "14      0      Carl          20.0                      24.0 2018-12-13   \n",
      "15      0      Carl          20.0                      24.0 2018-12-13   \n",
      "16      0      Carl          20.0                      24.0 2018-12-13   \n",
      "17      0      Carl          20.0                      24.0 2018-12-13   \n",
      "18      0      Carl          20.0                      24.0 2018-12-13   \n",
      "19      0      Carl          20.0                      24.0 2018-12-13   \n",
      "20      0      Carl          20.0                      24.0 2018-12-13   \n",
      "21      0      Carl          20.0                      24.0 2018-12-13   \n",
      "22      0      Carl          20.0                      24.0 2018-12-13   \n",
      "23      0      Carl          20.0                      24.0 2018-12-13   \n",
      "24      0      Carl          20.0                      24.0 2018-12-13   \n",
      "25      0      Carl          20.0                      24.0 2018-12-13   \n",
      "26      0      Carl          20.0                      24.0 2018-12-13   \n",
      "27      1  Jonathan          15.0                       6.0 2019-02-22   \n",
      "28      1  Jonathan          15.0                       6.0 2019-02-22   \n",
      "29      1  Jonathan          15.0                       6.0 2019-02-22   \n",
      "30      1  Jonathan          15.0                       6.0 2019-02-22   \n",
      "31      1  Jonathan          15.0                       6.0 2019-02-22   \n",
      "32      2      Andy          45.0                      12.0 2018-10-17   \n",
      "33      2      Andy          45.0                      12.0 2018-10-17   \n",
      "34      2      Andy          45.0                      12.0 2018-10-17   \n",
      "35      2      Andy          45.0                      12.0 2018-10-17   \n",
      "36      2      Andy          45.0                      12.0 2018-10-17   \n",
      "37      2      Andy          45.0                      12.0 2018-10-17   \n",
      "38      2      Andy          45.0                      12.0 2018-10-17   \n",
      "39      2      Andy          45.0                      12.0 2018-10-17   \n",
      "40      2      Andy          45.0                      12.0 2018-10-17   \n",
      "41      2      Andy          45.0                      12.0 2018-10-17   \n",
      "42      2      Andy          45.0                      12.0 2018-10-17   \n",
      "43      3    Sophie          30.0                      12.0 2018-11-19   \n",
      "44      3    Sophie          30.0                      12.0 2018-11-19   \n",
      "45      3    Sophie          30.0                      12.0 2018-11-19   \n",
      "46      3    Sophie          30.0                      12.0 2018-11-19   \n",
      "47      3    Sophie          30.0                      12.0 2018-11-19   \n",
      "48      3    Sophie          30.0                      12.0 2018-11-19   \n",
      "49      3    Sophie          30.0                      12.0 2018-11-19   \n",
      "50      3    Sophie          30.0                      12.0 2018-11-19   \n",
      "51      3    Sophie          30.0                      12.0 2018-11-19   \n",
      "52      3    Sophie          30.0                      12.0 2018-11-19   \n",
      "53      3    Sophie          30.0                      12.0 2018-11-19   \n",
      "\n",
      "   Payment Date  \n",
      "0    2018-12-13  \n",
      "1    2019-02-22  \n",
      "2    2018-10-17  \n",
      "3    2018-11-19  \n",
      "4    2019-01-13  \n",
      "5    2019-02-13  \n",
      "6    2019-03-13  \n",
      "7    2019-04-13  \n",
      "8    2019-05-13  \n",
      "9    2019-06-13  \n",
      "10   2019-07-13  \n",
      "11   2019-08-13  \n",
      "12   2019-09-13  \n",
      "13   2019-10-13  \n",
      "14   2019-11-13  \n",
      "15   2019-12-13  \n",
      "16   2020-01-13  \n",
      "17   2020-02-13  \n",
      "18   2020-03-13  \n",
      "19   2020-04-13  \n",
      "20   2020-05-13  \n",
      "21   2020-06-13  \n",
      "22   2020-07-13  \n",
      "23   2020-08-13  \n",
      "24   2020-09-13  \n",
      "25   2020-10-13  \n",
      "26   2020-11-13  \n",
      "27   2019-03-22  \n",
      "28   2019-04-22  \n",
      "29   2019-05-22  \n",
      "30   2019-06-22  \n",
      "31   2019-07-22  \n",
      "32   2018-11-17  \n",
      "33   2018-12-17  \n",
      "34   2019-01-17  \n",
      "35   2019-02-17  \n",
      "36   2019-03-17  \n",
      "37   2019-04-17  \n",
      "38   2019-05-17  \n",
      "39   2019-06-17  \n",
      "40   2019-07-17  \n",
      "41   2019-08-17  \n",
      "42   2019-09-17  \n",
      "43   2018-12-19  \n",
      "44   2019-01-19  \n",
      "45   2019-02-19  \n",
      "46   2019-03-19  \n",
      "47   2019-04-19  \n",
      "48   2019-05-19  \n",
      "49   2019-06-19  \n",
      "50   2019-07-19  \n",
      "51   2019-08-19  \n",
      "52   2019-09-19  \n",
      "53   2019-10-19  \n"
     ]
    }
   ],
   "source": [
    "for na in table1['Name']:\n",
    "    length = table1[table1['Name'] == na]['Contract Length (months)']\n",
    "    temp_table = table1[table1['Name'] == na]\n",
    "    for i in range(1,int(length)):\n",
    "        temp_table['Payment Date'] = temp_table.iloc[0,3] + pd.DateOffset(months=i)\n",
    "        modified_table = pd.concat([modified_table, temp_table])\n",
    "print(modified_table.reset_index())\n"
   ]
  },
  {
   "cell_type": "markdown",
   "metadata": {},
   "source": [
    "Xuất kết quả"
   ]
  },
  {
   "cell_type": "code",
   "execution_count": 97,
   "metadata": {},
   "outputs": [],
   "source": [
    "with pd.ExcelWriter('Output.xlsx',mode='w') as write:\n",
    "    modified_table.to_excel(write, index=False)"
   ]
  }
 ],
 "metadata": {
  "kernelspec": {
   "display_name": "Python 3.10.0 64-bit",
   "language": "python",
   "name": "python3"
  },
  "language_info": {
   "codemirror_mode": {
    "name": "ipython",
    "version": 3
   },
   "file_extension": ".py",
   "mimetype": "text/x-python",
   "name": "python",
   "nbconvert_exporter": "python",
   "pygments_lexer": "ipython3",
   "version": "3.10.0"
  },
  "orig_nbformat": 4,
  "vscode": {
   "interpreter": {
    "hash": "c3cedd81013b3798254e530f0d04430997cc2a4c554aece6737b52869c4f2a57"
   }
  }
 },
 "nbformat": 4,
 "nbformat_minor": 2
}

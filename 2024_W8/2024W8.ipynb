{
 "cells": [
  {
   "cell_type": "markdown",
   "metadata": {},
   "source": [
    "# 2024: Week 8 - Prep Air Loyalty\n",
    "\n",
    "February 21, 2024\n",
    "\n",
    "Challenge by: Jenny Martin\n",
    "\n",
    "For this week's challenge, Prep Air have asked for some What If? Analysis. They're considering 2 different systems for rewarding customer loyalty and want to understand how that might impact cost and how many customers might benefit from the program.\n",
    "\n",
    "### Inputs\n",
    "\n",
    "Prep Air Customer Details - the team were able to add additional information to Week 5's input \n",
    "\n",
    "![1](https://blogger.googleusercontent.com/img/b/R29vZ2xl/AVvXsEh7qIdHx6wwl1vOXbjtyGuCvhJ-eO8aV_lXwJM4NR4ZFs6zB2r1wwaBTUm9hy3p4YEXhousOm-ofHesOJKBJCngC2wWXszVqKQEEbTcYU4q1v05fBoduJgbkVMnVjgtBkKR2KdT-6WW4mnE2kE-F5BlkE9k9AV_MXO3YuNGp7vlvlKBqnJ0Xfwn6EtLhfRP/s1591/Screenshot%202024-02-05%20111445.png)\n",
    "\n",
    "Prep Air Loyalty schemes \n",
    "\n",
    "![2](https://blogger.googleusercontent.com/img/b/R29vZ2xl/AVvXsEiwfG921e6k7TR3S92rjpjOnQ_pSQjVx62GJvZJJo9JhlMiDgMNmZGGwTfAmpwH6In6GoYwOGzw4KWtQp6ovP9kFhlvZCJMdHi0HbX_C8LwB7XEjuWK2VclpPxQ72G6FxiQlg_lQryVPakJuB_AT7xZ_irHCYmXNDgskHQyhsXrBvGwHsrsD1rsL4HtF0fn/s1576/Screenshot%202024-02-05%20111616.png)\n",
    "\n",
    "Prep Air Loyalty Costings \n",
    "\n",
    "![3](https://blogger.googleusercontent.com/img/b/R29vZ2xl/AVvXsEiDvUP2hSwttjgrrXE0JUudTDBD2jzZJNQrjGxDLDz3tAyv2OkUmKXK5YVcZHN44WWQlkOdFk0WV0WnKohR_jrkX_mEGcW_djyS1UYVqX_TE9qh9BgR7m2rnOyvKJSAYPmutN7355oJGMsfPRROBw-WLFVaIKos8LiTe9sLKqVupprPUlsvsVcTzCFA8Vru/s646/Screenshot%202024-02-05%20111703.png)\n",
    "\n",
    "### Requirements\n",
    "- Input the data\n",
    "- To be part of either Prep Air Loyalty Scheme, Customers must have flown in the last year (on or after 21st February 2023)\n",
    "- Create a parameter so that the number of flights a customer has taken is either bucketed into groups of 5 or groups to 10\n",
    "- e.g. if the parameter selected is 5, the groupings will be 1-4, 5-9 etc\n",
    "- if the parameter selected is 10, the groupings will be 1-9, 10-19 etc\n",
    "- Create a field to categorize customers based on the selected parameter, called Tier\n",
    "- Estimate the average number of flights a customer takes per year \n",
    "- Filter the Prep Air Loyalty dataset to the selected parameter value\n",
    "- Join the Prep Air Loyalty to the Customer dataset in a way that each customer also experiences the benefits of lower Tiers\n",
    "- e.g. a Tier 2 customer gets all the benefits of Tier 0, Tier 1 and Tier 2 \n",
    "-  Split out the Benefits and make sure that each Benefit has its own row\n",
    "- Join on the Costing dataset\n",
    "- Calculate the Yearly Cost of each Benefit\n",
    "- e.g. if the Benefit Cost is per flight then make sure to multiply it by the Avg Number of Flights that customer takes in a year\n",
    "- Total up the Yearly Cost for each Tier and count the Number of Customers in Each Tier\n",
    "- Output the data\n",
    "\n",
    "### Outputs\n",
    "\n",
    "##### 5 Tier Grouping Output\n",
    "\n",
    "![4](https://blogger.googleusercontent.com/img/b/R29vZ2xl/AVvXsEje2QFruJFWJbnRCaaWPFka_gkxV7y5HUx9VPmYvDHyGUFXXUL87S3hSR7w03j04nogwiGWaoCgMOzmACeaABZ0Z_d5qLpeNI0VTcIFAYI3plYTlN03h3JW2u8zyjsgT8-Nlgp90FT3JTgacFp0_USfVD3NA0SgieUZSrhHjwKBNmvLazRgbmQxGoLOfLf0/s396/Screenshot%202024-02-05%20111821.png)\n",
    "\n",
    "- 3 fields\n",
    "- Tier\n",
    "- Year Cost\n",
    "- Number of Customers\n",
    "- 6 rows\n",
    "\n",
    "##### 10 Tier Grouping Output\n",
    "\n",
    "![5](https://blogger.googleusercontent.com/img/b/R29vZ2xl/AVvXsEiCCRa8dE5FML6JP3E6ArTVLSvwNcnlHW_WZqHp7e2fQ63n5FabogQhnuz4wVrWMwP_rJRUvLd-Rm4vA4FsXPO8IfzokGIQO72J6HUfHtaefnc1B8xRLNMJE-83d4sHMHPVcVfCJkezBbLebCdQv2U3BRZZBYigfaWR0DgJf2MlAa30KvvAFQzHeJWrHrlj/s397/Screenshot%202024-02-05%20111859.png)\n",
    "\n",
    "- 3 fields\n",
    "- Tier\n",
    "- Year Cost\n",
    "- Number of Customers\n",
    "- 3 rows"
   ]
  },
  {
   "cell_type": "code",
   "execution_count": 1,
   "metadata": {},
   "outputs": [
    {
     "name": "stdout",
     "output_type": "stream",
     "text": [
      "['Prep Air Loyalty', 'Costings']\n"
     ]
    }
   ],
   "source": [
    "import pandas as pd\n",
    "\n",
    "# Read the Excel file\n",
    "excel_file = pd.ExcelFile('Prep air Loyalty.xlsx')\n",
    "\n",
    "# List all sheet names\n",
    "sheet_names = excel_file.sheet_names\n",
    "print(sheet_names)"
   ]
  },
  {
   "cell_type": "code",
   "execution_count": 2,
   "metadata": {},
   "outputs": [
    {
     "name": "stdout",
     "output_type": "stream",
     "text": [
      "   Tier Grouping Number of Flights    Tier                      Benefits\n",
      "0              5               1-4  Tier 0                           NaN\n",
      "1              5               5-9  Tier 1          Early Seat Selection\n",
      "2              5             10-14  Tier 2           Free Seat Selection\n",
      "3              5             15-19  Tier 3  Priority Bag Drop & Boarding\n",
      "4              5             20-24  Tier 4        First Checked Bag Free\n"
     ]
    }
   ],
   "source": [
    "df1 = pd.read_excel(excel_file, sheet_name='Prep Air Loyalty')\n",
    "print(df1.head())"
   ]
  },
  {
   "cell_type": "code",
   "execution_count": 3,
   "metadata": {},
   "outputs": [
    {
     "name": "stdout",
     "output_type": "stream",
     "text": [
      "   Tier Grouping Number of Flights    Tier                      Benefits\n",
      "0              5               1-4  Tier 0                           NaN\n",
      "1              5               5-9  Tier 1          Early Seat Selection\n",
      "2              5             10-14  Tier 2           Free Seat Selection\n",
      "3              5             15-19  Tier 3  Priority Bag Drop & Boarding\n",
      "4              5             20-24  Tier 4        First Checked Bag Free\n"
     ]
    }
   ],
   "source": [
    "df1 = pd.read_excel(excel_file, sheet_name='Prep Air Loyalty')\n",
    "print(df1.head())"
   ]
  },
  {
   "cell_type": "code",
   "execution_count": 4,
   "metadata": {},
   "outputs": [
    {
     "name": "stdout",
     "output_type": "stream",
     "text": [
      "                        Benefit            Cost\n",
      "0          Early Seat Selection               0\n",
      "1           Free Seat Selection  £15 per flight\n",
      "2        First Checked Bag Free  £35 per flight\n",
      "3  Priority Bag Drop & Boarding               0\n",
      "4     First Class Lounge Access  £50 per flight\n"
     ]
    }
   ],
   "source": [
    "df2 = pd.read_excel(excel_file, sheet_name='Costings')\n",
    "print(df2.head())"
   ]
  },
  {
   "cell_type": "code",
   "execution_count": 5,
   "metadata": {},
   "outputs": [
    {
     "name": "stdout",
     "output_type": "stream",
     "text": [
      "   Customer ID first_name last_name                      email  gender  \\\n",
      "0            1     Denyse    Gebuhr       dgebuhr0@vinaora.com  Female   \n",
      "1            2      Keene  Devennie     kdevennie1@plala.or.jp    Male   \n",
      "2            3      Tyler   McGrail          tmcgrail2@nyu.edu    Male   \n",
      "3            4      Drusi    Ibeson     dibeson3@hostgator.com  Female   \n",
      "4            5   Stanwood  Seacroft  sseacroft4@wikispaces.com    Male   \n",
      "\n",
      "  First Flight Last Date Flown  Number of Flights  \n",
      "0   2023-01-05      2023-01-05                  1  \n",
      "1   2023-10-05      2023-10-05                  1  \n",
      "2   2022-07-18      2023-11-09                 27  \n",
      "3   2022-05-28      2023-11-22                 32  \n",
      "4   2022-08-19      2023-12-23                  5  \n"
     ]
    }
   ],
   "source": [
    "df3 = pd.read_csv('Prep Air Updated Customers.csv')\n",
    "print(df3.head())"
   ]
  },
  {
   "cell_type": "code",
   "execution_count": 6,
   "metadata": {},
   "outputs": [
    {
     "name": "stdout",
     "output_type": "stream",
     "text": [
      "   Customer ID first_name last_name                      email   gender  \\\n",
      "1            2      Keene  Devennie     kdevennie1@plala.or.jp     Male   \n",
      "2            3      Tyler   McGrail          tmcgrail2@nyu.edu     Male   \n",
      "3            4      Drusi    Ibeson     dibeson3@hostgator.com   Female   \n",
      "4            5   Stanwood  Seacroft  sseacroft4@wikispaces.com     Male   \n",
      "5            6     Kelcey     McCaw            kmccaw5@mlb.com  Agender   \n",
      "\n",
      "  First Flight Last Date Flown  Number of Flights  \n",
      "1   2023-10-05      2023-10-05                  1  \n",
      "2   2022-07-18      2023-11-09                 27  \n",
      "3   2022-05-28      2023-11-22                 32  \n",
      "4   2022-08-19      2023-12-23                  5  \n",
      "5   2023-02-28      2023-02-28                  1  \n"
     ]
    }
   ],
   "source": [
    "df3['Last Date Flown'] = pd.to_datetime(df3['Last Date Flown'])\n",
    "df3_filtered = df3[df3['Last Date Flown'] >= '2023-02-21']\n",
    "print(df3_filtered.head())"
   ]
  },
  {
   "cell_type": "code",
   "execution_count": 7,
   "metadata": {},
   "outputs": [],
   "source": [
    "# Set x, y values as parameter\n",
    "x = 5\n",
    "y = 10"
   ]
  },
  {
   "cell_type": "code",
   "execution_count": 8,
   "metadata": {},
   "outputs": [
    {
     "name": "stdout",
     "output_type": "stream",
     "text": [
      "   Customer ID first_name last_name                      email   gender  \\\n",
      "1            2      Keene  Devennie     kdevennie1@plala.or.jp     Male   \n",
      "2            3      Tyler   McGrail          tmcgrail2@nyu.edu     Male   \n",
      "3            4      Drusi    Ibeson     dibeson3@hostgator.com   Female   \n",
      "4            5   Stanwood  Seacroft  sseacroft4@wikispaces.com     Male   \n",
      "5            6     Kelcey     McCaw            kmccaw5@mlb.com  Agender   \n",
      "\n",
      "  First Flight Last Date Flown  Number of Flights Flight Category 5  \n",
      "1   2023-10-05      2023-10-05                  1               1-4  \n",
      "2   2022-07-18      2023-11-09                 27             25-29  \n",
      "3   2022-05-28      2023-11-22                 32               30+  \n",
      "4   2022-08-19      2023-12-23                  5               5-9  \n",
      "5   2023-02-28      2023-02-28                  1               1-4  \n"
     ]
    },
    {
     "name": "stderr",
     "output_type": "stream",
     "text": [
      "C:\\Users\\Raguna\\AppData\\Local\\Temp\\ipykernel_15976\\2795982560.py:20: SettingWithCopyWarning: \n",
      "A value is trying to be set on a copy of a slice from a DataFrame.\n",
      "Try using .loc[row_indexer,col_indexer] = value instead\n",
      "\n",
      "See the caveats in the documentation: https://pandas.pydata.org/pandas-docs/stable/user_guide/indexing.html#returning-a-view-versus-a-copy\n",
      "  df3_filtered['Flight Category 5'] = df3_filtered['Number of Flights'].apply(categorize_flights)\n"
     ]
    }
   ],
   "source": [
    "# Define a function to categorize the number of flights into groups of 5\n",
    "def categorize_flights(num_flights):\n",
    "    if num_flights < 5:\n",
    "        return '1-4'\n",
    "    elif num_flights < 10:\n",
    "        return '5-9'\n",
    "    elif num_flights < 15:\n",
    "        return '10-14'\n",
    "    elif num_flights < 20:\n",
    "        return '15-19'\n",
    "    elif num_flights < 25:\n",
    "        return '20-24'\n",
    "    elif num_flights < 30:\n",
    "        return '25-29'\n",
    "    else:\n",
    "        return '30+'\n",
    "\n",
    "\n",
    "# Apply the function to the dataframe\n",
    "df3_filtered['Flight Category 5'] = df3_filtered['Number of Flights'].apply(categorize_flights)\n",
    "print(df3_filtered.head())"
   ]
  },
  {
   "cell_type": "code",
   "execution_count": 9,
   "metadata": {},
   "outputs": [
    {
     "name": "stdout",
     "output_type": "stream",
     "text": [
      "   Customer ID first_name last_name                      email   gender  \\\n",
      "0            2      Keene  Devennie     kdevennie1@plala.or.jp     Male   \n",
      "1            3      Tyler   McGrail          tmcgrail2@nyu.edu     Male   \n",
      "2            4      Drusi    Ibeson     dibeson3@hostgator.com   Female   \n",
      "3            5   Stanwood  Seacroft  sseacroft4@wikispaces.com     Male   \n",
      "4            6     Kelcey     McCaw            kmccaw5@mlb.com  Agender   \n",
      "\n",
      "  First Flight Last Date Flown Flight Category 5  Tier Grouping    Tier  \\\n",
      "0   2023-10-05      2023-10-05               1-4              5  Tier 0   \n",
      "1   2022-07-18      2023-11-09             25-29              5  Tier 5   \n",
      "2   2022-05-28      2023-11-22               30+              5  Tier 6   \n",
      "3   2022-08-19      2023-12-23               5-9              5  Tier 1   \n",
      "4   2023-02-28      2023-02-28               1-4              5  Tier 0   \n",
      "\n",
      "                                            Benefits  \n",
      "0                                                NaN  \n",
      "1                          First Class Lounge Access  \n",
      "2  First Class Lounge Access for 1 Guest, , £250 ...  \n",
      "3                               Early Seat Selection  \n",
      "4                                                NaN  \n"
     ]
    }
   ],
   "source": [
    "# Filter df1 to keep only the tier grouping of 5\n",
    "df1_filtered = df1[df1['Tier Grouping'] == 5]\n",
    "\n",
    "# Merge df1_filtered with df3_filtered to identify customers' tier and benefits\n",
    "df_merged_5 = pd.merge(df3_filtered, df1_filtered, left_on='Flight Category 5', right_on='Number of Flights', how='left')\n",
    "df_merged_5.drop(columns=['Number of Flights_y', 'Number of Flights_x'], inplace=True)\n",
    "\n",
    "print(df_merged_5.head())"
   ]
  },
  {
   "cell_type": "code",
   "execution_count": 10,
   "metadata": {},
   "outputs": [
    {
     "name": "stdout",
     "output_type": "stream",
     "text": [
      "   Customer ID first_name last_name                      email   gender  \\\n",
      "1            2      Keene  Devennie     kdevennie1@plala.or.jp     Male   \n",
      "2            3      Tyler   McGrail          tmcgrail2@nyu.edu     Male   \n",
      "3            4      Drusi    Ibeson     dibeson3@hostgator.com   Female   \n",
      "4            5   Stanwood  Seacroft  sseacroft4@wikispaces.com     Male   \n",
      "5            6     Kelcey     McCaw            kmccaw5@mlb.com  Agender   \n",
      "\n",
      "  First Flight Last Date Flown  Number of Flights Flight Category 5  \\\n",
      "1   2023-10-05      2023-10-05                  1               1-4   \n",
      "2   2022-07-18      2023-11-09                 27             25-29   \n",
      "3   2022-05-28      2023-11-22                 32               30+   \n",
      "4   2022-08-19      2023-12-23                  5               5-9   \n",
      "5   2023-02-28      2023-02-28                  1               1-4   \n",
      "\n",
      "  Flight Category 10  \n",
      "1                1-9  \n",
      "2              20-29  \n",
      "3                30+  \n",
      "4                1-9  \n",
      "5                1-9  \n"
     ]
    },
    {
     "name": "stderr",
     "output_type": "stream",
     "text": [
      "C:\\Users\\Raguna\\AppData\\Local\\Temp\\ipykernel_15976\\4010595507.py:13: SettingWithCopyWarning: \n",
      "A value is trying to be set on a copy of a slice from a DataFrame.\n",
      "Try using .loc[row_indexer,col_indexer] = value instead\n",
      "\n",
      "See the caveats in the documentation: https://pandas.pydata.org/pandas-docs/stable/user_guide/indexing.html#returning-a-view-versus-a-copy\n",
      "  df3_filtered['Flight Category 10'] = df3_filtered['Number of Flights'].apply(categorize_flights_10)\n"
     ]
    }
   ],
   "source": [
    "# Define a function to categorize the number of flights into groups of 10\n",
    "def categorize_flights_10(num_flights):\n",
    "    if num_flights < 10:\n",
    "        return '1-9'\n",
    "    elif num_flights < 20:\n",
    "        return '10-19'\n",
    "    elif num_flights < 30:\n",
    "        return '20-29'\n",
    "    else:\n",
    "        return '30+'\n",
    "\n",
    "# Apply the function to the dataframe\n",
    "df3_filtered['Flight Category 10'] = df3_filtered['Number of Flights'].apply(categorize_flights_10)\n",
    "print(df3_filtered.head())"
   ]
  },
  {
   "cell_type": "code",
   "execution_count": 11,
   "metadata": {},
   "outputs": [
    {
     "name": "stdout",
     "output_type": "stream",
     "text": [
      "   Customer ID first_name last_name                      email   gender  \\\n",
      "0            2      Keene  Devennie     kdevennie1@plala.or.jp     Male   \n",
      "1            3      Tyler   McGrail          tmcgrail2@nyu.edu     Male   \n",
      "2            4      Drusi    Ibeson     dibeson3@hostgator.com   Female   \n",
      "3            5   Stanwood  Seacroft  sseacroft4@wikispaces.com     Male   \n",
      "4            6     Kelcey     McCaw            kmccaw5@mlb.com  Agender   \n",
      "\n",
      "  First Flight Last Date Flown Flight Category 5 Flight Category 10  \\\n",
      "0   2023-10-05      2023-10-05               1-4                1-9   \n",
      "1   2022-07-18      2023-11-09             25-29              20-29   \n",
      "2   2022-05-28      2023-11-22               30+                30+   \n",
      "3   2022-08-19      2023-12-23               5-9                1-9   \n",
      "4   2023-02-28      2023-02-28               1-4                1-9   \n",
      "\n",
      "   Tier Grouping    Tier                                           Benefits  \n",
      "0             10  Tier 0                                                NaN  \n",
      "1             10  Tier 2  First Checked Bag Free, Priority Bag Drop & Bo...  \n",
      "2             10  Tier 3  First Class Lounge Access, First Class Lounge ...  \n",
      "3             10  Tier 0                                                NaN  \n",
      "4             10  Tier 0                                                NaN  \n"
     ]
    }
   ],
   "source": [
    "# Filter df1 to keep only the tier grouping of 10\n",
    "df1_filtered = df1[df1['Tier Grouping'] == 10]\n",
    "\n",
    "# Merge df1_filtered with df3_filtered to identify customers' tier and benefits\n",
    "df_merged_10 = pd.merge(df3_filtered, df1_filtered, left_on='Flight Category 10', right_on='Number of Flights', how='left')\n",
    "df_merged_10.drop(columns=['Number of Flights_y', 'Number of Flights_x'], inplace=True)\n",
    "\n",
    "\n",
    "print(df_merged_10.head())"
   ]
  },
  {
   "cell_type": "code",
   "execution_count": 12,
   "metadata": {},
   "outputs": [
    {
     "name": "stdout",
     "output_type": "stream",
     "text": [
      "Average number of flights per year: 14.440641590421325\n"
     ]
    }
   ],
   "source": [
    "average_flights_per_year = df3_filtered['Number of Flights'].mean()\n",
    "print(f\"Average number of flights per year: {average_flights_per_year}\")"
   ]
  },
  {
   "cell_type": "code",
   "execution_count": 13,
   "metadata": {
    "vscode": {
     "languageId": "ruby"
    }
   },
   "outputs": [
    {
     "name": "stdout",
     "output_type": "stream",
     "text": [
      "   Customer ID first_name last_name                   email  gender  \\\n",
      "1            3      Tyler   McGrail       tmcgrail2@nyu.edu    Male   \n",
      "1            3      Tyler   McGrail       tmcgrail2@nyu.edu    Male   \n",
      "3            4      Drusi    Ibeson  dibeson3@hostgator.com  Female   \n",
      "3            4      Drusi    Ibeson  dibeson3@hostgator.com  Female   \n",
      "3            4      Drusi    Ibeson  dibeson3@hostgator.com  Female   \n",
      "\n",
      "  First Flight Last Date Flown Flight Category 5 Flight Category 10  \\\n",
      "1   2022-07-18      2023-11-09             25-29              20-29   \n",
      "1   2022-07-18      2023-11-09             25-29              20-29   \n",
      "3   2022-05-28      2023-11-22               30+                30+   \n",
      "3   2022-05-28      2023-11-22               30+                30+   \n",
      "3   2022-05-28      2023-11-22               30+                30+   \n",
      "\n",
      "   Tier Grouping  Tier                               Benefits  \n",
      "1             10     2                 First Checked Bag Free  \n",
      "1             10     2           Priority Bag Drop & Boarding  \n",
      "3             10     3              First Class Lounge Access  \n",
      "3             10     3  First Class Lounge Access for 1 Guest  \n",
      "3             10     3            £250 off a flight each Year  \n"
     ]
    }
   ],
   "source": [
    "# Function to split benefits into individual rows\n",
    "def split_benefits(df):\n",
    "    df = df.dropna(subset=['Benefits'])\n",
    "    df = df.assign(Benefits=df['Benefits'].str.split(', ')).explode('Benefits')\n",
    "    return df\n",
    "\n",
    "# Merge df1 with df3_filtered to identify customers' tier and benefits\n",
    "df_merged = pd.merge(df3_filtered, df1, left_on='Flight Category 10', right_on='Number of Flights', how='left')\n",
    "\n",
    "# Drop unnecessary columns\n",
    "df_merged.drop(columns=['Number of Flights_y', 'Number of Flights_x'], inplace=True)\n",
    "\n",
    "# Split out the Benefits and make sure that each Benefit has its own row\n",
    "df_benefits = split_benefits(df_merged)\n",
    "\n",
    "# Ensure each customer also experiences the benefits of lower Tiers\n",
    "df_benefits['Tier'] = df_benefits['Tier'].apply(lambda x: int(x.split(' ')[1]))\n",
    "df_benefits = df_benefits.sort_values(by=['Customer ID', 'Tier'])\n",
    "\n",
    "# Display the result\n",
    "print(df_benefits.head())"
   ]
  }
 ],
 "metadata": {
  "kernelspec": {
   "display_name": "Python 3",
   "language": "python",
   "name": "python3"
  },
  "language_info": {
   "codemirror_mode": {
    "name": "ipython",
    "version": 3
   },
   "file_extension": ".py",
   "mimetype": "text/x-python",
   "name": "python",
   "nbconvert_exporter": "python",
   "pygments_lexer": "ipython3",
   "version": "3.13.1"
  }
 },
 "nbformat": 4,
 "nbformat_minor": 2
}

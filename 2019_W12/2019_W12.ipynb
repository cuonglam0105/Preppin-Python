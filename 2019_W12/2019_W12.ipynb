{
 "cells": [
  {
   "attachments": {},
   "cell_type": "markdown",
   "metadata": {},
   "source": [
    "# 2019: Week 12\n",
    "\n",
    "May 01, 2019\n",
    "\n",
    "In previous weeks of Preppin' Data we have seen the struggles of manual data capture and the impact particular on text based data. In our experience, it's not just text where the impact is felt by manually inputting data, but the accuracy of capturing all types of data.\n",
    "\n",
    "This week, we position ourselves in the shoes of IT at Chin & Beard Suds Co. The company has had a number of system outages but we need to understand the size of the issue.\n",
    "\n",
    "*this is probably quite a challenging week*\n",
    "\n",
    "Luckily for us, we have two separate data sources: 1. a set of automatically formed logs that captures service down time with a precise timestamp; 2. a manual spreadsheet where staff can capture issues they are having with systems. Sadly, for the latter data source, the data is captured without the same accuracy as the automatic logs. With the automatic logs, have we got all the data though? Help us clean the data and make clear how much downtime we are suffering from, in which system and what error causes the biggest % of downtime.\n",
    "\n",
    "# Requirements\n",
    "\n",
    "<img src=\"https://3.bp.blogspot.com/-5mmrhZLUZ4w/XMls6kBBw5I/AAAAAAAAAN0/Bu_N03J_NyY4Ra4Os9ANY34OUd6ZCziiACLcBGAs/s320/Auto%2BInput.JPG\" width=\"600\" height=\"300\">\n",
    "\n",
    "Auto input\n",
    "\n",
    "<img src=\"https://1.bp.blogspot.com/-u-uUCtHJDeM/XMls6ohrTiI/AAAAAAAAAN8/ChR-N7wQuiI_PMaB5M0MRvq8jmDc-A0MwCEwYBhgL/s320/Manual%2BInput.JPG\" width=\"400\" height=\"200\">\n",
    "\n",
    "Manual input\n",
    "\n",
    "* Input the data\n",
    "* Make the manual date and time a date / time field\n",
    "* Bring the datasets together in a manner that removes the duplicate records from the manually captured data set \n",
    "* Duplicates are determined by a system being down at the same time but recorded both automatically and manually. The automatic data should always overwrite the manual data.\n",
    "* Workout the duration (in seconds) of the error\n",
    "* Understand the '% of downtime' per system in hours\n",
    "\n",
    "\n",
    "# Output\n",
    "\n",
    "<img src=\"https://4.bp.blogspot.com/-3BCdcR0_gSw/XMls6iF40iI/AAAAAAAAAOA/wOQD_qF1fTcuus5VqTbRw85ZqeXihw61QCEwYBhgL/s400/Output.JPG\" width=\"400\" height=\"200\">\n",
    "\n",
    "* 8 columns\n",
    "* 11 rows (12 including headers)\n",
    "* No nulls"
   ]
  },
  {
   "cell_type": "code",
   "execution_count": 52,
   "metadata": {},
   "outputs": [],
   "source": [
    "import pandas as pd\n",
    "from datetime import datetime"
   ]
  },
  {
   "cell_type": "code",
   "execution_count": 53,
   "metadata": {},
   "outputs": [
    {
     "name": "stdout",
     "output_type": "stream",
     "text": [
      "    Start Date / Time     End Date / Time System           Error\n",
      "0 2019-04-13 07:55:23 2019-04-13 08:23:12  Sales       Disc full\n",
      "1 2018-04-13 09:03:22 2018-04-15 09:03:21  Stock  Planned Outage\n",
      "2 2018-05-13 09:03:22 2018-05-16 09:03:21  Stock  Planned Outage\n",
      "3 2018-06-13 09:03:22 2018-06-15 09:03:21  Stock  Planned Outage\n",
      "4 2018-07-12 23:03:22 2018-07-13 07:00:03  Stock  Planned Outage\n",
      "<class 'pandas.core.frame.DataFrame'>\n",
      "RangeIndex: 9 entries, 0 to 8\n",
      "Data columns (total 4 columns):\n",
      " #   Column             Non-Null Count  Dtype         \n",
      "---  ------             --------------  -----         \n",
      " 0   Start Date / Time  9 non-null      datetime64[ns]\n",
      " 1   End Date / Time    9 non-null      datetime64[ns]\n",
      " 2   System             9 non-null      object        \n",
      " 3   Error              9 non-null      object        \n",
      "dtypes: datetime64[ns](2), object(2)\n",
      "memory usage: 416.0+ bytes\n",
      "None\n",
      "=====================================================\n",
      "  Start Date Start Time   End Date  End Time System          Error\n",
      "0 2018-04-13   09:00:00 2018-04-15  09:00:00  Stock  Planed Outage\n",
      "1 2018-05-13   09:00:00 2018-05-15  09:00:00  Stock  Planed Outage\n",
      "2 2018-06-13   09:00:00 2018-06-15  09:00:00  Stock  Planed Outage\n",
      "3 2018-07-13   09:00:00 2018-07-15  09:00:00  Stock  Planed Outage\n",
      "4 2018-08-13   09:00:00 2018-08-15  09:00:00  Stock  Planed Outage\n",
      "<class 'pandas.core.frame.DataFrame'>\n",
      "RangeIndex: 6 entries, 0 to 5\n",
      "Data columns (total 6 columns):\n",
      " #   Column      Non-Null Count  Dtype         \n",
      "---  ------      --------------  -----         \n",
      " 0   Start Date  6 non-null      datetime64[ns]\n",
      " 1   Start Time  6 non-null      object        \n",
      " 2   End Date    6 non-null      datetime64[ns]\n",
      " 3   End Time    6 non-null      object        \n",
      " 4   System      6 non-null      object        \n",
      " 5   Error       6 non-null      object        \n",
      "dtypes: datetime64[ns](2), object(4)\n",
      "memory usage: 416.0+ bytes\n",
      "None\n",
      "=====================================================\n"
     ]
    }
   ],
   "source": [
    "# Nhập dữ liệu đầu vào\n",
    "input = \"input.xlsx\"\n",
    "df = pd.read_excel(input, sheet_name=\"Automatic Error log\")\n",
    "df2 = pd.read_excel(input, sheet_name=\"Manual capture error list\")\n",
    "print(df.head(5))\n",
    "print(df.info())\n",
    "print(\"=====================================================\")\n",
    "print(df2.head(5))\n",
    "print(df2.info())\n",
    "print(\"=====================================================\")"
   ]
  },
  {
   "cell_type": "code",
   "execution_count": 54,
   "metadata": {},
   "outputs": [
    {
     "name": "stdout",
     "output_type": "stream",
     "text": [
      "  System          Error   Start Date / Time     End Date / Time\n",
      "0  Stock  Planed Outage 2018-04-13 09:00:00 2018-04-15 09:00:00\n",
      "1  Stock  Planed Outage 2018-05-13 09:00:00 2018-05-15 09:00:00\n",
      "2  Stock  Planed Outage 2018-06-13 09:00:00 2018-06-15 09:00:00\n",
      "3  Stock  Planed Outage 2018-07-13 09:00:00 2018-07-15 09:00:00\n",
      "4  Stock  Planed Outage 2018-08-13 09:00:00 2018-08-15 09:00:00\n",
      "<class 'pandas.core.frame.DataFrame'>\n",
      "RangeIndex: 6 entries, 0 to 5\n",
      "Data columns (total 4 columns):\n",
      " #   Column             Non-Null Count  Dtype         \n",
      "---  ------             --------------  -----         \n",
      " 0   System             6 non-null      object        \n",
      " 1   Error              6 non-null      object        \n",
      " 2   Start Date / Time  6 non-null      datetime64[ns]\n",
      " 3   End Date / Time    6 non-null      datetime64[ns]\n",
      "dtypes: datetime64[ns](2), object(2)\n",
      "memory usage: 320.0+ bytes\n",
      "None\n"
     ]
    }
   ],
   "source": [
    "# Tạo cột datetime\n",
    "df2['Start Date'] = df2['Start Date'].astype(str)\n",
    "df2['Start Time'] = df2['Start Time'].astype(str)\n",
    "df2['Start Date / Time'] = pd.to_datetime(df2['Start Date'] + \" \" + df2['Start Time'])\n",
    "\n",
    "df2['End Date'] = df2['End Date'].astype(str)\n",
    "df2['End Time'] = df2['End Time'].astype(str)\n",
    "df2['End Date / Time'] = pd.to_datetime(df2['End Date'] + \" \" + df2['End Time'])\n",
    "\n",
    "df2.drop(columns=['Start Date', 'Start Time', 'End Date', 'End Time'], inplace=True)\n",
    "print(df2.head(5))\n",
    "print(df2.info())"
   ]
  },
  {
   "cell_type": "code",
   "execution_count": 55,
   "metadata": {},
   "outputs": [
    {
     "name": "stdout",
     "output_type": "stream",
     "text": [
      "    Start Date / Time     End Date / Time System           Error\n",
      "0 2019-04-13 07:55:23 2019-04-13 08:23:12  Sales       Disc full\n",
      "1 2018-04-13 09:03:22 2018-04-15 09:03:21  Stock  Planned Outage\n",
      "2 2018-05-13 09:03:22 2018-05-16 09:03:21  Stock  Planned Outage\n",
      "3 2018-06-13 09:03:22 2018-06-15 09:03:21  Stock  Planned Outage\n",
      "4 2018-07-12 23:03:22 2018-07-13 07:00:03  Stock  Planned Outage\n",
      "<class 'pandas.core.frame.DataFrame'>\n",
      "RangeIndex: 15 entries, 0 to 14\n",
      "Data columns (total 4 columns):\n",
      " #   Column             Non-Null Count  Dtype         \n",
      "---  ------             --------------  -----         \n",
      " 0   Start Date / Time  15 non-null     datetime64[ns]\n",
      " 1   End Date / Time    15 non-null     datetime64[ns]\n",
      " 2   System             15 non-null     object        \n",
      " 3   Error              15 non-null     object        \n",
      "dtypes: datetime64[ns](2), object(2)\n",
      "memory usage: 608.0+ bytes\n",
      "None\n"
     ]
    }
   ],
   "source": [
    "# Nối 2 bảng với nhau\n",
    "df3 = pd.concat([df, df2], ignore_index=True)\n",
    "print(df3.head(5))\n",
    "print(df3.info())"
   ]
  },
  {
   "cell_type": "code",
   "execution_count": 56,
   "metadata": {},
   "outputs": [
    {
     "name": "stdout",
     "output_type": "stream",
     "text": [
      "    Start Date / Time     End Date / Time System           Error\n",
      "0 2019-04-13 07:55:23 2019-04-13 08:23:12  Sales       Disc full\n",
      "1 2018-04-13 09:03:22 2018-04-15 09:03:21  Stock  Planned Outage\n",
      "2 2018-05-13 09:03:22 2018-05-16 09:03:21  Stock  Planned Outage\n",
      "3 2018-06-13 09:03:22 2018-06-15 09:03:21  Stock  Planned Outage\n",
      "4 2018-07-12 23:03:22 2018-07-13 07:00:03  Stock  Planned Outage\n",
      "<class 'pandas.core.frame.DataFrame'>\n",
      "Int64Index: 15 entries, 0 to 14\n",
      "Data columns (total 4 columns):\n",
      " #   Column             Non-Null Count  Dtype         \n",
      "---  ------             --------------  -----         \n",
      " 0   Start Date / Time  15 non-null     datetime64[ns]\n",
      " 1   End Date / Time    15 non-null     datetime64[ns]\n",
      " 2   System             15 non-null     object        \n",
      " 3   Error              15 non-null     object        \n",
      "dtypes: datetime64[ns](2), object(2)\n",
      "memory usage: 600.0+ bytes\n",
      "None\n"
     ]
    }
   ],
   "source": [
    "# Loại bỏ các trường hợp duplicate\n",
    "df3 = df3.drop_duplicates()\n",
    "print(df3.head(5))\n",
    "print(df3.info())"
   ]
  }
 ],
 "metadata": {
  "kernelspec": {
   "display_name": "Python 3",
   "language": "python",
   "name": "python3"
  },
  "language_info": {
   "codemirror_mode": {
    "name": "ipython",
    "version": 3
   },
   "file_extension": ".py",
   "mimetype": "text/x-python",
   "name": "python",
   "nbconvert_exporter": "python",
   "pygments_lexer": "ipython3",
   "version": "3.10.0"
  },
  "orig_nbformat": 4
 },
 "nbformat": 4,
 "nbformat_minor": 2
}

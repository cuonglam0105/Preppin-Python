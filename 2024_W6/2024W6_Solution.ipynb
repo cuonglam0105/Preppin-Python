{
 "cells": [
  {
   "cell_type": "markdown",
   "metadata": {},
   "source": [
    "# 2024: Week 6 - Staff Income Tax\n",
    "\n",
    "February 07, 2024\n",
    "\n",
    " Created by: Carl Allchin\n",
    "\n",
    "Welcome to the first week of the Intermediary level challenges for 2024. This means we'll leave more space for you to work out the logic and be less specific about the techniques you are likely to need. \n",
    "\n",
    "The end of January in the UK (where Prep Air is based) is when residents have to submit their income tax returns by. To help our team, we've offered to summarise their tax position for them. The UK income tax works by bands. Here's a summary table showing the percentage of tax for each pound earned in that bracket: \n",
    "\n",
    "![1](https://blogger.googleusercontent.com/img/b/R29vZ2xl/AVvXsEjb4x01iCIrMGNS8qxplMNJoXRma3YZz9FdpBs39FlkfxspveNmDIJQS4zz9PvsritFkVBXq4XK9EuegpWHrtcpLkFtaLRHQIzm0dYgjLjxAQAIzJyojyWuhcM24qFF503Mv8rc4O1GxDYJaNnGrxxYYxZ0EgLzCA7RM2WRL5e1-Vi-IhBIMs8U8PYbsKQS/s952/Screenshot%202024-01-28%20at%2017.51.57.png)\n",
    "\n",
    "For example, if I earned £12,571. I would pay £0.20 of tax in total: £0 for the first £12,570 earned and then 20% of the £1 in the next tax band. \n",
    "\n",
    "### Input\n",
    "\n",
    "One csv file containing the monthly salary for staff. If any team member has a change in their pay, their new salary is recorded as a later record but the input contains their former record based on what they would have been paid\n",
    "\n",
    "![2](https://blogger.googleusercontent.com/img/b/R29vZ2xl/AVvXsEirEshz8IP1iXN1P9xru0kSyr9KRN1gj19we0OajhqrAU8cgf9xCt8Jk-QgLTtWn2msmbJm2nLzDxvprG3hVUOitQ8Chj3t-b02xHpWqIglcOfl-O86jOL14V355Sx8quXP4yOAo0wxjubGvgkU__y0AdWw3QEE9G68-Pg5tiE2SvgzCcH1Sx5K3HER3gU3/s2626/Screenshot%202024-01-28%20at%2018.57.43.png)\n",
    "\n",
    "### Requirements\n",
    "- Input the csv file\n",
    "- Add a row number to the data set\n",
    "- Find the latest row (largest row number) to capture the individuals correct salary information\n",
    "- Find each team member's annual salary\n",
    "- Find each team member's maximum tax band based on their annual salary\n",
    "- 20% rate\n",
    "- 40% rate\n",
    "- 45% rate \n",
    "- Work out how much tax an individual paid for each of the % bands. Call these fields:\n",
    "- 20% tax rate paid\n",
    "- 40% tax rate paid\n",
    "- 45% tax rate paid\n",
    "- Total the tax paid across all three % bands. Call this field 'Total Tax Paid' \n",
    "- Output the data\n",
    "\n",
    "### Output\n",
    "\n",
    "![3](https://blogger.googleusercontent.com/img/b/R29vZ2xl/AVvXsEigeYYkwt4PhAzfUravnvoWCBTuhuRt8av-J7zuq3VDRGBaQ2sDnkGCkkmueCX8EHOQ-4N8FL5ichGFMAFymJqUd93Z2MdlhluKnG4Bpvn00QsJQaEBghfYXcm-hS91wLpN4XNJnQvZaqmfY8rZE_gXB-12ET4ke_TdWlRr81iLTHpz3G88xKa1aOYCSryS/s1622/Screenshot%202024-01-29%20at%2017.59.22.png)\n",
    "\n",
    "\n",
    "Note: your output may have some rounding differences and that's ok as it will depend on the tool you use\n",
    "\n",
    "7 data fields: \n",
    "- StaffID \n",
    "- Salary\n",
    "- Max Tax Rate\n",
    "- Total Tax Paid\n",
    "- 20% rate tax paid\n",
    "- 40% tax rate paid\n",
    "- 45% tax rate paid"
   ]
  },
  {
   "cell_type": "code",
   "execution_count": 100,
   "metadata": {},
   "outputs": [
    {
     "name": "stdout",
     "output_type": "stream",
     "text": [
      "   StaffID       1        2        3        4        5        6        7  \\\n",
      "0     1533  2398.0  2421.98  2446.20  2446.20  2495.12  2495.12  2495.12   \n",
      "1     1339  7304.0  7523.12  7673.58  7673.58  7750.32  7827.82  8062.66   \n",
      "2     2291  8240.0  8404.80  8572.90  8744.35  8831.80  9096.75  9278.69   \n",
      "3     2038  3908.0  3986.16  3986.16  4026.02  4066.28  4188.27  4313.92   \n",
      "4     2810  3988.0  4107.64  4148.72  4190.20  4274.01  4316.75  4316.75   \n",
      "\n",
      "         8        9       10       11       12  \n",
      "0  2495.12  2545.03  2621.38  2621.38  2621.38  \n",
      "1  8304.54  8470.63  8555.33  8555.33  8726.44  \n",
      "2  9464.26  9464.26  9464.26  9558.90  9558.90  \n",
      "3  4443.34  4487.77  4622.40  4668.63  4715.31  \n",
      "4  4359.92  4490.71  4535.62  4671.69  4718.41  \n"
     ]
    }
   ],
   "source": [
    "import pandas as pd\n",
    "\n",
    "df = pd.read_csv('PD 2024 Wk 6 Input.csv')\n",
    "print(df.head())"
   ]
  },
  {
   "cell_type": "code",
   "execution_count": 101,
   "metadata": {},
   "outputs": [
    {
     "name": "stdout",
     "output_type": "stream",
     "text": [
      "     StaffID        1         2         3         4         5         6  \\\n",
      "0       1533   2398.0   2421.98   2446.20   2446.20   2495.12   2495.12   \n",
      "1       1339   7304.0   7523.12   7673.58   7673.58   7750.32   7827.82   \n",
      "2       2291   8240.0   8404.80   8572.90   8744.35   8831.80   9096.75   \n",
      "3       2038   3908.0   3986.16   3986.16   4026.02   4066.28   4188.27   \n",
      "4       2810   3988.0   4107.64   4148.72   4190.20   4274.01   4316.75   \n",
      "..       ...      ...       ...       ...       ...       ...       ...   \n",
      "994     2959   9163.0   9163.00   9163.00   9163.00   9437.89   9626.65   \n",
      "995     1467   1928.0   1985.84   2045.42   2086.32   2128.05   2170.61   \n",
      "996     2582   5343.0   5449.86   5558.86   5614.45   5726.73   5898.54   \n",
      "997     1779  11138.0  11472.14  11816.30  11816.30  11934.47  12173.16   \n",
      "998     1510   2211.0   2255.22   2322.88   2392.56   2440.41   2464.82   \n",
      "\n",
      "            7         8         9        10        11        12  StaffID_Index  \n",
      "0     2495.12   2495.12   2545.03   2621.38   2621.38   2621.38              1  \n",
      "1     8062.66   8304.54   8470.63   8555.33   8555.33   8726.44              1  \n",
      "2     9278.69   9464.26   9464.26   9464.26   9558.90   9558.90              1  \n",
      "3     4313.92   4443.34   4487.77   4622.40   4668.63   4715.31              1  \n",
      "4     4316.75   4359.92   4490.71   4535.62   4671.69   4718.41              1  \n",
      "..        ...       ...       ...       ...       ...       ...            ...  \n",
      "994   9915.45  10014.60  10014.60  10014.60  10214.89  10521.34              2  \n",
      "995   2235.73   2258.09   2303.25   2372.35   2396.07   2443.99              1  \n",
      "996   6016.51   6197.00   6320.94   6320.94   6320.94   6320.94              1  \n",
      "997  12538.35  12789.12  13172.79  13304.52  13304.52  13570.61              1  \n",
      "998   2489.47   2489.47   2489.47   2539.26   2539.26   2615.43              2  \n",
      "\n",
      "[999 rows x 14 columns]\n"
     ]
    }
   ],
   "source": [
    "df['StaffID_Index'] = df.groupby('StaffID').cumcount() + 1\n",
    "print(df)"
   ]
  },
  {
   "cell_type": "code",
   "execution_count": 102,
   "metadata": {},
   "outputs": [
    {
     "name": "stdout",
     "output_type": "stream",
     "text": [
      "     StaffID        1         2         3         4         5         6  \\\n",
      "386     1000  13416.0  13550.16  13685.66  13822.52  13960.74  14239.96   \n",
      "5       1001  12518.0  12518.00  12893.54  13151.41  13545.95  13681.41   \n",
      "877     1007   2134.0   2176.68   2220.21   2264.62   2264.62   2287.26   \n",
      "262     1010   8260.0   8507.80   8763.03   9025.93   9025.93   9206.44   \n",
      "96      1012   8669.0   8755.69   9018.36   9288.91   9381.80   9475.62   \n",
      "..       ...      ...       ...       ...       ...       ...       ...   \n",
      "515     2994   8459.0   8712.77   8712.77   8887.03   8887.03   9153.64   \n",
      "322     2995  10672.0  10672.00  10672.00  10778.72  10994.29  11104.24   \n",
      "842     2997   2436.0   2509.08   2534.17   2610.20   2636.30   2662.66   \n",
      "565     2998   1889.0   1889.00   1945.67   1965.13   2024.08   2024.08   \n",
      "947     2999   6510.0   6510.00   6705.30   6839.41   7044.59   7115.03   \n",
      "\n",
      "            7         8         9        10        11        12  StaffID_Index  \n",
      "386  14667.16  14960.50  15110.11  15110.11  15261.21  15413.82              1  \n",
      "5    14091.86  14514.61  14950.05  14950.05  14950.05  15099.55              1  \n",
      "877   2310.14   2333.24   2403.24   2475.33   2524.84   2575.34              2  \n",
      "262   9390.57   9484.48   9769.01   9769.01   9769.01  10062.08              1  \n",
      "96    9759.89   9955.08  10154.19  10154.19  10458.81  10667.99              1  \n",
      "..        ...       ...       ...       ...       ...       ...            ...  \n",
      "515   9153.64   9428.25   9711.09  10002.43  10302.50  10302.50              1  \n",
      "322  11437.36  11437.36  11551.74  11782.77  11782.77  11782.77              1  \n",
      "842   2715.91   2743.07   2797.93   2825.91   2910.69   2998.01              1  \n",
      "565   2084.80   2126.50   2147.76   2169.24   2169.24   2212.63              2  \n",
      "947   7186.18   7258.05   7475.79   7700.06   7777.06   7854.83              2  \n",
      "\n",
      "[803 rows x 14 columns]\n"
     ]
    }
   ],
   "source": [
    "latest_df = df.loc[df.groupby('StaffID')['StaffID_Index'].idxmax()]\n",
    "print(latest_df)"
   ]
  },
  {
   "cell_type": "code",
   "execution_count": 103,
   "metadata": {},
   "outputs": [
    {
     "name": "stdout",
     "output_type": "stream",
     "text": [
      "     StaffID        1         2         3         4         5         6  \\\n",
      "386     1000  13416.0  13550.16  13685.66  13822.52  13960.74  14239.96   \n",
      "5       1001  12518.0  12518.00  12893.54  13151.41  13545.95  13681.41   \n",
      "877     1007   2134.0   2176.68   2220.21   2264.62   2264.62   2287.26   \n",
      "262     1010   8260.0   8507.80   8763.03   9025.93   9025.93   9206.44   \n",
      "96      1012   8669.0   8755.69   9018.36   9288.91   9381.80   9475.62   \n",
      "..       ...      ...       ...       ...       ...       ...       ...   \n",
      "515     2994   8459.0   8712.77   8712.77   8887.03   8887.03   9153.64   \n",
      "322     2995  10672.0  10672.00  10672.00  10778.72  10994.29  11104.24   \n",
      "842     2997   2436.0   2509.08   2534.17   2610.20   2636.30   2662.66   \n",
      "565     2998   1889.0   1889.00   1945.67   1965.13   2024.08   2024.08   \n",
      "947     2999   6510.0   6510.00   6705.30   6839.41   7044.59   7115.03   \n",
      "\n",
      "            7         8         9        10        11        12  \\\n",
      "386  14667.16  14960.50  15110.11  15110.11  15261.21  15413.82   \n",
      "5    14091.86  14514.61  14950.05  14950.05  14950.05  15099.55   \n",
      "877   2310.14   2333.24   2403.24   2475.33   2524.84   2575.34   \n",
      "262   9390.57   9484.48   9769.01   9769.01   9769.01  10062.08   \n",
      "96    9759.89   9955.08  10154.19  10154.19  10458.81  10667.99   \n",
      "..        ...       ...       ...       ...       ...       ...   \n",
      "515   9153.64   9428.25   9711.09  10002.43  10302.50  10302.50   \n",
      "322  11437.36  11437.36  11551.74  11782.77  11782.77  11782.77   \n",
      "842   2715.91   2743.07   2797.93   2825.91   2910.69   2998.01   \n",
      "565   2084.80   2126.50   2147.76   2169.24   2169.24   2212.63   \n",
      "947   7186.18   7258.05   7475.79   7700.06   7777.06   7854.83   \n",
      "\n",
      "     StaffID_Index  Annual Salary  \n",
      "386              1      173197.95  \n",
      "5                1      166864.48  \n",
      "877              2       27969.52  \n",
      "262              1      111033.29  \n",
      "96               1      115739.53  \n",
      "..             ...            ...  \n",
      "515              1      111712.65  \n",
      "322              1      134668.02  \n",
      "842              1       32379.93  \n",
      "565              2       24647.13  \n",
      "947              2       85976.30  \n",
      "\n",
      "[803 rows x 15 columns]\n"
     ]
    }
   ],
   "source": [
    "latest_df['Annual Salary'] = latest_df.loc[:, '1':'12'].sum(axis=1)\n",
    "print(latest_df)"
   ]
  },
  {
   "cell_type": "code",
   "execution_count": 104,
   "metadata": {
    "vscode": {
     "languageId": "javascript"
    }
   },
   "outputs": [
    {
     "name": "stdout",
     "output_type": "stream",
     "text": [
      "                 Band   Taxable Income Tax Rate\n",
      "0  Personal Allowance       0 to 12570       0%\n",
      "1          Basic Rate   12571 to 50270      20%\n",
      "2         Higher Rate  50271 to 125140      40%\n",
      "3     Additional Rate      Over 125140      45%\n"
     ]
    }
   ],
   "source": [
    "tax_brackets = {\n",
    "    'Band' : ['Personal Allowance', 'Basic Rate', 'Higher Rate', 'Additional Rate'],\n",
    "    'Taxable Income': ['0 to 12570', '12571 to 50270', '50271 to 125140', 'Over 125140'],\n",
    "    'Tax Rate': ['0%', '20%', '40%', '45%']\n",
    "}\n",
    "\n",
    "tax_df = pd.DataFrame(tax_brackets)\n",
    "print(tax_df)"
   ]
  },
  {
   "cell_type": "code",
   "execution_count": 105,
   "metadata": {},
   "outputs": [
    {
     "name": "stdout",
     "output_type": "stream",
     "text": [
      "                 Band   Taxable Income Tax Rate  compare_field\n",
      "0  Personal Allowance       0 to 12570       0%          12570\n",
      "1          Basic Rate   12571 to 50270      20%          50270\n",
      "2         Higher Rate  50271 to 125140      40%         125140\n",
      "3     Additional Rate      Over 125140      45%  9999999999999\n"
     ]
    }
   ],
   "source": [
    "tax_brackets['compare_field'] = [12570, 50270, 125140, 9999999999999]\n",
    "\n",
    "tax_df = pd.DataFrame(tax_brackets)\n",
    "print(tax_df)"
   ]
  },
  {
   "cell_type": "code",
   "execution_count": 106,
   "metadata": {},
   "outputs": [
    {
     "name": "stdout",
     "output_type": "stream",
     "text": [
      "     StaffID  Annual Salary     Max Tax Band Max Tax Rate\n",
      "386     1000      173197.95  Additional Rate          45%\n",
      "5       1001      166864.48  Additional Rate          45%\n",
      "877     1007       27969.52       Basic Rate          20%\n",
      "262     1010      111033.29      Higher Rate          40%\n",
      "96      1012      115739.53      Higher Rate          40%\n",
      "..       ...            ...              ...          ...\n",
      "515     2994      111712.65      Higher Rate          40%\n",
      "322     2995      134668.02  Additional Rate          45%\n",
      "842     2997       32379.93       Basic Rate          20%\n",
      "565     2998       24647.13       Basic Rate          20%\n",
      "947     2999       85976.30      Higher Rate          40%\n",
      "\n",
      "[803 rows x 4 columns]\n"
     ]
    }
   ],
   "source": [
    "latest_df['Max Tax Band'] = latest_df['Annual Salary'].apply(lambda x: tax_df[tax_df['compare_field'] >= x].iloc[0]['Band'])\n",
    "latest_df['Max Tax Rate'] = latest_df['Annual Salary'].apply(lambda x: tax_df[tax_df['compare_field'] >= x].iloc[0]['Tax Rate'])\n",
    "print(latest_df[['StaffID', 'Annual Salary', 'Max Tax Band', 'Max Tax Rate']])"
   ]
  },
  {
   "cell_type": "code",
   "execution_count": 107,
   "metadata": {},
   "outputs": [
    {
     "name": "stdout",
     "output_type": "stream",
     "text": [
      "     StaffID  Annual Salary  20% tax rate paid  40% tax rate paid  \\\n",
      "386     1000      173197.95           7540.000          29948.000   \n",
      "5       1001      166864.48           7540.000          29948.000   \n",
      "877     1007       27969.52           3079.904              0.000   \n",
      "262     1010      111033.29           7540.000          24305.316   \n",
      "96      1012      115739.53           7540.000          26187.812   \n",
      "..       ...            ...                ...                ...   \n",
      "515     2994      111712.65           7540.000          24577.060   \n",
      "322     2995      134668.02           7540.000          29948.000   \n",
      "842     2997       32379.93           3961.986              0.000   \n",
      "565     2998       24647.13           2415.426              0.000   \n",
      "947     2999       85976.30           7540.000          14282.520   \n",
      "\n",
      "     45% tax rate paid  \n",
      "386         21626.0775  \n",
      "5           18776.0160  \n",
      "877             0.0000  \n",
      "262             0.0000  \n",
      "96              0.0000  \n",
      "..                 ...  \n",
      "515             0.0000  \n",
      "322          4287.6090  \n",
      "842             0.0000  \n",
      "565             0.0000  \n",
      "947             0.0000  \n",
      "\n",
      "[803 rows x 5 columns]\n"
     ]
    }
   ],
   "source": [
    "def calculate_tax(salary):\n",
    "    tax_paid = {'20% tax rate paid': 0, '40% tax rate paid': 0, '45% tax rate paid': 0}\n",
    "    remaining_salary = salary\n",
    "\n",
    "    # 45% tax rate\n",
    "    if remaining_salary > 125140:\n",
    "        tax_paid['45% tax rate paid'] = (remaining_salary - 125140) * 0.45\n",
    "        remaining_salary = 125140\n",
    "\n",
    "    # 40% tax rate\n",
    "    if remaining_salary > 50270:\n",
    "        tax_paid['40% tax rate paid'] = (remaining_salary - 50270) * 0.40\n",
    "        remaining_salary = 50270\n",
    "\n",
    "    # 20% tax rate\n",
    "    if remaining_salary > 12570:\n",
    "        tax_paid['20% tax rate paid'] = (remaining_salary - 12570) * 0.20\n",
    "\n",
    "    return tax_paid\n",
    "\n",
    "latest_df[['20% tax rate paid', '40% tax rate paid', '45% tax rate paid']] = latest_df['Annual Salary'].apply(lambda x: pd.Series(calculate_tax(x)))\n",
    "print(latest_df[['StaffID', 'Annual Salary', '20% tax rate paid', '40% tax rate paid', '45% tax rate paid']])"
   ]
  },
  {
   "cell_type": "code",
   "execution_count": 108,
   "metadata": {},
   "outputs": [
    {
     "name": "stdout",
     "output_type": "stream",
     "text": [
      "     StaffID  Annual Salary     Max Tax Band Max Tax Rate  20% tax rate paid  \\\n",
      "386     1000      173197.95  Additional Rate          45%           7540.000   \n",
      "5       1001      166864.48  Additional Rate          45%           7540.000   \n",
      "877     1007       27969.52       Basic Rate          20%           3079.904   \n",
      "262     1010      111033.29      Higher Rate          40%           7540.000   \n",
      "96      1012      115739.53      Higher Rate          40%           7540.000   \n",
      "..       ...            ...              ...          ...                ...   \n",
      "515     2994      111712.65      Higher Rate          40%           7540.000   \n",
      "322     2995      134668.02  Additional Rate          45%           7540.000   \n",
      "842     2997       32379.93       Basic Rate          20%           3961.986   \n",
      "565     2998       24647.13       Basic Rate          20%           2415.426   \n",
      "947     2999       85976.30      Higher Rate          40%           7540.000   \n",
      "\n",
      "     40% tax rate paid  45% tax rate paid  Total Tax Paid  \n",
      "386          29948.000         21626.0775      59114.0775  \n",
      "5            29948.000         18776.0160      56264.0160  \n",
      "877              0.000             0.0000       3079.9040  \n",
      "262          24305.316             0.0000      31845.3160  \n",
      "96           26187.812             0.0000      33727.8120  \n",
      "..                 ...                ...             ...  \n",
      "515          24577.060             0.0000      32117.0600  \n",
      "322          29948.000          4287.6090      41775.6090  \n",
      "842              0.000             0.0000       3961.9860  \n",
      "565              0.000             0.0000       2415.4260  \n",
      "947          14282.520             0.0000      21822.5200  \n",
      "\n",
      "[803 rows x 8 columns]\n"
     ]
    }
   ],
   "source": [
    "# calculate total tax paid\n",
    "latest_df['Total Tax Paid'] = latest_df[['20% tax rate paid', '40% tax rate paid', '45% tax rate paid']].sum(axis=1)\n",
    "\n",
    "# Drop columns 1-12, drop StaffID_Index\n",
    "latest_df = latest_df.drop(columns=[str(i) for i in range(1, 13)])\n",
    "latest_df = latest_df.drop(columns=['StaffID_Index'])\n",
    "print(latest_df)"
   ]
  },
  {
   "cell_type": "code",
   "execution_count": 109,
   "metadata": {},
   "outputs": [],
   "source": [
    "output = latest_df"
   ]
  }
 ],
 "metadata": {
  "kernelspec": {
   "display_name": "Python 3",
   "language": "python",
   "name": "python3"
  },
  "language_info": {
   "codemirror_mode": {
    "name": "ipython",
    "version": 3
   },
   "file_extension": ".py",
   "mimetype": "text/x-python",
   "name": "python",
   "nbconvert_exporter": "python",
   "pygments_lexer": "ipython3",
   "version": "3.13.1"
  }
 },
 "nbformat": 4,
 "nbformat_minor": 2
}

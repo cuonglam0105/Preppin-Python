{
 "cells": [
  {
   "cell_type": "markdown",
   "metadata": {},
   "source": [
    "# 2024: Week 30 - International Football Special\n",
    "\n",
    "July 24, 2024\n",
    "\n",
    "Challenge by: Jenny Martin\n",
    "\n",
    "It's been a big month for International Football, with both the Euros and the Copa América. Personally, I'm not a big football fan, so the question that I'm looking to answer is:\n",
    "\n",
    "If I'm only going to watch 15 minutes of a match, which time interval will be the most exciting? How does that vary by competition and has it changed over the years?\n",
    "Inputs\n",
    "The data this week comes from an incredible data source I found on Kaggle which contains over 47,000 results of international football matches. Thanks to Mart Jürisoo for collecting this data! \n",
    "\n",
    "1. Results table \n",
    "\n",
    "![1](https://blogger.googleusercontent.com/img/b/R29vZ2xl/AVvXsEgZP2sGbD5_kyD7ISa2HYcMgv2xdrigRgf9zdVzKTAcdZEaNYxJdhP1RCvWqpUKPFtZF1P3U5uh62vEo0KXHK0uBOYUxeblifShgdDqKBc4wKpb1iQKMXNhJSThEOCA3wZwyiuZTTvreH83hmhVVFLcrtUaT0dSHEqR_3uwb3_e-1KjjPGEz8Qd9BRjkBjz/s1242/Screenshot%202024-07-12%20112558.png)\n",
    "\n",
    "2. International Competitions table \n",
    "\n",
    "![2](https://blogger.googleusercontent.com/img/b/R29vZ2xl/AVvXsEih9_edQVgi4u54jtdYSPhNjpYxhBVh1qEP0ApXkyLJ5z8TTm0jlOGfknwE3Ej8WcSxT_kZwJ53rBLmRD19hEeCFIrIVHh2VNpT2eeD1owayx6J-a_bLxxqzt5VRmJUNjXFy5FkXagj4_3JKyXCWEc96fBMnBIDmMuD2UyfKYl2JnjdxFgFSwO2WycmG91g/s839/Screenshot%202024-07-12%20112705.png)\n",
    "\n",
    "3. Goal Scorers table - currently only available for World Cup and Continental Championships so this is where we will focus our analysis \n",
    "\n",
    "![3](https://blogger.googleusercontent.com/img/b/R29vZ2xl/AVvXsEjPGSAMLx6yHO24UeOWSmE1iHOHxt7OzyrvdZk6vFADFh7u59oMM55x0rPiDKLZHZF7uS7iuh18mdahHK2vRokqAVYoYDu523yM0wHJdjQAzQshzfMBnfAeYIMCaZ2PuIxw3F3pOl4z7FF6Il6IBFKoesZSqocWcgR70NmWt8iGHLMmx9k0Wq4mzXKG0gxe/s1065/Screenshot%202024-07-12%20112823.png)\n",
    "\n",
    "4. Segment table \n",
    "\n",
    "![4](https://blogger.googleusercontent.com/img/b/R29vZ2xl/AVvXsEgyLAB2DR7FlKWz3TSXr7FFDIPLtDmtia_KwtsZH3PurgdtslliaCiAYIeBaJu2qHLwqsLo9DzgcrhyCcZaWVgBBQr8KI8FmIKlxIXzfu_JE4-CJQFRw98dYCVyesbGodYqJMkdtbyNwyLo_V4_VoGqJ2MbCuUJ3wqpLWeIS_bMtVozPOWFCeTj9GoQYwxP/s293/Screenshot%202024-07-12%20112907.png)\n",
    "\n",
    "### Requirements\n",
    "- Input the data\n",
    "- Filter out Qualification rounds from the Results table\n",
    "- Split out the Football Association and Competition from the tournament field\n",
    "- e.g. For UEFA Euro, UEFA is the Football Association and Euro is the Competition\n",
    "- Not all tournaments contain information about the Football Association\n",
    "- Join to the International Competitions table\n",
    "- All 8 competitions should be included\n",
    "- For the CONCACAF Championship ensure the correct Football Association and Competition are joined\n",
    "- Create a field for the Decade the competition took place in\n",
    "- Filter the data to 1950s onwards\n",
    "- Create a Match ID field so every row in the data had a unique identifier\n",
    "- Calculate the number of matches in each Decade, in each Competition\n",
    "- Filter out the nulls from the Goal Scorers table and join to the dataset\n",
    "- Join on the Segment table based on what segment of time the goal was scored in\n",
    "- e.g. a goal scored 25 minutes into the game should be in the 15-30 segment\n",
    "- Count how many goals were scored in each Segment, for each Competition and Decade\n",
    "- Calculate the Expected number of Goals for each Segment, Competition and Decade\n",
    "- Output the data\n",
    "### Output\n",
    "\n",
    "![5](https://blogger.googleusercontent.com/img/b/R29vZ2xl/AVvXsEhIkofZTtNMyoDS8iZsJcnL0EFz_ve-kdk8HD_EidGjHZVSvFwVvAwzxT3CTQdNKecrjSy4WXQe6t6z3PNSr63VNNakxU0QpDjKi8rDZKLKKGPBPLJJ_8cH6jhyYzXmpdPDHNmnQHCfKwPQiwQr_lcxO6Eku5gRmDVOcsJHyblqFVZalnyrrGIMxoFb-tVJ/s927/Screenshot%202024-07-16%20163555.png)\n",
    "\n",
    "- 6 fields\n",
    "- Competition\n",
    "- Decade\n",
    "- Segment\n",
    "- Total Goals\n",
    "- Matches in a Decade per Competition\n",
    "- Expected number of Goals\n",
    "- 351 rows (352 including headers)"
   ]
  },
  {
   "cell_type": "code",
   "execution_count": 1,
   "metadata": {},
   "outputs": [
    {
     "name": "stdout",
     "output_type": "stream",
     "text": [
      "+----------+---------+---------+---------+--------------------+------+--------+-------+\n",
      "|      date|home_team|away_team|     team|              scorer|minute|own_goal|penalty|\n",
      "+----------+---------+---------+---------+--------------------+------+--------+-------+\n",
      "|1916-07-02|    Chile|  Uruguay|  Uruguay|     José Piendibene|    44|   false|  false|\n",
      "|1916-07-02|    Chile|  Uruguay|  Uruguay|    Isabelino Gradín|    55|   false|  false|\n",
      "|1916-07-02|    Chile|  Uruguay|  Uruguay|    Isabelino Gradín|    70|   false|  false|\n",
      "|1916-07-02|    Chile|  Uruguay|  Uruguay|     José Piendibene|    75|   false|  false|\n",
      "|1916-07-06|Argentina|    Chile|Argentina|       Alberto Ohaco|     2|   false|  false|\n",
      "|1916-07-06|Argentina|    Chile|    Chile|      Telésforo Báez|    44|   false|  false|\n",
      "|1916-07-06|Argentina|    Chile|Argentina|  Juan Domingo Brown|    60|   false|   true|\n",
      "|1916-07-06|Argentina|    Chile|Argentina|  Juan Domingo Brown|    62|   false|   true|\n",
      "|1916-07-06|Argentina|    Chile|Argentina|Alberto Marcovecchio|    67|   false|  false|\n",
      "|1916-07-06|Argentina|    Chile|Argentina|       Alberto Ohaco|    75|   false|  false|\n",
      "|1916-07-06|Argentina|    Chile|Argentina|Alberto Marcovecchio|    81|   false|  false|\n",
      "|1916-07-08|   Brazil|    Chile|   Brazil|Demóstenes Correi...|    29|   false|  false|\n",
      "|1916-07-08|   Brazil|    Chile|    Chile|    Hernando Salazar|    85|   false|  false|\n",
      "|1916-07-10|Argentina|   Brazil|Argentina|  José Durand Laguna|    10|   false|  false|\n",
      "|1916-07-10|Argentina|   Brazil|   Brazil|Manoel Alencar Monte|    23|   false|  false|\n",
      "|1916-07-12|   Brazil|  Uruguay|   Brazil| Arthur Friedenreich|     8|   false|  false|\n",
      "|1916-07-12|   Brazil|  Uruguay|  Uruguay|    Isabelino Gradín|    58|   false|  false|\n",
      "|1916-07-12|   Brazil|  Uruguay|  Uruguay|        Jose Tognola|    77|   false|  false|\n",
      "|1917-09-30|  Uruguay|    Chile|  Uruguay|      Carlos Scarone|    20|   false|  false|\n",
      "|1917-09-30|  Uruguay|    Chile|  Uruguay|        Ángel Romano|    44|   false|  false|\n",
      "+----------+---------+---------+---------+--------------------+------+--------+-------+\n",
      "only showing top 20 rows\n",
      "\n"
     ]
    }
   ],
   "source": [
    "from pyspark.sql import SparkSession\n",
    "\n",
    "# Initialize a Spark session\n",
    "spark = SparkSession.builder.appName(\"FootballAnalysis\").getOrCreate()\n",
    "\n",
    "# Read the goalscorers.csv file into a DataFrame\n",
    "scorers_df = spark.read.csv(\"goalscorers.csv\", header=True, inferSchema=True)\n",
    "\n",
    "# Show the first few rows of the DataFrame\n",
    "scorers_df.show()"
   ]
  },
  {
   "cell_type": "code",
   "execution_count": 2,
   "metadata": {},
   "outputs": [
    {
     "name": "stdout",
     "output_type": "stream",
     "text": [
      "+------------+-------------+--------------------+--------------------+---------+\n",
      "|Participants|    Continent|Football Association|         Competition|    Dates|\n",
      "+------------+-------------+--------------------+--------------------+---------+\n",
      "|      Global|         NULL|                FIFA|           World Cup|1930-2022|\n",
      "| Continental|       Africa|                 CAF|Africa Cup of Nat...|1957-2024|\n",
      "| Continental|         Asia|                 AFC|           Asian Cup|1956-2024|\n",
      "| Continental|       Europe|                UEFA|                Euro|1960-2024|\n",
      "| Continental|North America|            CONCACAF|        Championship|1963–1989|\n",
      "| Continental|North America|            CONCACAF|            Gold Cup|1991-2023|\n",
      "| Continental|      Oceania|                 OFC| Oceania Nations Cup|1973-2024|\n",
      "| Continental|South America|            CONMEBOL|        Copa América|1916-2024|\n",
      "+------------+-------------+--------------------+--------------------+---------+\n",
      "\n"
     ]
    }
   ],
   "source": [
    "# Read the International Competitions.csv file into a DataFrame\n",
    "competitions_df = spark.read.csv(\"International Competitions.csv\", header=True, inferSchema=True)\n",
    "\n",
    "# Show the first few rows of the DataFrame\n",
    "competitions_df.show()"
   ]
  },
  {
   "cell_type": "code",
   "execution_count": 3,
   "metadata": {},
   "outputs": [
    {
     "name": "stdout",
     "output_type": "stream",
     "text": [
      "+----------+----------------+---------+----------+----------+----------+---------+--------+-------+\n",
      "|      date|       home_team|away_team|home_score|away_score|tournament|     city| country|neutral|\n",
      "+----------+----------------+---------+----------+----------+----------+---------+--------+-------+\n",
      "|1872-11-30|        Scotland|  England|         0|         0|  Friendly|  Glasgow|Scotland|  false|\n",
      "|1873-03-08|         England| Scotland|         4|         2|  Friendly|   London| England|  false|\n",
      "|1874-03-07|        Scotland|  England|         2|         1|  Friendly|  Glasgow|Scotland|  false|\n",
      "|1875-03-06|         England| Scotland|         2|         2|  Friendly|   London| England|  false|\n",
      "|1876-03-04|        Scotland|  England|         3|         0|  Friendly|  Glasgow|Scotland|  false|\n",
      "|1876-03-25|        Scotland|    Wales|         4|         0|  Friendly|  Glasgow|Scotland|  false|\n",
      "|1877-03-03|         England| Scotland|         1|         3|  Friendly|   London| England|  false|\n",
      "|1877-03-05|           Wales| Scotland|         0|         2|  Friendly|  Wrexham|   Wales|  false|\n",
      "|1878-03-02|        Scotland|  England|         7|         2|  Friendly|  Glasgow|Scotland|  false|\n",
      "|1878-03-23|        Scotland|    Wales|         9|         0|  Friendly|  Glasgow|Scotland|  false|\n",
      "|1879-01-18|         England|    Wales|         2|         1|  Friendly|   London| England|  false|\n",
      "|1879-04-05|         England| Scotland|         5|         4|  Friendly|   London| England|  false|\n",
      "|1879-04-07|           Wales| Scotland|         0|         3|  Friendly|  Wrexham|   Wales|  false|\n",
      "|1880-03-13|        Scotland|  England|         5|         4|  Friendly|  Glasgow|Scotland|  false|\n",
      "|1880-03-15|           Wales|  England|         2|         3|  Friendly|  Wrexham|   Wales|  false|\n",
      "|1880-03-27|        Scotland|    Wales|         5|         1|  Friendly|  Glasgow|Scotland|  false|\n",
      "|1881-02-26|         England|    Wales|         0|         1|  Friendly|Blackburn| England|  false|\n",
      "|1881-03-12|         England| Scotland|         1|         6|  Friendly|   London| England|  false|\n",
      "|1881-03-14|           Wales| Scotland|         1|         5|  Friendly|  Wrexham|   Wales|  false|\n",
      "|1882-02-18|Northern Ireland|  England|         0|        13|  Friendly|  Belfast| Ireland|  false|\n",
      "+----------+----------------+---------+----------+----------+----------+---------+--------+-------+\n",
      "only showing top 20 rows\n",
      "\n"
     ]
    }
   ],
   "source": [
    "# Read the results.csv file into a DataFrame\n",
    "results_df = spark.read.csv(\"results.csv\", header=True, inferSchema=True)\n",
    "\n",
    "# Show the first few rows of the DataFrame\n",
    "results_df.show()"
   ]
  },
  {
   "cell_type": "code",
   "execution_count": 4,
   "metadata": {},
   "outputs": [
    {
     "name": "stdout",
     "output_type": "stream",
     "text": [
      "+-------+\n",
      "|Segment|\n",
      "+-------+\n",
      "|   0-15|\n",
      "|  15-30|\n",
      "|  30-45|\n",
      "|  45-60|\n",
      "|  60-75|\n",
      "|  75-90|\n",
      "|    90+|\n",
      "+-------+\n",
      "\n"
     ]
    }
   ],
   "source": [
    "# Read the segment.csv file into a DataFrame\n",
    "segment_df = spark.read.csv(\"segment.csv\", header=True, inferSchema=True)\n",
    "\n",
    "# Show the first few rows of the DataFrame\n",
    "segment_df.show()"
   ]
  },
  {
   "cell_type": "code",
   "execution_count": 5,
   "metadata": {},
   "outputs": [
    {
     "name": "stdout",
     "output_type": "stream",
     "text": [
      "+----------+----------------+---------+----------+----------+----------+---------+--------+-------+\n",
      "|      date|       home_team|away_team|home_score|away_score|tournament|     city| country|neutral|\n",
      "+----------+----------------+---------+----------+----------+----------+---------+--------+-------+\n",
      "|1872-11-30|        Scotland|  England|         0|         0|  Friendly|  Glasgow|Scotland|  false|\n",
      "|1873-03-08|         England| Scotland|         4|         2|  Friendly|   London| England|  false|\n",
      "|1874-03-07|        Scotland|  England|         2|         1|  Friendly|  Glasgow|Scotland|  false|\n",
      "|1875-03-06|         England| Scotland|         2|         2|  Friendly|   London| England|  false|\n",
      "|1876-03-04|        Scotland|  England|         3|         0|  Friendly|  Glasgow|Scotland|  false|\n",
      "|1876-03-25|        Scotland|    Wales|         4|         0|  Friendly|  Glasgow|Scotland|  false|\n",
      "|1877-03-03|         England| Scotland|         1|         3|  Friendly|   London| England|  false|\n",
      "|1877-03-05|           Wales| Scotland|         0|         2|  Friendly|  Wrexham|   Wales|  false|\n",
      "|1878-03-02|        Scotland|  England|         7|         2|  Friendly|  Glasgow|Scotland|  false|\n",
      "|1878-03-23|        Scotland|    Wales|         9|         0|  Friendly|  Glasgow|Scotland|  false|\n",
      "|1879-01-18|         England|    Wales|         2|         1|  Friendly|   London| England|  false|\n",
      "|1879-04-05|         England| Scotland|         5|         4|  Friendly|   London| England|  false|\n",
      "|1879-04-07|           Wales| Scotland|         0|         3|  Friendly|  Wrexham|   Wales|  false|\n",
      "|1880-03-13|        Scotland|  England|         5|         4|  Friendly|  Glasgow|Scotland|  false|\n",
      "|1880-03-15|           Wales|  England|         2|         3|  Friendly|  Wrexham|   Wales|  false|\n",
      "|1880-03-27|        Scotland|    Wales|         5|         1|  Friendly|  Glasgow|Scotland|  false|\n",
      "|1881-02-26|         England|    Wales|         0|         1|  Friendly|Blackburn| England|  false|\n",
      "|1881-03-12|         England| Scotland|         1|         6|  Friendly|   London| England|  false|\n",
      "|1881-03-14|           Wales| Scotland|         1|         5|  Friendly|  Wrexham|   Wales|  false|\n",
      "|1882-02-18|Northern Ireland|  England|         0|        13|  Friendly|  Belfast| Ireland|  false|\n",
      "+----------+----------------+---------+----------+----------+----------+---------+--------+-------+\n",
      "only showing top 20 rows\n",
      "\n"
     ]
    }
   ],
   "source": [
    "# Filter out qualification rounds from the results_df\n",
    "filtered_results_df = results_df.filter(~results_df.tournament.contains(\"Qualification\"))\n",
    "\n",
    "# Show the first few rows of the filtered DataFrame\n",
    "filtered_results_df.show()"
   ]
  },
  {
   "cell_type": "code",
   "execution_count": 6,
   "metadata": {},
   "outputs": [
    {
     "name": "stdout",
     "output_type": "stream",
     "text": [
      "+----------+----------------+---------+----------+----------+----------+---------+--------+-------+--------------------+\n",
      "|      date|       home_team|away_team|home_score|away_score|tournament|     city| country|neutral|Football_Association|\n",
      "+----------+----------------+---------+----------+----------+----------+---------+--------+-------+--------------------+\n",
      "|1872-11-30|        Scotland|  England|         0|         0|  Friendly|  Glasgow|Scotland|  false|                    |\n",
      "|1873-03-08|         England| Scotland|         4|         2|  Friendly|   London| England|  false|                    |\n",
      "|1874-03-07|        Scotland|  England|         2|         1|  Friendly|  Glasgow|Scotland|  false|                    |\n",
      "|1875-03-06|         England| Scotland|         2|         2|  Friendly|   London| England|  false|                    |\n",
      "|1876-03-04|        Scotland|  England|         3|         0|  Friendly|  Glasgow|Scotland|  false|                    |\n",
      "|1876-03-25|        Scotland|    Wales|         4|         0|  Friendly|  Glasgow|Scotland|  false|                    |\n",
      "|1877-03-03|         England| Scotland|         1|         3|  Friendly|   London| England|  false|                    |\n",
      "|1877-03-05|           Wales| Scotland|         0|         2|  Friendly|  Wrexham|   Wales|  false|                    |\n",
      "|1878-03-02|        Scotland|  England|         7|         2|  Friendly|  Glasgow|Scotland|  false|                    |\n",
      "|1878-03-23|        Scotland|    Wales|         9|         0|  Friendly|  Glasgow|Scotland|  false|                    |\n",
      "|1879-01-18|         England|    Wales|         2|         1|  Friendly|   London| England|  false|                    |\n",
      "|1879-04-05|         England| Scotland|         5|         4|  Friendly|   London| England|  false|                    |\n",
      "|1879-04-07|           Wales| Scotland|         0|         3|  Friendly|  Wrexham|   Wales|  false|                    |\n",
      "|1880-03-13|        Scotland|  England|         5|         4|  Friendly|  Glasgow|Scotland|  false|                    |\n",
      "|1880-03-15|           Wales|  England|         2|         3|  Friendly|  Wrexham|   Wales|  false|                    |\n",
      "|1880-03-27|        Scotland|    Wales|         5|         1|  Friendly|  Glasgow|Scotland|  false|                    |\n",
      "|1881-02-26|         England|    Wales|         0|         1|  Friendly|Blackburn| England|  false|                    |\n",
      "|1881-03-12|         England| Scotland|         1|         6|  Friendly|   London| England|  false|                    |\n",
      "|1881-03-14|           Wales| Scotland|         1|         5|  Friendly|  Wrexham|   Wales|  false|                    |\n",
      "|1882-02-18|Northern Ireland|  England|         0|        13|  Friendly|  Belfast| Ireland|  false|                    |\n",
      "+----------+----------------+---------+----------+----------+----------+---------+--------+-------+--------------------+\n",
      "only showing top 20 rows\n",
      "\n"
     ]
    }
   ],
   "source": [
    "from pyspark.sql.functions import regexp_extract\n",
    "\n",
    "# Extract the Football Association from the tournament field\n",
    "filtered_results_df = filtered_results_df.withColumn('Football_Association', regexp_extract('tournament', '([A-Z]{2,}).*', 1))\n",
    "\n",
    "# Show the first few rows of the updated DataFrame\n",
    "filtered_results_df.show()"
   ]
  },
  {
   "cell_type": "code",
   "execution_count": 7,
   "metadata": {},
   "outputs": [
    {
     "name": "stdout",
     "output_type": "stream",
     "text": [
      "+----------+----------------+---------+----------+----------+----------+---------+--------+-------+--------------------+-----------+\n",
      "|      date|       home_team|away_team|home_score|away_score|tournament|     city| country|neutral|Football_Association|Competition|\n",
      "+----------+----------------+---------+----------+----------+----------+---------+--------+-------+--------------------+-----------+\n",
      "|1872-11-30|        Scotland|  England|         0|         0|  Friendly|  Glasgow|Scotland|  false|                    |   Friendly|\n",
      "|1873-03-08|         England| Scotland|         4|         2|  Friendly|   London| England|  false|                    |   Friendly|\n",
      "|1874-03-07|        Scotland|  England|         2|         1|  Friendly|  Glasgow|Scotland|  false|                    |   Friendly|\n",
      "|1875-03-06|         England| Scotland|         2|         2|  Friendly|   London| England|  false|                    |   Friendly|\n",
      "|1876-03-04|        Scotland|  England|         3|         0|  Friendly|  Glasgow|Scotland|  false|                    |   Friendly|\n",
      "|1876-03-25|        Scotland|    Wales|         4|         0|  Friendly|  Glasgow|Scotland|  false|                    |   Friendly|\n",
      "|1877-03-03|         England| Scotland|         1|         3|  Friendly|   London| England|  false|                    |   Friendly|\n",
      "|1877-03-05|           Wales| Scotland|         0|         2|  Friendly|  Wrexham|   Wales|  false|                    |   Friendly|\n",
      "|1878-03-02|        Scotland|  England|         7|         2|  Friendly|  Glasgow|Scotland|  false|                    |   Friendly|\n",
      "|1878-03-23|        Scotland|    Wales|         9|         0|  Friendly|  Glasgow|Scotland|  false|                    |   Friendly|\n",
      "|1879-01-18|         England|    Wales|         2|         1|  Friendly|   London| England|  false|                    |   Friendly|\n",
      "|1879-04-05|         England| Scotland|         5|         4|  Friendly|   London| England|  false|                    |   Friendly|\n",
      "|1879-04-07|           Wales| Scotland|         0|         3|  Friendly|  Wrexham|   Wales|  false|                    |   Friendly|\n",
      "|1880-03-13|        Scotland|  England|         5|         4|  Friendly|  Glasgow|Scotland|  false|                    |   Friendly|\n",
      "|1880-03-15|           Wales|  England|         2|         3|  Friendly|  Wrexham|   Wales|  false|                    |   Friendly|\n",
      "|1880-03-27|        Scotland|    Wales|         5|         1|  Friendly|  Glasgow|Scotland|  false|                    |   Friendly|\n",
      "|1881-02-26|         England|    Wales|         0|         1|  Friendly|Blackburn| England|  false|                    |   Friendly|\n",
      "|1881-03-12|         England| Scotland|         1|         6|  Friendly|   London| England|  false|                    |   Friendly|\n",
      "|1881-03-14|           Wales| Scotland|         1|         5|  Friendly|  Wrexham|   Wales|  false|                    |   Friendly|\n",
      "|1882-02-18|Northern Ireland|  England|         0|        13|  Friendly|  Belfast| Ireland|  false|                    |   Friendly|\n",
      "+----------+----------------+---------+----------+----------+----------+---------+--------+-------+--------------------+-----------+\n",
      "only showing top 20 rows\n",
      "\n"
     ]
    }
   ],
   "source": [
    "from pyspark.sql.functions import when, col\n",
    "\n",
    "# Create the 'Competition' column\n",
    "filtered_results_df = filtered_results_df.withColumn(\n",
    "    'Competition',\n",
    "    when(col('Football_Association') == '', col('tournament'))\n",
    "    .otherwise(regexp_extract('tournament', 'Football_Association', 1))\n",
    ")\n",
    "\n",
    "# Show the first few rows of the updated DataFrame\n",
    "filtered_results_df.show()"
   ]
  },
  {
   "cell_type": "code",
   "execution_count": 8,
   "metadata": {},
   "outputs": [
    {
     "name": "stdout",
     "output_type": "stream",
     "text": [
      "Number of unique competitions: 125\n"
     ]
    }
   ],
   "source": [
    "unique_competitions_count = filtered_results_df.select(\"Competition\").distinct().count()\n",
    "print(f\"Number of unique competitions: {unique_competitions_count}\")"
   ]
  }
 ],
 "metadata": {
  "kernelspec": {
   "display_name": "Python 3",
   "language": "python",
   "name": "python3"
  },
  "language_info": {
   "codemirror_mode": {
    "name": "ipython",
    "version": 3
   },
   "file_extension": ".py",
   "mimetype": "text/x-python",
   "name": "python",
   "nbconvert_exporter": "python",
   "pygments_lexer": "ipython3",
   "version": "3.13.1"
  }
 },
 "nbformat": 4,
 "nbformat_minor": 2
}

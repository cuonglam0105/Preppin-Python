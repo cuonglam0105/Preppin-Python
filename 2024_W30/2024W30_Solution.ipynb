{
 "cells": [
  {
   "cell_type": "markdown",
   "metadata": {},
   "source": [
    "# 2024: Week 30 - International Football Special\n",
    "\n",
    "July 24, 2024\n",
    "\n",
    "Challenge by: Jenny Martin\n",
    "\n",
    "It's been a big month for International Football, with both the Euros and the Copa América. Personally, I'm not a big football fan, so the question that I'm looking to answer is:\n",
    "\n",
    "If I'm only going to watch 15 minutes of a match, which time interval will be the most exciting? How does that vary by competition and has it changed over the years?\n",
    "Inputs\n",
    "The data this week comes from an incredible data source I found on Kaggle which contains over 47,000 results of international football matches. Thanks to Mart Jürisoo for collecting this data! \n",
    "\n",
    "1. Results table \n",
    "\n",
    "![1](https://blogger.googleusercontent.com/img/b/R29vZ2xl/AVvXsEgZP2sGbD5_kyD7ISa2HYcMgv2xdrigRgf9zdVzKTAcdZEaNYxJdhP1RCvWqpUKPFtZF1P3U5uh62vEo0KXHK0uBOYUxeblifShgdDqKBc4wKpb1iQKMXNhJSThEOCA3wZwyiuZTTvreH83hmhVVFLcrtUaT0dSHEqR_3uwb3_e-1KjjPGEz8Qd9BRjkBjz/s1242/Screenshot%202024-07-12%20112558.png)\n",
    "\n",
    "2. International Competitions table \n",
    "\n",
    "![2](https://blogger.googleusercontent.com/img/b/R29vZ2xl/AVvXsEih9_edQVgi4u54jtdYSPhNjpYxhBVh1qEP0ApXkyLJ5z8TTm0jlOGfknwE3Ej8WcSxT_kZwJ53rBLmRD19hEeCFIrIVHh2VNpT2eeD1owayx6J-a_bLxxqzt5VRmJUNjXFy5FkXagj4_3JKyXCWEc96fBMnBIDmMuD2UyfKYl2JnjdxFgFSwO2WycmG91g/s839/Screenshot%202024-07-12%20112705.png)\n",
    "\n",
    "3. Goal Scorers table - currently only available for World Cup and Continental Championships so this is where we will focus our analysis \n",
    "\n",
    "![3](https://blogger.googleusercontent.com/img/b/R29vZ2xl/AVvXsEjPGSAMLx6yHO24UeOWSmE1iHOHxt7OzyrvdZk6vFADFh7u59oMM55x0rPiDKLZHZF7uS7iuh18mdahHK2vRokqAVYoYDu523yM0wHJdjQAzQshzfMBnfAeYIMCaZ2PuIxw3F3pOl4z7FF6Il6IBFKoesZSqocWcgR70NmWt8iGHLMmx9k0Wq4mzXKG0gxe/s1065/Screenshot%202024-07-12%20112823.png)\n",
    "\n",
    "4. Segment table \n",
    "\n",
    "![4](https://blogger.googleusercontent.com/img/b/R29vZ2xl/AVvXsEgyLAB2DR7FlKWz3TSXr7FFDIPLtDmtia_KwtsZH3PurgdtslliaCiAYIeBaJu2qHLwqsLo9DzgcrhyCcZaWVgBBQr8KI8FmIKlxIXzfu_JE4-CJQFRw98dYCVyesbGodYqJMkdtbyNwyLo_V4_VoGqJ2MbCuUJ3wqpLWeIS_bMtVozPOWFCeTj9GoQYwxP/s293/Screenshot%202024-07-12%20112907.png)\n",
    "\n",
    "### Requirements\n",
    "- Input the data\n",
    "- Filter out Qualification rounds from the Results table\n",
    "- Split out the Football Association and Competition from the tournament field\n",
    "- e.g. For UEFA Euro, UEFA is the Football Association and Euro is the Competition\n",
    "- Not all tournaments contain information about the Football Association\n",
    "- Join to the International Competitions table\n",
    "- All 8 competitions should be included\n",
    "- For the CONCACAF Championship ensure the correct Football Association and Competition are joined\n",
    "- Create a field for the Decade the competition took place in\n",
    "- Filter the data to 1950s onwards\n",
    "- Create a Match ID field so every row in the data had a unique identifier\n",
    "- Calculate the number of matches in each Decade, in each Competition\n",
    "- Filter out the nulls from the Goal Scorers table and join to the dataset\n",
    "- Join on the Segment table based on what segment of time the goal was scored in\n",
    "- e.g. a goal scored 25 minutes into the game should be in the 15-30 segment\n",
    "- Count how many goals were scored in each Segment, for each Competition and Decade\n",
    "- Calculate the Expected number of Goals for each Segment, Competition and Decade\n",
    "- Output the data\n",
    "### Output\n",
    "\n",
    "![5](https://blogger.googleusercontent.com/img/b/R29vZ2xl/AVvXsEhIkofZTtNMyoDS8iZsJcnL0EFz_ve-kdk8HD_EidGjHZVSvFwVvAwzxT3CTQdNKecrjSy4WXQe6t6z3PNSr63VNNakxU0QpDjKi8rDZKLKKGPBPLJJ_8cH6jhyYzXmpdPDHNmnQHCfKwPQiwQr_lcxO6Eku5gRmDVOcsJHyblqFVZalnyrrGIMxoFb-tVJ/s927/Screenshot%202024-07-16%20163555.png)\n",
    "\n",
    "- 6 fields\n",
    "- Competition\n",
    "- Decade\n",
    "- Segment\n",
    "- Total Goals\n",
    "- Matches in a Decade per Competition\n",
    "- Expected number of Goals\n",
    "- 351 rows (352 including headers)"
   ]
  },
  {
   "cell_type": "code",
   "execution_count": null,
   "metadata": {},
   "outputs": [
    {
     "ename": "ModuleNotFoundError",
     "evalue": "No module named 'pyspark'",
     "output_type": "error",
     "traceback": [
      "\u001b[31m---------------------------------------------------------------------------\u001b[39m",
      "\u001b[31mModuleNotFoundError\u001b[39m                       Traceback (most recent call last)",
      "\u001b[36mCell\u001b[39m\u001b[36m \u001b[39m\u001b[32mIn[2]\u001b[39m\u001b[32m, line 1\u001b[39m\n\u001b[32m----> \u001b[39m\u001b[32m1\u001b[39m \u001b[38;5;28;01mfrom\u001b[39;00m\u001b[38;5;250m \u001b[39m\u001b[34;01mpyspark\u001b[39;00m\u001b[34;01m.\u001b[39;00m\u001b[34;01msql\u001b[39;00m\u001b[38;5;250m \u001b[39m\u001b[38;5;28;01mimport\u001b[39;00m SparkSession\n\u001b[32m      3\u001b[39m \u001b[38;5;66;03m# Initialize a Spark session\u001b[39;00m\n\u001b[32m      4\u001b[39m spark = SparkSession.builder.appName(\u001b[33m\"\u001b[39m\u001b[33mInternationalFootball\u001b[39m\u001b[33m\"\u001b[39m).getOrCreate()\n",
      "\u001b[31mModuleNotFoundError\u001b[39m: No module named 'pyspark'"
     ]
    }
   ],
   "source": [
    "from pyspark.sql import SparkSession\n",
    "\n",
    "# Initialize a Spark session\n",
    "spark = SparkSession.builder.appName(\"InternationalFootball\").getOrCreate()\n",
    "\n",
    "# Read the goalscorers.csv file\n",
    "goal_scorers_df = spark.read.csv(\"goalscorers.csv\", header=True, inferSchema=True)\n",
    "\n",
    "# Show the first few rows of the dataframe\n",
    "goal_scorers_df.show()"
   ]
  },
  {
   "cell_type": "code",
   "execution_count": 1,
   "metadata": {},
   "outputs": [
    {
     "ename": "NameError",
     "evalue": "name 'spark' is not defined",
     "output_type": "error",
     "traceback": [
      "\u001b[1;31m---------------------------------------------------------------------------\u001b[0m",
      "\u001b[1;31mNameError\u001b[0m                                 Traceback (most recent call last)",
      "Cell \u001b[1;32mIn[1], line 2\u001b[0m\n\u001b[0;32m      1\u001b[0m \u001b[38;5;66;03m# Read the results.csv file\u001b[39;00m\n\u001b[1;32m----> 2\u001b[0m results_df \u001b[38;5;241m=\u001b[39m \u001b[43mspark\u001b[49m\u001b[38;5;241m.\u001b[39mread\u001b[38;5;241m.\u001b[39mcsv(\u001b[38;5;124m\"\u001b[39m\u001b[38;5;124mresults.csv\u001b[39m\u001b[38;5;124m\"\u001b[39m, header\u001b[38;5;241m=\u001b[39m\u001b[38;5;28;01mTrue\u001b[39;00m, inferSchema\u001b[38;5;241m=\u001b[39m\u001b[38;5;28;01mTrue\u001b[39;00m)\n\u001b[0;32m      4\u001b[0m \u001b[38;5;66;03m# Show the first few rows of the dataframe\u001b[39;00m\n\u001b[0;32m      5\u001b[0m results_df\u001b[38;5;241m.\u001b[39mshow()\n",
      "\u001b[1;31mNameError\u001b[0m: name 'spark' is not defined"
     ]
    }
   ],
   "source": [
    "# Read the results.csv file\n",
    "results_df = spark.read.csv(\"results.csv\", header=True, inferSchema=True)\n",
    "\n",
    "# Show the first few rows of the dataframe\n",
    "results_df.show()"
   ]
  },
  {
   "cell_type": "code",
   "execution_count": null,
   "metadata": {},
   "outputs": [
    {
     "name": "stdout",
     "output_type": "stream",
     "text": [
      "+------------+-------------+----------------------+--------------------+---------+\n",
      "|Participants|    Continent|Football Association-1|         Competition|    Dates|\n",
      "+------------+-------------+----------------------+--------------------+---------+\n",
      "|      Global|         NULL|                  FIFA|           World Cup|1930-2022|\n",
      "| Continental|       Africa|                   CAF|Africa Cup of Nat...|1957-2024|\n",
      "| Continental|         Asia|                   AFC|           Asian Cup|1956-2024|\n",
      "| Continental|       Europe|                  UEFA|                Euro|1960-2024|\n",
      "| Continental|North America|              CONCACAF|        Championship|1963–1989|\n",
      "| Continental|North America|              CONCACAF|            Gold Cup|1991-2023|\n",
      "| Continental|      Oceania|                   OFC| Oceania Nations Cup|1973-2024|\n",
      "| Continental|South America|              CONMEBOL|        Copa América|1916-2024|\n",
      "+------------+-------------+----------------------+--------------------+---------+\n",
      "\n"
     ]
    }
   ],
   "source": [
    "# Read the international competitions.csv file\n",
    "competitions_df = spark.read.csv(\"international competitions.csv\", header=True, inferSchema=True)\n",
    "\n",
    "# Show the first few rows of the dataframe\n",
    "# Rename 'Football Association' column to 'Football Association-1'\n",
    "competitions_df = competitions_df.withColumnRenamed('Football Association', 'Football Association-1')\n",
    "\n",
    "# Show the first few rows of the dataframe\n",
    "competitions_df.show()"
   ]
  },
  {
   "cell_type": "code",
   "execution_count": null,
   "metadata": {},
   "outputs": [
    {
     "name": "stdout",
     "output_type": "stream",
     "text": [
      "+-------+\n",
      "|Segment|\n",
      "+-------+\n",
      "|   0-15|\n",
      "|  15-30|\n",
      "|  30-45|\n",
      "|  45-60|\n",
      "|  60-75|\n",
      "|  75-90|\n",
      "|    90+|\n",
      "+-------+\n",
      "\n"
     ]
    }
   ],
   "source": [
    "# Read the segment.csv file\n",
    "segment_df = spark.read.csv(\"segment.csv\", header=True, inferSchema=True)\n",
    "\n",
    "# Show the first few rows of the dataframe\n",
    "segment_df.show()"
   ]
  },
  {
   "cell_type": "code",
   "execution_count": null,
   "metadata": {},
   "outputs": [
    {
     "name": "stdout",
     "output_type": "stream",
     "text": [
      "+----------+----------------+---------+----------+----------+----------+---------+--------+-------+\n",
      "|      date|       home_team|away_team|home_score|away_score|tournament|     city| country|neutral|\n",
      "+----------+----------------+---------+----------+----------+----------+---------+--------+-------+\n",
      "|1872-11-30|        Scotland|  England|         0|         0|  Friendly|  Glasgow|Scotland|  false|\n",
      "|1873-03-08|         England| Scotland|         4|         2|  Friendly|   London| England|  false|\n",
      "|1874-03-07|        Scotland|  England|         2|         1|  Friendly|  Glasgow|Scotland|  false|\n",
      "|1875-03-06|         England| Scotland|         2|         2|  Friendly|   London| England|  false|\n",
      "|1876-03-04|        Scotland|  England|         3|         0|  Friendly|  Glasgow|Scotland|  false|\n",
      "|1876-03-25|        Scotland|    Wales|         4|         0|  Friendly|  Glasgow|Scotland|  false|\n",
      "|1877-03-03|         England| Scotland|         1|         3|  Friendly|   London| England|  false|\n",
      "|1877-03-05|           Wales| Scotland|         0|         2|  Friendly|  Wrexham|   Wales|  false|\n",
      "|1878-03-02|        Scotland|  England|         7|         2|  Friendly|  Glasgow|Scotland|  false|\n",
      "|1878-03-23|        Scotland|    Wales|         9|         0|  Friendly|  Glasgow|Scotland|  false|\n",
      "|1879-01-18|         England|    Wales|         2|         1|  Friendly|   London| England|  false|\n",
      "|1879-04-05|         England| Scotland|         5|         4|  Friendly|   London| England|  false|\n",
      "|1879-04-07|           Wales| Scotland|         0|         3|  Friendly|  Wrexham|   Wales|  false|\n",
      "|1880-03-13|        Scotland|  England|         5|         4|  Friendly|  Glasgow|Scotland|  false|\n",
      "|1880-03-15|           Wales|  England|         2|         3|  Friendly|  Wrexham|   Wales|  false|\n",
      "|1880-03-27|        Scotland|    Wales|         5|         1|  Friendly|  Glasgow|Scotland|  false|\n",
      "|1881-02-26|         England|    Wales|         0|         1|  Friendly|Blackburn| England|  false|\n",
      "|1881-03-12|         England| Scotland|         1|         6|  Friendly|   London| England|  false|\n",
      "|1881-03-14|           Wales| Scotland|         1|         5|  Friendly|  Wrexham|   Wales|  false|\n",
      "|1882-02-18|Northern Ireland|  England|         0|        13|  Friendly|  Belfast| Ireland|  false|\n",
      "+----------+----------------+---------+----------+----------+----------+---------+--------+-------+\n",
      "only showing top 20 rows\n",
      "\n"
     ]
    }
   ],
   "source": [
    "# Filter out records that have 'qualification' in the 'tournament' column\n",
    "filtered_results_df = results_df.filter(~results_df.tournament.contains('qualification'))\n",
    "\n",
    "# Show the first few rows of the filtered dataframe\n",
    "filtered_results_df.show()"
   ]
  },
  {
   "cell_type": "code",
   "execution_count": null,
   "metadata": {},
   "outputs": [
    {
     "name": "stdout",
     "output_type": "stream",
     "text": [
      "+----------+----------------+---------+----------+----------+----------+---------+--------+-------+--------------------+\n",
      "|      date|       home_team|away_team|home_score|away_score|tournament|     city| country|neutral|Football Association|\n",
      "+----------+----------------+---------+----------+----------+----------+---------+--------+-------+--------------------+\n",
      "|1872-11-30|        Scotland|  England|         0|         0|  Friendly|  Glasgow|Scotland|  false|                    |\n",
      "|1873-03-08|         England| Scotland|         4|         2|  Friendly|   London| England|  false|                    |\n",
      "|1874-03-07|        Scotland|  England|         2|         1|  Friendly|  Glasgow|Scotland|  false|                    |\n",
      "|1875-03-06|         England| Scotland|         2|         2|  Friendly|   London| England|  false|                    |\n",
      "|1876-03-04|        Scotland|  England|         3|         0|  Friendly|  Glasgow|Scotland|  false|                    |\n",
      "|1876-03-25|        Scotland|    Wales|         4|         0|  Friendly|  Glasgow|Scotland|  false|                    |\n",
      "|1877-03-03|         England| Scotland|         1|         3|  Friendly|   London| England|  false|                    |\n",
      "|1877-03-05|           Wales| Scotland|         0|         2|  Friendly|  Wrexham|   Wales|  false|                    |\n",
      "|1878-03-02|        Scotland|  England|         7|         2|  Friendly|  Glasgow|Scotland|  false|                    |\n",
      "|1878-03-23|        Scotland|    Wales|         9|         0|  Friendly|  Glasgow|Scotland|  false|                    |\n",
      "|1879-01-18|         England|    Wales|         2|         1|  Friendly|   London| England|  false|                    |\n",
      "|1879-04-05|         England| Scotland|         5|         4|  Friendly|   London| England|  false|                    |\n",
      "|1879-04-07|           Wales| Scotland|         0|         3|  Friendly|  Wrexham|   Wales|  false|                    |\n",
      "|1880-03-13|        Scotland|  England|         5|         4|  Friendly|  Glasgow|Scotland|  false|                    |\n",
      "|1880-03-15|           Wales|  England|         2|         3|  Friendly|  Wrexham|   Wales|  false|                    |\n",
      "|1880-03-27|        Scotland|    Wales|         5|         1|  Friendly|  Glasgow|Scotland|  false|                    |\n",
      "|1881-02-26|         England|    Wales|         0|         1|  Friendly|Blackburn| England|  false|                    |\n",
      "|1881-03-12|         England| Scotland|         1|         6|  Friendly|   London| England|  false|                    |\n",
      "|1881-03-14|           Wales| Scotland|         1|         5|  Friendly|  Wrexham|   Wales|  false|                    |\n",
      "|1882-02-18|Northern Ireland|  England|         0|        13|  Friendly|  Belfast| Ireland|  false|                    |\n",
      "+----------+----------------+---------+----------+----------+----------+---------+--------+-------+--------------------+\n",
      "only showing top 20 rows\n",
      "\n"
     ]
    }
   ],
   "source": [
    "from pyspark.sql.functions import regexp_extract\n",
    "\n",
    "# Create a new column 'Football Association' using regexp_extract\n",
    "filtered_results_df = filtered_results_df.withColumn('Football Association', regexp_extract('tournament', '([A-Z]{2,}).*', 1))\n",
    "\n",
    "# Show the first few rows of the updated dataframe\n",
    "filtered_results_df.show()"
   ]
  },
  {
   "cell_type": "code",
   "execution_count": null,
   "metadata": {},
   "outputs": [
    {
     "name": "stdout",
     "output_type": "stream",
     "text": [
      "+----------+----------------+---------+----------+----------+----------+---------+--------+-------+--------------------+-----------+\n",
      "|      date|       home_team|away_team|home_score|away_score|tournament|     city| country|neutral|Football Association|Competition|\n",
      "+----------+----------------+---------+----------+----------+----------+---------+--------+-------+--------------------+-----------+\n",
      "|1872-11-30|        Scotland|  England|         0|         0|  Friendly|  Glasgow|Scotland|  false|                    |   Friendly|\n",
      "|1873-03-08|         England| Scotland|         4|         2|  Friendly|   London| England|  false|                    |   Friendly|\n",
      "|1874-03-07|        Scotland|  England|         2|         1|  Friendly|  Glasgow|Scotland|  false|                    |   Friendly|\n",
      "|1875-03-06|         England| Scotland|         2|         2|  Friendly|   London| England|  false|                    |   Friendly|\n",
      "|1876-03-04|        Scotland|  England|         3|         0|  Friendly|  Glasgow|Scotland|  false|                    |   Friendly|\n",
      "|1876-03-25|        Scotland|    Wales|         4|         0|  Friendly|  Glasgow|Scotland|  false|                    |   Friendly|\n",
      "|1877-03-03|         England| Scotland|         1|         3|  Friendly|   London| England|  false|                    |   Friendly|\n",
      "|1877-03-05|           Wales| Scotland|         0|         2|  Friendly|  Wrexham|   Wales|  false|                    |   Friendly|\n",
      "|1878-03-02|        Scotland|  England|         7|         2|  Friendly|  Glasgow|Scotland|  false|                    |   Friendly|\n",
      "|1878-03-23|        Scotland|    Wales|         9|         0|  Friendly|  Glasgow|Scotland|  false|                    |   Friendly|\n",
      "|1879-01-18|         England|    Wales|         2|         1|  Friendly|   London| England|  false|                    |   Friendly|\n",
      "|1879-04-05|         England| Scotland|         5|         4|  Friendly|   London| England|  false|                    |   Friendly|\n",
      "|1879-04-07|           Wales| Scotland|         0|         3|  Friendly|  Wrexham|   Wales|  false|                    |   Friendly|\n",
      "|1880-03-13|        Scotland|  England|         5|         4|  Friendly|  Glasgow|Scotland|  false|                    |   Friendly|\n",
      "|1880-03-15|           Wales|  England|         2|         3|  Friendly|  Wrexham|   Wales|  false|                    |   Friendly|\n",
      "|1880-03-27|        Scotland|    Wales|         5|         1|  Friendly|  Glasgow|Scotland|  false|                    |   Friendly|\n",
      "|1881-02-26|         England|    Wales|         0|         1|  Friendly|Blackburn| England|  false|                    |   Friendly|\n",
      "|1881-03-12|         England| Scotland|         1|         6|  Friendly|   London| England|  false|                    |   Friendly|\n",
      "|1881-03-14|           Wales| Scotland|         1|         5|  Friendly|  Wrexham|   Wales|  false|                    |   Friendly|\n",
      "|1882-02-18|Northern Ireland|  England|         0|        13|  Friendly|  Belfast| Ireland|  false|                    |   Friendly|\n",
      "+----------+----------------+---------+----------+----------+----------+---------+--------+-------+--------------------+-----------+\n",
      "only showing top 20 rows\n",
      "\n"
     ]
    }
   ],
   "source": [
    "from pyspark.sql.functions import when, trim, isnull, regexp_replace\n",
    "\n",
    "# Create the new column 'Competition'\n",
    "filtered_results_df = filtered_results_df.withColumn(\n",
    "    'Competition',\n",
    "    trim(\n",
    "        when(\n",
    "            isnull(filtered_results_df['Football Association']),\n",
    "            filtered_results_df['tournament']\n",
    "        ).otherwise(\n",
    "            regexp_replace(filtered_results_df['tournament'], filtered_results_df['Football Association'], '')\n",
    "        )\n",
    "    )\n",
    ")\n",
    "\n",
    "# Show the first few rows of the updated dataframe\n",
    "filtered_results_df.show()"
   ]
  },
  {
   "cell_type": "code",
   "execution_count": null,
   "metadata": {},
   "outputs": [
    {
     "name": "stdout",
     "output_type": "stream",
     "text": [
      "+----------+----------------+---------+----------+----------+----------+---------+--------+-------+--------------------+-----------+\n",
      "|      date|       home_team|away_team|home_score|away_score|tournament|     city| country|neutral|Football Association|Competition|\n",
      "+----------+----------------+---------+----------+----------+----------+---------+--------+-------+--------------------+-----------+\n",
      "|1872-11-30|        Scotland|  England|         0|         0|  Friendly|  Glasgow|Scotland|  false|                    |   Friendly|\n",
      "|1873-03-08|         England| Scotland|         4|         2|  Friendly|   London| England|  false|                    |   Friendly|\n",
      "|1874-03-07|        Scotland|  England|         2|         1|  Friendly|  Glasgow|Scotland|  false|                    |   Friendly|\n",
      "|1875-03-06|         England| Scotland|         2|         2|  Friendly|   London| England|  false|                    |   Friendly|\n",
      "|1876-03-04|        Scotland|  England|         3|         0|  Friendly|  Glasgow|Scotland|  false|                    |   Friendly|\n",
      "|1876-03-25|        Scotland|    Wales|         4|         0|  Friendly|  Glasgow|Scotland|  false|                    |   Friendly|\n",
      "|1877-03-03|         England| Scotland|         1|         3|  Friendly|   London| England|  false|                    |   Friendly|\n",
      "|1877-03-05|           Wales| Scotland|         0|         2|  Friendly|  Wrexham|   Wales|  false|                    |   Friendly|\n",
      "|1878-03-02|        Scotland|  England|         7|         2|  Friendly|  Glasgow|Scotland|  false|                    |   Friendly|\n",
      "|1878-03-23|        Scotland|    Wales|         9|         0|  Friendly|  Glasgow|Scotland|  false|                    |   Friendly|\n",
      "|1879-01-18|         England|    Wales|         2|         1|  Friendly|   London| England|  false|                    |   Friendly|\n",
      "|1879-04-05|         England| Scotland|         5|         4|  Friendly|   London| England|  false|                    |   Friendly|\n",
      "|1879-04-07|           Wales| Scotland|         0|         3|  Friendly|  Wrexham|   Wales|  false|                    |   Friendly|\n",
      "|1880-03-13|        Scotland|  England|         5|         4|  Friendly|  Glasgow|Scotland|  false|                    |   Friendly|\n",
      "|1880-03-15|           Wales|  England|         2|         3|  Friendly|  Wrexham|   Wales|  false|                    |   Friendly|\n",
      "|1880-03-27|        Scotland|    Wales|         5|         1|  Friendly|  Glasgow|Scotland|  false|                    |   Friendly|\n",
      "|1881-02-26|         England|    Wales|         0|         1|  Friendly|Blackburn| England|  false|                    |   Friendly|\n",
      "|1881-03-12|         England| Scotland|         1|         6|  Friendly|   London| England|  false|                    |   Friendly|\n",
      "|1881-03-14|           Wales| Scotland|         1|         5|  Friendly|  Wrexham|   Wales|  false|                    |   Friendly|\n",
      "|1882-02-18|Northern Ireland|  England|         0|        13|  Friendly|  Belfast| Ireland|  false|                    |   Friendly|\n",
      "+----------+----------------+---------+----------+----------+----------+---------+--------+-------+--------------------+-----------+\n",
      "only showing top 20 rows\n",
      "\n"
     ]
    }
   ],
   "source": [
    "from pyspark.sql.functions import regexp_replace\n",
    "\n",
    "# Replace 'African' with 'Africa' in the 'Competition' column\n",
    "filtered_results_df = filtered_results_df.withColumn('Competition', regexp_replace('Competition', 'African', 'Africa'))\n",
    "\n",
    "# Show the first few rows of the updated dataframe\n",
    "filtered_results_df.show()"
   ]
  },
  {
   "cell_type": "code",
   "execution_count": null,
   "metadata": {},
   "outputs": [
    {
     "name": "stdout",
     "output_type": "stream",
     "text": [
      "+------------+----------+---------+---------+----------+----------+------------+--------------+---------+-------+--------------------+------------+-------------+----------------------+---------+\n",
      "| Competition|      date|home_team|away_team|home_score|away_score|  tournament|          city|  country|neutral|Football Association|Participants|    Continent|Football Association-1|    Dates|\n",
      "+------------+----------+---------+---------+----------+----------+------------+--------------+---------+-------+--------------------+------------+-------------+----------------------+---------+\n",
      "|Copa América|1916-07-02|    Chile|  Uruguay|         0|         4|Copa América|  Buenos Aires|Argentina|   true|                    | Continental|South America|              CONMEBOL|1916-2024|\n",
      "|Copa América|1916-07-06|Argentina|    Chile|         6|         1|Copa América|  Buenos Aires|Argentina|  false|                    | Continental|South America|              CONMEBOL|1916-2024|\n",
      "|Copa América|1916-07-08|   Brazil|    Chile|         1|         1|Copa América|  Buenos Aires|Argentina|   true|                    | Continental|South America|              CONMEBOL|1916-2024|\n",
      "|Copa América|1916-07-10|Argentina|   Brazil|         1|         1|Copa América|  Buenos Aires|Argentina|  false|                    | Continental|South America|              CONMEBOL|1916-2024|\n",
      "|Copa América|1916-07-12|   Brazil|  Uruguay|         1|         2|Copa América|  Buenos Aires|Argentina|   true|                    | Continental|South America|              CONMEBOL|1916-2024|\n",
      "|Copa América|1916-07-17|Argentina|  Uruguay|         0|         0|Copa América|    Avellaneda|Argentina|  false|                    | Continental|South America|              CONMEBOL|1916-2024|\n",
      "|Copa América|1917-09-30|  Uruguay|    Chile|         4|         0|Copa América|    Montevideo|  Uruguay|  false|                    | Continental|South America|              CONMEBOL|1916-2024|\n",
      "|Copa América|1917-10-03|Argentina|   Brazil|         4|         2|Copa América|    Montevideo|  Uruguay|   true|                    | Continental|South America|              CONMEBOL|1916-2024|\n",
      "|Copa América|1917-10-06|Argentina|    Chile|         1|         0|Copa América|    Montevideo|  Uruguay|   true|                    | Continental|South America|              CONMEBOL|1916-2024|\n",
      "|Copa América|1917-10-07|  Uruguay|   Brazil|         4|         0|Copa América|    Montevideo|  Uruguay|  false|                    | Continental|South America|              CONMEBOL|1916-2024|\n",
      "|Copa América|1917-10-12|   Brazil|    Chile|         5|         0|Copa América|    Montevideo|  Uruguay|   true|                    | Continental|South America|              CONMEBOL|1916-2024|\n",
      "|Copa América|1917-10-14|  Uruguay|Argentina|         1|         0|Copa América|    Montevideo|  Uruguay|  false|                    | Continental|South America|              CONMEBOL|1916-2024|\n",
      "|Copa América|1919-05-11|   Brazil|    Chile|         6|         0|Copa América|Rio de Janeiro|   Brazil|  false|                    | Continental|South America|              CONMEBOL|1916-2024|\n",
      "|Copa América|1919-05-13|Argentina|  Uruguay|         2|         3|Copa América|Rio de Janeiro|   Brazil|   true|                    | Continental|South America|              CONMEBOL|1916-2024|\n",
      "|Copa América|1919-05-17|    Chile|  Uruguay|         0|         2|Copa América|Rio de Janeiro|   Brazil|   true|                    | Continental|South America|              CONMEBOL|1916-2024|\n",
      "|Copa América|1919-05-18|   Brazil|Argentina|         3|         1|Copa América|Rio de Janeiro|   Brazil|  false|                    | Continental|South America|              CONMEBOL|1916-2024|\n",
      "|Copa América|1919-05-22|Argentina|    Chile|         4|         1|Copa América|Rio de Janeiro|   Brazil|   true|                    | Continental|South America|              CONMEBOL|1916-2024|\n",
      "|Copa América|1919-05-26|   Brazil|  Uruguay|         2|         2|Copa América|Rio de Janeiro|   Brazil|  false|                    | Continental|South America|              CONMEBOL|1916-2024|\n",
      "|Copa América|1919-05-29|   Brazil|  Uruguay|         1|         0|Copa América|Rio de Janeiro|   Brazil|  false|                    | Continental|South America|              CONMEBOL|1916-2024|\n",
      "|Copa América|1920-09-11|    Chile|   Brazil|         0|         1|Copa América|  Viña del Mar|    Chile|  false|                    | Continental|South America|              CONMEBOL|1916-2024|\n",
      "+------------+----------+---------+---------+----------+----------+------------+--------------+---------+-------+--------------------+------------+-------------+----------------------+---------+\n",
      "only showing top 20 rows\n",
      "\n"
     ]
    }
   ],
   "source": [
    "# Join filtered_results_df with competitions_df on the 'Competition' column\n",
    "joined_df = filtered_results_df.join(competitions_df, on='Competition', how='inner')\n",
    "\n",
    "# Show the first few rows of the joined dataframe\n",
    "joined_df.show()"
   ]
  },
  {
   "cell_type": "code",
   "execution_count": null,
   "metadata": {},
   "outputs": [
    {
     "name": "stdout",
     "output_type": "stream",
     "text": [
      "+------------+----------+---------+---------+----------+----------+------------+--------------+---------+-------+--------------------+------------+-------------+----------------------+---------+-----+\n",
      "| Competition|      date|home_team|away_team|home_score|away_score|  tournament|          city|  country|neutral|Football Association|Participants|    Continent|Football Association-1|    Dates|match|\n",
      "+------------+----------+---------+---------+----------+----------+------------+--------------+---------+-------+--------------------+------------+-------------+----------------------+---------+-----+\n",
      "|Copa América|1916-07-02|    Chile|  Uruguay|         0|         4|Copa América|  Buenos Aires|Argentina|   true|                    | Continental|South America|              CONMEBOL|1916-2024| true|\n",
      "|Copa América|1916-07-06|Argentina|    Chile|         6|         1|Copa América|  Buenos Aires|Argentina|  false|                    | Continental|South America|              CONMEBOL|1916-2024| true|\n",
      "|Copa América|1916-07-08|   Brazil|    Chile|         1|         1|Copa América|  Buenos Aires|Argentina|   true|                    | Continental|South America|              CONMEBOL|1916-2024| true|\n",
      "|Copa América|1916-07-10|Argentina|   Brazil|         1|         1|Copa América|  Buenos Aires|Argentina|  false|                    | Continental|South America|              CONMEBOL|1916-2024| true|\n",
      "|Copa América|1916-07-12|   Brazil|  Uruguay|         1|         2|Copa América|  Buenos Aires|Argentina|   true|                    | Continental|South America|              CONMEBOL|1916-2024| true|\n",
      "|Copa América|1916-07-17|Argentina|  Uruguay|         0|         0|Copa América|    Avellaneda|Argentina|  false|                    | Continental|South America|              CONMEBOL|1916-2024| true|\n",
      "|Copa América|1917-09-30|  Uruguay|    Chile|         4|         0|Copa América|    Montevideo|  Uruguay|  false|                    | Continental|South America|              CONMEBOL|1916-2024| true|\n",
      "|Copa América|1917-10-03|Argentina|   Brazil|         4|         2|Copa América|    Montevideo|  Uruguay|   true|                    | Continental|South America|              CONMEBOL|1916-2024| true|\n",
      "|Copa América|1917-10-06|Argentina|    Chile|         1|         0|Copa América|    Montevideo|  Uruguay|   true|                    | Continental|South America|              CONMEBOL|1916-2024| true|\n",
      "|Copa América|1917-10-07|  Uruguay|   Brazil|         4|         0|Copa América|    Montevideo|  Uruguay|  false|                    | Continental|South America|              CONMEBOL|1916-2024| true|\n",
      "|Copa América|1917-10-12|   Brazil|    Chile|         5|         0|Copa América|    Montevideo|  Uruguay|   true|                    | Continental|South America|              CONMEBOL|1916-2024| true|\n",
      "|Copa América|1917-10-14|  Uruguay|Argentina|         1|         0|Copa América|    Montevideo|  Uruguay|  false|                    | Continental|South America|              CONMEBOL|1916-2024| true|\n",
      "|Copa América|1919-05-11|   Brazil|    Chile|         6|         0|Copa América|Rio de Janeiro|   Brazil|  false|                    | Continental|South America|              CONMEBOL|1916-2024| true|\n",
      "|Copa América|1919-05-13|Argentina|  Uruguay|         2|         3|Copa América|Rio de Janeiro|   Brazil|   true|                    | Continental|South America|              CONMEBOL|1916-2024| true|\n",
      "|Copa América|1919-05-17|    Chile|  Uruguay|         0|         2|Copa América|Rio de Janeiro|   Brazil|   true|                    | Continental|South America|              CONMEBOL|1916-2024| true|\n",
      "|Copa América|1919-05-18|   Brazil|Argentina|         3|         1|Copa América|Rio de Janeiro|   Brazil|  false|                    | Continental|South America|              CONMEBOL|1916-2024| true|\n",
      "|Copa América|1919-05-22|Argentina|    Chile|         4|         1|Copa América|Rio de Janeiro|   Brazil|   true|                    | Continental|South America|              CONMEBOL|1916-2024| true|\n",
      "|Copa América|1919-05-26|   Brazil|  Uruguay|         2|         2|Copa América|Rio de Janeiro|   Brazil|  false|                    | Continental|South America|              CONMEBOL|1916-2024| true|\n",
      "|Copa América|1919-05-29|   Brazil|  Uruguay|         1|         0|Copa América|Rio de Janeiro|   Brazil|  false|                    | Continental|South America|              CONMEBOL|1916-2024| true|\n",
      "|Copa América|1920-09-11|    Chile|   Brazil|         0|         1|Copa América|  Viña del Mar|    Chile|  false|                    | Continental|South America|              CONMEBOL|1916-2024| true|\n",
      "+------------+----------+---------+---------+----------+----------+------------+--------------+---------+-------+--------------------+------------+-------------+----------------------+---------+-----+\n",
      "only showing top 20 rows\n",
      "\n"
     ]
    }
   ],
   "source": [
    "from pyspark.sql.functions import col, when\n",
    "\n",
    "# Create the new column 'match'\n",
    "joined_df = joined_df.withColumn(\n",
    "    'match',\n",
    "    when(\n",
    "        (col('Football Association').isNotNull()) & (col('Football Association-1').isNotNull()),\n",
    "        when(col('Football Association') != col('Football Association-1'), True).otherwise(False)\n",
    "    ).otherwise(None)\n",
    ")\n",
    "\n",
    "# Show the first few rows of the updated dataframe\n",
    "joined_df.show()"
   ]
  },
  {
   "cell_type": "code",
   "execution_count": null,
   "metadata": {},
   "outputs": [
    {
     "name": "stdout",
     "output_type": "stream",
     "text": [
      "+------------+----------+---------+---------+----------+----------+------------+--------------+---------+-------+--------------------+------------+-------------+----------------------+---------+-----+\n",
      "| Competition|      date|home_team|away_team|home_score|away_score|  tournament|          city|  country|neutral|Football Association|Participants|    Continent|Football Association-1|    Dates|match|\n",
      "+------------+----------+---------+---------+----------+----------+------------+--------------+---------+-------+--------------------+------------+-------------+----------------------+---------+-----+\n",
      "|Copa América|1916-07-02|    Chile|  Uruguay|         0|         4|Copa América|  Buenos Aires|Argentina|   true|                    | Continental|South America|              CONMEBOL|1916-2024|    1|\n",
      "|Copa América|1916-07-06|Argentina|    Chile|         6|         1|Copa América|  Buenos Aires|Argentina|  false|                    | Continental|South America|              CONMEBOL|1916-2024|    1|\n",
      "|Copa América|1916-07-08|   Brazil|    Chile|         1|         1|Copa América|  Buenos Aires|Argentina|   true|                    | Continental|South America|              CONMEBOL|1916-2024|    1|\n",
      "|Copa América|1916-07-10|Argentina|   Brazil|         1|         1|Copa América|  Buenos Aires|Argentina|  false|                    | Continental|South America|              CONMEBOL|1916-2024|    1|\n",
      "|Copa América|1916-07-12|   Brazil|  Uruguay|         1|         2|Copa América|  Buenos Aires|Argentina|   true|                    | Continental|South America|              CONMEBOL|1916-2024|    1|\n",
      "|Copa América|1916-07-17|Argentina|  Uruguay|         0|         0|Copa América|    Avellaneda|Argentina|  false|                    | Continental|South America|              CONMEBOL|1916-2024|    1|\n",
      "|Copa América|1917-09-30|  Uruguay|    Chile|         4|         0|Copa América|    Montevideo|  Uruguay|  false|                    | Continental|South America|              CONMEBOL|1916-2024|    1|\n",
      "|Copa América|1917-10-03|Argentina|   Brazil|         4|         2|Copa América|    Montevideo|  Uruguay|   true|                    | Continental|South America|              CONMEBOL|1916-2024|    1|\n",
      "|Copa América|1917-10-06|Argentina|    Chile|         1|         0|Copa América|    Montevideo|  Uruguay|   true|                    | Continental|South America|              CONMEBOL|1916-2024|    1|\n",
      "|Copa América|1917-10-07|  Uruguay|   Brazil|         4|         0|Copa América|    Montevideo|  Uruguay|  false|                    | Continental|South America|              CONMEBOL|1916-2024|    1|\n",
      "|Copa América|1917-10-12|   Brazil|    Chile|         5|         0|Copa América|    Montevideo|  Uruguay|   true|                    | Continental|South America|              CONMEBOL|1916-2024|    1|\n",
      "|Copa América|1917-10-14|  Uruguay|Argentina|         1|         0|Copa América|    Montevideo|  Uruguay|  false|                    | Continental|South America|              CONMEBOL|1916-2024|    1|\n",
      "|Copa América|1919-05-11|   Brazil|    Chile|         6|         0|Copa América|Rio de Janeiro|   Brazil|  false|                    | Continental|South America|              CONMEBOL|1916-2024|    1|\n",
      "|Copa América|1919-05-13|Argentina|  Uruguay|         2|         3|Copa América|Rio de Janeiro|   Brazil|   true|                    | Continental|South America|              CONMEBOL|1916-2024|    1|\n",
      "|Copa América|1919-05-17|    Chile|  Uruguay|         0|         2|Copa América|Rio de Janeiro|   Brazil|   true|                    | Continental|South America|              CONMEBOL|1916-2024|    1|\n",
      "|Copa América|1919-05-18|   Brazil|Argentina|         3|         1|Copa América|Rio de Janeiro|   Brazil|  false|                    | Continental|South America|              CONMEBOL|1916-2024|    1|\n",
      "|Copa América|1919-05-22|Argentina|    Chile|         4|         1|Copa América|Rio de Janeiro|   Brazil|   true|                    | Continental|South America|              CONMEBOL|1916-2024|    1|\n",
      "|Copa América|1919-05-26|   Brazil|  Uruguay|         2|         2|Copa América|Rio de Janeiro|   Brazil|  false|                    | Continental|South America|              CONMEBOL|1916-2024|    1|\n",
      "|Copa América|1919-05-29|   Brazil|  Uruguay|         1|         0|Copa América|Rio de Janeiro|   Brazil|  false|                    | Continental|South America|              CONMEBOL|1916-2024|    1|\n",
      "|Copa América|1920-09-11|    Chile|   Brazil|         0|         1|Copa América|  Viña del Mar|    Chile|  false|                    | Continental|South America|              CONMEBOL|1916-2024|    1|\n",
      "+------------+----------+---------+---------+----------+----------+------------+--------------+---------+-------+--------------------+------------+-------------+----------------------+---------+-----+\n",
      "only showing top 20 rows\n",
      "\n"
     ]
    }
   ],
   "source": [
    "from pyspark.sql.functions import col, when\n",
    "\n",
    "# Create the new column 'match'\n",
    "joined_df = joined_df.withColumn(\n",
    "    'match',\n",
    "    when(\n",
    "        (col('Football Association') == '') | (col('Football Association') == col('Football Association-1')),\n",
    "        1\n",
    "    ).otherwise(0)\n",
    ")\n",
    "\n",
    "# Show the first few rows of the updated dataframe\n",
    "joined_df.show()"
   ]
  },
  {
   "cell_type": "code",
   "execution_count": null,
   "metadata": {},
   "outputs": [
    {
     "name": "stdout",
     "output_type": "stream",
     "text": [
      "+------------+----------+---------+---------+----------+----------+------------+--------------+---------+-------+--------------------+------------+-------------+----------------------+---------+-----+\n",
      "| Competition|      date|home_team|away_team|home_score|away_score|  tournament|          city|  country|neutral|Football Association|Participants|    Continent|Football Association-1|    Dates|match|\n",
      "+------------+----------+---------+---------+----------+----------+------------+--------------+---------+-------+--------------------+------------+-------------+----------------------+---------+-----+\n",
      "|Copa América|1916-07-02|    Chile|  Uruguay|         0|         4|Copa América|  Buenos Aires|Argentina|   true|                    | Continental|South America|              CONMEBOL|1916-2024|    1|\n",
      "|Copa América|1916-07-06|Argentina|    Chile|         6|         1|Copa América|  Buenos Aires|Argentina|  false|                    | Continental|South America|              CONMEBOL|1916-2024|    1|\n",
      "|Copa América|1916-07-08|   Brazil|    Chile|         1|         1|Copa América|  Buenos Aires|Argentina|   true|                    | Continental|South America|              CONMEBOL|1916-2024|    1|\n",
      "|Copa América|1916-07-10|Argentina|   Brazil|         1|         1|Copa América|  Buenos Aires|Argentina|  false|                    | Continental|South America|              CONMEBOL|1916-2024|    1|\n",
      "|Copa América|1916-07-12|   Brazil|  Uruguay|         1|         2|Copa América|  Buenos Aires|Argentina|   true|                    | Continental|South America|              CONMEBOL|1916-2024|    1|\n",
      "|Copa América|1916-07-17|Argentina|  Uruguay|         0|         0|Copa América|    Avellaneda|Argentina|  false|                    | Continental|South America|              CONMEBOL|1916-2024|    1|\n",
      "|Copa América|1917-09-30|  Uruguay|    Chile|         4|         0|Copa América|    Montevideo|  Uruguay|  false|                    | Continental|South America|              CONMEBOL|1916-2024|    1|\n",
      "|Copa América|1917-10-03|Argentina|   Brazil|         4|         2|Copa América|    Montevideo|  Uruguay|   true|                    | Continental|South America|              CONMEBOL|1916-2024|    1|\n",
      "|Copa América|1917-10-06|Argentina|    Chile|         1|         0|Copa América|    Montevideo|  Uruguay|   true|                    | Continental|South America|              CONMEBOL|1916-2024|    1|\n",
      "|Copa América|1917-10-07|  Uruguay|   Brazil|         4|         0|Copa América|    Montevideo|  Uruguay|  false|                    | Continental|South America|              CONMEBOL|1916-2024|    1|\n",
      "|Copa América|1917-10-12|   Brazil|    Chile|         5|         0|Copa América|    Montevideo|  Uruguay|   true|                    | Continental|South America|              CONMEBOL|1916-2024|    1|\n",
      "|Copa América|1917-10-14|  Uruguay|Argentina|         1|         0|Copa América|    Montevideo|  Uruguay|  false|                    | Continental|South America|              CONMEBOL|1916-2024|    1|\n",
      "|Copa América|1919-05-11|   Brazil|    Chile|         6|         0|Copa América|Rio de Janeiro|   Brazil|  false|                    | Continental|South America|              CONMEBOL|1916-2024|    1|\n",
      "|Copa América|1919-05-13|Argentina|  Uruguay|         2|         3|Copa América|Rio de Janeiro|   Brazil|   true|                    | Continental|South America|              CONMEBOL|1916-2024|    1|\n",
      "|Copa América|1919-05-17|    Chile|  Uruguay|         0|         2|Copa América|Rio de Janeiro|   Brazil|   true|                    | Continental|South America|              CONMEBOL|1916-2024|    1|\n",
      "|Copa América|1919-05-18|   Brazil|Argentina|         3|         1|Copa América|Rio de Janeiro|   Brazil|  false|                    | Continental|South America|              CONMEBOL|1916-2024|    1|\n",
      "|Copa América|1919-05-22|Argentina|    Chile|         4|         1|Copa América|Rio de Janeiro|   Brazil|   true|                    | Continental|South America|              CONMEBOL|1916-2024|    1|\n",
      "|Copa América|1919-05-26|   Brazil|  Uruguay|         2|         2|Copa América|Rio de Janeiro|   Brazil|  false|                    | Continental|South America|              CONMEBOL|1916-2024|    1|\n",
      "|Copa América|1919-05-29|   Brazil|  Uruguay|         1|         0|Copa América|Rio de Janeiro|   Brazil|  false|                    | Continental|South America|              CONMEBOL|1916-2024|    1|\n",
      "|Copa América|1920-09-11|    Chile|   Brazil|         0|         1|Copa América|  Viña del Mar|    Chile|  false|                    | Continental|South America|              CONMEBOL|1916-2024|    1|\n",
      "+------------+----------+---------+---------+----------+----------+------------+--------------+---------+-------+--------------------+------------+-------------+----------------------+---------+-----+\n",
      "only showing top 20 rows\n",
      "\n"
     ]
    }
   ],
   "source": [
    "# Filter out records that have 'match' value = 0\n",
    "filtered_joined_df = joined_df.filter(joined_df.match != 0)\n",
    "\n",
    "# Show the first few rows of the filtered dataframe\n",
    "filtered_joined_df.show()"
   ]
  },
  {
   "cell_type": "code",
   "execution_count": null,
   "metadata": {},
   "outputs": [
    {
     "name": "stdout",
     "output_type": "stream",
     "text": [
      "+------------+----------+---------+---------+----------+----------+------------+--------------+---------+-------+------------+-------------+--------------------+---------+-----+\n",
      "| Competition|      date|home_team|away_team|home_score|away_score|  tournament|          city|  country|neutral|Participants|    Continent|Football Association|    Dates|match|\n",
      "+------------+----------+---------+---------+----------+----------+------------+--------------+---------+-------+------------+-------------+--------------------+---------+-----+\n",
      "|Copa América|1916-07-02|    Chile|  Uruguay|         0|         4|Copa América|  Buenos Aires|Argentina|   true| Continental|South America|            CONMEBOL|1916-2024|    1|\n",
      "|Copa América|1916-07-06|Argentina|    Chile|         6|         1|Copa América|  Buenos Aires|Argentina|  false| Continental|South America|            CONMEBOL|1916-2024|    1|\n",
      "|Copa América|1916-07-08|   Brazil|    Chile|         1|         1|Copa América|  Buenos Aires|Argentina|   true| Continental|South America|            CONMEBOL|1916-2024|    1|\n",
      "|Copa América|1916-07-10|Argentina|   Brazil|         1|         1|Copa América|  Buenos Aires|Argentina|  false| Continental|South America|            CONMEBOL|1916-2024|    1|\n",
      "|Copa América|1916-07-12|   Brazil|  Uruguay|         1|         2|Copa América|  Buenos Aires|Argentina|   true| Continental|South America|            CONMEBOL|1916-2024|    1|\n",
      "|Copa América|1916-07-17|Argentina|  Uruguay|         0|         0|Copa América|    Avellaneda|Argentina|  false| Continental|South America|            CONMEBOL|1916-2024|    1|\n",
      "|Copa América|1917-09-30|  Uruguay|    Chile|         4|         0|Copa América|    Montevideo|  Uruguay|  false| Continental|South America|            CONMEBOL|1916-2024|    1|\n",
      "|Copa América|1917-10-03|Argentina|   Brazil|         4|         2|Copa América|    Montevideo|  Uruguay|   true| Continental|South America|            CONMEBOL|1916-2024|    1|\n",
      "|Copa América|1917-10-06|Argentina|    Chile|         1|         0|Copa América|    Montevideo|  Uruguay|   true| Continental|South America|            CONMEBOL|1916-2024|    1|\n",
      "|Copa América|1917-10-07|  Uruguay|   Brazil|         4|         0|Copa América|    Montevideo|  Uruguay|  false| Continental|South America|            CONMEBOL|1916-2024|    1|\n",
      "|Copa América|1917-10-12|   Brazil|    Chile|         5|         0|Copa América|    Montevideo|  Uruguay|   true| Continental|South America|            CONMEBOL|1916-2024|    1|\n",
      "|Copa América|1917-10-14|  Uruguay|Argentina|         1|         0|Copa América|    Montevideo|  Uruguay|  false| Continental|South America|            CONMEBOL|1916-2024|    1|\n",
      "|Copa América|1919-05-11|   Brazil|    Chile|         6|         0|Copa América|Rio de Janeiro|   Brazil|  false| Continental|South America|            CONMEBOL|1916-2024|    1|\n",
      "|Copa América|1919-05-13|Argentina|  Uruguay|         2|         3|Copa América|Rio de Janeiro|   Brazil|   true| Continental|South America|            CONMEBOL|1916-2024|    1|\n",
      "|Copa América|1919-05-17|    Chile|  Uruguay|         0|         2|Copa América|Rio de Janeiro|   Brazil|   true| Continental|South America|            CONMEBOL|1916-2024|    1|\n",
      "|Copa América|1919-05-18|   Brazil|Argentina|         3|         1|Copa América|Rio de Janeiro|   Brazil|  false| Continental|South America|            CONMEBOL|1916-2024|    1|\n",
      "|Copa América|1919-05-22|Argentina|    Chile|         4|         1|Copa América|Rio de Janeiro|   Brazil|   true| Continental|South America|            CONMEBOL|1916-2024|    1|\n",
      "|Copa América|1919-05-26|   Brazil|  Uruguay|         2|         2|Copa América|Rio de Janeiro|   Brazil|  false| Continental|South America|            CONMEBOL|1916-2024|    1|\n",
      "|Copa América|1919-05-29|   Brazil|  Uruguay|         1|         0|Copa América|Rio de Janeiro|   Brazil|  false| Continental|South America|            CONMEBOL|1916-2024|    1|\n",
      "|Copa América|1920-09-11|    Chile|   Brazil|         0|         1|Copa América|  Viña del Mar|    Chile|  false| Continental|South America|            CONMEBOL|1916-2024|    1|\n",
      "+------------+----------+---------+---------+----------+----------+------------+--------------+---------+-------+------------+-------------+--------------------+---------+-----+\n",
      "only showing top 20 rows\n",
      "\n"
     ]
    }
   ],
   "source": [
    "# Drop the 'Football Association' column\n",
    "filtered_joined_df = filtered_joined_df.drop('Football Association')\n",
    "# Rename 'Football Association-1' to 'Football Association'\n",
    "filtered_joined_df = filtered_joined_df.withColumnRenamed('Football Association-1', 'Football Association')\n",
    "# Show the first few rows of the updated dataframe\n",
    "filtered_joined_df.show()"
   ]
  },
  {
   "cell_type": "code",
   "execution_count": null,
   "metadata": {},
   "outputs": [
    {
     "name": "stdout",
     "output_type": "stream",
     "text": [
      "+------------+----------+---------+---------+----------+----------+------------+--------------+---------+-------+------------+-------------+--------------------+---------+-----+\n",
      "| Competition|      date|home_team|away_team|home_score|away_score|  tournament|          city|  country|neutral|Participants|    Continent|Football Association|    Dates|match|\n",
      "+------------+----------+---------+---------+----------+----------+------------+--------------+---------+-------+------------+-------------+--------------------+---------+-----+\n",
      "|Copa América|1916-07-02|    Chile|  Uruguay|         0|         4|Copa América|  Buenos Aires|Argentina|   true| Continental|South America|            CONMEBOL|1916-2024|    1|\n",
      "|Copa América|1916-07-06|Argentina|    Chile|         6|         1|Copa América|  Buenos Aires|Argentina|  false| Continental|South America|            CONMEBOL|1916-2024|    1|\n",
      "|Copa América|1916-07-08|   Brazil|    Chile|         1|         1|Copa América|  Buenos Aires|Argentina|   true| Continental|South America|            CONMEBOL|1916-2024|    1|\n",
      "|Copa América|1916-07-10|Argentina|   Brazil|         1|         1|Copa América|  Buenos Aires|Argentina|  false| Continental|South America|            CONMEBOL|1916-2024|    1|\n",
      "|Copa América|1916-07-12|   Brazil|  Uruguay|         1|         2|Copa América|  Buenos Aires|Argentina|   true| Continental|South America|            CONMEBOL|1916-2024|    1|\n",
      "|Copa América|1916-07-17|Argentina|  Uruguay|         0|         0|Copa América|    Avellaneda|Argentina|  false| Continental|South America|            CONMEBOL|1916-2024|    1|\n",
      "|Copa América|1917-09-30|  Uruguay|    Chile|         4|         0|Copa América|    Montevideo|  Uruguay|  false| Continental|South America|            CONMEBOL|1916-2024|    1|\n",
      "|Copa América|1917-10-03|Argentina|   Brazil|         4|         2|Copa América|    Montevideo|  Uruguay|   true| Continental|South America|            CONMEBOL|1916-2024|    1|\n",
      "|Copa América|1917-10-06|Argentina|    Chile|         1|         0|Copa América|    Montevideo|  Uruguay|   true| Continental|South America|            CONMEBOL|1916-2024|    1|\n",
      "|Copa América|1917-10-07|  Uruguay|   Brazil|         4|         0|Copa América|    Montevideo|  Uruguay|  false| Continental|South America|            CONMEBOL|1916-2024|    1|\n",
      "|Copa América|1917-10-12|   Brazil|    Chile|         5|         0|Copa América|    Montevideo|  Uruguay|   true| Continental|South America|            CONMEBOL|1916-2024|    1|\n",
      "|Copa América|1917-10-14|  Uruguay|Argentina|         1|         0|Copa América|    Montevideo|  Uruguay|  false| Continental|South America|            CONMEBOL|1916-2024|    1|\n",
      "|Copa América|1919-05-11|   Brazil|    Chile|         6|         0|Copa América|Rio de Janeiro|   Brazil|  false| Continental|South America|            CONMEBOL|1916-2024|    1|\n",
      "|Copa América|1919-05-13|Argentina|  Uruguay|         2|         3|Copa América|Rio de Janeiro|   Brazil|   true| Continental|South America|            CONMEBOL|1916-2024|    1|\n",
      "|Copa América|1919-05-17|    Chile|  Uruguay|         0|         2|Copa América|Rio de Janeiro|   Brazil|   true| Continental|South America|            CONMEBOL|1916-2024|    1|\n",
      "|Copa América|1919-05-18|   Brazil|Argentina|         3|         1|Copa América|Rio de Janeiro|   Brazil|  false| Continental|South America|            CONMEBOL|1916-2024|    1|\n",
      "|Copa América|1919-05-22|Argentina|    Chile|         4|         1|Copa América|Rio de Janeiro|   Brazil|   true| Continental|South America|            CONMEBOL|1916-2024|    1|\n",
      "|Copa América|1919-05-26|   Brazil|  Uruguay|         2|         2|Copa América|Rio de Janeiro|   Brazil|  false| Continental|South America|            CONMEBOL|1916-2024|    1|\n",
      "|Copa América|1919-05-29|   Brazil|  Uruguay|         1|         0|Copa América|Rio de Janeiro|   Brazil|  false| Continental|South America|            CONMEBOL|1916-2024|    1|\n",
      "|Copa América|1920-09-11|    Chile|   Brazil|         0|         1|Copa América|  Viña del Mar|    Chile|  false| Continental|South America|            CONMEBOL|1916-2024|    1|\n",
      "+------------+----------+---------+---------+----------+----------+------------+--------------+---------+-------+------------+-------------+--------------------+---------+-----+\n",
      "only showing top 20 rows\n",
      "\n"
     ]
    }
   ],
   "source": [
    "from pyspark.sql.functions import when\n",
    "\n",
    "# Create a new column 'Updated_Competition' based on the condition\n",
    "filtered_joined_df = filtered_joined_df.withColumn(\n",
    "    'Competition',\n",
    "    when(filtered_joined_df['Football Association'] == 'CONCACAF', 'Gold Cup').otherwise(filtered_joined_df['Competition'])\n",
    ")\n",
    "\n",
    "# Show the first few rows of the updated dataframe\n",
    "filtered_joined_df.show()"
   ]
  },
  {
   "cell_type": "code",
   "execution_count": null,
   "metadata": {},
   "outputs": [
    {
     "name": "stdout",
     "output_type": "stream",
     "text": [
      "+------------+----------+---------+---------+----------+----------+------------+-------------+--------------------+\n",
      "| Competition|      date|home_team|away_team|home_score|away_score|Participants|    Continent|Football Association|\n",
      "+------------+----------+---------+---------+----------+----------+------------+-------------+--------------------+\n",
      "|Copa América|1916-07-02|    Chile|  Uruguay|         0|         4| Continental|South America|            CONMEBOL|\n",
      "|Copa América|1916-07-06|Argentina|    Chile|         6|         1| Continental|South America|            CONMEBOL|\n",
      "|Copa América|1916-07-08|   Brazil|    Chile|         1|         1| Continental|South America|            CONMEBOL|\n",
      "|Copa América|1916-07-10|Argentina|   Brazil|         1|         1| Continental|South America|            CONMEBOL|\n",
      "|Copa América|1916-07-12|   Brazil|  Uruguay|         1|         2| Continental|South America|            CONMEBOL|\n",
      "|Copa América|1916-07-17|Argentina|  Uruguay|         0|         0| Continental|South America|            CONMEBOL|\n",
      "|Copa América|1917-09-30|  Uruguay|    Chile|         4|         0| Continental|South America|            CONMEBOL|\n",
      "|Copa América|1917-10-03|Argentina|   Brazil|         4|         2| Continental|South America|            CONMEBOL|\n",
      "|Copa América|1917-10-06|Argentina|    Chile|         1|         0| Continental|South America|            CONMEBOL|\n",
      "|Copa América|1917-10-07|  Uruguay|   Brazil|         4|         0| Continental|South America|            CONMEBOL|\n",
      "|Copa América|1917-10-12|   Brazil|    Chile|         5|         0| Continental|South America|            CONMEBOL|\n",
      "|Copa América|1917-10-14|  Uruguay|Argentina|         1|         0| Continental|South America|            CONMEBOL|\n",
      "|Copa América|1919-05-11|   Brazil|    Chile|         6|         0| Continental|South America|            CONMEBOL|\n",
      "|Copa América|1919-05-13|Argentina|  Uruguay|         2|         3| Continental|South America|            CONMEBOL|\n",
      "|Copa América|1919-05-17|    Chile|  Uruguay|         0|         2| Continental|South America|            CONMEBOL|\n",
      "|Copa América|1919-05-18|   Brazil|Argentina|         3|         1| Continental|South America|            CONMEBOL|\n",
      "|Copa América|1919-05-22|Argentina|    Chile|         4|         1| Continental|South America|            CONMEBOL|\n",
      "|Copa América|1919-05-26|   Brazil|  Uruguay|         2|         2| Continental|South America|            CONMEBOL|\n",
      "|Copa América|1919-05-29|   Brazil|  Uruguay|         1|         0| Continental|South America|            CONMEBOL|\n",
      "|Copa América|1920-09-11|    Chile|   Brazil|         0|         1| Continental|South America|            CONMEBOL|\n",
      "+------------+----------+---------+---------+----------+----------+------------+-------------+--------------------+\n",
      "only showing top 20 rows\n",
      "\n"
     ]
    }
   ],
   "source": [
    "# Drop the specified columns\n",
    "filtered_joined_df = filtered_joined_df.drop('match', 'tournament', 'Dates', 'city', 'country', 'neutral')\n",
    "\n",
    "# Show the first few rows of the updated dataframe\n",
    "filtered_joined_df.show()"
   ]
  },
  {
   "cell_type": "code",
   "execution_count": null,
   "metadata": {},
   "outputs": [
    {
     "name": "stdout",
     "output_type": "stream",
     "text": [
      "+------------+----------+---------+---------+----------+----------+------------+-------------+--------------------+------+\n",
      "| Competition|      date|home_team|away_team|home_score|away_score|Participants|    Continent|Football Association|Decade|\n",
      "+------------+----------+---------+---------+----------+----------+------------+-------------+--------------------+------+\n",
      "|Copa América|1916-07-02|    Chile|  Uruguay|         0|         4| Continental|South America|            CONMEBOL|  1910|\n",
      "|Copa América|1916-07-06|Argentina|    Chile|         6|         1| Continental|South America|            CONMEBOL|  1910|\n",
      "|Copa América|1916-07-08|   Brazil|    Chile|         1|         1| Continental|South America|            CONMEBOL|  1910|\n",
      "|Copa América|1916-07-10|Argentina|   Brazil|         1|         1| Continental|South America|            CONMEBOL|  1910|\n",
      "|Copa América|1916-07-12|   Brazil|  Uruguay|         1|         2| Continental|South America|            CONMEBOL|  1910|\n",
      "|Copa América|1916-07-17|Argentina|  Uruguay|         0|         0| Continental|South America|            CONMEBOL|  1910|\n",
      "|Copa América|1917-09-30|  Uruguay|    Chile|         4|         0| Continental|South America|            CONMEBOL|  1910|\n",
      "|Copa América|1917-10-03|Argentina|   Brazil|         4|         2| Continental|South America|            CONMEBOL|  1910|\n",
      "|Copa América|1917-10-06|Argentina|    Chile|         1|         0| Continental|South America|            CONMEBOL|  1910|\n",
      "|Copa América|1917-10-07|  Uruguay|   Brazil|         4|         0| Continental|South America|            CONMEBOL|  1910|\n",
      "|Copa América|1917-10-12|   Brazil|    Chile|         5|         0| Continental|South America|            CONMEBOL|  1910|\n",
      "|Copa América|1917-10-14|  Uruguay|Argentina|         1|         0| Continental|South America|            CONMEBOL|  1910|\n",
      "|Copa América|1919-05-11|   Brazil|    Chile|         6|         0| Continental|South America|            CONMEBOL|  1910|\n",
      "|Copa América|1919-05-13|Argentina|  Uruguay|         2|         3| Continental|South America|            CONMEBOL|  1910|\n",
      "|Copa América|1919-05-17|    Chile|  Uruguay|         0|         2| Continental|South America|            CONMEBOL|  1910|\n",
      "|Copa América|1919-05-18|   Brazil|Argentina|         3|         1| Continental|South America|            CONMEBOL|  1910|\n",
      "|Copa América|1919-05-22|Argentina|    Chile|         4|         1| Continental|South America|            CONMEBOL|  1910|\n",
      "|Copa América|1919-05-26|   Brazil|  Uruguay|         2|         2| Continental|South America|            CONMEBOL|  1910|\n",
      "|Copa América|1919-05-29|   Brazil|  Uruguay|         1|         0| Continental|South America|            CONMEBOL|  1910|\n",
      "|Copa América|1920-09-11|    Chile|   Brazil|         0|         1| Continental|South America|            CONMEBOL|  1920|\n",
      "+------------+----------+---------+---------+----------+----------+------------+-------------+--------------------+------+\n",
      "only showing top 20 rows\n",
      "\n"
     ]
    }
   ],
   "source": [
    "from pyspark.sql.functions import year, expr, substring\n",
    "\n",
    "# Create a new column 'Decade'\n",
    "filtered_joined_df = filtered_joined_df.withColumn('Decade', expr(\"int(substring(year(date), 1, 3) || '0')\"))\n",
    "\n",
    "# Show the first few rows of the updated dataframe\n",
    "filtered_joined_df.show()"
   ]
  },
  {
   "cell_type": "code",
   "execution_count": null,
   "metadata": {},
   "outputs": [
    {
     "name": "stdout",
     "output_type": "stream",
     "text": [
      "+-----------+----------+-----------+-------------+----------+----------+------------+---------+--------------------+------+\n",
      "|Competition|      date|  home_team|    away_team|home_score|away_score|Participants|Continent|Football Association|Decade|\n",
      "+-----------+----------+-----------+-------------+----------+----------+------------+---------+--------------------+------+\n",
      "|  World Cup|1950-06-24|     Brazil|       Mexico|         4|         0|      Global|     NULL|                FIFA|  1950|\n",
      "|  World Cup|1950-06-25|      Chile|      England|         0|         2|      Global|     NULL|                FIFA|  1950|\n",
      "|  World Cup|1950-06-25|      Italy|       Sweden|         2|         3|      Global|     NULL|                FIFA|  1950|\n",
      "|  World Cup|1950-06-25|      Spain|United States|         3|         1|      Global|     NULL|                FIFA|  1950|\n",
      "|  World Cup|1950-06-25|Switzerland|   Yugoslavia|         0|         3|      Global|     NULL|                FIFA|  1950|\n",
      "|  World Cup|1950-06-28|     Brazil|  Switzerland|         2|         2|      Global|     NULL|                FIFA|  1950|\n",
      "|  World Cup|1950-06-28|     Mexico|   Yugoslavia|         1|         4|      Global|     NULL|                FIFA|  1950|\n",
      "|  World Cup|1950-06-29|      Chile|        Spain|         0|         2|      Global|     NULL|                FIFA|  1950|\n",
      "|  World Cup|1950-06-29|    England|United States|         0|         1|      Global|     NULL|                FIFA|  1950|\n",
      "|  World Cup|1950-06-29|   Paraguay|       Sweden|         2|         2|      Global|     NULL|                FIFA|  1950|\n",
      "|  World Cup|1950-07-01|     Brazil|   Yugoslavia|         2|         0|      Global|     NULL|                FIFA|  1950|\n",
      "|  World Cup|1950-07-02|    Bolivia|      Uruguay|         0|         8|      Global|     NULL|                FIFA|  1950|\n",
      "|  World Cup|1950-07-02|      Chile|United States|         5|         2|      Global|     NULL|                FIFA|  1950|\n",
      "|  World Cup|1950-07-02|    England|        Spain|         0|         1|      Global|     NULL|                FIFA|  1950|\n",
      "|  World Cup|1950-07-02|      Italy|     Paraguay|         2|         0|      Global|     NULL|                FIFA|  1950|\n",
      "|  World Cup|1950-07-02|     Mexico|  Switzerland|         1|         2|      Global|     NULL|                FIFA|  1950|\n",
      "|  World Cup|1950-07-09|     Brazil|       Sweden|         7|         1|      Global|     NULL|                FIFA|  1950|\n",
      "|  World Cup|1950-07-09|      Spain|      Uruguay|         2|         2|      Global|     NULL|                FIFA|  1950|\n",
      "|  World Cup|1950-07-13|     Brazil|        Spain|         6|         1|      Global|     NULL|                FIFA|  1950|\n",
      "|  World Cup|1950-07-13|     Sweden|      Uruguay|         2|         3|      Global|     NULL|                FIFA|  1950|\n",
      "+-----------+----------+-----------+-------------+----------+----------+------------+---------+--------------------+------+\n",
      "only showing top 20 rows\n",
      "\n"
     ]
    }
   ],
   "source": [
    "# Filter the dataframe to include only records where 'Decade' is >= 1950\n",
    "filtered_joined_df = filtered_joined_df.filter(filtered_joined_df.Decade >= 1950)\n",
    "\n",
    "# Show the first few rows of the filtered dataframe\n",
    "filtered_joined_df.show()"
   ]
  },
  {
   "cell_type": "code",
   "execution_count": null,
   "metadata": {},
   "outputs": [
    {
     "name": "stdout",
     "output_type": "stream",
     "text": [
      "+-----------+----------+-----------+-------------+----------+----------+------------+---------+--------------------+------+--------+\n",
      "|Competition|      date|  home_team|    away_team|home_score|away_score|Participants|Continent|Football Association|Decade|Match ID|\n",
      "+-----------+----------+-----------+-------------+----------+----------+------------+---------+--------------------+------+--------+\n",
      "|  World Cup|1950-06-24|     Brazil|       Mexico|         4|         0|      Global|     NULL|                FIFA|  1950|       1|\n",
      "|  World Cup|1950-06-25|      Chile|      England|         0|         2|      Global|     NULL|                FIFA|  1950|       2|\n",
      "|  World Cup|1950-06-25|      Italy|       Sweden|         2|         3|      Global|     NULL|                FIFA|  1950|       3|\n",
      "|  World Cup|1950-06-25|      Spain|United States|         3|         1|      Global|     NULL|                FIFA|  1950|       4|\n",
      "|  World Cup|1950-06-25|Switzerland|   Yugoslavia|         0|         3|      Global|     NULL|                FIFA|  1950|       5|\n",
      "|  World Cup|1950-06-28|     Brazil|  Switzerland|         2|         2|      Global|     NULL|                FIFA|  1950|       6|\n",
      "|  World Cup|1950-06-28|     Mexico|   Yugoslavia|         1|         4|      Global|     NULL|                FIFA|  1950|       7|\n",
      "|  World Cup|1950-06-29|      Chile|        Spain|         0|         2|      Global|     NULL|                FIFA|  1950|       8|\n",
      "|  World Cup|1950-06-29|    England|United States|         0|         1|      Global|     NULL|                FIFA|  1950|       9|\n",
      "|  World Cup|1950-06-29|   Paraguay|       Sweden|         2|         2|      Global|     NULL|                FIFA|  1950|      10|\n",
      "|  World Cup|1950-07-01|     Brazil|   Yugoslavia|         2|         0|      Global|     NULL|                FIFA|  1950|      11|\n",
      "|  World Cup|1950-07-02|    Bolivia|      Uruguay|         0|         8|      Global|     NULL|                FIFA|  1950|      12|\n",
      "|  World Cup|1950-07-02|      Chile|United States|         5|         2|      Global|     NULL|                FIFA|  1950|      13|\n",
      "|  World Cup|1950-07-02|    England|        Spain|         0|         1|      Global|     NULL|                FIFA|  1950|      14|\n",
      "|  World Cup|1950-07-02|      Italy|     Paraguay|         2|         0|      Global|     NULL|                FIFA|  1950|      15|\n",
      "|  World Cup|1950-07-02|     Mexico|  Switzerland|         1|         2|      Global|     NULL|                FIFA|  1950|      16|\n",
      "|  World Cup|1950-07-09|     Brazil|       Sweden|         7|         1|      Global|     NULL|                FIFA|  1950|      17|\n",
      "|  World Cup|1950-07-09|      Spain|      Uruguay|         2|         2|      Global|     NULL|                FIFA|  1950|      18|\n",
      "|  World Cup|1950-07-13|     Brazil|        Spain|         6|         1|      Global|     NULL|                FIFA|  1950|      19|\n",
      "|  World Cup|1950-07-13|     Sweden|      Uruguay|         2|         3|      Global|     NULL|                FIFA|  1950|      20|\n",
      "+-----------+----------+-----------+-------------+----------+----------+------------+---------+--------------------+------+--------+\n",
      "only showing top 20 rows\n",
      "\n"
     ]
    }
   ],
   "source": [
    "from pyspark.sql.window import Window\n",
    "from pyspark.sql.functions import rank\n",
    "\n",
    "# Define the window specification\n",
    "window_spec = Window.orderBy(filtered_joined_df['date'].asc(), filtered_joined_df['home_team'].asc())\n",
    "\n",
    "# Add the rank column\n",
    "ranked_df = filtered_joined_df.withColumn('Match ID', rank().over(window_spec))\n",
    "\n",
    "# Show the first few rows of the ranked dataframe\n",
    "ranked_df.show()"
   ]
  },
  {
   "cell_type": "code",
   "execution_count": null,
   "metadata": {},
   "outputs": [
    {
     "name": "stdout",
     "output_type": "stream",
     "text": [
      "+------+--------------------+-----------------------------------+\n",
      "|Decade|         Competition|Matches in a Decade per Competition|\n",
      "+------+--------------------+-----------------------------------+\n",
      "|  1950|           World Cup|                                 83|\n",
      "|  1950|        Copa América|                                104|\n",
      "|  1950|           Asian Cup|                                  6|\n",
      "|  1950|Africa Cup of Nat...|                                  5|\n",
      "|  1960|                Euro|                                 13|\n",
      "|  1960|           Asian Cup|                                 22|\n",
      "|  1960|Africa Cup of Nat...|                                 36|\n",
      "|  1960|           World Cup|                                 64|\n",
      "|  1960|        Copa América|                                 40|\n",
      "|  1960|            Gold Cup|                                 67|\n",
      "|  1970|Africa Cup of Nat...|                                 82|\n",
      "|  1970|           World Cup|                                108|\n",
      "|  1970|            Gold Cup|                                 45|\n",
      "|  1970|           Asian Cup|                                 23|\n",
      "|  1970|                Euro|                                  8|\n",
      "|  1970| Oceania Nations Cup|                                 12|\n",
      "|  1970|        Copa América|                                 50|\n",
      "|  1980| Oceania Nations Cup|                                 14|\n",
      "|  1980|Africa Cup of Nat...|                                 80|\n",
      "|  1980|                Euro|                                 44|\n",
      "+------+--------------------+-----------------------------------+\n",
      "only showing top 20 rows\n",
      "\n"
     ]
    }
   ],
   "source": [
    "from pyspark.sql.functions import countDistinct\n",
    "\n",
    "# Group by Decade and Competition and count distinct match IDs\n",
    "matches_per_decade_competition_df = ranked_df.groupBy('Decade', 'Competition').agg(countDistinct('Match ID').alias('Matches in a Decade per Competition'))\n",
    "\n",
    "# Show the first few rows of the resulting dataframe\n",
    "matches_per_decade_competition_df.show()"
   ]
  },
  {
   "cell_type": "code",
   "execution_count": null,
   "metadata": {},
   "outputs": [
    {
     "name": "stdout",
     "output_type": "stream",
     "text": [
      "+------+-----------+----------+-----------+-------------+----------+----------+------------+---------+--------------------+--------+-----------------------------------+\n",
      "|Decade|Competition|      date|  home_team|    away_team|home_score|away_score|Participants|Continent|Football Association|Match ID|Matches in a Decade per Competition|\n",
      "+------+-----------+----------+-----------+-------------+----------+----------+------------+---------+--------------------+--------+-----------------------------------+\n",
      "|  1950|  World Cup|1950-06-24|     Brazil|       Mexico|         4|         0|      Global|     NULL|                FIFA|       1|                                 83|\n",
      "|  1950|  World Cup|1950-06-25|      Chile|      England|         0|         2|      Global|     NULL|                FIFA|       2|                                 83|\n",
      "|  1950|  World Cup|1950-06-25|      Italy|       Sweden|         2|         3|      Global|     NULL|                FIFA|       3|                                 83|\n",
      "|  1950|  World Cup|1950-06-25|      Spain|United States|         3|         1|      Global|     NULL|                FIFA|       4|                                 83|\n",
      "|  1950|  World Cup|1950-06-25|Switzerland|   Yugoslavia|         0|         3|      Global|     NULL|                FIFA|       5|                                 83|\n",
      "|  1950|  World Cup|1950-06-28|     Brazil|  Switzerland|         2|         2|      Global|     NULL|                FIFA|       6|                                 83|\n",
      "|  1950|  World Cup|1950-06-28|     Mexico|   Yugoslavia|         1|         4|      Global|     NULL|                FIFA|       7|                                 83|\n",
      "|  1950|  World Cup|1950-06-29|      Chile|        Spain|         0|         2|      Global|     NULL|                FIFA|       8|                                 83|\n",
      "|  1950|  World Cup|1950-06-29|    England|United States|         0|         1|      Global|     NULL|                FIFA|       9|                                 83|\n",
      "|  1950|  World Cup|1950-06-29|   Paraguay|       Sweden|         2|         2|      Global|     NULL|                FIFA|      10|                                 83|\n",
      "|  1950|  World Cup|1950-07-01|     Brazil|   Yugoslavia|         2|         0|      Global|     NULL|                FIFA|      11|                                 83|\n",
      "|  1950|  World Cup|1950-07-02|    Bolivia|      Uruguay|         0|         8|      Global|     NULL|                FIFA|      12|                                 83|\n",
      "|  1950|  World Cup|1950-07-02|      Chile|United States|         5|         2|      Global|     NULL|                FIFA|      13|                                 83|\n",
      "|  1950|  World Cup|1950-07-02|    England|        Spain|         0|         1|      Global|     NULL|                FIFA|      14|                                 83|\n",
      "|  1950|  World Cup|1950-07-02|      Italy|     Paraguay|         2|         0|      Global|     NULL|                FIFA|      15|                                 83|\n",
      "|  1950|  World Cup|1950-07-02|     Mexico|  Switzerland|         1|         2|      Global|     NULL|                FIFA|      16|                                 83|\n",
      "|  1950|  World Cup|1950-07-09|     Brazil|       Sweden|         7|         1|      Global|     NULL|                FIFA|      17|                                 83|\n",
      "|  1950|  World Cup|1950-07-09|      Spain|      Uruguay|         2|         2|      Global|     NULL|                FIFA|      18|                                 83|\n",
      "|  1950|  World Cup|1950-07-13|     Brazil|        Spain|         6|         1|      Global|     NULL|                FIFA|      19|                                 83|\n",
      "|  1950|  World Cup|1950-07-13|     Sweden|      Uruguay|         2|         3|      Global|     NULL|                FIFA|      20|                                 83|\n",
      "+------+-----------+----------+-----------+-------------+----------+----------+------------+---------+--------------------+--------+-----------------------------------+\n",
      "only showing top 20 rows\n",
      "\n"
     ]
    }
   ],
   "source": [
    "# Join ranked_df with matches_per_decade_competition_df on 'Decade' and 'Competition' columns\n",
    "ranked_df = ranked_df.join(matches_per_decade_competition_df, on=['Decade', 'Competition'], how='left')\n",
    "\n",
    "# Show the first few rows of the updated dataframe\n",
    "ranked_df.show()"
   ]
  },
  {
   "cell_type": "code",
   "execution_count": null,
   "metadata": {},
   "outputs": [
    {
     "name": "stdout",
     "output_type": "stream",
     "text": [
      "+----------+---------+---------+------+\n",
      "|      date|home_team|away_team|minute|\n",
      "+----------+---------+---------+------+\n",
      "|1916-07-02|    Chile|  Uruguay|    44|\n",
      "|1916-07-02|    Chile|  Uruguay|    55|\n",
      "|1916-07-02|    Chile|  Uruguay|    70|\n",
      "|1916-07-02|    Chile|  Uruguay|    75|\n",
      "|1916-07-06|Argentina|    Chile|     2|\n",
      "|1916-07-06|Argentina|    Chile|    44|\n",
      "|1916-07-06|Argentina|    Chile|    60|\n",
      "|1916-07-06|Argentina|    Chile|    62|\n",
      "|1916-07-06|Argentina|    Chile|    67|\n",
      "|1916-07-06|Argentina|    Chile|    75|\n",
      "|1916-07-06|Argentina|    Chile|    81|\n",
      "|1916-07-08|   Brazil|    Chile|    29|\n",
      "|1916-07-08|   Brazil|    Chile|    85|\n",
      "|1916-07-10|Argentina|   Brazil|    10|\n",
      "|1916-07-10|Argentina|   Brazil|    23|\n",
      "|1916-07-12|   Brazil|  Uruguay|     8|\n",
      "|1916-07-12|   Brazil|  Uruguay|    58|\n",
      "|1916-07-12|   Brazil|  Uruguay|    77|\n",
      "|1917-09-30|  Uruguay|    Chile|    20|\n",
      "|1917-09-30|  Uruguay|    Chile|    44|\n",
      "+----------+---------+---------+------+\n",
      "only showing top 20 rows\n",
      "\n"
     ]
    }
   ],
   "source": [
    "# Drop the specified columns\n",
    "goal_scorers_df = goal_scorers_df.drop('own_goal', 'penalty', 'scorer', 'team')\n",
    "\n",
    "# Show the first few rows of the updated dataframe\n",
    "goal_scorers_df.show()"
   ]
  },
  {
   "cell_type": "code",
   "execution_count": null,
   "metadata": {},
   "outputs": [
    {
     "name": "stdout",
     "output_type": "stream",
     "text": [
      "+----------+---------+---------+------+\n",
      "|      date|home_team|away_team|minute|\n",
      "+----------+---------+---------+------+\n",
      "|1916-07-02|    Chile|  Uruguay|    44|\n",
      "|1916-07-02|    Chile|  Uruguay|    55|\n",
      "|1916-07-02|    Chile|  Uruguay|    70|\n",
      "|1916-07-02|    Chile|  Uruguay|    75|\n",
      "|1916-07-06|Argentina|    Chile|     2|\n",
      "|1916-07-06|Argentina|    Chile|    44|\n",
      "|1916-07-06|Argentina|    Chile|    60|\n",
      "|1916-07-06|Argentina|    Chile|    62|\n",
      "|1916-07-06|Argentina|    Chile|    67|\n",
      "|1916-07-06|Argentina|    Chile|    75|\n",
      "|1916-07-06|Argentina|    Chile|    81|\n",
      "|1916-07-08|   Brazil|    Chile|    29|\n",
      "|1916-07-08|   Brazil|    Chile|    85|\n",
      "|1916-07-10|Argentina|   Brazil|    10|\n",
      "|1916-07-10|Argentina|   Brazil|    23|\n",
      "|1916-07-12|   Brazil|  Uruguay|     8|\n",
      "|1916-07-12|   Brazil|  Uruguay|    58|\n",
      "|1916-07-12|   Brazil|  Uruguay|    77|\n",
      "|1917-09-30|  Uruguay|    Chile|    20|\n",
      "|1917-09-30|  Uruguay|    Chile|    44|\n",
      "+----------+---------+---------+------+\n",
      "only showing top 20 rows\n",
      "\n"
     ]
    }
   ],
   "source": [
    "# Filter out records that have null values in the 'minute' column\n",
    "goal_scorers_df = goal_scorers_df.filter(goal_scorers_df.minute.isNotNull())\n",
    "\n",
    "# Show the first few rows of the filtered dataframe\n",
    "goal_scorers_df.show()"
   ]
  },
  {
   "cell_type": "code",
   "execution_count": null,
   "metadata": {},
   "outputs": [
    {
     "name": "stdout",
     "output_type": "stream",
     "text": [
      "+----------+-----------+-------------+------+------+-----------+----------+----------+------------+---------+--------------------+--------+-----------------------------------+\n",
      "|      date|  home_team|    away_team|minute|Decade|Competition|home_score|away_score|Participants|Continent|Football Association|Match ID|Matches in a Decade per Competition|\n",
      "+----------+-----------+-------------+------+------+-----------+----------+----------+------------+---------+--------------------+--------+-----------------------------------+\n",
      "|1950-06-24|     Brazil|       Mexico|    79|  1950|  World Cup|         4|         0|      Global|     NULL|                FIFA|       1|                                 83|\n",
      "|1950-06-24|     Brazil|       Mexico|    71|  1950|  World Cup|         4|         0|      Global|     NULL|                FIFA|       1|                                 83|\n",
      "|1950-06-24|     Brazil|       Mexico|    65|  1950|  World Cup|         4|         0|      Global|     NULL|                FIFA|       1|                                 83|\n",
      "|1950-06-24|     Brazil|       Mexico|    30|  1950|  World Cup|         4|         0|      Global|     NULL|                FIFA|       1|                                 83|\n",
      "|1950-06-25|      Chile|      England|    51|  1950|  World Cup|         0|         2|      Global|     NULL|                FIFA|       2|                                 83|\n",
      "|1950-06-25|      Chile|      England|    39|  1950|  World Cup|         0|         2|      Global|     NULL|                FIFA|       2|                                 83|\n",
      "|1950-06-25|      Italy|       Sweden|    75|  1950|  World Cup|         2|         3|      Global|     NULL|                FIFA|       3|                                 83|\n",
      "|1950-06-25|      Italy|       Sweden|    68|  1950|  World Cup|         2|         3|      Global|     NULL|                FIFA|       3|                                 83|\n",
      "|1950-06-25|      Italy|       Sweden|    33|  1950|  World Cup|         2|         3|      Global|     NULL|                FIFA|       3|                                 83|\n",
      "|1950-06-25|      Italy|       Sweden|    25|  1950|  World Cup|         2|         3|      Global|     NULL|                FIFA|       3|                                 83|\n",
      "|1950-06-25|      Italy|       Sweden|     7|  1950|  World Cup|         2|         3|      Global|     NULL|                FIFA|       3|                                 83|\n",
      "|1950-06-25|      Spain|United States|    89|  1950|  World Cup|         3|         1|      Global|     NULL|                FIFA|       4|                                 83|\n",
      "|1950-06-25|      Spain|United States|    83|  1950|  World Cup|         3|         1|      Global|     NULL|                FIFA|       4|                                 83|\n",
      "|1950-06-25|      Spain|United States|    81|  1950|  World Cup|         3|         1|      Global|     NULL|                FIFA|       4|                                 83|\n",
      "|1950-06-25|      Spain|United States|    17|  1950|  World Cup|         3|         1|      Global|     NULL|                FIFA|       4|                                 83|\n",
      "|1950-06-25|Switzerland|   Yugoslavia|    84|  1950|  World Cup|         0|         3|      Global|     NULL|                FIFA|       5|                                 83|\n",
      "|1950-06-25|Switzerland|   Yugoslavia|    70|  1950|  World Cup|         0|         3|      Global|     NULL|                FIFA|       5|                                 83|\n",
      "|1950-06-25|Switzerland|   Yugoslavia|    59|  1950|  World Cup|         0|         3|      Global|     NULL|                FIFA|       5|                                 83|\n",
      "|1950-06-28|     Brazil|  Switzerland|    88|  1950|  World Cup|         2|         2|      Global|     NULL|                FIFA|       6|                                 83|\n",
      "|1950-06-28|     Brazil|  Switzerland|    32|  1950|  World Cup|         2|         2|      Global|     NULL|                FIFA|       6|                                 83|\n",
      "+----------+-----------+-------------+------+------+-----------+----------+----------+------------+---------+--------------------+--------+-----------------------------------+\n",
      "only showing top 20 rows\n",
      "\n"
     ]
    }
   ],
   "source": [
    "# Join goal_scorers_df with ranked_df on 'date', 'home_team', and 'away_team' columns\n",
    "joined_goal_scorers_df = goal_scorers_df.join(ranked_df, on=['date', 'home_team', 'away_team'], how='inner')\n",
    "\n",
    "# Show the first few rows of the resulting dataframe\n",
    "joined_goal_scorers_df.show()"
   ]
  },
  {
   "cell_type": "code",
   "execution_count": null,
   "metadata": {},
   "outputs": [
    {
     "name": "stdout",
     "output_type": "stream",
     "text": [
      "+-------+-----------+-----------+\n",
      "|Segment|Lower Bound|Upper Bound|\n",
      "+-------+-----------+-----------+\n",
      "|   0-15|          0|         15|\n",
      "|  15-30|         15|         30|\n",
      "|  30-45|         30|         45|\n",
      "|  45-60|         45|         60|\n",
      "|  60-75|         60|         75|\n",
      "|  75-90|         75|         90|\n",
      "|    90+|       NULL|       NULL|\n",
      "+-------+-----------+-----------+\n",
      "\n"
     ]
    }
   ],
   "source": [
    "from pyspark.sql.functions import split\n",
    "\n",
    "# Split the 'Segment' column into two separate columns 'Start_Minute' and 'End_Minute'\n",
    "segment_df = segment_df.withColumn('Lower Bound', split(segment_df['Segment'], '-').getItem(0).cast('int'))\n",
    "segment_df = segment_df.withColumn('Upper Bound', split(segment_df['Segment'], '-').getItem(1).cast('int'))\n",
    "\n",
    "# Show the first few rows of the updated dataframe\n",
    "segment_df.show()"
   ]
  },
  {
   "cell_type": "code",
   "execution_count": null,
   "metadata": {},
   "outputs": [
    {
     "name": "stdout",
     "output_type": "stream",
     "text": [
      "+-------+-----------+-----------+\n",
      "|Segment|Lower Bound|Upper Bound|\n",
      "+-------+-----------+-----------+\n",
      "|   0-15|          0|         15|\n",
      "|  15-30|         15|         30|\n",
      "|  30-45|         30|         45|\n",
      "|  45-60|         45|         60|\n",
      "|  60-75|         60|         75|\n",
      "|  75-90|         75|         90|\n",
      "|    90+|         90|        180|\n",
      "+-------+-----------+-----------+\n",
      "\n"
     ]
    }
   ],
   "source": [
    "# Replace NULL values in 'Lower Bound' column with 90\n",
    "segment_df = segment_df.fillna({'Lower Bound': 90})\n",
    "\n",
    "# Replace NULL values in 'Upper Bound' column with 180\n",
    "segment_df = segment_df.fillna({'Upper Bound': 180})\n",
    "\n",
    "# Show the first few rows of the updated dataframe\n",
    "segment_df.show()"
   ]
  },
  {
   "cell_type": "code",
   "execution_count": null,
   "metadata": {},
   "outputs": [
    {
     "name": "stdout",
     "output_type": "stream",
     "text": [
      "+----------+-----------+-------------+------+------+-----------+----------+----------+------------+---------+--------------------+--------+-----------------------------------+-------+-----------+-----------+\n",
      "|      date|  home_team|    away_team|minute|Decade|Competition|home_score|away_score|Participants|Continent|Football Association|Match ID|Matches in a Decade per Competition|Segment|Lower Bound|Upper Bound|\n",
      "+----------+-----------+-------------+------+------+-----------+----------+----------+------------+---------+--------------------+--------+-----------------------------------+-------+-----------+-----------+\n",
      "|1950-06-24|     Brazil|       Mexico|    79|  1950|  World Cup|         4|         0|      Global|     NULL|                FIFA|       1|                                 83|  75-90|         75|         90|\n",
      "|1950-06-24|     Brazil|       Mexico|    71|  1950|  World Cup|         4|         0|      Global|     NULL|                FIFA|       1|                                 83|  60-75|         60|         75|\n",
      "|1950-06-24|     Brazil|       Mexico|    65|  1950|  World Cup|         4|         0|      Global|     NULL|                FIFA|       1|                                 83|  60-75|         60|         75|\n",
      "|1950-06-24|     Brazil|       Mexico|    30|  1950|  World Cup|         4|         0|      Global|     NULL|                FIFA|       1|                                 83|  30-45|         30|         45|\n",
      "|1950-06-25|      Chile|      England|    51|  1950|  World Cup|         0|         2|      Global|     NULL|                FIFA|       2|                                 83|  45-60|         45|         60|\n",
      "|1950-06-25|      Chile|      England|    39|  1950|  World Cup|         0|         2|      Global|     NULL|                FIFA|       2|                                 83|  30-45|         30|         45|\n",
      "|1950-06-25|      Italy|       Sweden|    75|  1950|  World Cup|         2|         3|      Global|     NULL|                FIFA|       3|                                 83|  75-90|         75|         90|\n",
      "|1950-06-25|      Italy|       Sweden|    68|  1950|  World Cup|         2|         3|      Global|     NULL|                FIFA|       3|                                 83|  60-75|         60|         75|\n",
      "|1950-06-25|      Italy|       Sweden|    33|  1950|  World Cup|         2|         3|      Global|     NULL|                FIFA|       3|                                 83|  30-45|         30|         45|\n",
      "|1950-06-25|      Italy|       Sweden|    25|  1950|  World Cup|         2|         3|      Global|     NULL|                FIFA|       3|                                 83|  15-30|         15|         30|\n",
      "|1950-06-25|      Italy|       Sweden|     7|  1950|  World Cup|         2|         3|      Global|     NULL|                FIFA|       3|                                 83|   0-15|          0|         15|\n",
      "|1950-06-25|      Spain|United States|    89|  1950|  World Cup|         3|         1|      Global|     NULL|                FIFA|       4|                                 83|  75-90|         75|         90|\n",
      "|1950-06-25|      Spain|United States|    83|  1950|  World Cup|         3|         1|      Global|     NULL|                FIFA|       4|                                 83|  75-90|         75|         90|\n",
      "|1950-06-25|      Spain|United States|    81|  1950|  World Cup|         3|         1|      Global|     NULL|                FIFA|       4|                                 83|  75-90|         75|         90|\n",
      "|1950-06-25|      Spain|United States|    17|  1950|  World Cup|         3|         1|      Global|     NULL|                FIFA|       4|                                 83|  15-30|         15|         30|\n",
      "|1950-06-25|Switzerland|   Yugoslavia|    84|  1950|  World Cup|         0|         3|      Global|     NULL|                FIFA|       5|                                 83|  75-90|         75|         90|\n",
      "|1950-06-25|Switzerland|   Yugoslavia|    70|  1950|  World Cup|         0|         3|      Global|     NULL|                FIFA|       5|                                 83|  60-75|         60|         75|\n",
      "|1950-06-25|Switzerland|   Yugoslavia|    59|  1950|  World Cup|         0|         3|      Global|     NULL|                FIFA|       5|                                 83|  45-60|         45|         60|\n",
      "|1950-06-28|     Brazil|  Switzerland|    88|  1950|  World Cup|         2|         2|      Global|     NULL|                FIFA|       6|                                 83|  75-90|         75|         90|\n",
      "|1950-06-28|     Brazil|  Switzerland|    32|  1950|  World Cup|         2|         2|      Global|     NULL|                FIFA|       6|                                 83|  30-45|         30|         45|\n",
      "+----------+-----------+-------------+------+------+-----------+----------+----------+------------+---------+--------------------+--------+-----------------------------------+-------+-----------+-----------+\n",
      "only showing top 20 rows\n",
      "\n"
     ]
    }
   ],
   "source": [
    "# Convert 'minute' column to integer type\n",
    "joined_goal_scorers_df = joined_goal_scorers_df.withColumn('minute', joined_goal_scorers_df['minute'].cast('int'))\n",
    "\n",
    "# Join the dataframes on the specified condition\n",
    "final_df = joined_goal_scorers_df.join(segment_df, (joined_goal_scorers_df.minute >= segment_df['Lower Bound']) & (joined_goal_scorers_df.minute < segment_df['Upper Bound']), how='inner')\n",
    "\n",
    "# Show the first few rows of the resulting dataframe\n",
    "final_df.show()"
   ]
  },
  {
   "cell_type": "code",
   "execution_count": null,
   "metadata": {},
   "outputs": [
    {
     "name": "stdout",
     "output_type": "stream",
     "text": [
      "+-----------------------------------+-----------+------+-------+-----------+\n",
      "|Matches in a Decade per Competition|Competition|Decade|Segment|Total Goals|\n",
      "+-----------------------------------+-----------+------+-------+-----------+\n",
      "|                                 42|  Asian Cup|  1990|  75-90|         22|\n",
      "|                                 42|  Asian Cup|  1990|  30-45|         19|\n",
      "|                                 42|  Asian Cup|  1990|  15-30|         18|\n",
      "|                                 42|  Asian Cup|  1990|  60-75|         17|\n",
      "|                                 42|  Asian Cup|  1990|  45-60|         17|\n",
      "|                                 42|  Asian Cup|  1990|   0-15|         13|\n",
      "|                                 42|  Asian Cup|  1990|    90+|          5|\n",
      "|                                  6|  Asian Cup|  1950|  75-90|          2|\n",
      "|                                  6|  Asian Cup|  1950|  60-75|          8|\n",
      "|                                  6|  Asian Cup|  1950|  30-45|          4|\n",
      "|                                  6|  Asian Cup|  1950|   0-15|          4|\n",
      "|                                  6|  Asian Cup|  1950|  45-60|          7|\n",
      "|                                  6|  Asian Cup|  1950|  15-30|          2|\n",
      "|                                 22|  Asian Cup|  1960|  60-75|         17|\n",
      "|                                 22|  Asian Cup|  1960|  45-60|         13|\n",
      "|                                 22|  Asian Cup|  1960|  15-30|          7|\n",
      "|                                 22|  Asian Cup|  1960|  30-45|          8|\n",
      "|                                 22|  Asian Cup|  1960|   0-15|          7|\n",
      "|                                 22|  Asian Cup|  1960|  75-90|         11|\n",
      "|                                 93|       Euro|  2000|  45-60|         46|\n",
      "+-----------------------------------+-----------+------+-------+-----------+\n",
      "only showing top 20 rows\n",
      "\n"
     ]
    }
   ],
   "source": [
    "from pyspark.sql.functions import count\n",
    "\n",
    "# Group by the specified columns and count the records\n",
    "grouped_df = final_df.groupBy('Matches in a Decade per Competition', 'Competition', 'Decade', 'Segment').agg(count('*').alias('Total Goals'))\n",
    "\n",
    "# Show the first few rows of the resulting dataframe\n",
    "grouped_df.show()"
   ]
  },
  {
   "cell_type": "code",
   "execution_count": null,
   "metadata": {},
   "outputs": [],
   "source": []
  }
 ],
 "metadata": {
  "kernelspec": {
   "display_name": "Python 3",
   "language": "python",
   "name": "python3"
  },
  "language_info": {
   "codemirror_mode": {
    "name": "ipython",
    "version": 3
   },
   "file_extension": ".py",
   "mimetype": "text/x-python",
   "name": "python",
   "nbconvert_exporter": "python",
   "pygments_lexer": "ipython3",
   "version": "3.13.1"
  }
 },
 "nbformat": 4,
 "nbformat_minor": 2
}

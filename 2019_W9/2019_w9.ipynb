{
 "cells": [
  {
   "cell_type": "markdown",
   "metadata": {},
   "source": [
    "The rollercoaster ride of Chin & Beard Suds Co continues unabated. This time we have been asked by our Social Media manager to run our analytical minds over some questions on Complaints we receive via Twitter.\n",
    "\n",
    "<img src=\"https://3.bp.blogspot.com/-bodaWoL0pk8/XKttW3jOlqI/AAAAAAAAAMQ/dU-EOZ-9pnwAflmbtJlBjg589DpQdBz4QCLcBGAs/s1600/Tweet.JPG\" alt=\"Alternative text\" />\n",
    "\n",
    "Our Social Media manager has just pulled out the complaints for us to analyse where someone has tagged our Twitter handle @C&BSudsCo but then followed up with some issues raised. We need to know the common themes of these tweets and be ready to re-run this analysis at any time. In order to do that, we want you to make the data available to build a view on what common words are used in the complaint tweets.\n",
    "\n",
    "## Requirements:\n",
    "\n",
    "* Remove Chin & Beard Suds Co Twitter handle\n",
    "* Split the tweets up in to individual words\n",
    "* Pivot the words so we get just one column of each word used in the tweets\n",
    "* Remove the 250 most common words in the English language (sourced from here for you: http://www.anglik.net/english250.htm)\n",
    "* Output a list of words used alongside the original tweet so we know the context for how the word was used. \n",
    "\n",
    "## Output\n",
    "\n",
    "<img src=\"https://4.bp.blogspot.com/-SwefW6_HLkA/XKts-7vdEUI/AAAAAAAAAMI/wZ4ui6SgQUAJJgBh7VmJYAAUssnm5qlawCLcBGAs/s1600/Output.JPG\" alt=\"Alternative text\" />\n",
    "\n",
    "* 2 Columns of data\n",
    "* 69 Rows of data (70 including the header)\n",
    "* No null cells\n",
    "* A few chuckles at the complaints"
   ]
  },
  {
   "cell_type": "code",
   "execution_count": 1,
   "metadata": {},
   "outputs": [
    {
     "name": "stdout",
     "output_type": "stream",
     "text": [
      "1\n"
     ]
    }
   ],
   "source": [
    "print(1)"
   ]
  }
 ],
 "metadata": {
  "kernelspec": {
   "display_name": "Python 3.10.0 64-bit",
   "language": "python",
   "name": "python3"
  },
  "language_info": {
   "codemirror_mode": {
    "name": "ipython",
    "version": 3
   },
   "file_extension": ".py",
   "mimetype": "text/x-python",
   "name": "python",
   "nbconvert_exporter": "python",
   "pygments_lexer": "ipython3",
   "version": "3.10.0"
  },
  "orig_nbformat": 4,
  "vscode": {
   "interpreter": {
    "hash": "c3cedd81013b3798254e530f0d04430997cc2a4c554aece6737b52869c4f2a57"
   }
  }
 },
 "nbformat": 4,
 "nbformat_minor": 2
}

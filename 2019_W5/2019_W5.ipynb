{
 "cells": [
  {
   "cell_type": "markdown",
   "metadata": {},
   "source": [
    "Hands-up all of you who have a system in your organisation that let's your team enter free text answers in to a system? Ok, well that's most of you and I feel for each and every data guru that sits at the end of the database where that information is stored. If you didn't put your hand up, you will have a lot to learn this week!\n",
    "\n",
    "<img src=\"https://3.bp.blogspot.com/-YHAinQadPfI/XIePjvWW8LI/AAAAAAAAAKU/d7miB7T_qlYT7vgx53iXQhG0-ImOZ-acACLcBGAs/s400/Notes%2Bstring.JPG\" alt=\"Alternative text\" />\n",
    "\n",
    "I have often wondered whether I would have a career if it wasn't for projects delivering new operational systems not considering that the 'Junk In' to 'Junk Out' rule is a very pertinent one. Project budget cuts, lack of data awareness and time constraints all lead to a perfect storm of project delivery challenges. One of the side-effects of this is felt as soon as the project releases; how is the new system performing and is it doing what we expected? Welcome to this week's challenge!\n",
    "\n",
    "The input for this week's data is from a small financial services company's contact centre who have to measure some key statistics like:\n",
    "\n",
    "- Number of Balances that are being requested\n",
    "- Number of Statements being asked for\n",
    "- Number of complaints being raised\n",
    "\n",
    "<img src=\"https://1.bp.blogspot.com/-Zy2aa-3ZCps/XIegCmc7gGI/AAAAAAAAAKg/HcemOpq5Ba0_V7DEPN8W3KiDznC8G_D0gCEwYBhgL/s400/Week%2B5%2BInput.JPG\" alt=\"Alternative text\" />\n",
    "\n",
    "We need to know those numbers by Policy Number and Customer ID so we can see who is using the call centre to hopefully get them on to our website instead to self-service. When are our busiest days for the contact types above? The data set we are asking you to create will allow you to load that in to Tableau to get those answers - create a viz if you want to!\n",
    "\n",
    "Requirements:\n",
    "\n",
    "- Input data set\n",
    "- Create a date per day\n",
    "- Determine how the customer contacted the company\n",
    "- Create a separate column for the Policy Number\n",
    "- Remove contacts that don't have a Policy Number\n",
    "- Identify whether the contact was about a balance check, getting a statement or raising a complaint (it's all our boss cares about)\n",
    "- Get rid of unrequired columns\n",
    "\n",
    "<img src=\"https://4.bp.blogspot.com/-jucGdnIJdU8/XIegCoUPYoI/AAAAAAAAAKk/vbhcA4B0erQRI20ejwdBLh7jJ6f9bFiGwCEwYBhgL/s400/Week%2BFive%2BOutput.JPG\" alt=\"Alternative text\" />\n",
    "\n",
    "Output:\n",
    "\n",
    "- 15 Rows (16 including the column)\n",
    "- 6 Columns\n",
    "- One row per day, per customer and policy"
   ]
  },
  {
   "cell_type": "code",
   "execution_count": 225,
   "metadata": {},
   "outputs": [],
   "source": [
    "import pandas as pd\n",
    "from datetime import datetime  \n",
    "from datetime import timedelta\n",
    "import re"
   ]
  },
  {
   "cell_type": "code",
   "execution_count": 226,
   "metadata": {},
   "outputs": [
    {
     "name": "stdout",
     "output_type": "stream",
     "text": [
      "        Date  Customer ID                                              Notes\n",
      "0     Monday      29439.0  Called about their policy #4899. Wanted to kno...\n",
      "1    Tuesday      39822.0  Called regarding policy #4030. Change of Addre...\n",
      "2    Tuesday      83219.0  Emailed about the recommendation scheme. Wants...\n",
      "3    Tuesday      27316.0  Called complaining. Had to wait on the line an...\n",
      "4  Wednesday      12219.0             Email about #2001. Raised a complaint.\n",
      "5   Thursday      39822.0  Called about policy #4030. Gave the wrong post...\n",
      "6   Thursday      49291.0  Email asking to Change Address. Change made to...\n",
      "7     Friday      40201.0  Emailed requesting a new savings account. Poli...\n"
     ]
    }
   ],
   "source": [
    "df1 = pd.read_excel('week5input.xlsx', sheet_name='Week commencing 17th June 19')\n",
    "print(df1)"
   ]
  },
  {
   "cell_type": "code",
   "execution_count": 227,
   "metadata": {},
   "outputs": [
    {
     "name": "stdout",
     "output_type": "stream",
     "text": [
      "         Date  Customer ID                                              Notes\n",
      "0      Monday      72617.0              Emailed. #2080 asking for a statement\n",
      "1      Monday      39822.0  Call came in correcting the incorrect correcte...\n",
      "2      Monday      29439.0  Called about their policy #4899. Wanted to kno...\n",
      "3     Tuesday      29439.0     Called about incorrect balance on policy #4899\n",
      "4     Tuesday      12219.0  Email about #2001. Complaint about complaint n...\n",
      "5   Wednesday      34399.0        Email regarding #4002. Statement requested.\n",
      "6    Thursday      99999.0                                Call. Wrong number.\n",
      "7    Thursday      99999.0                       Call. Still the wrong number\n",
      "8    Thursday      99999.0  Email. Asking for the correct number for Pizza...\n",
      "9      Friday      29439.0  Email about #4899. Customer thanking me for my...\n",
      "10     Friday      72617.0               Email. Wants to close policy #2080. \n"
     ]
    }
   ],
   "source": [
    "df2 = pd.read_excel('week5input.xlsx', sheet_name='Week commencing 24th June 19')\n",
    "print(df2)"
   ]
  },
  {
   "cell_type": "code",
   "execution_count": 228,
   "metadata": {},
   "outputs": [],
   "source": [
    "temp_dict = {\n",
    "    'Monday':0,\n",
    "    'Tuesday':1,\n",
    "    'Wednesday':2,\n",
    "    'Thursday':3,\n",
    "    'Friday':4\n",
    "}"
   ]
  },
  {
   "cell_type": "code",
   "execution_count": 229,
   "metadata": {},
   "outputs": [
    {
     "name": "stdout",
     "output_type": "stream",
     "text": [
      "0\n",
      "<class 'int'>\n"
     ]
    }
   ],
   "source": [
    "print(temp_dict['Monday'])\n",
    "print(type(temp_dict['Monday']))\n"
   ]
  },
  {
   "cell_type": "code",
   "execution_count": 230,
   "metadata": {},
   "outputs": [
    {
     "name": "stdout",
     "output_type": "stream",
     "text": [
      "0   2019-06-17\n",
      "1   2019-06-18\n",
      "2   2019-06-18\n",
      "3   2019-06-18\n",
      "4   2019-06-19\n",
      "5   2019-06-20\n",
      "6   2019-06-20\n",
      "7   2019-06-21\n",
      "Name: True Date, dtype: datetime64[ns]\n"
     ]
    }
   ],
   "source": [
    "true_date_array = []\n",
    "x = datetime(2019, 6, 17)\n",
    "for record in df1['Date']:\n",
    "    true_date_array.append(x+ timedelta(days=temp_dict[record]))\n",
    "df1['True Date'] = true_date_array\n",
    "print(df1['True Date'])"
   ]
  },
  {
   "cell_type": "code",
   "execution_count": 231,
   "metadata": {},
   "outputs": [
    {
     "name": "stdout",
     "output_type": "stream",
     "text": [
      "0    2019-06-24\n",
      "1    2019-06-24\n",
      "2    2019-06-24\n",
      "3    2019-06-25\n",
      "4    2019-06-25\n",
      "5    2019-06-26\n",
      "6    2019-06-27\n",
      "7    2019-06-27\n",
      "8    2019-06-27\n",
      "9    2019-06-28\n",
      "10   2019-06-28\n",
      "Name: True Date, dtype: datetime64[ns]\n"
     ]
    }
   ],
   "source": [
    "true_date_array = []\n",
    "x = datetime(2019, 6, 24)\n",
    "for record in df2['Date']:\n",
    "    true_date_array.append(x+ timedelta(days=temp_dict[record]))\n",
    "df2['True Date'] = true_date_array\n",
    "print(df2['True Date'])"
   ]
  },
  {
   "cell_type": "code",
   "execution_count": 232,
   "metadata": {},
   "outputs": [
    {
     "name": "stdout",
     "output_type": "stream",
     "text": [
      "    index  Customer ID                                              Notes  \\\n",
      "0       0      29439.0  Called about their policy #4899. Wanted to kno...   \n",
      "1       1      39822.0  Called regarding policy #4030. Change of Addre...   \n",
      "2       2      83219.0  Emailed about the recommendation scheme. Wants...   \n",
      "3       3      27316.0  Called complaining. Had to wait on the line an...   \n",
      "4       4      12219.0             Email about #2001. Raised a complaint.   \n",
      "5       5      39822.0  Called about policy #4030. Gave the wrong post...   \n",
      "6       6      49291.0  Email asking to Change Address. Change made to...   \n",
      "7       7      40201.0  Emailed requesting a new savings account. Poli...   \n",
      "8       0      72617.0              Emailed. #2080 asking for a statement   \n",
      "9       1      39822.0  Call came in correcting the incorrect correcte...   \n",
      "10      2      29439.0  Called about their policy #4899. Wanted to kno...   \n",
      "11      3      29439.0     Called about incorrect balance on policy #4899   \n",
      "12      4      12219.0  Email about #2001. Complaint about complaint n...   \n",
      "13      5      34399.0        Email regarding #4002. Statement requested.   \n",
      "14      6      99999.0                                Call. Wrong number.   \n",
      "15      7      99999.0                       Call. Still the wrong number   \n",
      "16      8      99999.0  Email. Asking for the correct number for Pizza...   \n",
      "17      9      29439.0  Email about #4899. Customer thanking me for my...   \n",
      "18     10      72617.0               Email. Wants to close policy #2080.    \n",
      "\n",
      "    True Date  \n",
      "0  2019-06-17  \n",
      "1  2019-06-18  \n",
      "2  2019-06-18  \n",
      "3  2019-06-18  \n",
      "4  2019-06-19  \n",
      "5  2019-06-20  \n",
      "6  2019-06-20  \n",
      "7  2019-06-21  \n",
      "8  2019-06-24  \n",
      "9  2019-06-24  \n",
      "10 2019-06-24  \n",
      "11 2019-06-25  \n",
      "12 2019-06-25  \n",
      "13 2019-06-26  \n",
      "14 2019-06-27  \n",
      "15 2019-06-27  \n",
      "16 2019-06-27  \n",
      "17 2019-06-28  \n",
      "18 2019-06-28  \n"
     ]
    }
   ],
   "source": [
    "df = pd.concat([df1,df2])\n",
    "df.drop(columns=['Date'], inplace=True)\n",
    "df.reset_index(inplace=True)\n",
    "print(df)"
   ]
  },
  {
   "cell_type": "code",
   "execution_count": 233,
   "metadata": {},
   "outputs": [
    {
     "name": "stdout",
     "output_type": "stream",
     "text": [
      "    index  Customer ID                                              Notes  \\\n",
      "0       0      29439.0  Called about their policy #4899. Wanted to kno...   \n",
      "1       1      39822.0  Called regarding policy #4030. Change of Addre...   \n",
      "2       2      83219.0  Emailed about the recommendation scheme. Wants...   \n",
      "3       3      27316.0  Called complaining. Had to wait on the line an...   \n",
      "4       4      12219.0             Email about #2001. Raised a complaint.   \n",
      "5       5      39822.0  Called about policy #4030. Gave the wrong post...   \n",
      "6       6      49291.0  Email asking to Change Address. Change made to...   \n",
      "7       7      40201.0  Emailed requesting a new savings account. Poli...   \n",
      "8       0      72617.0              Emailed. #2080 asking for a statement   \n",
      "9       1      39822.0  Call came in correcting the incorrect correcte...   \n",
      "10      2      29439.0  Called about their policy #4899. Wanted to kno...   \n",
      "11      3      29439.0     Called about incorrect balance on policy #4899   \n",
      "12      4      12219.0  Email about #2001. Complaint about complaint n...   \n",
      "13      5      34399.0        Email regarding #4002. Statement requested.   \n",
      "14      6      99999.0                                Call. Wrong number.   \n",
      "15      7      99999.0                       Call. Still the wrong number   \n",
      "16      8      99999.0  Email. Asking for the correct number for Pizza...   \n",
      "17      9      29439.0  Email about #4899. Customer thanking me for my...   \n",
      "18     10      72617.0               Email. Wants to close policy #2080.    \n",
      "\n",
      "    True Date   Type  \n",
      "0  2019-06-17   Call  \n",
      "1  2019-06-18   Call  \n",
      "2  2019-06-18  Email  \n",
      "3  2019-06-18   Call  \n",
      "4  2019-06-19  Email  \n",
      "5  2019-06-20   Call  \n",
      "6  2019-06-20  Email  \n",
      "7  2019-06-21  Email  \n",
      "8  2019-06-24  Email  \n",
      "9  2019-06-24   Call  \n",
      "10 2019-06-24   Call  \n",
      "11 2019-06-25   Call  \n",
      "12 2019-06-25  Email  \n",
      "13 2019-06-26  Email  \n",
      "14 2019-06-27   Call  \n",
      "15 2019-06-27   Call  \n",
      "16 2019-06-27  Email  \n",
      "17 2019-06-28  Email  \n",
      "18 2019-06-28  Email  \n"
     ]
    }
   ],
   "source": [
    "type_array = []\n",
    "for record in df['Notes']:\n",
    "    if re.search('Call',record) is not None:\n",
    "        type_array.append('Call')\n",
    "    else:\n",
    "        type_array.append('Email')\n",
    "df['Type'] = type_array\n",
    "print(df)\n",
    "\n",
    "\n"
   ]
  },
  {
   "cell_type": "code",
   "execution_count": 234,
   "metadata": {},
   "outputs": [
    {
     "name": "stdout",
     "output_type": "stream",
     "text": [
      "    index  Customer ID                                              Notes  \\\n",
      "0       0      29439.0  Called about their policy #4899. Wanted to kno...   \n",
      "1       1      39822.0  Called regarding policy #4030. Change of Addre...   \n",
      "2       2      83219.0  Emailed about the recommendation scheme. Wants...   \n",
      "3       3      27316.0  Called complaining. Had to wait on the line an...   \n",
      "4       4      12219.0             Email about #2001. Raised a complaint.   \n",
      "5       5      39822.0  Called about policy #4030. Gave the wrong post...   \n",
      "6       6      49291.0  Email asking to Change Address. Change made to...   \n",
      "7       7      40201.0  Emailed requesting a new savings account. Poli...   \n",
      "8       0      72617.0              Emailed. #2080 asking for a statement   \n",
      "9       1      39822.0  Call came in correcting the incorrect correcte...   \n",
      "10      2      29439.0  Called about their policy #4899. Wanted to kno...   \n",
      "11      3      29439.0     Called about incorrect balance on policy #4899   \n",
      "12      4      12219.0  Email about #2001. Complaint about complaint n...   \n",
      "13      5      34399.0        Email regarding #4002. Statement requested.   \n",
      "14      6      99999.0                                Call. Wrong number.   \n",
      "15      7      99999.0                       Call. Still the wrong number   \n",
      "16      8      99999.0  Email. Asking for the correct number for Pizza...   \n",
      "17      9      29439.0  Email about #4899. Customer thanking me for my...   \n",
      "18     10      72617.0               Email. Wants to close policy #2080.    \n",
      "\n",
      "    True Date   Type Policy Number  \n",
      "0  2019-06-17   Call          4899  \n",
      "1  2019-06-18   Call          4030  \n",
      "2  2019-06-18  Email          None  \n",
      "3  2019-06-18   Call          3001  \n",
      "4  2019-06-19  Email          2001  \n",
      "5  2019-06-20   Call          4030  \n",
      "6  2019-06-20  Email          9220  \n",
      "7  2019-06-21  Email          6090  \n",
      "8  2019-06-24  Email          2080  \n",
      "9  2019-06-24   Call          4030  \n",
      "10 2019-06-24   Call          4899  \n",
      "11 2019-06-25   Call          4899  \n",
      "12 2019-06-25  Email          2001  \n",
      "13 2019-06-26  Email          4002  \n",
      "14 2019-06-27   Call          None  \n",
      "15 2019-06-27   Call          None  \n",
      "16 2019-06-27  Email          None  \n",
      "17 2019-06-28  Email          4899  \n",
      "18 2019-06-28  Email          2080  \n"
     ]
    }
   ],
   "source": [
    "policy_array = []\n",
    "for record in df['Notes']:\n",
    "    c_index = record.find('#')\n",
    "    if c_index > 0:\n",
    "        policy_array.append(record[c_index+1:c_index+5])\n",
    "    else:\n",
    "        policy_array.append(None)\n",
    "df['Policy Number'] = policy_array\n",
    "print(df)"
   ]
  },
  {
   "cell_type": "code",
   "execution_count": 235,
   "metadata": {},
   "outputs": [
    {
     "name": "stdout",
     "output_type": "stream",
     "text": [
      "    level_0  index  Customer ID  \\\n",
      "0         0      0      29439.0   \n",
      "1         1      1      39822.0   \n",
      "2         3      3      27316.0   \n",
      "3         4      4      12219.0   \n",
      "4         5      5      39822.0   \n",
      "5         6      6      49291.0   \n",
      "6         7      7      40201.0   \n",
      "7         8      0      72617.0   \n",
      "8         9      1      39822.0   \n",
      "9        10      2      29439.0   \n",
      "10       11      3      29439.0   \n",
      "11       12      4      12219.0   \n",
      "12       13      5      34399.0   \n",
      "13       17      9      29439.0   \n",
      "14       18     10      72617.0   \n",
      "\n",
      "                                                Notes  True Date   Type  \\\n",
      "0   Called about their policy #4899. Wanted to kno... 2019-06-17   Call   \n",
      "1   Called regarding policy #4030. Change of Addre... 2019-06-18   Call   \n",
      "2   Called complaining. Had to wait on the line an... 2019-06-18   Call   \n",
      "3              Email about #2001. Raised a complaint. 2019-06-19  Email   \n",
      "4   Called about policy #4030. Gave the wrong post... 2019-06-20   Call   \n",
      "5   Email asking to Change Address. Change made to... 2019-06-20  Email   \n",
      "6   Emailed requesting a new savings account. Poli... 2019-06-21  Email   \n",
      "7               Emailed. #2080 asking for a statement 2019-06-24  Email   \n",
      "8   Call came in correcting the incorrect correcte... 2019-06-24   Call   \n",
      "9   Called about their policy #4899. Wanted to kno... 2019-06-24   Call   \n",
      "10     Called about incorrect balance on policy #4899 2019-06-25   Call   \n",
      "11  Email about #2001. Complaint about complaint n... 2019-06-25  Email   \n",
      "12        Email regarding #4002. Statement requested. 2019-06-26  Email   \n",
      "13  Email about #4899. Customer thanking me for my... 2019-06-28  Email   \n",
      "14               Email. Wants to close policy #2080.  2019-06-28  Email   \n",
      "\n",
      "   Policy Number  \n",
      "0           4899  \n",
      "1           4030  \n",
      "2           3001  \n",
      "3           2001  \n",
      "4           4030  \n",
      "5           9220  \n",
      "6           6090  \n",
      "7           2080  \n",
      "8           4030  \n",
      "9           4899  \n",
      "10          4899  \n",
      "11          2001  \n",
      "12          4002  \n",
      "13          4899  \n",
      "14          2080  \n"
     ]
    }
   ],
   "source": [
    "df.dropna(subset=['Policy Number'], inplace=True)\n",
    "df.reset_index(inplace=True)\n",
    "print(df)"
   ]
  }
 ],
 "metadata": {
  "kernelspec": {
   "display_name": "Python 3.10.0 64-bit",
   "language": "python",
   "name": "python3"
  },
  "language_info": {
   "codemirror_mode": {
    "name": "ipython",
    "version": 3
   },
   "file_extension": ".py",
   "mimetype": "text/x-python",
   "name": "python",
   "nbconvert_exporter": "python",
   "pygments_lexer": "ipython3",
   "version": "3.10.0"
  },
  "orig_nbformat": 4,
  "vscode": {
   "interpreter": {
    "hash": "c3cedd81013b3798254e530f0d04430997cc2a4c554aece6737b52869c4f2a57"
   }
  }
 },
 "nbformat": 4,
 "nbformat_minor": 2
}

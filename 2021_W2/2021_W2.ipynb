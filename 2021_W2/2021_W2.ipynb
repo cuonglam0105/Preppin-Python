{
 "cells": [
  {
   "attachments": {},
   "cell_type": "markdown",
   "metadata": {},
   "source": [
    "# 2021: Week 2\n",
    "\n",
    "January 13, 2021\n",
    "\n",
    "Building on from Week 1's challenge, we are going to take your data prep skills on one step further. The next steps we are introducing this week are:\n",
    "\n",
    "* Aggregation - changing the level of granularity of your data. The combination of the categorical fields often sets what each row represents so aggregating data changes this. In Tableau Prep this is different from how we aggregate in Tableau Desktop.\n",
    "* Calculations - If the value or variable that you need to use isn't in your data set, you will often be able to create it from the other data fields you do have. \n",
    "As per last week, we've attached some help links that will teach you the techniques if you need a few nudges. One of the main challenges with Data Preparation is to think about not just what you want to do but the order you need to do those steps in. The challenge this week will be a good example of that to avoid repeating steps. Here's a post that might help you with your planning. \n",
    "Also, thank you to all those who posted their solutions, in all the different tools on Twitter and the community forums last week. Keep sharing those solutions, you are helping more people learn these important skills than you think!\n",
    "\n",
    "# Challenge\n",
    "Challenge by: Carl Allchin\n",
    "This week we are looking at the different Brands of bikes available in our stores. We need to understand what are the most popular sellers and do the customers of the different brands have the same experience to other customers. \n",
    "\n",
    "We are creating simple summaries this week to get a quick, tabular view of the answers. If you want to visualise the data to highlight those trends even more clearly, go for it! \n",
    "\n",
    "# Input\n",
    "One csv file of bike sales.\n",
    "\n",
    "<img src='https://1.bp.blogspot.com/-z_heCV23gPQ/X_rk1Pa7a8I/AAAAAAAACGM/v4DDRd218DcDw71jZPbyVVGgxkee-wSsQCLcBGAsYHQ/w640-h214/Screenshot%2B2021-01-10%2Bat%2B11.27.51.png'>\n",
    "\n",
    "# Requirements\n",
    "* Input the data (help)\n",
    "* Clean up the Model field to leave only the letters to represent the Brand of the bike (help)\n",
    "* Workout the Order Value using Value per Bike and Quantity.\n",
    "* Aggregate Value per Bike, Order Value and Quantity by Brand and Bike Type to form: (help) \n",
    "Quantity Sold\n",
    "Order Value\n",
    "Average Value Sold per Brand, Type\n",
    "* Calculate Days to ship by measuring the difference between when an order was placed and when it was shipped as 'Days to Ship' (help)\n",
    "* Aggregate Order Value, Quantity and Days to Ship by Brand and Store to form:\n",
    "Total Quantity Sold\n",
    "Total Order Value\n",
    "Average Days to Ship\n",
    "* Round any averaged values to one decimal place to make the values easier to read\n",
    "* Output both data sets\n",
    "\n",
    "# Output\n",
    "Two files:\n",
    "\n",
    "1. Sales by Brand and Type\n",
    "\n",
    "<img src='https://1.bp.blogspot.com/-pIoOV-rm3JM/X_8FXjz9FbI/AAAAAAAACGs/mWo2N0mn1vwHqnH-_n8X60M_kvKiIUCwACLcBGAsYHQ/w640-h244/Screenshot%2B2021-01-13%2Bat%2B14.35.41.png'>\n",
    "\n",
    "5 Data Fields:\n",
    "* Brand\n",
    "* Bike Type\n",
    "* Quantity Sold\n",
    "* Order Value\n",
    "* Avg Bike Value per Brand\n",
    "* 15 Rows (16 including headers)\n",
    "\n",
    "2. Sales by Brand and Store\n",
    "\n",
    "<img src='https://1.bp.blogspot.com/-vKiMGxugMJg/X_8FpFFpm5I/AAAAAAAACG0/BVU8dfchDR8z_3Oyfc8ruJ7j9S1OSVgqQCLcBGAsYHQ/w640-h264/Screenshot%2B2021-01-13%2Bat%2B14.37.14.png'>\n",
    "\n",
    "5 Data Fields:\n",
    "* Brand\n",
    "* Store\n",
    "* Total Quantity Sold\n",
    "* Total Order Value\n",
    "* Avg Days to Ship\n",
    "* 25 Rows (26 including headers)"
   ]
  },
  {
   "cell_type": "code",
   "execution_count": 1,
   "metadata": {},
   "outputs": [],
   "source": [
    "import pandas as pd\n",
    "from datetime import date"
   ]
  },
  {
   "cell_type": "code",
   "execution_count": 2,
   "metadata": {},
   "outputs": [
    {
     "name": "stdout",
     "output_type": "stream",
     "text": [
      "  Bike Type       Store Order Date  Quantity  Value per Bike Shipping Date  \\\n",
      "0  Mountain  Manchester 2020-05-15         4            1543    2020-06-01   \n",
      "1    Gravel  Manchester 2020-06-16         2            2076    2020-06-24   \n",
      "2      Road  Birmingham 2020-05-04         1            2616    2020-05-13   \n",
      "3    Gravel        York 2020-09-05         2            1359    2020-09-19   \n",
      "4    Gravel  Birmingham 2020-03-28         4            1599    2020-04-04   \n",
      "\n",
      "          Model  \n",
      "0  GIA31292/003  \n",
      "1  GIA21312/001  \n",
      "2  GIA94221/129  \n",
      "3  GIA12442/120  \n",
      "4  GIA12492/123  \n",
      "<class 'pandas.core.frame.DataFrame'>\n",
      "RangeIndex: 2000 entries, 0 to 1999\n",
      "Data columns (total 7 columns):\n",
      " #   Column          Non-Null Count  Dtype         \n",
      "---  ------          --------------  -----         \n",
      " 0   Bike Type       2000 non-null   object        \n",
      " 1   Store           2000 non-null   object        \n",
      " 2   Order Date      2000 non-null   datetime64[ns]\n",
      " 3   Quantity        2000 non-null   int64         \n",
      " 4   Value per Bike  2000 non-null   int64         \n",
      " 5   Shipping Date   2000 non-null   datetime64[ns]\n",
      " 6   Model           2000 non-null   object        \n",
      "dtypes: datetime64[ns](2), int64(2), object(3)\n",
      "memory usage: 109.5+ KB\n",
      "None\n"
     ]
    }
   ],
   "source": [
    "# Import input and correct data types\n",
    "input = 'PD 2021 Wk 2 Input - Bike Model Sales.csv'\n",
    "df = pd.read_csv(input)\n",
    "df['Order Date'] = pd.to_datetime(df['Order Date'], format=r'%d/%m/%Y')\n",
    "df['Shipping Date'] = pd.to_datetime(df['Shipping Date'], format=r'%d/%m/%Y')\n",
    "print(df.head(5))\n",
    "print(df.info())"
   ]
  },
  {
   "cell_type": "code",
   "execution_count": 3,
   "metadata": {},
   "outputs": [],
   "source": [
    "pattern = r'[^A-Z]'"
   ]
  },
  {
   "cell_type": "code",
   "execution_count": 4,
   "metadata": {},
   "outputs": [
    {
     "name": "stdout",
     "output_type": "stream",
     "text": [
      "  Bike Type       Store Order Date  Quantity  Value per Bike Shipping Date  \\\n",
      "0  Mountain  Manchester 2020-05-15         4            1543    2020-06-01   \n",
      "1    Gravel  Manchester 2020-06-16         2            2076    2020-06-24   \n",
      "2      Road  Birmingham 2020-05-04         1            2616    2020-05-13   \n",
      "3    Gravel        York 2020-09-05         2            1359    2020-09-19   \n",
      "4    Gravel  Birmingham 2020-03-28         4            1599    2020-04-04   \n",
      "\n",
      "  Brand  \n",
      "0   GIA  \n",
      "1   GIA  \n",
      "2   GIA  \n",
      "3   GIA  \n",
      "4   GIA  \n"
     ]
    },
    {
     "name": "stderr",
     "output_type": "stream",
     "text": [
      "C:\\Users\\Raguna\\AppData\\Local\\Temp\\ipykernel_16264\\2776449650.py:2: FutureWarning: The default value of regex will change from True to False in a future version.\n",
      "  df['Model'] = df['Model'].str.replace(pattern, '')\n"
     ]
    }
   ],
   "source": [
    "# Clean up the Model field to leave only the letters to represent the Brand of the bike\n",
    "df['Model'] = df['Model'].str.replace(pattern, '')\n",
    "df.rename(columns={'Model':'Brand'}, inplace=True)\n",
    "print(df.head(5))"
   ]
  },
  {
   "cell_type": "code",
   "execution_count": 5,
   "metadata": {},
   "outputs": [
    {
     "name": "stdout",
     "output_type": "stream",
     "text": [
      "  Bike Type       Store Order Date  Quantity Shipping Date Brand  Order Value\n",
      "0  Mountain  Manchester 2020-05-15         4    2020-06-01   GIA         6172\n",
      "1    Gravel  Manchester 2020-06-16         2    2020-06-24   GIA         4152\n",
      "2      Road  Birmingham 2020-05-04         1    2020-05-13   GIA         2616\n",
      "3    Gravel        York 2020-09-05         2    2020-09-19   GIA         2718\n",
      "4    Gravel  Birmingham 2020-03-28         4    2020-04-04   GIA         6396\n",
      "<class 'pandas.core.frame.DataFrame'>\n",
      "RangeIndex: 2000 entries, 0 to 1999\n",
      "Data columns (total 7 columns):\n",
      " #   Column         Non-Null Count  Dtype         \n",
      "---  ------         --------------  -----         \n",
      " 0   Bike Type      2000 non-null   object        \n",
      " 1   Store          2000 non-null   object        \n",
      " 2   Order Date     2000 non-null   datetime64[ns]\n",
      " 3   Quantity       2000 non-null   int64         \n",
      " 4   Shipping Date  2000 non-null   datetime64[ns]\n",
      " 5   Brand          2000 non-null   object        \n",
      " 6   Order Value    2000 non-null   int64         \n",
      "dtypes: datetime64[ns](2), int64(2), object(3)\n",
      "memory usage: 109.5+ KB\n",
      "None\n"
     ]
    }
   ],
   "source": [
    "# Workout the Order Value using Value per Bike and Quantity.\n",
    "df['Order Value'] = df['Value per Bike'] * df['Quantity']\n",
    "df.drop(columns='Value per Bike', inplace=True)\n",
    "print(df.head(5))\n",
    "print(df.info())"
   ]
  },
  {
   "cell_type": "code",
   "execution_count": 6,
   "metadata": {},
   "outputs": [
    {
     "name": "stdout",
     "output_type": "stream",
     "text": [
      "  Brand Bike Type  Quantity_Sold  Order_Value  \\\n",
      "0  BROM    Gravel            186       433885   \n",
      "1  BROM  Mountain            277       674770   \n",
      "2  BROM      Road            257       656539   \n",
      "3   GIA    Gravel            323       733087   \n",
      "4   GIA  Mountain            425      1021329   \n",
      "\n",
      "   Average_Value_Sold_per_Brand_Type  \n",
      "0                             6675.2  \n",
      "1                             7581.7  \n",
      "2                             8872.1  \n",
      "3                             6604.4  \n",
      "4                             7243.5  \n",
      "<class 'pandas.core.frame.DataFrame'>\n",
      "RangeIndex: 15 entries, 0 to 14\n",
      "Data columns (total 5 columns):\n",
      " #   Column                             Non-Null Count  Dtype  \n",
      "---  ------                             --------------  -----  \n",
      " 0   Brand                              15 non-null     object \n",
      " 1   Bike Type                          15 non-null     object \n",
      " 2   Quantity_Sold                      15 non-null     int64  \n",
      " 3   Order_Value                        15 non-null     int64  \n",
      " 4   Average_Value_Sold_per_Brand_Type  15 non-null     float64\n",
      "dtypes: float64(1), int64(2), object(2)\n",
      "memory usage: 728.0+ bytes\n",
      "None\n"
     ]
    }
   ],
   "source": [
    "# Aggregate Value per Bike, Order Value and Quantity by Brand and Bike Type\n",
    "output1 = df\n",
    "output1 = df.groupby(['Brand', 'Bike Type']).agg(Quantity_Sold=('Quantity','sum'), Order_Value=('Order Value','sum'), Average_Value_Sold_per_Brand_Type=('Order Value','mean'))\n",
    "output1.reset_index(inplace=True)\n",
    "output1 = output1.round(1)\n",
    "print(output1.head(5))\n",
    "print(output1.info())"
   ]
  },
  {
   "cell_type": "code",
   "execution_count": 7,
   "metadata": {},
   "outputs": [],
   "source": [
    "# Calculate Days to ship by measuring the difference between when an order was placed and when it was shipped as 'Days to Ship'\n",
    "df['Days to Ship'] = (df['Shipping Date'] - df['Order Date']).dt.days"
   ]
  },
  {
   "cell_type": "code",
   "execution_count": 8,
   "metadata": {},
   "outputs": [
    {
     "name": "stdout",
     "output_type": "stream",
     "text": [
      "  Brand       Store  Total_Quantity_Sold  Total_Order_Value  Avg_Days_to_Ship\n",
      "0  BROM  Birmingham                  155             349759              11.8\n",
      "1  BROM       Leeds                  150             389116               9.8\n",
      "2  BROM      London                  133             324635              11.0\n",
      "3  BROM  Manchester                  137             339832              10.9\n",
      "4  BROM        York                  145             361852               9.8\n",
      "<class 'pandas.core.frame.DataFrame'>\n",
      "RangeIndex: 25 entries, 0 to 24\n",
      "Data columns (total 5 columns):\n",
      " #   Column               Non-Null Count  Dtype  \n",
      "---  ------               --------------  -----  \n",
      " 0   Brand                25 non-null     object \n",
      " 1   Store                25 non-null     object \n",
      " 2   Total_Quantity_Sold  25 non-null     int64  \n",
      " 3   Total_Order_Value    25 non-null     int64  \n",
      " 4   Avg_Days_to_Ship     25 non-null     float64\n",
      "dtypes: float64(1), int64(2), object(2)\n",
      "memory usage: 1.1+ KB\n",
      "None\n"
     ]
    }
   ],
   "source": [
    "# Aggregate Order Value, Quantity and Days to Ship by Brand and Store\n",
    "output2 = df\n",
    "output2 = df.groupby(['Brand', 'Store']).agg(Total_Quantity_Sold=('Quantity','sum'), Total_Order_Value=('Order Value','sum'), Avg_Days_to_Ship=('Days to Ship','mean'))\n",
    "output2.reset_index(inplace=True)\n",
    "output2 = output2.round(1)\n",
    "print(output2.head(5))\n",
    "print(output2.info())"
   ]
  }
 ],
 "metadata": {
  "kernelspec": {
   "display_name": "Python 3",
   "language": "python",
   "name": "python3"
  },
  "language_info": {
   "codemirror_mode": {
    "name": "ipython",
    "version": 3
   },
   "file_extension": ".py",
   "mimetype": "text/x-python",
   "name": "python",
   "nbconvert_exporter": "python",
   "pygments_lexer": "ipython3",
   "version": "3.10.0"
  },
  "orig_nbformat": 4
 },
 "nbformat": 4,
 "nbformat_minor": 2
}

{
 "cells": [
  {
   "attachments": {},
   "cell_type": "markdown",
   "metadata": {},
   "source": [
    "# 2021: Week 6 - Comparing Prize Money for Professional Golfers\n",
    "\n",
    "February 10, 2021\n",
    "\n",
    "Challenge By: Jenny Martin\n",
    "\n",
    "__What's one of the benefits of preparing your own data?\n",
    "Being able to start your analysis sooner!__\n",
    "\n",
    "Sometimes I can find opening Tableau Desktop to explore my data gets a little distracting by trying to visualise it before I've decided on the story. Starting my analysis of the dataset in Tableau Prep helps me, personally, to stay more focused! It's clear where the outliers are, what the distribution of the dataset is and therefore what the story should be.\n",
    "\n",
    "For this week's challenge we're looking at a dataset that was used in December 2020 for Sports Viz Sunday (thanks to Kate Brown for sharing!) This dataset comes from the PGA and LPGA 2019 Golf tours and lists the total prize money for the top 100 players. For those of us who aren't too familiar with golf, the PGA is the men's tour, whilst the LPGA is the women's tour.\n",
    "\n",
    "## Input\n",
    "We have one input this week:\n",
    "\n",
    "<img src='https://1.bp.blogspot.com/-n1nJAhjFwFE/YB1DtLB2OrI/AAAAAAAAAtc/okyuUbZ672006nCq_cenaAu_9SWa1HlBgCLcBGAsYHQ/w400-h223/2021W06%2BInput.png'>\n",
    "\n",
    "Official Money\n",
    "\n",
    "## Requirements\n",
    "- [Input the data](https://drive.google.com/file/d/13Vx4CVwEwoRDXQdjctqef9ooa1ojtkds/view?usp=sharing)\n",
    "- Answer these questions:\n",
    "    - What's the Total Prize Money earned by players for each tour? (help)\n",
    "    - How many players are in this dataset for each tour?\n",
    "    - How many events in total did players participate in for each tour?\n",
    "    - How much do players win per event? What's the average of this for each tour? (help)\n",
    "    - How do players rank by prize money for each tour? What about overall? What is the average difference between where they are ranked within their tour compared to the overall rankings where both tours are combined? (help)\n",
    "        - Here we would like the difference to be positive as you would presume combining the tours would cause a player's ranking to increase\n",
    "- Combine the answers to these questions into one dataset (help)\n",
    "- Pivot the data so that we have a column for each tour, with each row representing an answer to the above questions (help)\n",
    "- Clean up the Measure field and create a new column showing the difference between the tours for each measure\n",
    "    - We're looking at the difference between the LPGA from the PGA, so in most instances this number will be negative\n",
    "- [Output the data](https://drive.google.com/file/d/1EXw1fweOb47LiQt4RtUq6ERRMO68D6FD/view?usp=sharing)\n",
    "\n",
    "## Output\n",
    "\n",
    "<img src='https://1.bp.blogspot.com/-iKTMfxcBhx8/YCPot6fySAI/AAAAAAAAAvE/KqpS4RH8QQo_0HJMnXXwFfjLycQn_CQPwCLcBGAsYHQ/w400-h131/2021W06%2BOutput.png'>\n",
    "\n",
    "- 4 fields\n",
    "    - Measure\n",
    "    - PGA\n",
    "    - LPGA\n",
    "    - Difference between tours\n",
    "- 5 rows (6 including headers)\n",
    "\n",
    "The full output can be downloaded [here](https://drive.google.com/file/d/1EXw1fweOb47LiQt4RtUq6ERRMO68D6FD/view?usp=sharing)."
   ]
  },
  {
   "cell_type": "code",
   "execution_count": 78,
   "metadata": {},
   "outputs": [],
   "source": [
    "import pandas as pd"
   ]
  },
  {
   "cell_type": "code",
   "execution_count": 79,
   "metadata": {},
   "outputs": [
    {
     "name": "stdout",
     "output_type": "stream",
     "text": [
      "['OfficialMoney', 'Sources']\n"
     ]
    }
   ],
   "source": [
    "input = 'PGALPGAMoney2019.xlsx'\n",
    "excel_sheet = pd.ExcelFile(input).sheet_names\n",
    "print(excel_sheet)"
   ]
  },
  {
   "cell_type": "code",
   "execution_count": 80,
   "metadata": {},
   "outputs": [
    {
     "name": "stdout",
     "output_type": "stream",
     "text": [
      "       PLAYER NAME    MONEY  EVENTS TOUR\n",
      "0    Brooks Koepka  9684006      21  PGA\n",
      "1     Rory McIlroy  7785286      19  PGA\n",
      "2      Matt Kuchar  6294690      22  PGA\n",
      "3  Patrick Cantlay  6121488      21  PGA\n",
      "4    Gary Woodland  5690965      24  PGA\n",
      "<class 'pandas.core.frame.DataFrame'>\n",
      "RangeIndex: 200 entries, 0 to 199\n",
      "Data columns (total 4 columns):\n",
      " #   Column       Non-Null Count  Dtype \n",
      "---  ------       --------------  ----- \n",
      " 0   PLAYER NAME  200 non-null    object\n",
      " 1   MONEY        200 non-null    int64 \n",
      " 2   EVENTS       200 non-null    int64 \n",
      " 3   TOUR         200 non-null    object\n",
      "dtypes: int64(2), object(2)\n",
      "memory usage: 6.4+ KB\n",
      "None\n"
     ]
    }
   ],
   "source": [
    "df1 = pd.read_excel(input, sheet_name='OfficialMoney')\n",
    "print(df1.head(5))\n",
    "print(df1.info())"
   ]
  },
  {
   "cell_type": "code",
   "execution_count": 81,
   "metadata": {},
   "outputs": [
    {
     "name": "stdout",
     "output_type": "stream",
     "text": [
      "   TOUR                                             SOURCE\n",
      "0  LPGA  https://www.lpga.com/statistics/money/official...\n",
      "1   PGA  https://www.pgatour.com/content/pgatour/stats/...\n",
      "<class 'pandas.core.frame.DataFrame'>\n",
      "RangeIndex: 2 entries, 0 to 1\n",
      "Data columns (total 2 columns):\n",
      " #   Column  Non-Null Count  Dtype \n",
      "---  ------  --------------  ----- \n",
      " 0   TOUR    2 non-null      object\n",
      " 1   SOURCE  2 non-null      object\n",
      "dtypes: object(2)\n",
      "memory usage: 160.0+ bytes\n",
      "None\n"
     ]
    }
   ],
   "source": [
    "df2 = pd.read_excel(input, sheet_name='Sources', header=None)\n",
    "df2.columns = ['TOUR', 'SOURCE']\n",
    "print(df2.head(5))\n",
    "print(df2.info())"
   ]
  },
  {
   "cell_type": "code",
   "execution_count": 82,
   "metadata": {},
   "outputs": [
    {
     "name": "stdout",
     "output_type": "stream",
     "text": [
      "   TOUR  total_prize_money\n",
      "0  LPGA           58410411\n",
      "1   PGA          256726356\n",
      "=====================================\n",
      "   TOUR  number_of_players\n",
      "0  LPGA                100\n",
      "1   PGA                100\n",
      "=====================================\n",
      "   TOUR  number_of_events\n",
      "0  LPGA              2266\n",
      "1   PGA              2282\n",
      "=====================================\n",
      "   TOUR  avg_money_per_event\n",
      "0  LPGA              25525.0\n",
      "1   PGA             120282.0\n",
      "=====================================\n",
      "   TOUR  avg_different_in_ranking\n",
      "0  LPGA                     96.13\n",
      "1   PGA                      3.87\n"
     ]
    }
   ],
   "source": [
    "# What's the Total Prize Money earned by players for each tour?\n",
    "total_prize_money = df1.groupby(['TOUR']).agg(total_prize_money=('MONEY','sum')).reset_index()\n",
    "print(total_prize_money)\n",
    "\n",
    "# How many players are in this dataset for each tour?\n",
    "players_each_tour = df1.groupby('TOUR').agg(number_of_players=('PLAYER NAME','count')).reset_index()\n",
    "print(\"=====================================\")\n",
    "print(players_each_tour)\n",
    "\n",
    "# How many events in total did players participate in for each tour?\n",
    "events_played = df1.groupby(['TOUR']).agg(number_of_events=('EVENTS','sum')).reset_index()\n",
    "print(\"=====================================\")\n",
    "print(events_played)\n",
    "\n",
    "# How much do players win per event? What's the average of this for each tour?\n",
    "df1['MONEY_EARN_EACH_EVENT'] = df1['MONEY'] / df1['EVENTS']\n",
    "df1 = df1.round(0)\n",
    "avg_money_per_event = df1.groupby(['TOUR']).agg(avg_money_per_event=('MONEY_EARN_EACH_EVENT','mean')).reset_index().round(0)\n",
    "print(\"=====================================\")\n",
    "print(avg_money_per_event)\n",
    "\n",
    "# How do players rank by prize money for each tour? What about overall? \n",
    "# What is the average difference between where they are ranked within their tour \n",
    "# compared to the overall rankings where both tours are combined?\n",
    "\n",
    "df1['EARNINGS RANK BY TOUR'] = df1.groupby('TOUR')['MONEY'].rank(ascending=False)\n",
    "df1['EARNINGS RANK OVERALL'] = df1['MONEY'].rank(ascending=False)\n",
    "df1['DIFFERENT IN EARNINGS RANK'] = df1['EARNINGS RANK OVERALL'] - df1['EARNINGS RANK BY TOUR']\n",
    "\n",
    "diff_earnings_rank = df1.groupby('TOUR').agg(avg_different_in_ranking=('DIFFERENT IN EARNINGS RANK', 'mean')).reset_index()\n",
    "print(\"=====================================\")\n",
    "print(diff_earnings_rank)"
   ]
  },
  {
   "cell_type": "code",
   "execution_count": 83,
   "metadata": {},
   "outputs": [
    {
     "name": "stdout",
     "output_type": "stream",
     "text": [
      "   TOUR  total_prize_money  number_of_players  number_of_events  \\\n",
      "0  LPGA           58410411                100              2266   \n",
      "1   PGA          256726356                100              2282   \n",
      "\n",
      "   avg_money_per_event  avg_different_in_ranking  \n",
      "0              25525.0                     96.13  \n",
      "1             120282.0                      3.87  \n",
      "<class 'pandas.core.frame.DataFrame'>\n",
      "Int64Index: 2 entries, 0 to 1\n",
      "Data columns (total 6 columns):\n",
      " #   Column                    Non-Null Count  Dtype  \n",
      "---  ------                    --------------  -----  \n",
      " 0   TOUR                      2 non-null      object \n",
      " 1   total_prize_money         2 non-null      int64  \n",
      " 2   number_of_players         2 non-null      int64  \n",
      " 3   number_of_events          2 non-null      int64  \n",
      " 4   avg_money_per_event       2 non-null      float64\n",
      " 5   avg_different_in_ranking  2 non-null      float64\n",
      "dtypes: float64(2), int64(3), object(1)\n",
      "memory usage: 112.0+ bytes\n",
      "None\n"
     ]
    }
   ],
   "source": [
    "# Combine the answers to these questions into one dataset\n",
    "combine_df = pd.merge(left=total_prize_money, right=players_each_tour, on='TOUR')\n",
    "combine_df = pd.merge(left=combine_df, right=events_played, on='TOUR')\n",
    "combine_df = pd.merge(left=combine_df, right=avg_money_per_event, on='TOUR')\n",
    "combine_df = pd.merge(left=combine_df, right=diff_earnings_rank, on='TOUR')\n",
    "\n",
    "print(combine_df.head(5))\n",
    "print(combine_df.info())"
   ]
  },
  {
   "cell_type": "code",
   "execution_count": 84,
   "metadata": {},
   "outputs": [
    {
     "name": "stdout",
     "output_type": "stream",
     "text": [
      "   TOUR                   Measure   pivot_value\n",
      "0  LPGA         total_prize_money  5.841041e+07\n",
      "1   PGA         total_prize_money  2.567264e+08\n",
      "2  LPGA         number_of_players  1.000000e+02\n",
      "3   PGA         number_of_players  1.000000e+02\n",
      "4  LPGA          number_of_events  2.266000e+03\n",
      "5   PGA          number_of_events  2.282000e+03\n",
      "6  LPGA       avg_money_per_event  2.552500e+04\n",
      "7   PGA       avg_money_per_event  1.202820e+05\n",
      "8  LPGA  avg_different_in_ranking  9.613000e+01\n",
      "9   PGA  avg_different_in_ranking  3.870000e+00\n",
      "==========================================================================\n",
      "TOUR                             LPGA           PGA\n",
      "Measure                                            \n",
      "avg_different_in_ranking        96.13  3.870000e+00\n",
      "avg_money_per_event          25525.00  1.202820e+05\n",
      "number_of_events              2266.00  2.282000e+03\n",
      "number_of_players              100.00  1.000000e+02\n",
      "total_prize_money         58410411.00  2.567264e+08\n",
      "<class 'pandas.core.frame.DataFrame'>\n",
      "Index: 5 entries, avg_different_in_ranking to total_prize_money\n",
      "Data columns (total 2 columns):\n",
      " #   Column  Non-Null Count  Dtype  \n",
      "---  ------  --------------  -----  \n",
      " 0   LPGA    5 non-null      float64\n",
      " 1   PGA     5 non-null      float64\n",
      "dtypes: float64(2)\n",
      "memory usage: 120.0+ bytes\n",
      "None\n"
     ]
    }
   ],
   "source": [
    "# Pivot the data so that we have a column for each tour, with each row representing an answer to the above questions\n",
    "pivoted = combine_df.melt(id_vars='TOUR', value_vars=['total_prize_money', 'number_of_players', 'number_of_events', 'avg_money_per_event', 'avg_different_in_ranking'], var_name='Measure' , value_name='pivot_value')\n",
    "print(pivoted)\n",
    "\n",
    "pivoted = pivoted.pivot(index='Measure', columns='TOUR', values='pivot_value')\n",
    "print(\"==========================================================================\")\n",
    "print(pivoted)\n",
    "print(pivoted.info())\n"
   ]
  },
  {
   "cell_type": "code",
   "execution_count": 85,
   "metadata": {},
   "outputs": [
    {
     "name": "stdout",
     "output_type": "stream",
     "text": [
      "TOUR                             LPGA           PGA  Difference between tours\n",
      "Measure                                                                      \n",
      "avg_different_in_ranking        96.13  3.870000e+00              9.226000e+01\n",
      "avg_money_per_event          25525.00  1.202820e+05             -9.475700e+04\n",
      "number_of_events              2266.00  2.282000e+03             -1.600000e+01\n",
      "number_of_players              100.00  1.000000e+02              0.000000e+00\n",
      "total_prize_money         58410411.00  2.567264e+08             -1.983159e+08\n",
      "<class 'pandas.core.frame.DataFrame'>\n",
      "Index: 5 entries, avg_different_in_ranking to total_prize_money\n",
      "Data columns (total 3 columns):\n",
      " #   Column                    Non-Null Count  Dtype  \n",
      "---  ------                    --------------  -----  \n",
      " 0   LPGA                      5 non-null      float64\n",
      " 1   PGA                       5 non-null      float64\n",
      " 2   Difference between tours  5 non-null      float64\n",
      "dtypes: float64(3)\n",
      "memory usage: 160.0+ bytes\n",
      "None\n"
     ]
    }
   ],
   "source": [
    "# Clean up the Measure field and create a new column showing the difference between the tours for each measure\n",
    "output = pivoted\n",
    "output['Difference between tours'] = output['LPGA'] - output['PGA']\n",
    "print(output.head(5))\n",
    "print(output.info())"
   ]
  }
 ],
 "metadata": {
  "kernelspec": {
   "display_name": "Python 3",
   "language": "python",
   "name": "python3"
  },
  "language_info": {
   "codemirror_mode": {
    "name": "ipython",
    "version": 3
   },
   "file_extension": ".py",
   "mimetype": "text/x-python",
   "name": "python",
   "nbconvert_exporter": "python",
   "pygments_lexer": "ipython3",
   "version": "3.10.0"
  },
  "orig_nbformat": 4
 },
 "nbformat": 4,
 "nbformat_minor": 2
}

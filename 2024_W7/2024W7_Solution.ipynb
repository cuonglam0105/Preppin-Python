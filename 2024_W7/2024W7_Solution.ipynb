{
 "cells": [
  {
   "cell_type": "markdown",
   "metadata": {},
   "source": [
    "# 2024: Week 7 - Valentine's Day\n",
    "F\n",
    "ebruary 14, 2024\n",
    "\n",
    "Challenge by: Jenny Martin\n",
    "\n",
    "We'll take a break from helping Prep Air for this challenge, but don't worry, it's for a good cause! We've got a number of couples who want some inspiration for Valentine's Day gifts (since this challenge is being released on Valentine's Day!) We want to count the number of Valentine's Days that the couples have been together for, so they can get inspired on how to theme their gifts this year.\n",
    "\n",
    "### Inputs\n",
    "A list of the couples and when their relationships began.\n",
    "\n",
    "![1](https://blogger.googleusercontent.com/img/b/R29vZ2xl/AVvXsEgQgofF94fRl1zbPMA6k26sozMJVyJzY1eCkzG-X4r5spdUfGW8b_TGw3alNS5MnOI3tOhMIDPOF5JLazA7J1UFfaYPkOpHTCYnzevk97y6DK55hULi2_ZQNe7dYmtOhd_sbnEBfE4c2WaErxR_bBZ_W3WGDbINgUC2hsnnagpwZGJM25Q3ogzidkNPqe1l/s464/Screenshot%202024-02-05%20110145.png)\n",
    "\n",
    "Gift ideas based on the length of time they've been together (based on this website)\n",
    "\n",
    "![2](https://blogger.googleusercontent.com/img/b/R29vZ2xl/AVvXsEi0v60wvc8Xu8NRl1-BNyGmZ3qWufnMW9tcmmbxVPla020Opzs594-ZCynct1MTU1ctGCZeKj61vWPcrRXa1jrqB3qMv7viMkE-oHblk6zd-I00exq8cSRfYtx0PTWr0yljsqpqxvjxYqa1C8urR7eF_BWqqRHEXZjHiD9tqgHt-KPWtBXM95JTbPiYXHHM/s310/Screenshot%202024-02-05%20110222.png)\n",
    "\n",
    "### Requirements\n",
    "- Input the data\n",
    "- Fix the Relationship Start field so that it has a Date data type\n",
    "- Create a field for today's date (14/02/2024)\n",
    "- To count the number of Valentine's days, we need to think a little more creatively than using a simple datediff function to count the number of years. A couple of potential routes could be:\n",
    "- Scaffolding the data so there is a row per day, filtering to Valentine's days and counting the number of rows\n",
    "- A logical calculation that takes into consideration whether the Couple's Relationship Start date is before or after Valentines Day\n",
    "- To prepare to join onto the Gift ideas dataset, make the Year field match the data type of the Number of Valentine's field\n",
    "- Join the 2 datasets together\n",
    "- Remove unnecessary fields\n",
    "- Output the data\n",
    "\n",
    "### Output\n",
    "\n",
    "![2](https://blogger.googleusercontent.com/img/a/AVvXsEivHLS2lH1RqdNLRN4nK8cyZF-TlTsevICcFqrNvRFVyqLkTs3M59W_eiW5EjdfXA4KNk-FDr6VZW7NXO3SsrhErFZ9_UB4B_SIRaH9Ul738qSSVv7NaNZ39oICu1Ws--WaHNWkaTkAnwqFpvs8G3gVzjv1MIt4sdxrzlsLawkxE1ihTECC8wIWUpgVqwnR)\n",
    "\n",
    "- 3 fields\n",
    "- Couple\n",
    "- Number of Valentine's Days as a Couple\n",
    "- Gift\n",
    "- 10 rows"
   ]
  },
  {
   "cell_type": "code",
   "execution_count": 88,
   "metadata": {},
   "outputs": [
    {
     "name": "stdout",
     "output_type": "stream",
     "text": [
      "['Couples', 'Gifts']\n"
     ]
    }
   ],
   "source": [
    "import pandas as pd\n",
    "\n",
    "# Read the Excel file\n",
    "excel_file = \"Valentine's Preppin' Data.xlsx\"\n",
    "\n",
    "# List all sheet names\n",
    "sheet_names = pd.ExcelFile(excel_file).sheet_names\n",
    "print(sheet_names)"
   ]
  },
  {
   "cell_type": "code",
   "execution_count": 89,
   "metadata": {},
   "outputs": [
    {
     "name": "stdout",
     "output_type": "stream",
     "text": [
      "          Couple  Relationship Start\n",
      "0      The Loves    January 15, 2021\n",
      "1      The Roses     October 8, 1964\n",
      "2      The Harts        May 28, 2018\n",
      "3   The Darlings    December 3, 2017\n",
      "4      The Doves     August 21, 1994\n",
      "5    The Archers   February 12, 2020\n",
      "6    The Potters    November 4, 2015\n",
      "7     The Bakers      April 17, 1989\n",
      "8  The Gardeners        June 9, 1974\n",
      "9  The Lovelaces  September 30, 2009\n"
     ]
    }
   ],
   "source": [
    "df1 = pd.read_excel(excel_file, sheet_name='Couples')\n",
    "print(df1)"
   ]
  },
  {
   "cell_type": "code",
   "execution_count": 90,
   "metadata": {},
   "outputs": [
    {
     "name": "stdout",
     "output_type": "stream",
     "text": [
      "    Year           Gift\n",
      "0    1st          Paper\n",
      "1    2nd         Cotton\n",
      "2    3rd        Leather\n",
      "3    4th  Fruit/Flowers\n",
      "4    5th           Wood\n",
      "5    6th           Iron\n",
      "6    7th    Copper/Wool\n",
      "7    8th         Bronze\n",
      "8    9th        Pottery\n",
      "9   10th  Aluminium/Tin\n",
      "10  15th        Crystal\n",
      "11  20th          China\n",
      "12  25th         Silver\n",
      "13  30th          Pearl\n",
      "14  35th          Coral\n",
      "15  40th           Ruby\n",
      "16  45th       Sapphire\n",
      "17  50th           Gold\n",
      "18  55th        Emerald\n",
      "19  60th        Diamond\n"
     ]
    }
   ],
   "source": [
    "df2 = pd.read_excel(excel_file, sheet_name='Gifts')\n",
    "print(df2)"
   ]
  },
  {
   "cell_type": "code",
   "execution_count": 91,
   "metadata": {},
   "outputs": [
    {
     "name": "stdout",
     "output_type": "stream",
     "text": [
      "          Couple Relationship Start\n",
      "0      The Loves         2021-01-15\n",
      "1      The Roses         1964-10-08\n",
      "2      The Harts         2018-05-28\n",
      "3   The Darlings         2017-12-03\n",
      "4      The Doves         1994-08-21\n",
      "5    The Archers         2020-02-12\n",
      "6    The Potters         2015-11-04\n",
      "7     The Bakers         1989-04-17\n",
      "8  The Gardeners         1974-06-09\n",
      "9  The Lovelaces         2009-09-30\n"
     ]
    }
   ],
   "source": [
    "# Convert the 'Relationship Start' column to a date\n",
    "df1['Relationship Start'] = pd.to_datetime(df1['Relationship Start'])\n",
    "print(df1)"
   ]
  },
  {
   "cell_type": "code",
   "execution_count": 92,
   "metadata": {},
   "outputs": [
    {
     "name": "stdout",
     "output_type": "stream",
     "text": [
      "          Couple Relationship Start Today date\n",
      "0      The Loves         2021-01-15 2024-02-14\n",
      "1      The Roses         1964-10-08 2024-02-14\n",
      "2      The Harts         2018-05-28 2024-02-14\n",
      "3   The Darlings         2017-12-03 2024-02-14\n",
      "4      The Doves         1994-08-21 2024-02-14\n",
      "5    The Archers         2020-02-12 2024-02-14\n",
      "6    The Potters         2015-11-04 2024-02-14\n",
      "7     The Bakers         1989-04-17 2024-02-14\n",
      "8  The Gardeners         1974-06-09 2024-02-14\n",
      "9  The Lovelaces         2009-09-30 2024-02-14\n"
     ]
    }
   ],
   "source": [
    "# Create 'Today date' column with a fixed date\n",
    "df1['Today date'] = pd.to_datetime('2024-02-14')\n",
    "print(df1)"
   ]
  },
  {
   "cell_type": "code",
   "execution_count": 93,
   "metadata": {},
   "outputs": [
    {
     "name": "stdout",
     "output_type": "stream",
     "text": [
      "          Couple Relationship Start Today date  \\\n",
      "0      The Loves         2021-01-15 2024-02-14   \n",
      "1      The Roses         1964-10-08 2024-02-14   \n",
      "2      The Harts         2018-05-28 2024-02-14   \n",
      "3   The Darlings         2017-12-03 2024-02-14   \n",
      "4      The Doves         1994-08-21 2024-02-14   \n",
      "5    The Archers         2020-02-12 2024-02-14   \n",
      "6    The Potters         2015-11-04 2024-02-14   \n",
      "7     The Bakers         1989-04-17 2024-02-14   \n",
      "8  The Gardeners         1974-06-09 2024-02-14   \n",
      "9  The Lovelaces         2009-09-30 2024-02-14   \n",
      "\n",
      "   Number of Valentine's Days as a Couple  \n",
      "0                                       4  \n",
      "1                                      60  \n",
      "2                                       6  \n",
      "3                                       7  \n",
      "4                                      30  \n",
      "5                                       5  \n",
      "6                                       9  \n",
      "7                                      35  \n",
      "8                                      50  \n",
      "9                                      15  \n"
     ]
    }
   ],
   "source": [
    "# Calculate the number of Valentine's Days\n",
    "df1[\"Number of Valentine's Days as a Couple\"] = df1.apply(lambda row: row['Today date'].year - row['Relationship Start'].year - (1 if (row['Relationship Start'].month, row['Relationship Start'].day) > (2, 14) else 0) + 1, axis=1)\n",
    "print(df1)"
   ]
  },
  {
   "cell_type": "code",
   "execution_count": 94,
   "metadata": {},
   "outputs": [
    {
     "name": "stdout",
     "output_type": "stream",
     "text": [
      "          Couple Relationship Start Today date  \\\n",
      "0      The Loves         2021-01-15 2024-02-14   \n",
      "1      The Roses         1964-10-08 2024-02-14   \n",
      "2      The Harts         2018-05-28 2024-02-14   \n",
      "3   The Darlings         2017-12-03 2024-02-14   \n",
      "4      The Doves         1994-08-21 2024-02-14   \n",
      "5    The Archers         2020-02-12 2024-02-14   \n",
      "6    The Potters         2015-11-04 2024-02-14   \n",
      "7     The Bakers         1989-04-17 2024-02-14   \n",
      "8  The Gardeners         1974-06-09 2024-02-14   \n",
      "9  The Lovelaces         2009-09-30 2024-02-14   \n",
      "\n",
      "   Number of Valentine's Days as a Couple           Gift  \n",
      "0                                       4  Fruit/Flowers  \n",
      "1                                      60        Diamond  \n",
      "2                                       6           Iron  \n",
      "3                                       7    Copper/Wool  \n",
      "4                                      30          Pearl  \n",
      "5                                       5           Wood  \n",
      "6                                       9        Pottery  \n",
      "7                                      35          Coral  \n",
      "8                                      50           Gold  \n",
      "9                                      15        Crystal  \n"
     ]
    },
    {
     "name": "stderr",
     "output_type": "stream",
     "text": [
      "<>:2: SyntaxWarning: invalid escape sequence '\\d'\n",
      "<>:2: SyntaxWarning: invalid escape sequence '\\d'\n",
      "C:\\Users\\Raguna\\AppData\\Local\\Temp\\ipykernel_2832\\2129536653.py:2: SyntaxWarning: invalid escape sequence '\\d'\n",
      "  df2['Year'] = df2['Year'].str.extract('(\\d+)').astype(int)\n"
     ]
    }
   ],
   "source": [
    "# Convert the 'Year' column in df2 to integer for merging\n",
    "df2['Year'] = df2['Year'].str.extract('(\\d+)').astype(int)\n",
    "\n",
    "# Merge df1 and df2 on the number of Valentine's Days as a couple and the year\n",
    "merged_df = pd.merge(df1, df2, left_on=\"Number of Valentine's Days as a Couple\", right_on='Year', how='left')\n",
    "\n",
    "# Drop the 'Year' column as it is no longer needed\n",
    "merged_df = merged_df.drop(columns=['Year'])\n",
    "\n",
    "print(merged_df)"
   ]
  },
  {
   "cell_type": "code",
   "execution_count": 95,
   "metadata": {},
   "outputs": [
    {
     "name": "stdout",
     "output_type": "stream",
     "text": [
      "          Couple Relationship Start Today date  \\\n",
      "0      The Loves         2021-01-15 2024-02-14   \n",
      "5    The Archers         2020-02-12 2024-02-14   \n",
      "2      The Harts         2018-05-28 2024-02-14   \n",
      "3   The Darlings         2017-12-03 2024-02-14   \n",
      "6    The Potters         2015-11-04 2024-02-14   \n",
      "9  The Lovelaces         2009-09-30 2024-02-14   \n",
      "4      The Doves         1994-08-21 2024-02-14   \n",
      "7     The Bakers         1989-04-17 2024-02-14   \n",
      "8  The Gardeners         1974-06-09 2024-02-14   \n",
      "1      The Roses         1964-10-08 2024-02-14   \n",
      "\n",
      "   Number of Valentine's Days as a Couple           Gift  \n",
      "0                                       4  Fruit/Flowers  \n",
      "5                                       5           Wood  \n",
      "2                                       6           Iron  \n",
      "3                                       7    Copper/Wool  \n",
      "6                                       9        Pottery  \n",
      "9                                      15        Crystal  \n",
      "4                                      30          Pearl  \n",
      "7                                      35          Coral  \n",
      "8                                      50           Gold  \n",
      "1                                      60        Diamond  \n"
     ]
    }
   ],
   "source": [
    "# Sort the merged dataframe by the number of Valentine's Days as a couple\n",
    "sorted_df = merged_df.sort_values(by=\"Number of Valentine's Days as a Couple\")\n",
    "print(sorted_df)"
   ]
  },
  {
   "cell_type": "code",
   "execution_count": 96,
   "metadata": {},
   "outputs": [
    {
     "name": "stdout",
     "output_type": "stream",
     "text": [
      "          Couple  Number of Valentine's Days as a Couple           Gift\n",
      "0      The Loves                                       4  Fruit/Flowers\n",
      "5    The Archers                                       5           Wood\n",
      "2      The Harts                                       6           Iron\n",
      "3   The Darlings                                       7    Copper/Wool\n",
      "6    The Potters                                       9        Pottery\n",
      "9  The Lovelaces                                      15        Crystal\n",
      "4      The Doves                                      30          Pearl\n",
      "7     The Bakers                                      35          Coral\n",
      "8  The Gardeners                                      50           Gold\n",
      "1      The Roses                                      60        Diamond\n"
     ]
    }
   ],
   "source": [
    "output = sorted_df.drop(columns=['Today date','Relationship Start'])\n",
    "print(output)"
   ]
  }
 ],
 "metadata": {
  "kernelspec": {
   "display_name": "Python 3",
   "language": "python",
   "name": "python3"
  },
  "language_info": {
   "codemirror_mode": {
    "name": "ipython",
    "version": 3
   },
   "file_extension": ".py",
   "mimetype": "text/x-python",
   "name": "python",
   "nbconvert_exporter": "python",
   "pygments_lexer": "ipython3",
   "version": "3.13.1"
  }
 },
 "nbformat": 4,
 "nbformat_minor": 2
}

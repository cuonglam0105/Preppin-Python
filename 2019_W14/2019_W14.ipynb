{
 "cells": [
  {
   "attachments": {},
   "cell_type": "markdown",
   "metadata": {},
   "source": [
    "# 2019: Week 14\n",
    "\n",
    "May 15, 2019\n",
    "\n",
    "This week our challenge inspiration comes from Zen Master Emma Whyte. Please thank / blame [delete as applicable] her rather than Jonathan and myself this week.\n",
    "\n",
    "The challenge this week focuses on Whyte's Cafe based in Stevenage in the UK. The cafe has been growing well and brings in a good amount of revenue but like any business, they are trying to drive for more. Many popular lunch shops provide a 'Meal Deal' when you can purchase a drink, a snack to go with a main for a set price. Whyte's Cafe wants to know how much it would cost them to install a Meal Deal (for £5 each meal - what a bargain!) option on their menu as the ownership team believe it will entice a lot more customers through the door.\n",
    "\n",
    "The data set at Whyte's Cafe is largely excellent (we wouldn't expect anything less). Each row of data is a product sold as part of an order (ticket). Some customers are members of the cafe (a loyalty scheme) that allows to understand who is ordering. Maybe for some future analysis we'll factor that in but for now we'll leave it in the final data set.\n",
    "\n",
    "# Requirements\n",
    "\n",
    "<img src='https://2.bp.blogspot.com/-UrTx9tJ2LqU/XNst0EARDjI/AAAAAAAAAPM/OKnfvbG8OfIgXbNZEVsezLuJWas7Q8RpwCEwYBhgL/s320/14%2BInput.JPG'>\n",
    "\n",
    "* Input data\n",
    "* There's been a system error so clean up:\n",
    "* Null Price should be 1.5\n",
    "* Null MemberIDs should be 0\n",
    "* Not every product goes in to the Meal Deal so we need to work out the 'Excess Items' cost on top of the Meal Deals. Use the average cost per type of product within that ticket to work this out.\n",
    "* We only want to analyse tickets that would be affected by the Meal Deal\n",
    "* The Meal Deal is set at £5 each\n",
    "* Overall goal is to determine the difference between our original income and the income using the new pricing model. \n",
    "\n",
    "Note: you will need version 2019.1 as the solutions we created all needed Rows to Columns\n",
    "\n",
    "# Outputs\n",
    "\n",
    "<img src='https://4.bp.blogspot.com/-GW17wezL8-c/XOQJP6PNlAI/AAAAAAAAAP0/XKLCbpRrXHMNmq8OCV63mlKoFSAdwVIqQCLcBGAs/s400/General%2BOutput%2B3.JPG'>\n",
    "\n",
    "a \n",
    "\n",
    "<img src='https://1.bp.blogspot.com/-D195U6-K4kc/XOQJP6-HekI/AAAAAAAAAP4/S2aqJfY7HOYx_HHREqnuXzLdtO4dYjSbwCEwYBhgL/s400/14%2BOutput%2BDetail%2B3.JPG'>\n",
    "\n",
    "(images and solution post updated on 21/05/2019)\n",
    "\n",
    "* What is the total variance between actual total ticket prices and the expected revenue from the meal deal procing?\n",
    "* Provide a detailed output at the ticket level including:\n",
    "* Total Ticket Price (the total price without the affects of the new Meal Deal pricing)\n",
    "* Total Meal Deal Revenue (£5 multiplied by number of Meal Deals on the ticket)\n",
    "* Total Excess Products Revenue (additional items that aren't included in the Meal Deal)\n",
    "* Ticket and Member ID\n",
    "* Actual Ticket Revenue compared to Potential Revenue (Meal Deal Revenue plus Excess Product revenue)\n",
    "* Depending on where you round the values will change the answer slightly (that's fine as we care more about the techniques)\n",
    "* Detailed output:\n",
    "20,278 rows (20,279 including headers)\n",
    "6 columns of data\n",
    "No Nulls"
   ]
  },
  {
   "cell_type": "code",
   "execution_count": 12,
   "metadata": {},
   "outputs": [],
   "source": [
    "import pandas as pd"
   ]
  },
  {
   "cell_type": "code",
   "execution_count": 13,
   "metadata": {},
   "outputs": [
    {
     "name": "stdout",
     "output_type": "stream",
     "text": [
      "   TicketID        Date  MemberID    Desc  Price   Type\n",
      "0    203508  23/09/2013  994797.0  Banana    1.0  Snack\n",
      "1    203552  23/09/2013  990653.0  Banana    1.0  Snack\n",
      "2    203599  23/09/2013       NaN  Banana    1.0  Snack\n",
      "3    203603  23/09/2013       NaN  Banana    1.0  Snack\n",
      "4    203608  30/09/2013       NaN  Banana    1.0  Snack\n",
      "<class 'pandas.core.frame.DataFrame'>\n",
      "RangeIndex: 230456 entries, 0 to 230455\n",
      "Data columns (total 6 columns):\n",
      " #   Column    Non-Null Count   Dtype  \n",
      "---  ------    --------------   -----  \n",
      " 0   TicketID  230456 non-null  int64  \n",
      " 1   Date      230456 non-null  object \n",
      " 2   MemberID  47328 non-null   float64\n",
      " 3   Desc      230456 non-null  object \n",
      " 4   Price     230456 non-null  float64\n",
      " 5   Type      230456 non-null  object \n",
      "dtypes: float64(2), int64(1), object(3)\n",
      "memory usage: 10.5+ MB\n",
      "None\n"
     ]
    }
   ],
   "source": [
    "df1 = pd.read_csv('input.csv')\n",
    "print(df1.head(5))\n",
    "print(df1.info())"
   ]
  },
  {
   "cell_type": "code",
   "execution_count": 14,
   "metadata": {},
   "outputs": [
    {
     "name": "stdout",
     "output_type": "stream",
     "text": [
      "        Type\n",
      "Price       \n",
      "1.0    38564\n",
      "1.2    12540\n",
      "2.0    82445\n",
      "3.0    65955\n",
      "3.5    20902\n",
      "4.0    10050\n"
     ]
    }
   ],
   "source": [
    "a =df1.groupby('Price').agg({'Type':'count'})\n",
    "print(a)"
   ]
  }
 ],
 "metadata": {
  "kernelspec": {
   "display_name": "Python 3",
   "language": "python",
   "name": "python3"
  },
  "language_info": {
   "codemirror_mode": {
    "name": "ipython",
    "version": 3
   },
   "file_extension": ".py",
   "mimetype": "text/x-python",
   "name": "python",
   "nbconvert_exporter": "python",
   "pygments_lexer": "ipython3",
   "version": "3.10.0"
  },
  "orig_nbformat": 4
 },
 "nbformat": 4,
 "nbformat_minor": 2
}

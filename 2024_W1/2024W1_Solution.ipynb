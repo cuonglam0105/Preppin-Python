{
 "cells": [
  {
   "cell_type": "code",
   "execution_count": 18,
   "metadata": {},
   "outputs": [],
   "source": [
    "import pandas as pd\n",
    "import numpy as np"
   ]
  },
  {
   "cell_type": "code",
   "execution_count": 19,
   "metadata": {},
   "outputs": [
    {
     "name": "stdout",
     "output_type": "stream",
     "text": [
      "                                         Flight Details  Flow Card?  \\\n",
      "0      2024-07-22//PA010//Tokyo-New York//Economy//2380           1   \n",
      "1      2024-09-28//PA008//Perth-New York//Economy//1855           0   \n",
      "2     2024-04-20//PA002//New York-London//Economy//3490           1   \n",
      "3     2024-01-23//PA010//Tokyo-New York//Premium Eco...           1   \n",
      "4     2024-10-01//PA008//Perth-New York//Business Cl...           0   \n",
      "...                                                 ...         ...   \n",
      "3773   2024-05-05//PA009//New York-Tokyo//Economy//1360           0   \n",
      "3774  2024-06-14//PA008//Perth-New York//First Class...           0   \n",
      "3775   2024-01-16//PA010//Tokyo-New York//Economy//2410           0   \n",
      "3776  2024-08-16//PA005//London-Tokyo//Premium Econo...           0   \n",
      "3777  2024-01-06//PA004//Perth-London//First Class//236           1   \n",
      "\n",
      "      Bags Checked   Meal Type  \n",
      "0                0    Egg Free  \n",
      "1                2  Vegetarian  \n",
      "2                1       Vegan  \n",
      "3                1  Vegetarian  \n",
      "4                0  Vegetarian  \n",
      "...            ...         ...  \n",
      "3773             3    Nut Free  \n",
      "3774             1  Dairy Free  \n",
      "3775             2    Egg Free  \n",
      "3776             0    Nut Free  \n",
      "3777             1    Nut Free  \n",
      "\n",
      "[3778 rows x 4 columns]\n"
     ]
    }
   ],
   "source": [
    "df = pd.read_csv('Input.csv')\n",
    "print(df)"
   ]
  },
  {
   "cell_type": "code",
   "execution_count": 20,
   "metadata": {},
   "outputs": [
    {
     "name": "stdout",
     "output_type": "stream",
     "text": [
      "      Flow Card?  Bags Checked   Meal Type        Date Flight Number  \\\n",
      "0              1             0    Egg Free  2024-07-22         PA010   \n",
      "1              0             2  Vegetarian  2024-09-28         PA008   \n",
      "2              1             1       Vegan  2024-04-20         PA002   \n",
      "3              1             1  Vegetarian  2024-01-23         PA010   \n",
      "4              0             0  Vegetarian  2024-10-01         PA008   \n",
      "...          ...           ...         ...         ...           ...   \n",
      "3773           0             3    Nut Free  2024-05-05         PA009   \n",
      "3774           0             1  Dairy Free  2024-06-14         PA008   \n",
      "3775           0             2    Egg Free  2024-01-16         PA010   \n",
      "3776           0             0    Nut Free  2024-08-16         PA005   \n",
      "3777           1             1    Nut Free  2024-01-06         PA004   \n",
      "\n",
      "                Route            Class               Price  \n",
      "0      Tokyo-New York          Economy                2380  \n",
      "1      Perth-New York          Economy                1855  \n",
      "2     New York-London          Economy                3490  \n",
      "3      Tokyo-New York  Premium Economy                 825  \n",
      "4      Perth-New York   Business Class  634.79999999999995  \n",
      "...               ...              ...                 ...  \n",
      "3773   New York-Tokyo          Economy                1360  \n",
      "3774   Perth-New York      First Class                 245  \n",
      "3775   Tokyo-New York          Economy                2410  \n",
      "3776     London-Tokyo  Premium Economy                 960  \n",
      "3777     Perth-London      First Class                 236  \n",
      "\n",
      "[3778 rows x 8 columns]\n"
     ]
    }
   ],
   "source": [
    "# Split the 'Flight Details' column into multiple columns\n",
    "df[['Date', 'Flight Number', 'Route', 'Class', 'Price']] = df['Flight Details'].str.split('//', expand=True)\n",
    "\n",
    "# Drop the original 'Flight Details' column\n",
    "df.drop(columns=['Flight Details'], inplace=True)\n",
    "\n",
    "print(df)"
   ]
  },
  {
   "cell_type": "code",
   "execution_count": 21,
   "metadata": {},
   "outputs": [
    {
     "name": "stdout",
     "output_type": "stream",
     "text": [
      "      Flow Card?  Bags Checked   Meal Type        Date Flight Number  \\\n",
      "0              1             0    Egg Free  2024-07-22         PA010   \n",
      "1              0             2  Vegetarian  2024-09-28         PA008   \n",
      "2              1             1       Vegan  2024-04-20         PA002   \n",
      "3              1             1  Vegetarian  2024-01-23         PA010   \n",
      "4              0             0  Vegetarian  2024-10-01         PA008   \n",
      "...          ...           ...         ...         ...           ...   \n",
      "3773           0             3    Nut Free  2024-05-05         PA009   \n",
      "3774           0             1  Dairy Free  2024-06-14         PA008   \n",
      "3775           0             2    Egg Free  2024-01-16         PA010   \n",
      "3776           0             0    Nut Free  2024-08-16         PA005   \n",
      "3777           1             1    Nut Free  2024-01-06         PA004   \n",
      "\n",
      "                Class               Price      From        To  \n",
      "0             Economy                2380     Tokyo  New York  \n",
      "1             Economy                1855     Perth  New York  \n",
      "2             Economy                3490  New York    London  \n",
      "3     Premium Economy                 825     Tokyo  New York  \n",
      "4      Business Class  634.79999999999995     Perth  New York  \n",
      "...               ...                 ...       ...       ...  \n",
      "3773          Economy                1360  New York     Tokyo  \n",
      "3774      First Class                 245     Perth  New York  \n",
      "3775          Economy                2410     Tokyo  New York  \n",
      "3776  Premium Economy                 960    London     Tokyo  \n",
      "3777      First Class                 236     Perth    London  \n",
      "\n",
      "[3778 rows x 9 columns]\n"
     ]
    }
   ],
   "source": [
    "# Split the 'Route' column into 'Origin' and 'Destination' columns\n",
    "df[['From', 'To']] = df['Route'].str.split('-', expand=True)\n",
    "\n",
    "# Drop the original 'Route' column\n",
    "df.drop(columns=['Route'], inplace=True)\n",
    "\n",
    "print(df)"
   ]
  },
  {
   "cell_type": "code",
   "execution_count": 22,
   "metadata": {},
   "outputs": [
    {
     "name": "stdout",
     "output_type": "stream",
     "text": [
      "Flow Card?        int64\n",
      "Bags Checked      int64\n",
      "Meal Type        object\n",
      "Date             object\n",
      "Flight Number    object\n",
      "Class            object\n",
      "Price            object\n",
      "From             object\n",
      "To               object\n",
      "dtype: object\n"
     ]
    }
   ],
   "source": [
    "print(df.dtypes)"
   ]
  },
  {
   "cell_type": "code",
   "execution_count": 23,
   "metadata": {},
   "outputs": [
    {
     "name": "stdout",
     "output_type": "stream",
     "text": [
      "Flow Card?                int64\n",
      "Bags Checked              int64\n",
      "Meal Type                object\n",
      "Date             datetime64[ns]\n",
      "Flight Number            object\n",
      "Class                    object\n",
      "Price                   float64\n",
      "From                     object\n",
      "To                       object\n",
      "dtype: object\n"
     ]
    }
   ],
   "source": [
    "df['Date'] = pd.to_datetime(df['Date'])\n",
    "df['Price'] = pd.to_numeric(df['Price'], errors='coerce')\n",
    "\n",
    "print(df.dtypes)"
   ]
  },
  {
   "cell_type": "code",
   "execution_count": 24,
   "metadata": {},
   "outputs": [
    {
     "name": "stdout",
     "output_type": "stream",
     "text": [
      "     Flow Card?  Bags Checked   Meal Type       Date Flight Number  \\\n",
      "0           Yes             0    Egg Free 2024-07-22         PA010   \n",
      "1            No             2  Vegetarian 2024-09-28         PA008   \n",
      "2           Yes             1       Vegan 2024-04-20         PA002   \n",
      "3           Yes             1  Vegetarian 2024-01-23         PA010   \n",
      "4            No             0  Vegetarian 2024-10-01         PA008   \n",
      "...         ...           ...         ...        ...           ...   \n",
      "3773         No             3    Nut Free 2024-05-05         PA009   \n",
      "3774         No             1  Dairy Free 2024-06-14         PA008   \n",
      "3775         No             2    Egg Free 2024-01-16         PA010   \n",
      "3776         No             0    Nut Free 2024-08-16         PA005   \n",
      "3777        Yes             1    Nut Free 2024-01-06         PA004   \n",
      "\n",
      "                Class   Price      From        To  \n",
      "0             Economy  2380.0     Tokyo  New York  \n",
      "1             Economy  1855.0     Perth  New York  \n",
      "2             Economy  3490.0  New York    London  \n",
      "3     Premium Economy   825.0     Tokyo  New York  \n",
      "4      Business Class   634.8     Perth  New York  \n",
      "...               ...     ...       ...       ...  \n",
      "3773          Economy  1360.0  New York     Tokyo  \n",
      "3774      First Class   245.0     Perth  New York  \n",
      "3775          Economy  2410.0     Tokyo  New York  \n",
      "3776  Premium Economy   960.0    London     Tokyo  \n",
      "3777      First Class   236.0     Perth    London  \n",
      "\n",
      "[3778 rows x 9 columns]\n"
     ]
    }
   ],
   "source": [
    "df['Flow Card?'] = df['Flow Card?'].replace({1: 'Yes', 0: 'No'})\n",
    "print(df)"
   ]
  },
  {
   "cell_type": "code",
   "execution_count": 25,
   "metadata": {},
   "outputs": [],
   "source": [
    "df1 = df[df['Flow Card?'] == 'Yes']\n",
    "df2 = df[df['Flow Card?'] == 'No']"
   ]
  },
  {
   "cell_type": "code",
   "execution_count": 26,
   "metadata": {},
   "outputs": [
    {
     "name": "stdout",
     "output_type": "stream",
     "text": [
      "DataFrame df1:\n",
      "     Flow Card?  Bags Checked   Meal Type       Date Flight Number  \\\n",
      "0           Yes             0    Egg Free 2024-07-22         PA010   \n",
      "2           Yes             1       Vegan 2024-04-20         PA002   \n",
      "3           Yes             1  Vegetarian 2024-01-23         PA010   \n",
      "6           Yes             3       Vegan 2024-06-05         PA006   \n",
      "8           Yes             1    Nut Free 2024-03-30         PA004   \n",
      "...         ...           ...         ...        ...           ...   \n",
      "3764        Yes             2    Egg Free 2024-11-23         PA005   \n",
      "3766        Yes             3    Nut Free 2024-11-04         PA003   \n",
      "3770        Yes             0  Dairy Free 2024-04-29         PA012   \n",
      "3772        Yes             2  Vegetarian 2024-09-26         PA001   \n",
      "3777        Yes             1    Nut Free 2024-01-06         PA004   \n",
      "\n",
      "                Class   Price      From        To  \n",
      "0             Economy  2380.0     Tokyo  New York  \n",
      "2             Economy  3490.0  New York    London  \n",
      "3     Premium Economy   825.0     Tokyo  New York  \n",
      "6         First Class   618.0     Tokyo    London  \n",
      "8         First Class   446.0     Perth    London  \n",
      "...               ...     ...       ...       ...  \n",
      "3764          Economy  2070.0    London     Tokyo  \n",
      "3766      First Class   210.0    London     Perth  \n",
      "3770          Economy  3490.0     Tokyo     Perth  \n",
      "3772      First Class   207.0    London  New York  \n",
      "3777      First Class   236.0     Perth    London  \n",
      "\n",
      "[1883 rows x 9 columns]\n"
     ]
    }
   ],
   "source": [
    "print(\"DataFrame df1:\")\n",
    "print(df1)"
   ]
  },
  {
   "cell_type": "code",
   "execution_count": 27,
   "metadata": {},
   "outputs": [
    {
     "name": "stdout",
     "output_type": "stream",
     "text": [
      "\n",
      "DataFrame df2:\n",
      "     Flow Card?  Bags Checked   Meal Type       Date Flight Number  \\\n",
      "1            No             2  Vegetarian 2024-09-28         PA008   \n",
      "4            No             0  Vegetarian 2024-10-01         PA008   \n",
      "5            No             3    Nut Free 2024-03-04         PA007   \n",
      "7            No             0         NaN 2024-02-25         PA010   \n",
      "13           No             2       Vegan 2024-03-29         PA004   \n",
      "...         ...           ...         ...        ...           ...   \n",
      "3771         No             2  Vegetarian 2024-03-06         PA006   \n",
      "3773         No             3    Nut Free 2024-05-05         PA009   \n",
      "3774         No             1  Dairy Free 2024-06-14         PA008   \n",
      "3775         No             2    Egg Free 2024-01-16         PA010   \n",
      "3776         No             0    Nut Free 2024-08-16         PA005   \n",
      "\n",
      "                Class   Price      From        To  \n",
      "1             Economy  1855.0     Perth  New York  \n",
      "4      Business Class   634.8     Perth  New York  \n",
      "5      Business Class   458.4  New York     Perth  \n",
      "7     Premium Economy  1435.0     Tokyo  New York  \n",
      "13            Economy  2730.0     Perth    London  \n",
      "...               ...     ...       ...       ...  \n",
      "3771  Premium Economy   940.0     Tokyo    London  \n",
      "3773          Economy  1360.0  New York     Tokyo  \n",
      "3774      First Class   245.0     Perth  New York  \n",
      "3775          Economy  2410.0     Tokyo  New York  \n",
      "3776  Premium Economy   960.0    London     Tokyo  \n",
      "\n",
      "[1895 rows x 9 columns]\n"
     ]
    }
   ],
   "source": [
    "print(\"\\nDataFrame df2:\")\n",
    "print(df2)"
   ]
  }
 ],
 "metadata": {
  "kernelspec": {
   "display_name": "Python 3",
   "language": "python",
   "name": "python3"
  },
  "language_info": {
   "codemirror_mode": {
    "name": "ipython",
    "version": 3
   },
   "file_extension": ".py",
   "mimetype": "text/x-python",
   "name": "python",
   "nbconvert_exporter": "python",
   "pygments_lexer": "ipython3",
   "version": "3.13.1"
  }
 },
 "nbformat": 4,
 "nbformat_minor": 2
}

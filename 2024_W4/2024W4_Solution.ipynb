{
 "cells": [
  {
   "cell_type": "markdown",
   "metadata": {},
   "source": [
    "2024: Week 4 - Unpopular Seats\n",
    "January 24, 2024\n",
    " Created by: Carl Allchin\n",
    "\n",
    "Last week you needed to use a Join technique to pair the flight data with the sales targets. This week you'll be using Joins again but this time in a different way. \n",
    "\n",
    "When using Joins, there are two things you need to set up:\n",
    "\n",
    "Join Condition - what logic will join similar rows of data together from each data set\n",
    "Join Type - determines what data you will bring back based on the Join Condition\n",
    "This challenge will test using join types to return the data you require for the output.\n",
    "\n",
    "This week we are trying to understand which seats aren't chosen on our planes as we're thinking of applying fees for customers to choose their seat when booking. \n",
    "\n",
    "Input\n",
    "\n",
    "Seat allocation per customer. We have had three downloads sent to us, one for the Flow Card customers and two where they aren't Flow Card customers. They're available here.\n",
    "\n",
    "![input](https://blogger.googleusercontent.com/img/b/R29vZ2xl/AVvXsEjgZ6DfzaA8gyIbr80Kg_I2y9drhX5BjEnCLBIECm2Vphrs-_ccY3r5kbBM9Jgq5eCPMGjSCwK_1Lyz8bAVtMLttG4gI3BhkLRj2oRzQsT2WHc5LffmvOt_0iuZxGhdoF1bXJYKnhtmKV1MSpJZdFsww3dR73hRs2ZWEN_YImhaQPTm2MhngxuSNdMJjL8p/s758/Screenshot%202024-01-22%20at%2011.19.19.png)\n",
    "\n",
    "\n",
    "The seating plan for our planes\n",
    "\n",
    "![input](https://blogger.googleusercontent.com/img/b/R29vZ2xl/AVvXsEgnM3ZWHxG9OKjYpft24xviflJs5f3xf3u2hFNHfsIPr4tGWixLrt8TJFv350TRb85rfAMgWmFeQnCcJU6NSYVrx3cNY0AZnQpI2aV1M-FPiCl2thDlMp1ljhM51Y4EjXE9l5Zw1tOrtS-t8YA8LCctvkBsLvIS-UDGOc4VuXDaQknUKKZptygBZ69DVxfY/s614/Screenshot%202024-01-22%20at%2011.19.30.png)\n",
    "\n",
    "Requirements\n",
    "- Input the Excel workbook containing the four worksheets of data\n",
    "- Union the Flow Card and Non-Flow card data sets together\n",
    "- Create a data field to show whether the seat was booked by someone with the Flow Card or not\n",
    "- Call this field 'Flow Card?'\n",
    "- Aggregate the Seat Bookings to count how many bookings there are for:\n",
    "- Each Seat\n",
    "- In each Row\n",
    "- In each Class\n",
    "- For Flow and Non-Flow Card holders\n",
    "- Join on the Seating Plan data to ensure you have a data set for every seat on the plane, even if it hasn't been book\n",
    "- Only return the records for the seats that haven't been booked\n",
    "- Output the data set showing what seat, rows and class have NOT been booked\n",
    "\n",
    "\n",
    "Output\n",
    "\n",
    "\n",
    "![output](https://blogger.googleusercontent.com/img/b/R29vZ2xl/AVvXsEjFLBOh5liCZcy12GMMhpwVEcArqQ8yIlz6fLPe2Hl_c7TMN3sqzdCcaIbOZEdKIl1aG0GwLcRStJv4kfYNfE7_Gv7BjN3taq1BR2VdEDY6xg_CX96ccc7gCZo2AAxu269UiyLRjTgx9DrybejYn1o0Q0NEXT8hlcT2FHu2uxkwpFY9ctZ5EzWlFcTDvU7U/s292/Screenshot%202024-01-22%20at%2014.41.59.png)\n",
    "\n",
    "\n",
    "3 data fields:\n",
    "- Class\n",
    "- Seat\n",
    "- Row"
   ]
  },
  {
   "cell_type": "code",
   "execution_count": 41,
   "metadata": {},
   "outputs": [
    {
     "name": "stdout",
     "output_type": "stream",
     "text": [
      "['Flow Card', 'Non_flow Card', 'Non_flow Card2', 'Seat Plan']\n"
     ]
    }
   ],
   "source": [
    "import pandas as pd\n",
    "\n",
    "# Read the Excel file\n",
    "excel_file = 'PD 2024 WK 4 Input.xlsx'\n",
    "df = pd.ExcelFile(excel_file)\n",
    "\n",
    "# List all sheet names\n",
    "sheet_names = df.sheet_names\n",
    "print(sheet_names)"
   ]
  },
  {
   "cell_type": "code",
   "execution_count": 42,
   "metadata": {},
   "outputs": [
    {
     "name": "stdout",
     "output_type": "stream",
     "text": [
      "       CustomerID  Seat  Row Class Flow Card?\n",
      "0             654     2    2    FC        Yes\n",
      "1             466     4    5    FC        Yes\n",
      "2              27     4    3    FC        Yes\n",
      "3             519     1    4    FC        Yes\n",
      "4             933     2    3    FC        Yes\n",
      "...           ...   ...  ...   ...        ...\n",
      "29208        3005     7   35     E         No\n",
      "29209        4685     4   27     E         No\n",
      "29210        2512     8   38     E         No\n",
      "29211        3863     4   37     E         No\n",
      "29212        2872     8   32     E         No\n",
      "\n",
      "[29213 rows x 5 columns]\n"
     ]
    }
   ],
   "source": [
    "# Read the first three sheets into dataframes\n",
    "df_flow_card = pd.read_excel(excel_file, sheet_name='Flow Card')\n",
    "df_non_flow_card1 = pd.read_excel(excel_file, sheet_name='Non_flow Card')\n",
    "df_non_flow_card2 = pd.read_excel(excel_file, sheet_name='Non_flow Card2')\n",
    "\n",
    "# Add a column to indicate Flow Card status\n",
    "df_flow_card['Flow Card?'] = 'Yes'\n",
    "df_non_flow_card1['Flow Card?'] = 'No'\n",
    "df_non_flow_card2['Flow Card?'] = 'No'\n",
    "\n",
    "# Concatenate the dataframes\n",
    "df_union = pd.concat([df_flow_card, df_non_flow_card1, df_non_flow_card2], ignore_index=True)\n",
    "print(df_union)"
   ]
  },
  {
   "cell_type": "code",
   "execution_count": 43,
   "metadata": {},
   "outputs": [
    {
     "name": "stdout",
     "output_type": "stream",
     "text": [
      "     Seat  Row Class Flow Card?  Total Customers\n",
      "0       1    1    FC         No               38\n",
      "1       1    1    FC        Yes               20\n",
      "2       1    2    FC         No               39\n",
      "3       1    2    FC        Yes               20\n",
      "4       1    3    FC         No               38\n",
      "..    ...  ...   ...        ...              ...\n",
      "573    10   40     E        Yes               37\n",
      "574    10   41     E         No               68\n",
      "575    10   41     E        Yes               32\n",
      "576    10   42     E         No               90\n",
      "577    10   42     E        Yes               29\n",
      "\n",
      "[578 rows x 5 columns]\n"
     ]
    }
   ],
   "source": [
    "# Group by Seat, Row, Class, and Flow Card? and count the number of CustomerID in each group\n",
    "df_grouped = df_union.groupby(['Seat', 'Row', 'Class', 'Flow Card?']).size().reset_index(name='Total Customers')\n",
    "print(df_grouped)"
   ]
  },
  {
   "cell_type": "code",
   "execution_count": 44,
   "metadata": {},
   "outputs": [
    {
     "name": "stdout",
     "output_type": "stream",
     "text": [
      "    Class  Seat  Row\n",
      "0      FC     1    1\n",
      "1      FC     2    1\n",
      "2      FC     3    1\n",
      "3      FC     4    1\n",
      "4      FC     1    2\n",
      "..    ...   ...  ...\n",
      "291     E     6   42\n",
      "292     E     7   42\n",
      "293     E     8   42\n",
      "294     E     9   42\n",
      "295     E    10   42\n",
      "\n",
      "[296 rows x 3 columns]\n"
     ]
    }
   ],
   "source": [
    "df_seat_plan = pd.read_excel(excel_file, sheet_name='Seat Plan')\n",
    "print(df_seat_plan)"
   ]
  },
  {
   "cell_type": "code",
   "execution_count": null,
   "metadata": {},
   "outputs": [
    {
     "name": "stdout",
     "output_type": "stream",
     "text": [
      "    Class  Seat  Row Flow Card?  Total Customers _merge\n",
      "0      FC     1    1         No             38.0   both\n",
      "1      FC     1    1        Yes             20.0   both\n",
      "2      FC     2    1         No             40.0   both\n",
      "3      FC     2    1        Yes             19.0   both\n",
      "4      FC     3    1         No             51.0   both\n",
      "..    ...   ...  ...        ...              ...    ...\n",
      "580     E     8   42        Yes             51.0   both\n",
      "581     E     9   42         No             81.0   both\n",
      "582     E     9   42        Yes             36.0   both\n",
      "583     E    10   42         No             90.0   both\n",
      "584     E    10   42        Yes             29.0   both\n",
      "\n",
      "[585 rows x 6 columns]\n"
     ]
    }
   ],
   "source": [
    "# Perform a left join\n",
    "df_merged = pd.merge(df_seat_plan, df_grouped, on=['Seat', 'Row', 'Class'], how='left', indicator=True)\n",
    "print(df_merged)\n",
    "\n"
   ]
  },
  {
   "cell_type": "code",
   "execution_count": 46,
   "metadata": {},
   "outputs": [
    {
     "name": "stdout",
     "output_type": "stream",
     "text": [
      "  Class  Seat  Row\n",
      "0     E     5   28\n",
      "1     E     6   32\n",
      "2     E     5   36\n",
      "3     E     6   37\n",
      "4     E     5   40\n",
      "5     E     6   40\n",
      "6     E     5   41\n"
     ]
    }
   ],
   "source": [
    "# Filter to keep only the records which are not in df_grouped\n",
    "output = df_merged[df_merged['_merge'] == 'left_only'].drop(columns=['_merge', 'Total Customers', 'Flow Card?'])\n",
    "output.reset_index(drop=True, inplace=True)\n",
    "\n",
    "print(output)"
   ]
  }
 ],
 "metadata": {
  "kernelspec": {
   "display_name": "Python 3",
   "language": "python",
   "name": "python3"
  },
  "language_info": {
   "codemirror_mode": {
    "name": "ipython",
    "version": 3
   },
   "file_extension": ".py",
   "mimetype": "text/x-python",
   "name": "python",
   "nbconvert_exporter": "python",
   "pygments_lexer": "ipython3",
   "version": "3.13.1"
  }
 },
 "nbformat": 4,
 "nbformat_minor": 2
}

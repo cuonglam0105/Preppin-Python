{
 "cells": [
  {
   "attachments": {},
   "cell_type": "markdown",
   "metadata": {},
   "source": [
    "# 2021: Week 4\n",
    "\n",
    "January 27, 2021\n",
    "\n",
    "This is the last in the 'Starter Challenges' series to get you up and Preppin' to start the new year. We've enjoyed running this mini-series so much we're already looking at creating another similar series later in the year. \n",
    "\n",
    "This week's challenge involves picking up some more of the fundamental skills and gives you some chances to practice some of the skills you've picked up over the last few weeks. As always, we'll be guiding you along the way with some useful help links if you need a couple of reminders or chance to explore those new techniques. \n",
    "\n",
    "The new technique for you to learn this week is Joins. If you've worked with different data solutions for a number of years, you'll be familiar with Joins but if you are new you're in for a treat! Joins allow us to bring two data sources together. This allows for much easier, richer and deeper analysis as data is often in many different locations. Use the help links if this is a new technique for you. Joins are one of the harder concepts to pick up so make sure you've set aside a good amount of time to explore. \n",
    "\n",
    "Challenge by: Carl Allchin\n",
    "\n",
    "# Input\n",
    "\n",
    "The input file may seem familiar from last week. We still have 5 worksheets, each containing one Store's product sales.\n",
    "\n",
    "<img src='https://1.bp.blogspot.com/-sJ7fitvkMMk/YA69_pgQbII/AAAAAAAACHk/NQ8TVmd0fLcGOyipZhPWl5_VTsfvZIfhgCLcBGAsYHQ/w640-h192/Screenshot%2B2021-01-25%2Bat%2B12.47.37.png'>\n",
    "\n",
    "What's new is there is also a set of Quarterly Targets that each store is expected to achieve.\n",
    "\n",
    "<img src='https://1.bp.blogspot.com/-P5YUkfcO1hM/YA6-YPuJ1CI/AAAAAAAACHs/-mdb5K7xB5YEg5xRyWbl0b8PfNEF7DVMgCLcBGAsYHQ/w400-h211/Screenshot%2B2021-01-25%2Bat%2B12.49.20.png'>\n",
    "\n",
    "# Requirements\n",
    "- Input the file \n",
    "- Union the Stores data together (help)\n",
    "- Remove any unnecessary data fields your Input step might create and rename the 'Table Names' as 'Store' \n",
    "- Pivot the product columns (help)\n",
    "- Split the 'Customer Type - Product' field to create: (help)\n",
    "    - Customer Type\n",
    "    - Product\n",
    "    - Also rename the Values column resulting from you pivot as 'Products Sold'\n",
    "- Turn the date into a 'Quarter' number (help)\n",
    "- Sum up the products sold by Store and Quarter (help)\n",
    "- Add the Targets data \n",
    "- Join the Targets data with the aggregated Stores data (help)\n",
    "    - Note: this should give you 20 rows of data\n",
    "- Remove any duplicate fields formed by the Join\n",
    "- Calculate the Variance between each Store's Quarterly actual sales and the target. Call this field 'Variance to Target' (help)\n",
    "- Rank the Store's based on the Variance to Target in each quarter (help)\n",
    "    - The greater the variance the better the rank\n",
    "- Output the data (help)\n",
    "\n",
    "# Output\n",
    "\n",
    "<img src='https://1.bp.blogspot.com/-h9JR5XeRNBM/YA6_dbPM22I/AAAAAAAACH4/C0D2jBnLwgcv-YEPX0YTq__u2yPkY5CwQCLcBGAsYHQ/w640-h246/Screenshot%2B2021-01-25%2Bat%2B12.42.54.png'>\n",
    "\n",
    "One file:\n",
    "\n",
    "6 Data Fields:\n",
    "\n",
    "* Quarter\n",
    "* Rank\n",
    "* Store\n",
    "* Products Sold\n",
    "* Target \n",
    "* Variance to Target\n",
    "20 Rows (21 rows including headers)"
   ]
  },
  {
   "cell_type": "code",
   "execution_count": 1,
   "metadata": {},
   "outputs": [],
   "source": [
    "import pandas as pd"
   ]
  },
  {
   "cell_type": "code",
   "execution_count": 2,
   "metadata": {},
   "outputs": [
    {
     "name": "stdout",
     "output_type": "stream",
     "text": [
      "['Manchester', 'London', 'Leeds', 'York', 'Birmingham', 'Targets']\n",
      "=========================================\n",
      "['Manchester', 'London', 'Leeds', 'York', 'Birmingham']\n",
      "=========================================\n",
      "        Date  New - Saddles  New - Mudguards  New - Wheels  New - Bags  \\\n",
      "0 2021-01-21           13.0             42.0          19.0        38.0   \n",
      "1 2021-02-21            1.0              9.0          14.0         6.0   \n",
      "2 2021-03-21            8.0             22.0           6.0        35.0   \n",
      "3 2021-04-21            3.0              9.0           8.0        16.0   \n",
      "4 2021-05-21            2.0              8.0           5.0        34.0   \n",
      "\n",
      "   Existing - Saddles  Existing - Mudguards  Existing - Wheels  \\\n",
      "0                17.0                  48.0               19.0   \n",
      "1                 2.0                   4.0               19.0   \n",
      "2                 0.0                  48.0               17.0   \n",
      "3                18.0                  50.0               18.0   \n",
      "4                17.0                   3.0               12.0   \n",
      "\n",
      "   Existing - Bags       Store  \n",
      "0             13.0  Manchester  \n",
      "1             24.0  Manchester  \n",
      "2             16.0  Manchester  \n",
      "3             25.0  Manchester  \n",
      "4             19.0  Manchester  \n",
      "<class 'pandas.core.frame.DataFrame'>\n",
      "Int64Index: 60 entries, 0 to 11\n",
      "Data columns (total 10 columns):\n",
      " #   Column                Non-Null Count  Dtype         \n",
      "---  ------                --------------  -----         \n",
      " 0   Date                  60 non-null     datetime64[ns]\n",
      " 1   New - Saddles         60 non-null     float64       \n",
      " 2   New - Mudguards       60 non-null     float64       \n",
      " 3   New - Wheels          60 non-null     float64       \n",
      " 4   New - Bags            60 non-null     float64       \n",
      " 5   Existing - Saddles    60 non-null     float64       \n",
      " 6   Existing - Mudguards  60 non-null     float64       \n",
      " 7   Existing - Wheels     60 non-null     float64       \n",
      " 8   Existing - Bags       60 non-null     float64       \n",
      " 9   Store                 60 non-null     object        \n",
      "dtypes: datetime64[ns](1), float64(8), object(1)\n",
      "memory usage: 5.2+ KB\n",
      "None\n"
     ]
    }
   ],
   "source": [
    "# Input the file & Union the Stores data together\n",
    "input = 'PD 2021 Wk 4 Input.xlsx'\n",
    "excel_sheets = pd.ExcelFile(input).sheet_names\n",
    "print(excel_sheets)\n",
    "print('=========================================')\n",
    "\n",
    "store_table = excel_sheets\n",
    "store_table.remove('Targets')\n",
    "print(store_table)\n",
    "print('=========================================')\n",
    "\n",
    "array_df = []\n",
    "for i in store_table:\n",
    "    temp_df = pd.read_excel(input, sheet_name=i)\n",
    "    temp_df['Store'] = i\n",
    "    array_df.append(temp_df)\n",
    "df = pd.concat(array_df, axis=0)\n",
    "print(df.head(5))\n",
    "print(df.info())"
   ]
  },
  {
   "cell_type": "code",
   "execution_count": 3,
   "metadata": {},
   "outputs": [
    {
     "name": "stdout",
     "output_type": "stream",
     "text": [
      "        Date  New - Saddles  New - Mudguards  New - Wheels  New - Bags  \\\n",
      "0 2021-01-21             13               42            19          38   \n",
      "1 2021-02-21              1                9            14           6   \n",
      "2 2021-03-21              8               22             6          35   \n",
      "3 2021-04-21              3                9             8          16   \n",
      "4 2021-05-21              2                8             5          34   \n",
      "\n",
      "   Existing - Saddles  Existing - Mudguards  Existing - Wheels  \\\n",
      "0                  17                    48                 19   \n",
      "1                   2                     4                 19   \n",
      "2                   0                    48                 17   \n",
      "3                  18                    50                 18   \n",
      "4                  17                     3                 12   \n",
      "\n",
      "   Existing - Bags       Store  \n",
      "0               13  Manchester  \n",
      "1               24  Manchester  \n",
      "2               16  Manchester  \n",
      "3               25  Manchester  \n",
      "4               19  Manchester  \n",
      "<class 'pandas.core.frame.DataFrame'>\n",
      "Int64Index: 60 entries, 0 to 11\n",
      "Data columns (total 10 columns):\n",
      " #   Column                Non-Null Count  Dtype         \n",
      "---  ------                --------------  -----         \n",
      " 0   Date                  60 non-null     datetime64[ns]\n",
      " 1   New - Saddles         60 non-null     int32         \n",
      " 2   New - Mudguards       60 non-null     int32         \n",
      " 3   New - Wheels          60 non-null     int32         \n",
      " 4   New - Bags            60 non-null     int32         \n",
      " 5   Existing - Saddles    60 non-null     int32         \n",
      " 6   Existing - Mudguards  60 non-null     int32         \n",
      " 7   Existing - Wheels     60 non-null     int32         \n",
      " 8   Existing - Bags       60 non-null     int32         \n",
      " 9   Store                 60 non-null     object        \n",
      "dtypes: datetime64[ns](1), int32(8), object(1)\n",
      "memory usage: 3.3+ KB\n",
      "None\n"
     ]
    }
   ],
   "source": [
    "# Correct data types\n",
    "# loop through columns in dataframe\n",
    "for col in df.columns:\n",
    "    # check if column is of float type\n",
    "    if df[col].dtype == 'float64':\n",
    "        # check if column has any decimal values\n",
    "        if df[col].apply(lambda x: x.is_integer()).all():\n",
    "            # if all values are integers, convert column to integer type\n",
    "            df[col] = df[col].astype(int)\n",
    "\n",
    "# print the updated dataframe\n",
    "print(df.head(5))\n",
    "print(df.info())"
   ]
  },
  {
   "cell_type": "code",
   "execution_count": 4,
   "metadata": {},
   "outputs": [
    {
     "name": "stdout",
     "output_type": "stream",
     "text": [
      "Index(['New - Saddles', 'New - Mudguards', 'New - Wheels', 'New - Bags',\n",
      "       'Existing - Saddles', 'Existing - Mudguards', 'Existing - Wheels',\n",
      "       'Existing - Bags'],\n",
      "      dtype='object')\n",
      "=========================================\n",
      "        Date       Store     Pivot_name  Pivot_value\n",
      "0 2021-01-21  Manchester  New - Saddles           13\n",
      "1 2021-02-21  Manchester  New - Saddles            1\n",
      "2 2021-03-21  Manchester  New - Saddles            8\n",
      "3 2021-04-21  Manchester  New - Saddles            3\n",
      "4 2021-05-21  Manchester  New - Saddles            2\n",
      "<class 'pandas.core.frame.DataFrame'>\n",
      "RangeIndex: 480 entries, 0 to 479\n",
      "Data columns (total 4 columns):\n",
      " #   Column       Non-Null Count  Dtype         \n",
      "---  ------       --------------  -----         \n",
      " 0   Date         480 non-null    datetime64[ns]\n",
      " 1   Store        480 non-null    object        \n",
      " 2   Pivot_name   480 non-null    object        \n",
      " 3   Pivot_value  480 non-null    int32         \n",
      "dtypes: datetime64[ns](1), int32(1), object(2)\n",
      "memory usage: 13.2+ KB\n",
      "None\n"
     ]
    }
   ],
   "source": [
    "# List columns need to be pivoted\n",
    "column_to_pivot = df.drop(columns=['Date','Store']).columns\n",
    "print(column_to_pivot)\n",
    "print('=========================================')\n",
    "\n",
    "# Pivot the product column\n",
    "df_pivot = df.melt(id_vars=['Date', 'Store'], value_vars=column_to_pivot, var_name='Pivot_name', value_name='Pivot_value')\n",
    "print(df_pivot.head(5))\n",
    "print(df_pivot.info())"
   ]
  },
  {
   "cell_type": "code",
   "execution_count": 5,
   "metadata": {},
   "outputs": [
    {
     "name": "stdout",
     "output_type": "stream",
     "text": [
      "        Date       Store  Products Sold Customer Type  Product\n",
      "0 2021-01-21  Manchester             13           New  Saddles\n",
      "1 2021-02-21  Manchester              1           New  Saddles\n",
      "2 2021-03-21  Manchester              8           New  Saddles\n",
      "3 2021-04-21  Manchester              3           New  Saddles\n",
      "4 2021-05-21  Manchester              2           New  Saddles\n",
      "<class 'pandas.core.frame.DataFrame'>\n",
      "RangeIndex: 480 entries, 0 to 479\n",
      "Data columns (total 5 columns):\n",
      " #   Column         Non-Null Count  Dtype         \n",
      "---  ------         --------------  -----         \n",
      " 0   Date           480 non-null    datetime64[ns]\n",
      " 1   Store          480 non-null    object        \n",
      " 2   Products Sold  480 non-null    int32         \n",
      " 3   Customer Type  480 non-null    object        \n",
      " 4   Product        480 non-null    object        \n",
      "dtypes: datetime64[ns](1), int32(1), object(3)\n",
      "memory usage: 17.0+ KB\n",
      "None\n"
     ]
    }
   ],
   "source": [
    "# Split the 'Customer Type - Product' field\n",
    "df_pivot[['Customer Type', 'Product']] = df_pivot['Pivot_name'].str.split(' - ', expand=True)\n",
    "df_pivot.drop(columns='Pivot_name', inplace=True)\n",
    "\n",
    "# Also rename the Values column resulting from you pivot as 'Products Sold'\n",
    "df_pivot.rename(columns={'Pivot_value':'Products Sold'}, inplace=True)\n",
    "print(df_pivot.head(5))\n",
    "print(df_pivot.info())"
   ]
  },
  {
   "cell_type": "code",
   "execution_count": 6,
   "metadata": {},
   "outputs": [],
   "source": [
    "# Turn the date into a 'Quarter' number\n",
    "df_pivot['Quarter'] = df_pivot['Date'].dt.quarter\n",
    "df_pivot.drop(columns='Date', inplace=True)"
   ]
  },
  {
   "cell_type": "code",
   "execution_count": 7,
   "metadata": {},
   "outputs": [
    {
     "name": "stdout",
     "output_type": "stream",
     "text": [
      "   Quarter       Store  Products_Sold\n",
      "0        1  Birmingham            477\n",
      "1        1       Leeds            488\n",
      "2        1      London            425\n",
      "3        1  Manchester            440\n",
      "4        1        York            499\n",
      "<class 'pandas.core.frame.DataFrame'>\n",
      "RangeIndex: 20 entries, 0 to 19\n",
      "Data columns (total 3 columns):\n",
      " #   Column         Non-Null Count  Dtype \n",
      "---  ------         --------------  ----- \n",
      " 0   Quarter        20 non-null     int64 \n",
      " 1   Store          20 non-null     object\n",
      " 2   Products_Sold  20 non-null     int32 \n",
      "dtypes: int32(1), int64(1), object(1)\n",
      "memory usage: 528.0+ bytes\n",
      "None\n"
     ]
    }
   ],
   "source": [
    "# Sum up the products sold by Store and Quarter\n",
    "df_pivot = df_pivot.groupby(['Quarter', 'Store']).agg(Products_Sold=('Products Sold','sum')).reset_index()\n",
    "print(df_pivot.head(5))\n",
    "print(df_pivot.info())"
   ]
  },
  {
   "cell_type": "code",
   "execution_count": 8,
   "metadata": {},
   "outputs": [
    {
     "name": "stdout",
     "output_type": "stream",
     "text": [
      "   Quarter       Store  Target\n",
      "0        1  Manchester     475\n",
      "1        1      London     475\n",
      "2        1       Leeds     490\n",
      "3        1        York     490\n",
      "4        1  Birmingham     475\n",
      "<class 'pandas.core.frame.DataFrame'>\n",
      "RangeIndex: 20 entries, 0 to 19\n",
      "Data columns (total 3 columns):\n",
      " #   Column   Non-Null Count  Dtype \n",
      "---  ------   --------------  ----- \n",
      " 0   Quarter  20 non-null     int32 \n",
      " 1   Store    20 non-null     object\n",
      " 2   Target   20 non-null     int32 \n",
      "dtypes: int32(2), object(1)\n",
      "memory usage: 448.0+ bytes\n",
      "None\n"
     ]
    }
   ],
   "source": [
    "# Add the Targets data \n",
    "target = pd.read_excel(input, sheet_name='Targets')\n",
    "\n",
    "# Correct data type\n",
    "for col in target.columns:\n",
    "    if target[col].dtype == 'float64':\n",
    "        if target[col].apply(lambda x: x.is_integer()).all():\n",
    "            target[col] = target[col].astype(int)\n",
    "\n",
    "print(target.head(5))\n",
    "print(target.info())\n"
   ]
  },
  {
   "cell_type": "code",
   "execution_count": 9,
   "metadata": {},
   "outputs": [
    {
     "name": "stdout",
     "output_type": "stream",
     "text": [
      "   Quarter       Store  Products_Sold  Target  Variance to Target  Rank\n",
      "0        1  Birmingham            477     475                   2   2.0\n",
      "1        1       Leeds            488     490                  -2   3.0\n",
      "2        1      London            425     475                 -50   5.0\n",
      "3        1  Manchester            440     475                 -35   4.0\n",
      "4        1        York            499     490                   9   1.0\n",
      "<class 'pandas.core.frame.DataFrame'>\n",
      "Int64Index: 20 entries, 0 to 19\n",
      "Data columns (total 6 columns):\n",
      " #   Column              Non-Null Count  Dtype  \n",
      "---  ------              --------------  -----  \n",
      " 0   Quarter             20 non-null     int64  \n",
      " 1   Store               20 non-null     object \n",
      " 2   Products_Sold       20 non-null     int32  \n",
      " 3   Target              20 non-null     int32  \n",
      " 4   Variance to Target  20 non-null     int32  \n",
      " 5   Rank                20 non-null     float64\n",
      "dtypes: float64(1), int32(3), int64(1), object(1)\n",
      "memory usage: 880.0+ bytes\n",
      "None\n"
     ]
    }
   ],
   "source": [
    "# Join the Targets data with the aggregated Stores data & Remove any duplicate fields formed by the Join\n",
    "output = pd.merge(left=df_pivot, right=target, on=['Quarter', 'Store'], how='inner')\n",
    "\n",
    "# Calculate the Variance between each Store's Quarterly actual sales and the target. Call this field 'Variance to Target'\n",
    "output['Variance to Target'] = output['Products_Sold'] - output['Target']\n",
    "\n",
    "# Rank the Store's based on the Variance to Target in each quarter\n",
    "output['Rank'] = output.groupby('Quarter')['Variance to Target'].rank(method='dense', ascending=False)\n",
    "\n",
    "print(output.head(5))\n",
    "print(output.info())"
   ]
  }
 ],
 "metadata": {
  "kernelspec": {
   "display_name": "Python 3",
   "language": "python",
   "name": "python3"
  },
  "language_info": {
   "codemirror_mode": {
    "name": "ipython",
    "version": 3
   },
   "file_extension": ".py",
   "mimetype": "text/x-python",
   "name": "python",
   "nbconvert_exporter": "python",
   "pygments_lexer": "ipython3",
   "version": "3.10.0"
  },
  "orig_nbformat": 4
 },
 "nbformat": 4,
 "nbformat_minor": 2
}

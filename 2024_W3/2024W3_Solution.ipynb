{
 "cells": [
  {
   "cell_type": "code",
   "execution_count": 320,
   "metadata": {},
   "outputs": [],
   "source": [
    "import pandas as pd\n",
    "import numpy as np"
   ]
  },
  {
   "cell_type": "code",
   "execution_count": 321,
   "metadata": {},
   "outputs": [
    {
     "name": "stdout",
     "output_type": "stream",
     "text": [
      "            Date Flight Number      From        To            Class   Price  \\\n",
      "0     22/07/2024         PA010     Tokyo  New York          Economy  2380.0   \n",
      "1     20/04/2024         PA002  New York    London          Economy  3490.0   \n",
      "2     23/01/2024         PA010     Tokyo  New York  Premium Economy   825.0   \n",
      "3     05/06/2024         PA006     Tokyo    London      First Class   618.0   \n",
      "4     30/03/2024         PA004     Perth    London      First Class   446.0   \n",
      "...          ...           ...       ...       ...              ...     ...   \n",
      "1878  23/11/2024         PA005    London     Tokyo          Economy  2070.0   \n",
      "1879  04/11/2024         PA003    London     Perth      First Class   210.0   \n",
      "1880  29/04/2024         PA012     Tokyo     Perth          Economy  3490.0   \n",
      "1881  26/09/2024         PA001    London  New York      First Class   207.0   \n",
      "1882  06/01/2024         PA004     Perth    London      First Class   236.0   \n",
      "\n",
      "     Flow Card?  Bags Checked   Meal Type  \n",
      "0           Yes             0    Egg Free  \n",
      "1           Yes             1       Vegan  \n",
      "2           Yes             1  Vegetarian  \n",
      "3           Yes             3       Vegan  \n",
      "4           Yes             1    Nut Free  \n",
      "...         ...           ...         ...  \n",
      "1878        Yes             2    Egg Free  \n",
      "1879        Yes             3    Nut Free  \n",
      "1880        Yes             0  Dairy Free  \n",
      "1881        Yes             2  Vegetarian  \n",
      "1882        Yes             1    Nut Free  \n",
      "\n",
      "[1883 rows x 9 columns]\n"
     ]
    }
   ],
   "source": [
    "# Read the CSV and Excel files\n",
    "df = pd.read_csv('PD 2024 Wk 1 Output Flow Card.csv')\n",
    "\n",
    "# Display the first few rows of each dataframe\n",
    "print(df)"
   ]
  },
  {
   "cell_type": "code",
   "execution_count": 322,
   "metadata": {},
   "outputs": [
    {
     "name": "stdout",
     "output_type": "stream",
     "text": [
      "            Date Flight Number      From        To            Class   Price  \\\n",
      "0     28/09/2024         PA008     Perth  New York          Economy  1855.0   \n",
      "1     01/10/2024         PA008     Perth  New York   Business Class   634.8   \n",
      "2     04/03/2024         PA007  New York     Perth   Business Class   458.4   \n",
      "3     25/02/2024         PA010     Tokyo  New York  Premium Economy  1435.0   \n",
      "4     29/03/2024         PA004     Perth    London          Economy  2730.0   \n",
      "...          ...           ...       ...       ...              ...     ...   \n",
      "1890  06/03/2024         PA006     Tokyo    London  Premium Economy   940.0   \n",
      "1891  05/05/2024         PA009  New York     Tokyo          Economy  1360.0   \n",
      "1892  14/06/2024         PA008     Perth  New York      First Class   245.0   \n",
      "1893  16/01/2024         PA010     Tokyo  New York          Economy  2410.0   \n",
      "1894  16/08/2024         PA005    London     Tokyo  Premium Economy   960.0   \n",
      "\n",
      "     Flow Card?  Bags Checked   Meal Type  \n",
      "0            No             2  Vegetarian  \n",
      "1            No             0  Vegetarian  \n",
      "2            No             3    Nut Free  \n",
      "3            No             0         NaN  \n",
      "4            No             2       Vegan  \n",
      "...         ...           ...         ...  \n",
      "1890         No             2  Vegetarian  \n",
      "1891         No             3    Nut Free  \n",
      "1892         No             1  Dairy Free  \n",
      "1893         No             2    Egg Free  \n",
      "1894         No             0    Nut Free  \n",
      "\n",
      "[1895 rows x 9 columns]\n"
     ]
    }
   ],
   "source": [
    "df2 = pd.read_csv('PD 2024 Wk 1 Output Non-Flow Card.csv')\n",
    "print(df2)\n"
   ]
  },
  {
   "cell_type": "code",
   "execution_count": 323,
   "metadata": {},
   "outputs": [
    {
     "name": "stdout",
     "output_type": "stream",
     "text": [
      "['Q1', 'Q2', 'Q3', 'Q4']\n"
     ]
    }
   ],
   "source": [
    "# Load the Excel file\n",
    "excel_file = pd.ExcelFile('PD 2024 Wk 3 Input.xlsx')\n",
    "\n",
    "# Display the sheet names\n",
    "print(excel_file.sheet_names)"
   ]
  },
  {
   "cell_type": "code",
   "execution_count": 324,
   "metadata": {},
   "outputs": [
    {
     "name": "stdout",
     "output_type": "stream",
     "text": [
      "   Month Class  Target\n",
      "0      1    FC  120000\n",
      "1      2    FC  130000\n",
      "2      3    FC  140000\n",
      "3      1    BC   85000\n",
      "4      2    BC   86000\n",
      "   Month Class  Target\n",
      "0      4    FC  160000\n",
      "1      5    FC  170000\n",
      "2      6    FC  180000\n",
      "3      4    BC   88000\n",
      "4      5    BC   89000\n",
      "   Month Class  Target\n",
      "0      7    FC  190000\n",
      "1      8    FC  200000\n",
      "2      9    FC  210000\n",
      "3      7    BC   92000\n",
      "4      8    BC   93000\n",
      "   Month Class  Target\n",
      "0     10    FC  220000\n",
      "1     11    FC  230000\n",
      "2     12    FC  240000\n",
      "3     10    BC   98000\n",
      "4     11    BC   99000\n"
     ]
    }
   ],
   "source": [
    "# Read the sheets from the Excel file\n",
    "df3 = pd.read_excel('PD 2024 Wk 3 Input.xlsx', sheet_name='Q1')\n",
    "df4 = pd.read_excel('PD 2024 Wk 3 Input.xlsx', sheet_name='Q2')\n",
    "df5 = pd.read_excel('PD 2024 Wk 3 Input.xlsx', sheet_name='Q3')\n",
    "df6 = pd.read_excel('PD 2024 Wk 3 Input.xlsx', sheet_name='Q4')\n",
    "\n",
    "# Display the first few rows of each dataframe\n",
    "print(df3.head())\n",
    "print(df4.head())\n",
    "print(df5.head())\n",
    "print(df6.head())"
   ]
  },
  {
   "cell_type": "code",
   "execution_count": 325,
   "metadata": {},
   "outputs": [
    {
     "name": "stdout",
     "output_type": "stream",
     "text": [
      "    Month Class  Target\n",
      "0       1    FC  120000\n",
      "1       2    FC  130000\n",
      "2       3    FC  140000\n",
      "3       1    BC   85000\n",
      "4       2    BC   86000\n",
      "5       3    BC   87000\n",
      "6       1    PE   40000\n",
      "7       2    PE   40500\n",
      "8       3    PE   41000\n",
      "9       1     E   31000\n",
      "10      2     E   31500\n",
      "11      3     E   32000\n",
      "12      4    FC  160000\n",
      "13      5    FC  170000\n",
      "14      6    FC  180000\n",
      "15      4    BC   88000\n",
      "16      5    BC   89000\n",
      "17      6    BC   90000\n",
      "18      4    PE   42500\n",
      "19      5    PE   43000\n",
      "20      6    PE   43500\n",
      "21      4     E   34000\n",
      "22      5     E   34500\n",
      "23      6     E   35000\n",
      "24      7    FC  190000\n",
      "25      8    FC  200000\n",
      "26      9    FC  210000\n",
      "27      7    BC   92000\n",
      "28      8    BC   93000\n",
      "29      9    BC   95000\n",
      "30      7    PE   46000\n",
      "31      8    PE   46500\n",
      "32      9    PE   47000\n",
      "33      7     E   37000\n",
      "34      8     E   37500\n",
      "35      9     E   38000\n",
      "36     10    FC  220000\n",
      "37     11    FC  230000\n",
      "38     12    FC  240000\n",
      "39     10    BC   98000\n",
      "40     11    BC   99000\n",
      "41     12    BC  100000\n",
      "42     10    PE   48000\n",
      "43     11    PE   48500\n",
      "44     12    PE   49000\n",
      "45     10     E   39000\n",
      "46     11     E   39500\n",
      "47     12     E   40000\n"
     ]
    }
   ],
   "source": [
    "df3 = pd.concat([df3, df4, df5, df6], ignore_index=True)\n",
    "print(df3)"
   ]
  },
  {
   "cell_type": "code",
   "execution_count": 326,
   "metadata": {},
   "outputs": [
    {
     "name": "stdout",
     "output_type": "stream",
     "text": [
      "      Date Flight Number      From        To Class   Price Flow Card?  \\\n",
      "0        7         PA010     Tokyo  New York     F  2380.0        Yes   \n",
      "1        4         PA002  New York    London     F  3490.0        Yes   \n",
      "2        1         PA010     Tokyo  New York     B   825.0        Yes   \n",
      "3        6         PA006     Tokyo    London     E   618.0        Yes   \n",
      "4        3         PA004     Perth    London     E   446.0        Yes   \n",
      "...    ...           ...       ...       ...   ...     ...        ...   \n",
      "3773     3         PA006     Tokyo    London     B   940.0         No   \n",
      "3774     5         PA009  New York     Tokyo     F  1360.0         No   \n",
      "3775     6         PA008     Perth  New York     E   245.0         No   \n",
      "3776     1         PA010     Tokyo  New York     F  2410.0         No   \n",
      "3777     8         PA005    London     Tokyo     B   960.0         No   \n",
      "\n",
      "      Bags Checked   Meal Type  \n",
      "0                0    Egg Free  \n",
      "1                1       Vegan  \n",
      "2                1  Vegetarian  \n",
      "3                3       Vegan  \n",
      "4                1    Nut Free  \n",
      "...            ...         ...  \n",
      "3773             2  Vegetarian  \n",
      "3774             3    Nut Free  \n",
      "3775             1  Dairy Free  \n",
      "3776             2    Egg Free  \n",
      "3777             0    Nut Free  \n",
      "\n",
      "[3778 rows x 9 columns]\n"
     ]
    }
   ],
   "source": [
    "df = pd.concat([df, df2], ignore_index=True)\n",
    "print(df_union)"
   ]
  },
  {
   "cell_type": "code",
   "execution_count": 327,
   "metadata": {
    "vscode": {
     "languageId": "javascript"
    }
   },
   "outputs": [
    {
     "name": "stdout",
     "output_type": "stream",
     "text": [
      "            Date Flight Number      From        To           Class   Price  \\\n",
      "0     22/07/2024         PA010     Tokyo  New York     First Class  2380.0   \n",
      "1     20/04/2024         PA002  New York    London     First Class  3490.0   \n",
      "2     23/01/2024         PA010     Tokyo  New York  Business Class   825.0   \n",
      "3     05/06/2024         PA006     Tokyo    London         Economy   618.0   \n",
      "4     30/03/2024         PA004     Perth    London         Economy   446.0   \n",
      "...          ...           ...       ...       ...             ...     ...   \n",
      "3773  06/03/2024         PA006     Tokyo    London  Business Class   940.0   \n",
      "3774  05/05/2024         PA009  New York     Tokyo     First Class  1360.0   \n",
      "3775  14/06/2024         PA008     Perth  New York         Economy   245.0   \n",
      "3776  16/01/2024         PA010     Tokyo  New York     First Class  2410.0   \n",
      "3777  16/08/2024         PA005    London     Tokyo  Business Class   960.0   \n",
      "\n",
      "     Flow Card?  Bags Checked   Meal Type  \n",
      "0           Yes             0    Egg Free  \n",
      "1           Yes             1       Vegan  \n",
      "2           Yes             1  Vegetarian  \n",
      "3           Yes             3       Vegan  \n",
      "4           Yes             1    Nut Free  \n",
      "...         ...           ...         ...  \n",
      "3773         No             2  Vegetarian  \n",
      "3774         No             3    Nut Free  \n",
      "3775         No             1  Dairy Free  \n",
      "3776         No             2    Egg Free  \n",
      "3777         No             0    Nut Free  \n",
      "\n",
      "[3778 rows x 9 columns]\n"
     ]
    }
   ],
   "source": [
    "df['Class'] = df['Class'].replace({\n",
    "    'Economy': 'First Class',\n",
    "    'First Class': 'Economy',\n",
    "    'Business Class': 'Premium Economy',\n",
    "    'Premium Economy': 'Business Class'\n",
    "})\n",
    "print(df)"
   ]
  },
  {
   "cell_type": "code",
   "execution_count": 328,
   "metadata": {},
   "outputs": [
    {
     "name": "stdout",
     "output_type": "stream",
     "text": [
      "            Date Flight Number      From        To Class   Price Flow Card?  \\\n",
      "0     22/07/2024         PA010     Tokyo  New York    FC  2380.0        Yes   \n",
      "1     20/04/2024         PA002  New York    London    FC  3490.0        Yes   \n",
      "2     23/01/2024         PA010     Tokyo  New York    BC   825.0        Yes   \n",
      "3     05/06/2024         PA006     Tokyo    London     E   618.0        Yes   \n",
      "4     30/03/2024         PA004     Perth    London     E   446.0        Yes   \n",
      "...          ...           ...       ...       ...   ...     ...        ...   \n",
      "3773  06/03/2024         PA006     Tokyo    London    BC   940.0         No   \n",
      "3774  05/05/2024         PA009  New York     Tokyo    FC  1360.0         No   \n",
      "3775  14/06/2024         PA008     Perth  New York     E   245.0         No   \n",
      "3776  16/01/2024         PA010     Tokyo  New York    FC  2410.0         No   \n",
      "3777  16/08/2024         PA005    London     Tokyo    BC   960.0         No   \n",
      "\n",
      "      Bags Checked   Meal Type  \n",
      "0                0    Egg Free  \n",
      "1                1       Vegan  \n",
      "2                1  Vegetarian  \n",
      "3                3       Vegan  \n",
      "4                1    Nut Free  \n",
      "...            ...         ...  \n",
      "3773             2  Vegetarian  \n",
      "3774             3    Nut Free  \n",
      "3775             1  Dairy Free  \n",
      "3776             2    Egg Free  \n",
      "3777             0    Nut Free  \n",
      "\n",
      "[3778 rows x 9 columns]\n"
     ]
    }
   ],
   "source": [
    "df['Class'] = df['Class'].apply(lambda x: ''.join([word[0] for word in x.split()]))\n",
    "print(df)"
   ]
  },
  {
   "cell_type": "code",
   "execution_count": 329,
   "metadata": {},
   "outputs": [
    {
     "name": "stdout",
     "output_type": "stream",
     "text": [
      "      Date Flight Number      From        To Class   Price Flow Card?  \\\n",
      "0        7         PA010     Tokyo  New York    FC  2380.0        Yes   \n",
      "1        4         PA002  New York    London    FC  3490.0        Yes   \n",
      "2        1         PA010     Tokyo  New York    BC   825.0        Yes   \n",
      "3        6         PA006     Tokyo    London     E   618.0        Yes   \n",
      "4        3         PA004     Perth    London     E   446.0        Yes   \n",
      "...    ...           ...       ...       ...   ...     ...        ...   \n",
      "3773     3         PA006     Tokyo    London    BC   940.0         No   \n",
      "3774     5         PA009  New York     Tokyo    FC  1360.0         No   \n",
      "3775     6         PA008     Perth  New York     E   245.0         No   \n",
      "3776     1         PA010     Tokyo  New York    FC  2410.0         No   \n",
      "3777     8         PA005    London     Tokyo    BC   960.0         No   \n",
      "\n",
      "      Bags Checked   Meal Type  \n",
      "0                0    Egg Free  \n",
      "1                1       Vegan  \n",
      "2                1  Vegetarian  \n",
      "3                3       Vegan  \n",
      "4                1    Nut Free  \n",
      "...            ...         ...  \n",
      "3773             2  Vegetarian  \n",
      "3774             3    Nut Free  \n",
      "3775             1  Dairy Free  \n",
      "3776             2    Egg Free  \n",
      "3777             0    Nut Free  \n",
      "\n",
      "[3778 rows x 9 columns]\n"
     ]
    }
   ],
   "source": [
    "df['Date'] = pd.to_datetime(df['Date'], format='%d/%m/%Y').dt.month\n",
    "print(df)"
   ]
  },
  {
   "cell_type": "code",
   "execution_count": 330,
   "metadata": {},
   "outputs": [
    {
     "name": "stdout",
     "output_type": "stream",
     "text": [
      "   Class  Date     Price\n",
      "0     BC     1   67297.5\n",
      "1     BC     2   69222.5\n",
      "2     BC     3   84357.5\n",
      "3     BC     4   81522.5\n",
      "4     BC     5   85065.0\n",
      "5     BC     6   85735.0\n",
      "6     BC     7   97490.0\n",
      "7     BC     8  106852.5\n",
      "8     BC     9   87590.0\n",
      "9     BC    10   94135.0\n",
      "10    BC    11   85970.0\n",
      "11    BC    12  100485.0\n",
      "12     E     1   36081.0\n",
      "13     E     2   30968.0\n",
      "14     E     3   31829.0\n",
      "15     E     4   31333.0\n",
      "16     E     5   42898.0\n",
      "17     E     6   31440.0\n",
      "18     E     7   38941.0\n",
      "19     E     8   32820.0\n",
      "20     E     9   27724.0\n",
      "21     E    10   32500.0\n",
      "22     E    11   34023.0\n",
      "23     E    12   43588.0\n",
      "24    FC     1  193960.0\n",
      "25    FC     2  145665.0\n",
      "26    FC     3  152315.0\n",
      "27    FC     4  224415.0\n",
      "28    FC     5  171610.0\n",
      "29    FC     6  149725.0\n",
      "30    FC     7  172425.0\n",
      "31    FC     8  209625.0\n",
      "32    FC     9  200960.0\n",
      "33    FC    10  186185.0\n",
      "34    FC    11  154595.0\n",
      "35    FC    12  188015.0\n",
      "36    PE     1   48555.6\n",
      "37    PE     2   46335.6\n",
      "38    PE     3   47875.2\n",
      "39    PE     4   38233.2\n",
      "40    PE     5   43833.6\n",
      "41    PE     6   46538.4\n",
      "42    PE     7   40258.8\n",
      "43    PE     8   41468.4\n",
      "44    PE     9   42054.0\n",
      "45    PE    10   43689.6\n",
      "46    PE    11   39372.0\n",
      "47    PE    12   45348.0\n"
     ]
    }
   ],
   "source": [
    "total_price = df.groupby(['Class', 'Date'])['Price'].sum().reset_index()\n",
    "print(total_price)"
   ]
  },
  {
   "cell_type": "code",
   "execution_count": 331,
   "metadata": {},
   "outputs": [
    {
     "name": "stdout",
     "output_type": "stream",
     "text": [
      "    Month Class  Target  Date     Price\n",
      "0       1    FC  120000     1  193960.0\n",
      "1       2    FC  130000     2  145665.0\n",
      "2       3    FC  140000     3  152315.0\n",
      "3       1    BC   85000     1   67297.5\n",
      "4       2    BC   86000     2   69222.5\n",
      "5       3    BC   87000     3   84357.5\n",
      "6       1    PE   40000     1   48555.6\n",
      "7       2    PE   40500     2   46335.6\n",
      "8       3    PE   41000     3   47875.2\n",
      "9       1     E   31000     1   36081.0\n",
      "10      2     E   31500     2   30968.0\n",
      "11      3     E   32000     3   31829.0\n",
      "12      4    FC  160000     4  224415.0\n",
      "13      5    FC  170000     5  171610.0\n",
      "14      6    FC  180000     6  149725.0\n",
      "15      4    BC   88000     4   81522.5\n",
      "16      5    BC   89000     5   85065.0\n",
      "17      6    BC   90000     6   85735.0\n",
      "18      4    PE   42500     4   38233.2\n",
      "19      5    PE   43000     5   43833.6\n",
      "20      6    PE   43500     6   46538.4\n",
      "21      4     E   34000     4   31333.0\n",
      "22      5     E   34500     5   42898.0\n",
      "23      6     E   35000     6   31440.0\n",
      "24      7    FC  190000     7  172425.0\n",
      "25      8    FC  200000     8  209625.0\n",
      "26      9    FC  210000     9  200960.0\n",
      "27      7    BC   92000     7   97490.0\n",
      "28      8    BC   93000     8  106852.5\n",
      "29      9    BC   95000     9   87590.0\n",
      "30      7    PE   46000     7   40258.8\n",
      "31      8    PE   46500     8   41468.4\n",
      "32      9    PE   47000     9   42054.0\n",
      "33      7     E   37000     7   38941.0\n",
      "34      8     E   37500     8   32820.0\n",
      "35      9     E   38000     9   27724.0\n",
      "36     10    FC  220000    10  186185.0\n",
      "37     11    FC  230000    11  154595.0\n",
      "38     12    FC  240000    12  188015.0\n",
      "39     10    BC   98000    10   94135.0\n",
      "40     11    BC   99000    11   85970.0\n",
      "41     12    BC  100000    12  100485.0\n",
      "42     10    PE   48000    10   43689.6\n",
      "43     11    PE   48500    11   39372.0\n",
      "44     12    PE   49000    12   45348.0\n",
      "45     10     E   39000    10   32500.0\n",
      "46     11     E   39500    11   34023.0\n",
      "47     12     E   40000    12   43588.0\n"
     ]
    }
   ],
   "source": [
    "output = pd.merge(df3, total_price, left_on=['Class', 'Month'], right_on=['Class', 'Date'])\n",
    "print(output)"
   ]
  },
  {
   "cell_type": "code",
   "execution_count": 332,
   "metadata": {},
   "outputs": [
    {
     "name": "stdout",
     "output_type": "stream",
     "text": [
      "    Month Class  Target  Date     Price  Difference from Target\n",
      "0       1    FC  120000     1  193960.0                 73960.0\n",
      "1       2    FC  130000     2  145665.0                 15665.0\n",
      "2       3    FC  140000     3  152315.0                 12315.0\n",
      "3       1    BC   85000     1   67297.5                -17702.5\n",
      "4       2    BC   86000     2   69222.5                -16777.5\n",
      "5       3    BC   87000     3   84357.5                 -2642.5\n",
      "6       1    PE   40000     1   48555.6                  8555.6\n",
      "7       2    PE   40500     2   46335.6                  5835.6\n",
      "8       3    PE   41000     3   47875.2                  6875.2\n",
      "9       1     E   31000     1   36081.0                  5081.0\n",
      "10      2     E   31500     2   30968.0                  -532.0\n",
      "11      3     E   32000     3   31829.0                  -171.0\n",
      "12      4    FC  160000     4  224415.0                 64415.0\n",
      "13      5    FC  170000     5  171610.0                  1610.0\n",
      "14      6    FC  180000     6  149725.0                -30275.0\n",
      "15      4    BC   88000     4   81522.5                 -6477.5\n",
      "16      5    BC   89000     5   85065.0                 -3935.0\n",
      "17      6    BC   90000     6   85735.0                 -4265.0\n",
      "18      4    PE   42500     4   38233.2                 -4266.8\n",
      "19      5    PE   43000     5   43833.6                   833.6\n",
      "20      6    PE   43500     6   46538.4                  3038.4\n",
      "21      4     E   34000     4   31333.0                 -2667.0\n",
      "22      5     E   34500     5   42898.0                  8398.0\n",
      "23      6     E   35000     6   31440.0                 -3560.0\n",
      "24      7    FC  190000     7  172425.0                -17575.0\n",
      "25      8    FC  200000     8  209625.0                  9625.0\n",
      "26      9    FC  210000     9  200960.0                 -9040.0\n",
      "27      7    BC   92000     7   97490.0                  5490.0\n",
      "28      8    BC   93000     8  106852.5                 13852.5\n",
      "29      9    BC   95000     9   87590.0                 -7410.0\n",
      "30      7    PE   46000     7   40258.8                 -5741.2\n",
      "31      8    PE   46500     8   41468.4                 -5031.6\n",
      "32      9    PE   47000     9   42054.0                 -4946.0\n",
      "33      7     E   37000     7   38941.0                  1941.0\n",
      "34      8     E   37500     8   32820.0                 -4680.0\n",
      "35      9     E   38000     9   27724.0                -10276.0\n",
      "36     10    FC  220000    10  186185.0                -33815.0\n",
      "37     11    FC  230000    11  154595.0                -75405.0\n",
      "38     12    FC  240000    12  188015.0                -51985.0\n",
      "39     10    BC   98000    10   94135.0                 -3865.0\n",
      "40     11    BC   99000    11   85970.0                -13030.0\n",
      "41     12    BC  100000    12  100485.0                   485.0\n",
      "42     10    PE   48000    10   43689.6                 -4310.4\n",
      "43     11    PE   48500    11   39372.0                 -9128.0\n",
      "44     12    PE   49000    12   45348.0                 -3652.0\n",
      "45     10     E   39000    10   32500.0                 -6500.0\n",
      "46     11     E   39500    11   34023.0                 -5477.0\n",
      "47     12     E   40000    12   43588.0                  3588.0\n"
     ]
    }
   ],
   "source": [
    "output['Difference from Target'] = output['Price'] - output['Target']\n",
    "print(output)"
   ]
  }
 ],
 "metadata": {
  "kernelspec": {
   "display_name": "Python 3",
   "language": "python",
   "name": "python3"
  },
  "language_info": {
   "codemirror_mode": {
    "name": "ipython",
    "version": 3
   },
   "file_extension": ".py",
   "mimetype": "text/x-python",
   "name": "python",
   "nbconvert_exporter": "python",
   "pygments_lexer": "ipython3",
   "version": "3.13.1"
  }
 },
 "nbformat": 4,
 "nbformat_minor": 2
}

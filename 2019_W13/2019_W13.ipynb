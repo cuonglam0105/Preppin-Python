{
 "cells": [
  {
   "attachments": {},
   "cell_type": "markdown",
   "metadata": {},
   "source": [
    "# 2019: Week 13\n",
    "\n",
    "May 08, 2019\n",
    "\n",
    "This week, we are looking at a common challenge in customer analytics - the summary table. For new and intermediate analysts, the challenge of connecting to massive data sets and using all the data points is all too tempting. However, complexity and software performance maybe hit due to trying to work out complex calculations or rendering vast numbers of data points. After all, 'Big Data', which means a lot of things to a lot of different people, encompassed this challenge among many others.\n",
    "\n",
    "In Financial Services, the regular flow of transactions is a wonderful data source for analysis but is also a challenge. To create more simplistic snapshots of behaviour (often around balances), balances would be averaged over a time period. But what level do you need a customer's balance aggregated to? This is the challenge we will explore but for our favourite soap company, Chin & Beard Suds co.\n",
    "\n",
    "Using three different company's data who buy our products, we are looking at the balance of credit that they hold with us. As any business owner will know, 'cashflow is king' and therefore, we only provide supplies to those who hold a positive balance with us at the start of the month. But are these companies 'gaming' our system? We want to know:\n",
    "\n",
    "* What is the average weekly, monthly and quarterly balance?\n",
    "* What is the average weekly, monthly and quarterly transaction value?\n",
    "* How many days does the customer have a negative balance?\n",
    "* How many days does the customer exceed their credit limit? (credit limit is a positive number in the input but needs to be made negative as it how much we allow the customer to owe us)\n",
    "\n",
    "# Requirements\n",
    "\n",
    "<img src=\"https://1.bp.blogspot.com/-nSaKCQrGi4w/XNL8otdr-ZI/AAAAAAAAAOU/i9Pt7fSR9PsEVooSH9aSHrQiaa8oEZ7JACLcBGAs/s320/Input%2BCustomer%2BLookup.JPG\" width=\"700\" height=\"200\">\n",
    "\n",
    "Input of Customer Details\n",
    "\n",
    "<img src=\"https://3.bp.blogspot.com/-x3-23t6xYYs/XNL8ouA64oI/AAAAAAAAAOQ/jsvAlfskma8UAgOpLqb5l3q2gwqY5zdawCLcBGAs/s320/Input%2BTransactions.JPG\" width=\"700\" height=\"300\">\n",
    "\n",
    "Input of Transactions\n",
    "\n",
    "* Input data\n",
    "* Create an average (mean) for balance to two decimal places and average (mean) for transactions per customer to no decimal places, per time period\n",
    "* Each row will be a customer per time period \n",
    "* Date recorded will be the beginning of that time period (ie first day in the week for the weekly table)\n",
    "* Bring in the customer name\n",
    "* Determine the number of days a customer's balance is below zero\n",
    "* Determine the number of days a customer's balance is below their credit limit (ie have gone beyond our allowance).  \n",
    "\n",
    "\n",
    "# Output\n",
    "\n",
    "Weekly\n",
    "\n",
    "<img src=\"https://3.bp.blogspot.com/-0OTlGnvSPaY/XNMEFvJEs7I/AAAAAAAAAOs/imijzJkF8XghIQJ0cptwyYHDptm5lOrowCLcBGAs/s320/Weekly%2BOutput.JPG\">\n",
    "\n",
    "Monthly\n",
    "\n",
    "<img src=\"https://4.bp.blogspot.com/-F6I-673Ls84/XNMEFlEUV8I/AAAAAAAAAOo/iC-OL0JMfG0uYJgeXFLVRivAAA8GU34fACEwYBhgL/s320/Monthly%2BOutput.JPG\">\n",
    "\n",
    "Quarterly\n",
    "\n",
    "<img src=\"https://2.bp.blogspot.com/-RxyzzT97Q44/XNMEFhn4YGI/AAAAAAAAAOw/Wrl5k1eT6j4XvR30wMWbeI0Av2ZS0FZMQCEwYBhgL/s320/Quarterly%2BOutput.JPG\">\n",
    "\n",
    "3 Output files: weekly, monthly, quarterly\n",
    "Outputs (excluding headers in counts):\n",
    "* Weekly: 81 rows, 8 columns\n",
    "* Monthly: 18 rows, 8 columns\n",
    "* Quarterly: 6 rows, 8 columns"
   ]
  },
  {
   "cell_type": "code",
   "execution_count": 22,
   "metadata": {},
   "outputs": [],
   "source": [
    "import pandas as pd\n",
    "from datetime import timedelta"
   ]
  },
  {
   "cell_type": "code",
   "execution_count": 23,
   "metadata": {},
   "outputs": [
    {
     "name": "stdout",
     "output_type": "stream",
     "text": [
      "   Account       Date  Transaction   Balance\n",
      "0  1237421 2019-01-01        578.0  100000.0\n",
      "1  1237421 2019-01-02        198.0   99422.0\n",
      "2  1237421 2019-01-03       1806.0   99224.0\n",
      "3  1237421 2019-01-04        144.0   97418.0\n",
      "4  1237421 2019-01-05       2240.0   97274.0\n",
      "<class 'pandas.core.frame.DataFrame'>\n",
      "RangeIndex: 543 entries, 0 to 542\n",
      "Data columns (total 4 columns):\n",
      " #   Column       Non-Null Count  Dtype         \n",
      "---  ------       --------------  -----         \n",
      " 0   Account      543 non-null    int32         \n",
      " 1   Date         543 non-null    datetime64[ns]\n",
      " 2   Transaction  543 non-null    float64       \n",
      " 3   Balance      543 non-null    float64       \n",
      "dtypes: datetime64[ns](1), float64(2), int32(1)\n",
      "memory usage: 15.0 KB\n",
      "None\n",
      "=================================\n",
      "      Account                 Name  Max Credit\n",
      "0   1237421.0  Bubbly McBubbleface       10000\n",
      "1   4271819.0          Bubblicious       30000\n",
      "2  12371202.0          Bubbleburst        5000\n",
      "<class 'pandas.core.frame.DataFrame'>\n",
      "RangeIndex: 3 entries, 0 to 2\n",
      "Data columns (total 3 columns):\n",
      " #   Column      Non-Null Count  Dtype  \n",
      "---  ------      --------------  -----  \n",
      " 0   Account     3 non-null      float64\n",
      " 1   Name        3 non-null      object \n",
      " 2   Max Credit  3 non-null      int32  \n",
      "dtypes: float64(1), int32(1), object(1)\n",
      "memory usage: 188.0+ bytes\n",
      "None\n"
     ]
    }
   ],
   "source": [
    "input = 'input.xlsx'\n",
    "df1 = pd.read_excel(input, sheet_name='Transactions')\n",
    "df2 = pd.read_excel(input, sheet_name='Customer Look-up')\n",
    "\n",
    "# Định dạng lại data type\n",
    "df1['Account'] = df1['Account'].astype(int)\n",
    "df2['Max Credit'] = df2['Max Credit'].astype(int)\n",
    "print(df1.head(5))\n",
    "print(df1.info())\n",
    "print(\"=================================\")\n",
    "print(df2.head(5))\n",
    "print(df2.info())"
   ]
  },
  {
   "cell_type": "code",
   "execution_count": 24,
   "metadata": {},
   "outputs": [
    {
     "name": "stdout",
     "output_type": "stream",
     "text": [
      "   Account       Date  Transaction   Balance     Sunday  week  month  quarter\n",
      "0  1237421 2019-01-01        578.0  100000.0 2019-01-02     1      1        1\n",
      "1  1237421 2019-01-02        198.0   99422.0 2019-01-03     1      1        1\n",
      "2  1237421 2019-01-03       1806.0   99224.0 2019-01-04     1      1        1\n",
      "3  1237421 2019-01-04        144.0   97418.0 2019-01-05     1      1        1\n",
      "4  1237421 2019-01-05       2240.0   97274.0 2019-01-06     1      1        1\n",
      "<class 'pandas.core.frame.DataFrame'>\n",
      "RangeIndex: 543 entries, 0 to 542\n",
      "Data columns (total 8 columns):\n",
      " #   Column       Non-Null Count  Dtype         \n",
      "---  ------       --------------  -----         \n",
      " 0   Account      543 non-null    int32         \n",
      " 1   Date         543 non-null    datetime64[ns]\n",
      " 2   Transaction  543 non-null    float64       \n",
      " 3   Balance      543 non-null    float64       \n",
      " 4   Sunday       543 non-null    datetime64[ns]\n",
      " 5   week         543 non-null    UInt32        \n",
      " 6   month        543 non-null    int64         \n",
      " 7   quarter      543 non-null    int64         \n",
      "dtypes: UInt32(1), datetime64[ns](2), float64(2), int32(1), int64(2)\n",
      "memory usage: 30.4 KB\n",
      "None\n"
     ]
    }
   ],
   "source": [
    "# Tạo cột Week, Month, Quarter với điều kiện coi Sunday là ngày đầu tuần\n",
    "df1['Sunday'] = df1['Date'] + pd.offsets.Day(1)\n",
    "df1['week'] = df1['Sunday'].dt.isocalendar().week\n",
    "df1['month'] = df1['Date'].dt.month\n",
    "df1['quarter'] = df1['Date'].dt.quarter\n",
    "print(df1.head(5))\n",
    "print(df1.info())"
   ]
  },
  {
   "cell_type": "code",
   "execution_count": 25,
   "metadata": {},
   "outputs": [
    {
     "name": "stdout",
     "output_type": "stream",
     "text": [
      "   Account       Date  Transaction   Balance     Sunday  week  month  quarter  \\\n",
      "0  1237421 2019-01-01        578.0  100000.0 2019-01-02     1      1        1   \n",
      "1  1237421 2019-01-02        198.0   99422.0 2019-01-03     1      1        1   \n",
      "2  1237421 2019-01-03       1806.0   99224.0 2019-01-04     1      1        1   \n",
      "3  1237421 2019-01-04        144.0   97418.0 2019-01-05     1      1        1   \n",
      "4  1237421 2019-01-05       2240.0   97274.0 2019-01-06     1      1        1   \n",
      "\n",
      "                  Name  Max Credit  Negative_balance_?  Exceed_limit_?  \n",
      "0  Bubbly McBubbleface       10000                   0               0  \n",
      "1  Bubbly McBubbleface       10000                   0               0  \n",
      "2  Bubbly McBubbleface       10000                   0               0  \n",
      "3  Bubbly McBubbleface       10000                   0               0  \n",
      "4  Bubbly McBubbleface       10000                   0               0  \n",
      "<class 'pandas.core.frame.DataFrame'>\n",
      "Int64Index: 543 entries, 0 to 542\n",
      "Data columns (total 12 columns):\n",
      " #   Column              Non-Null Count  Dtype         \n",
      "---  ------              --------------  -----         \n",
      " 0   Account             543 non-null    int32         \n",
      " 1   Date                543 non-null    datetime64[ns]\n",
      " 2   Transaction         543 non-null    float64       \n",
      " 3   Balance             543 non-null    float64       \n",
      " 4   Sunday              543 non-null    datetime64[ns]\n",
      " 5   week                543 non-null    UInt32        \n",
      " 6   month               543 non-null    int64         \n",
      " 7   quarter             543 non-null    int64         \n",
      " 8   Name                543 non-null    object        \n",
      " 9   Max Credit          543 non-null    int32         \n",
      " 10  Negative_balance_?  543 non-null    int64         \n",
      " 11  Exceed_limit_?      543 non-null    int64         \n",
      "dtypes: UInt32(1), datetime64[ns](2), float64(2), int32(2), int64(4), object(1)\n",
      "memory usage: 49.3+ KB\n",
      "None\n"
     ]
    }
   ],
   "source": [
    "# Join lấy tên Account\n",
    "df3 = df1.merge(df2, on='Account')\n",
    "df3['Negative_balance_?'] = df3.apply(lambda row: 1 if row['Balance'] < 0 else 0, axis=1)\n",
    "df3['Exceed_limit_?'] = df3.apply(lambda row: 1 if row['Balance'] + row['Max Credit'] < 0 else 0, axis=1)\n",
    "print(df3.head(5))\n",
    "print(df3.info())"
   ]
  },
  {
   "cell_type": "code",
   "execution_count": 26,
   "metadata": {},
   "outputs": [
    {
     "name": "stdout",
     "output_type": "stream",
     "text": [
      "   Account                 Name  week       Date  Days Below Zero Balance  \\\n",
      "0  1237421  Bubbly McBubbleface     1 2019-01-01                        0   \n",
      "1  1237421  Bubbly McBubbleface     2 2019-01-06                        0   \n",
      "2  1237421  Bubbly McBubbleface     3 2019-01-13                        0   \n",
      "3  1237421  Bubbly McBubbleface     4 2019-01-20                        0   \n",
      "4  1237421  Bubbly McBubbleface     5 2019-01-27                        0   \n",
      "\n",
      "   Days Beyond Max Credit  Weekly Avg Balance  Weekly Avg Transaction  \n",
      "0                       0        98667.600000              993.200000  \n",
      "1                       0        90139.714286             1271.000000  \n",
      "2                       0        82050.285714             1318.714286  \n",
      "3                       0        73950.428571             1159.714286  \n",
      "4                       0        68574.285714             1242.428571  \n",
      "<class 'pandas.core.frame.DataFrame'>\n",
      "RangeIndex: 81 entries, 0 to 80\n",
      "Data columns (total 8 columns):\n",
      " #   Column                   Non-Null Count  Dtype         \n",
      "---  ------                   --------------  -----         \n",
      " 0   Account                  81 non-null     int64         \n",
      " 1   Name                     81 non-null     object        \n",
      " 2   week                     81 non-null     UInt32        \n",
      " 3   Date                     81 non-null     datetime64[ns]\n",
      " 4   Days Below Zero Balance  81 non-null     int64         \n",
      " 5   Days Beyond Max Credit   81 non-null     int64         \n",
      " 6   Weekly Avg Balance       81 non-null     float64       \n",
      " 7   Weekly Avg Transaction   81 non-null     float64       \n",
      "dtypes: UInt32(1), datetime64[ns](1), float64(2), int64(3), object(1)\n",
      "memory usage: 5.0+ KB\n",
      "None\n"
     ]
    }
   ],
   "source": [
    "# Tạo output_week\n",
    "output_week = df3.groupby(['Account', 'Name', 'week']).agg({'Date':'min', 'Negative_balance_?':'sum', 'Exceed_limit_?':'sum', 'Balance':'mean', 'Transaction':'mean'})\n",
    "output_week.reset_index(inplace=True)\n",
    "output_week.rename(columns={'Balance':'Weekly Avg Balance', 'Transaction': 'Weekly Avg Transaction', 'Negative_balance_?':'Days Below Zero Balance', 'Exceed_limit_?':'Days Beyond Max Credit'}, inplace=True)\n",
    "print(output_week.head(5))\n",
    "print(output_week.info())"
   ]
  },
  {
   "cell_type": "code",
   "execution_count": 27,
   "metadata": {},
   "outputs": [
    {
     "name": "stdout",
     "output_type": "stream",
     "text": [
      "   Account                 Name  month       Date  Days Below Zero Balance  \\\n",
      "0  1237421  Bubbly McBubbleface      1 2019-01-01                        0   \n",
      "1  1237421  Bubbly McBubbleface      2 2019-02-01                        0   \n",
      "2  1237421  Bubbly McBubbleface      3 2019-03-01                        0   \n",
      "3  1237421  Bubbly McBubbleface      4 2019-04-01                        0   \n",
      "4  1237421  Bubbly McBubbleface      5 2019-05-01                       10   \n",
      "\n",
      "   Days Beyond Max Credit  Monthly Avg Balance  Monthly Avg Transaction  \n",
      "0                       0         82167.548387              1208.838710  \n",
      "1                       0         57972.785714              1208.392857  \n",
      "2                       0         41392.064516              1218.806452  \n",
      "3                       0         20931.333333              1387.400000  \n",
      "4                       4          7229.451613              1357.483871  \n",
      "<class 'pandas.core.frame.DataFrame'>\n",
      "RangeIndex: 18 entries, 0 to 17\n",
      "Data columns (total 8 columns):\n",
      " #   Column                   Non-Null Count  Dtype         \n",
      "---  ------                   --------------  -----         \n",
      " 0   Account                  18 non-null     int64         \n",
      " 1   Name                     18 non-null     object        \n",
      " 2   month                    18 non-null     int64         \n",
      " 3   Date                     18 non-null     datetime64[ns]\n",
      " 4   Days Below Zero Balance  18 non-null     int64         \n",
      " 5   Days Beyond Max Credit   18 non-null     int64         \n",
      " 6   Monthly Avg Balance      18 non-null     float64       \n",
      " 7   Monthly Avg Transaction  18 non-null     float64       \n",
      "dtypes: datetime64[ns](1), float64(2), int64(4), object(1)\n",
      "memory usage: 1.2+ KB\n",
      "None\n"
     ]
    }
   ],
   "source": [
    "# Tạo output_month\n",
    "output_month = df3.groupby(['Account', 'Name', 'month']).agg({'Date':'min', 'Negative_balance_?':'sum', 'Exceed_limit_?':'sum', 'Balance':'mean', 'Transaction':'mean'})\n",
    "output_month.reset_index(inplace=True)\n",
    "output_month.rename(columns={'Balance':'Monthly Avg Balance', 'Transaction': 'Monthly Avg Transaction', 'Negative_balance_?':'Days Below Zero Balance', 'Exceed_limit_?':'Days Beyond Max Credit'}, inplace=True)\n",
    "print(output_month.head(5))\n",
    "print(output_month.info())"
   ]
  },
  {
   "cell_type": "code",
   "execution_count": 28,
   "metadata": {},
   "outputs": [
    {
     "name": "stdout",
     "output_type": "stream",
     "text": [
      "    Account                 Name  quarter       Date  Days Below Zero Balance  \\\n",
      "0   1237421  Bubbly McBubbleface        1 2019-01-01                        0   \n",
      "1   1237421  Bubbly McBubbleface        2 2019-04-01                       10   \n",
      "2   4271819          Bubblicious        1 2019-01-01                        0   \n",
      "3   4271819          Bubblicious        2 2019-04-01                        7   \n",
      "4  12371202          Bubbleburst        1 2019-01-01                       13   \n",
      "\n",
      "   Days Beyond Max Credit  Quarterly Avg Balance  Quarterly Avg Transaction  \n",
      "0                       0           60595.400000                1212.133333  \n",
      "1                       4           19285.901099                1353.395604  \n",
      "2                       0           61268.844444                1155.988889  \n",
      "3                       0           22532.791209                1189.549451  \n",
      "4                       0            5763.422222                 247.588889  \n",
      "<class 'pandas.core.frame.DataFrame'>\n",
      "RangeIndex: 6 entries, 0 to 5\n",
      "Data columns (total 8 columns):\n",
      " #   Column                     Non-Null Count  Dtype         \n",
      "---  ------                     --------------  -----         \n",
      " 0   Account                    6 non-null      int64         \n",
      " 1   Name                       6 non-null      object        \n",
      " 2   quarter                    6 non-null      int64         \n",
      " 3   Date                       6 non-null      datetime64[ns]\n",
      " 4   Days Below Zero Balance    6 non-null      int64         \n",
      " 5   Days Beyond Max Credit     6 non-null      int64         \n",
      " 6   Quarterly Avg Balance      6 non-null      float64       \n",
      " 7   Quarterly Avg Transaction  6 non-null      float64       \n",
      "dtypes: datetime64[ns](1), float64(2), int64(4), object(1)\n",
      "memory usage: 512.0+ bytes\n",
      "None\n"
     ]
    }
   ],
   "source": [
    "# Tạo output_quarter\n",
    "output_quarter = df3.groupby(['Account', 'Name', 'quarter']).agg({'Date':'min', 'Negative_balance_?':'sum', 'Exceed_limit_?':'sum', 'Balance':'mean', 'Transaction':'mean'})\n",
    "output_quarter.reset_index(inplace=True)\n",
    "output_quarter.rename(columns={'Balance':'Quarterly Avg Balance', 'Transaction': 'Quarterly Avg Transaction', 'Negative_balance_?':'Days Below Zero Balance', 'Exceed_limit_?':'Days Beyond Max Credit'}, inplace=True)\n",
    "print(output_quarter.head(5))\n",
    "print(output_quarter.info())"
   ]
  }
 ],
 "metadata": {
  "kernelspec": {
   "display_name": "Python 3",
   "language": "python",
   "name": "python3"
  },
  "language_info": {
   "codemirror_mode": {
    "name": "ipython",
    "version": 3
   },
   "file_extension": ".py",
   "mimetype": "text/x-python",
   "name": "python",
   "nbconvert_exporter": "python",
   "pygments_lexer": "ipython3",
   "version": "3.10.0"
  },
  "orig_nbformat": 4
 },
 "nbformat": 4,
 "nbformat_minor": 2
}

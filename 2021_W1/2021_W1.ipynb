{
 "cells": [
  {
   "attachments": {},
   "cell_type": "markdown",
   "metadata": {},
   "source": [
    "# 2021: Week 1\n",
    "January 06, 2021\n",
    "\n",
    "Hello World...\n",
    "\n",
    "Welcome to 2021 Preppin' Data. \n",
    "\n",
    "Since Jonathan (@JonathanAllenby) and I chatted by a coffee machine in Feb 2019, we along with Jenny Martin (@JennyMartinDS14) and Tom Prowse (@TomProwse1) have produced 99 challenges to date, completed by 305 different people, who have solved the challenges 2,424 times (that we know of!). \n",
    "\n",
    "The overall aim of Preppin' Data is to give people a place to learn the power of being able to prepare your own data sets (rather than relying on others) and the capabilities of Tableau Prep. If you want to know more, check out our first post.\n",
    "\n",
    "For those of you who are new to Preppin' Data, here are some basics:\n",
    "\n",
    "We release a new challenge each Wednesday\n",
    "We post a written and video solution the following Tuesday\n",
    "We build our challenges in Tableau Prep but welcome solutions from any other tool too. \n",
    "One change this year is Jonathan is taking a step back from the challenges but will come up with a tricky problem every now and then I am sure. This means for our regulars you don't need to tag him on Twitter anymore. \n",
    "New Year, New Challenges\n",
    "Each January people all over the world might make resolutions to start a regular challenge to practice their skills so we wanted to facilitate that as best we could for a newer crowd to Prep Builder. \n",
    "\n",
    "The aim of January's challenges are to give you an introduction to Tableau Prep Builder. By going through these challenges you will be able to build fundamental skills with the tool, as well as data preparation skills applicable to all data work. \n",
    "\n",
    "Learning Resources\n",
    "\n",
    "- Tableau Videos - how I learnt Desktop originally and works well for getting the basics on Prep Builder too. There are 12 short videos but you won't need to watch them all at once. You will need to sign up for a free Tableau account to watch the videos. \n",
    "\n",
    "- Jenny & Tom's excellent free online training series - currently 31 short videos going into more precision on the features of Prep. Did I mention free?\n",
    "\n",
    "- Tableau Prep Up & Running - if you prefer your learning through words on a page, I wrote this book for beginner and intermediate users for Tableau Prep. \n",
    "\n",
    "Once you complete the challenge, you can post on our tracker, share an image (annotated if you want bonus points) on Twitter or the Tableau Forums. \n",
    "\n",
    "# Week 1's Challenge\n",
    "\n",
    "Challenge by Carl Allchin\n",
    "\n",
    "This week we are going to be focusing on cleaning data ready to answer some questions from our stakeholders. In the requirements I will be adding some links to some useful resources if you get stuck on a particular requirement. \n",
    "\n",
    "# Input\n",
    "The input is a csv file (Text File input type on prep Builder). The file looks like this (just with a lot more rows).\n",
    "\n",
    "<img src='https://1.bp.blogspot.com/-m11G7WH-ftY/X_NSuNX2e6I/AAAAAAAACFc/Zs4l5XIgQv8p3OflKifXhN8Y924iGJpHgCLcBGAsYHQ/w640-h240/Screenshot%2B2021-01-04%2Bat%2B17.38.47.png'>\n",
    "\n",
    "There are 1,000 orders.\n",
    "\n",
    "# Requirements\n",
    "Here's what we need you to do:\n",
    "\n",
    "* Connect and load the csv file (help)\n",
    "* Split the 'Store-Bike' field into 'Store' and 'Bike' (help)\n",
    "* Clean up the 'Bike' field to leave just three values in the 'Bike' field (Mountain, Gravel, Road) (help)\n",
    "* Create two different cuts of the date field: 'quarter' and 'day of month' (help)\n",
    "* Remove the first 10 orders as they are test values (help)\n",
    "* Output the data as a csv (help)\n",
    "\n",
    "# Output\n",
    "\n",
    "<img src='https://1.bp.blogspot.com/-5dcGmoprvTg/X_NVYmeoxEI/AAAAAAAACFo/U38HGpwxTIwzdBPyOQspdLX9rRnLsfjGwCLcBGAsYHQ/w640-h258/Screenshot%2B2021-01-04%2Bat%2B17.50.16.png'>\n",
    "\n",
    "8 Data Fields\n",
    "* Quarter\n",
    "* Day of Month\n",
    "* Store\n",
    "* Bike\n",
    "* Order ID\n",
    "* Customer Age\n",
    "* Bike Value\n",
    "* Existing Customer?\n",
    "990 Rows (991 including Column Headers)\n",
    "\n",
    "# Bonus task\n",
    "\n",
    "We are conscious this shouldn't be too much of a stretch for our Preppin' regulars so we've set you a Desktop task too. \n",
    "\n",
    "Our stakeholder wants to know the average monthly bike value sold by each day in the month. Yeah, they even want the running total to see where they should be in terms of sales by that point. The stakeholder knows each quarter is significantly different so the running totals should be separated by quarter. \n",
    "\n",
    "Build this view using the output if you fancy taking on the extra task. \n",
    "\n",
    "<img src = 'https://1.bp.blogspot.com/-fA_a39JBRGg/X_NWG9PKLrI/AAAAAAAACF0/ZJRb6OhBSC0_KPlppEewDX3Sodj93OHIACLcBGAsYHQ/w400-h359/Screenshot%2B2021-01-04%2Bat%2B11.54.29.png'>"
   ]
  },
  {
   "cell_type": "code",
   "execution_count": 17,
   "metadata": {},
   "outputs": [],
   "source": [
    "import pandas as pd"
   ]
  },
  {
   "cell_type": "code",
   "execution_count": 18,
   "metadata": {},
   "outputs": [
    {
     "name": "stdout",
     "output_type": "stream",
     "text": [
      "   Order ID  Customer Age  Bike Value Existing Customer?       Date  \\\n",
      "0       1.0          22.0       481.0                 No 2021-04-25   \n",
      "1       2.0          28.0      1825.0                 No 2021-01-23   \n",
      "2       3.0          51.0      1903.0                 No 2021-07-03   \n",
      "3       4.0          59.0      1059.0                 No 2021-01-24   \n",
      "4       5.0          44.0      1764.0                Yes 2021-08-12   \n",
      "\n",
      "      Store - Bike  \n",
      "0      York - Road  \n",
      "1      York - Road  \n",
      "2      York - Rood  \n",
      "3      York - Road  \n",
      "4  York - Mountain  \n",
      "<class 'pandas.core.frame.DataFrame'>\n",
      "RangeIndex: 1000 entries, 0 to 999\n",
      "Data columns (total 6 columns):\n",
      " #   Column              Non-Null Count  Dtype         \n",
      "---  ------              --------------  -----         \n",
      " 0   Order ID            1000 non-null   float64       \n",
      " 1   Customer Age        1000 non-null   float64       \n",
      " 2   Bike Value          1000 non-null   float64       \n",
      " 3   Existing Customer?  1000 non-null   object        \n",
      " 4   Date                1000 non-null   datetime64[ns]\n",
      " 5   Store - Bike        1000 non-null   object        \n",
      "dtypes: datetime64[ns](1), float64(3), object(2)\n",
      "memory usage: 47.0+ KB\n",
      "None\n"
     ]
    }
   ],
   "source": [
    "input = 'PD 2021 Wk 1 Input.xlsx'\n",
    "df = pd.read_excel(input, sheet_name=\"Bike Sales\")\n",
    "print(df.head(5))\n",
    "print(df.info())"
   ]
  },
  {
   "cell_type": "code",
   "execution_count": 19,
   "metadata": {},
   "outputs": [
    {
     "name": "stdout",
     "output_type": "stream",
     "text": [
      "   Order ID  Customer Age  Bike Value Existing Customer?       Date Store  \\\n",
      "0       1.0          22.0       481.0                 No 2021-04-25  York   \n",
      "1       2.0          28.0      1825.0                 No 2021-01-23  York   \n",
      "2       3.0          51.0      1903.0                 No 2021-07-03  York   \n",
      "3       4.0          59.0      1059.0                 No 2021-01-24  York   \n",
      "4       5.0          44.0      1764.0                Yes 2021-08-12  York   \n",
      "\n",
      "       Bike  \n",
      "0      Road  \n",
      "1      Road  \n",
      "2      Rood  \n",
      "3      Road  \n",
      "4  Mountain  \n"
     ]
    }
   ],
   "source": [
    "# Tìm max separator\n",
    "max_separator = df['Store - Bike'].apply(lambda x: x.count(' - ')).max()\n",
    "\n",
    "# Đặt tên các cột sẽ split ra\n",
    "split_col_names = [f'Split {i+1}' for i in range(max_separator+1)]\n",
    "\n",
    "# Split cột Store / Bike\n",
    "df[split_col_names] = df['Store - Bike'].str.split(' - ', expand=True)\n",
    "df.drop(columns='Store - Bike', inplace=True)\n",
    "df.rename(columns={'Split 1':'Store', 'Split 2':'Bike'}, inplace=True)\n",
    "print(df.head(5))"
   ]
  },
  {
   "cell_type": "code",
   "execution_count": 20,
   "metadata": {},
   "outputs": [
    {
     "name": "stdout",
     "output_type": "stream",
     "text": [
      "['York' 'London' 'Leeds' 'Birmingham' 'Manchester']\n",
      "['Road' 'Rood' 'Mountain' 'Gravel' 'Mountaen' 'Graval' 'Rowd' 'Gravle']\n"
     ]
    }
   ],
   "source": [
    "# Kiểm tra các giá trị unique của 2 cột mới\n",
    "print(df['Store'].unique())\n",
    "print(df['Bike'].unique())"
   ]
  },
  {
   "cell_type": "code",
   "execution_count": 21,
   "metadata": {},
   "outputs": [
    {
     "name": "stdout",
     "output_type": "stream",
     "text": [
      "['Road' 'Moutain' 'Gravel']\n"
     ]
    }
   ],
   "source": [
    "# Làm sạch giá trị cột Bike\n",
    "df['Bike'] = df['Bike'].apply(lambda x: 'Road' if x in ['Rood', 'Rowd', 'Road'] else ('Moutain' if x in ['Mountain', 'Mountaen'] else ('Gravel' if x in ['Gravel', 'Gravle', 'Graval'] else None)))\n",
    "print(df['Bike'].unique())"
   ]
  },
  {
   "cell_type": "code",
   "execution_count": 22,
   "metadata": {},
   "outputs": [
    {
     "name": "stdout",
     "output_type": "stream",
     "text": [
      "   Order ID  Customer Age  Bike Value Existing Customer?       Date Store  \\\n",
      "0       1.0          22.0       481.0                 No 2021-04-25  York   \n",
      "1       2.0          28.0      1825.0                 No 2021-01-23  York   \n",
      "2       3.0          51.0      1903.0                 No 2021-07-03  York   \n",
      "3       4.0          59.0      1059.0                 No 2021-01-24  York   \n",
      "4       5.0          44.0      1764.0                Yes 2021-08-12  York   \n",
      "\n",
      "      Bike  Quarter  Day of Month  \n",
      "0     Road        2            25  \n",
      "1     Road        1            23  \n",
      "2     Road        3             3  \n",
      "3     Road        1            24  \n",
      "4  Moutain        3            12  \n"
     ]
    }
   ],
   "source": [
    "# Tạo 2 cột Day of Month và Quarter\n",
    "df['Quarter'] = df['Date'].dt.quarter\n",
    "df['Day of Month'] = df['Date'].dt.day\n",
    "print(df.head(5))"
   ]
  },
  {
   "cell_type": "code",
   "execution_count": 23,
   "metadata": {},
   "outputs": [
    {
     "name": "stdout",
     "output_type": "stream",
     "text": [
      "    Order ID  Customer Age  Bike Value Existing Customer?       Date  \\\n",
      "10      11.0          57.0       902.0                 No 2021-10-04   \n",
      "11      12.0          31.0       946.0                Yes 2021-01-17   \n",
      "12      13.0          17.0      1296.0                Yes 2021-10-25   \n",
      "13      14.0          59.0      1166.0                Yes 2021-07-18   \n",
      "14      15.0          24.0      1781.0                 No 2021-10-10   \n",
      "\n",
      "         Store     Bike  Quarter  Day of Month  \n",
      "10  Birmingham     Road        4             4  \n",
      "11       Leeds     Road        1            17  \n",
      "12  Birmingham     Road        4            25  \n",
      "13  Manchester     Road        3            18  \n",
      "14  Manchester  Moutain        4            10  \n",
      "<class 'pandas.core.frame.DataFrame'>\n",
      "RangeIndex: 990 entries, 10 to 999\n",
      "Data columns (total 9 columns):\n",
      " #   Column              Non-Null Count  Dtype         \n",
      "---  ------              --------------  -----         \n",
      " 0   Order ID            990 non-null    float64       \n",
      " 1   Customer Age        990 non-null    float64       \n",
      " 2   Bike Value          990 non-null    float64       \n",
      " 3   Existing Customer?  990 non-null    object        \n",
      " 4   Date                990 non-null    datetime64[ns]\n",
      " 5   Store               990 non-null    object        \n",
      " 6   Bike                990 non-null    object        \n",
      " 7   Quarter             990 non-null    int64         \n",
      " 8   Day of Month        990 non-null    int64         \n",
      "dtypes: datetime64[ns](1), float64(3), int64(2), object(3)\n",
      "memory usage: 69.7+ KB\n",
      "None\n"
     ]
    }
   ],
   "source": [
    "# Bỏ 10 record đầu theo yêu cầu bài toán\n",
    "df = df.drop(df.index[:10])\n",
    "print(df.head(5))\n",
    "print(df.info())"
   ]
  },
  {
   "cell_type": "code",
   "execution_count": 24,
   "metadata": {},
   "outputs": [],
   "source": [
    "# Output ra csv theo yêu cầu bài toán\n",
    "df.drop(columns=\"Date\", inplace=True)\n",
    "df.to_csv(\"output.csv\")"
   ]
  },
  {
   "cell_type": "markdown",
   "metadata": {},
   "source": []
  }
 ],
 "metadata": {
  "kernelspec": {
   "display_name": "Python 3",
   "language": "python",
   "name": "python3"
  },
  "language_info": {
   "codemirror_mode": {
    "name": "ipython",
    "version": 3
   },
   "file_extension": ".py",
   "mimetype": "text/x-python",
   "name": "python",
   "nbconvert_exporter": "python",
   "pygments_lexer": "ipython3",
   "version": "3.10.0"
  },
  "orig_nbformat": 4
 },
 "nbformat": 4,
 "nbformat_minor": 2
}

{
 "cells": [
  {
   "cell_type": "markdown",
   "metadata": {},
   "source": [
    "# 2024: Week 9 - Prep Air Capacity\n",
    "\n",
    "February 28, 2024\n",
    "\n",
    "Challenge by: Jenny Martin\n",
    "\n",
    "Prep Air would like to do some analysis on how their flights are filling up over time. They've given a small sample of flights that will be taking off next month, and the actions that customers who have booked those flights have been taking. \n",
    "\n",
    "### Inputs\n",
    "1. A customer actions table in which a new row appears each time a customer takes an action relating to their flight booking \n",
    "\n",
    "![1](https://blogger.googleusercontent.com/img/b/R29vZ2xl/AVvXsEggYmA90jKbzcPL8KncgH67F9RTIffep6QaLRKO5aRqCcmJRnY8OPUjYrUYAc1ENkzgpWYCbvZdcFuigdyfu4Un-VkP9teap3JRHXDKbIdrXucF1Kei66ruUJrUwgxFr4bP-bYk2PZaBo0Srg0zvwiRjTgfOBSsH_f9ewmW-iE6igg7DHZIYfgg-_N_APh5/s1227/24W9%20in1.png)\n",
    "\n",
    "2. A flight details table detailing how many seats are available for each class on the flight \n",
    "\n",
    "![2](https://blogger.googleusercontent.com/img/b/R29vZ2xl/AVvXsEjDxI6LTB3G3Vd4XwtBacE8Uwy2atYEN4-fFy3OEW-6qAqNqCGfv_MBFjEJIvWnAL2WHi33XYuCJfhvviWw_xRp4z1IEXt2S-9iyUGxpUHLmvj6jPBi61X5vyhm8WoXDjiFYqGXvZWHBtxpZOmPBznyndg4pcUA9W5IXR2swR7eKRXSXti4wbYtSGH_GXAF/s706/24w9%20in2.png)\n",
    "\n",
    "### Requirements\n",
    "- Input the data\n",
    "- If the customer has cancelled their flight, make sure all rows are filtered out for that flight \n",
    "- For each customer on a flight, filter the dataset to their most recent action\n",
    "- Based on the Date field, create a field which shows how many seats in total have been booked as of that date for each flight and class\n",
    "- Hint: Running Sum could be useful here!\n",
    "- Bring in information about the Flight Details\n",
    "- Calculate the Capacity %: of the available seats on the flight for each class, what percentage have been booked so far\n",
    "- For classes which are yet to be booked for a flight, ensure the Capacity % shows as 0% for these rows\n",
    "- The Date for these rows should be today's date (28/02/2024) \n",
    "- Output the data\n",
    "\n",
    "### Output\n",
    "\n",
    "![3](https://blogger.googleusercontent.com/img/b/R29vZ2xl/AVvXsEhZgT3JrE_2vvgUhiowYlwCvtcGKEqQ-OyKfcF9OvYp-oXTw-D6XEQqErMVJ6jxrlWxIeAaoagCuKT6HCAVhvWmq8OF71hXXfJxIAWzhgMM8hj5j6Eq7O_jCl812RHpT9VeV7UzOYsYf30bp24-5-LW9Wqo9KH3uERZYZyg3WUmuL-1d5z82qsz6EcyAq-Z/s1107/24w9%20out.png)\n",
    "\n",
    "- 11 fields\n",
    "- Flight Number\n",
    "- Flight Date\n",
    "- Class\n",
    "- Total Seats booked over time\n",
    "- Capacity\n",
    "- Capacity %\n",
    "- Customer ID\n",
    "- Action\n",
    "- Date\n",
    "- Row\n",
    "- Seat\n",
    "- 500 rows (501 including headers)"
   ]
  },
  {
   "cell_type": "code",
   "execution_count": null,
   "metadata": {},
   "outputs": [],
   "source": []
  }
 ],
 "metadata": {
  "language_info": {
   "name": "python"
  }
 },
 "nbformat": 4,
 "nbformat_minor": 2
}

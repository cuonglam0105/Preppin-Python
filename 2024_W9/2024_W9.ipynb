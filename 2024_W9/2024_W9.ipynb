{
 "cells": [
  {
   "cell_type": "markdown",
   "metadata": {},
   "source": [
    "# 2024: Week 9 - Prep Air Capacity\n",
    "\n",
    "February 28, 2024\n",
    "\n",
    "Challenge by: Jenny Martin\n",
    "\n",
    "Prep Air would like to do some analysis on how their flights are filling up over time. They've given a small sample of flights that will be taking off next month, and the actions that customers who have booked those flights have been taking. \n",
    "\n",
    "### Inputs\n",
    "1. A customer actions table in which a new row appears each time a customer takes an action relating to their flight booking \n",
    "\n",
    "![1](https://blogger.googleusercontent.com/img/b/R29vZ2xl/AVvXsEggYmA90jKbzcPL8KncgH67F9RTIffep6QaLRKO5aRqCcmJRnY8OPUjYrUYAc1ENkzgpWYCbvZdcFuigdyfu4Un-VkP9teap3JRHXDKbIdrXucF1Kei66ruUJrUwgxFr4bP-bYk2PZaBo0Srg0zvwiRjTgfOBSsH_f9ewmW-iE6igg7DHZIYfgg-_N_APh5/s1227/24W9%20in1.png)\n",
    "\n",
    "2. A flight details table detailing how many seats are available for each class on the flight \n",
    "\n",
    "![2](https://blogger.googleusercontent.com/img/b/R29vZ2xl/AVvXsEjDxI6LTB3G3Vd4XwtBacE8Uwy2atYEN4-fFy3OEW-6qAqNqCGfv_MBFjEJIvWnAL2WHi33XYuCJfhvviWw_xRp4z1IEXt2S-9iyUGxpUHLmvj6jPBi61X5vyhm8WoXDjiFYqGXvZWHBtxpZOmPBznyndg4pcUA9W5IXR2swR7eKRXSXti4wbYtSGH_GXAF/s706/24w9%20in2.png)\n",
    "\n",
    "### Requirements\n",
    "- Input the data\n",
    "- If the customer has cancelled their flight, make sure all rows are filtered out for that flight \n",
    "- For each customer on a flight, filter the dataset to their most recent action\n",
    "- Based on the Date field, create a field which shows how many seats in total have been booked as of that date for each flight and class\n",
    "- Hint: Running Sum could be useful here!\n",
    "- Bring in information about the Flight Details\n",
    "- Calculate the Capacity %: of the available seats on the flight for each class, what percentage have been booked so far\n",
    "- For classes which are yet to be booked for a flight, ensure the Capacity % shows as 0% for these rows\n",
    "- The Date for these rows should be today's date (28/02/2024) \n",
    "- Output the data\n",
    "\n",
    "### Output\n",
    "\n",
    "![3](https://blogger.googleusercontent.com/img/b/R29vZ2xl/AVvXsEhZgT3JrE_2vvgUhiowYlwCvtcGKEqQ-OyKfcF9OvYp-oXTw-D6XEQqErMVJ6jxrlWxIeAaoagCuKT6HCAVhvWmq8OF71hXXfJxIAWzhgMM8hj5j6Eq7O_jCl812RHpT9VeV7UzOYsYf30bp24-5-LW9Wqo9KH3uERZYZyg3WUmuL-1d5z82qsz6EcyAq-Z/s1107/24w9%20out.png)\n",
    "\n",
    "- 11 fields\n",
    "- Flight Number\n",
    "- Flight Date\n",
    "- Class\n",
    "- Total Seats booked over time\n",
    "- Capacity\n",
    "- Capacity %\n",
    "- Customer ID\n",
    "- Action\n",
    "- Date\n",
    "- Row\n",
    "- Seat\n",
    "- 500 rows (501 including headers)"
   ]
  },
  {
   "cell_type": "code",
   "execution_count": 203,
   "metadata": {},
   "outputs": [
    {
     "name": "stdout",
     "output_type": "stream",
     "text": [
      "['Customer Actions', 'Flight Details']\n"
     ]
    }
   ],
   "source": [
    "import pandas as pd\n",
    "\n",
    "# Read the Excel file\n",
    "excel_file = 'PD 2024 Week 9 Input.xlsx'\n",
    "\n",
    "# List all sheet names\n",
    "sheet_names = pd.ExcelFile(excel_file).sheet_names\n",
    "print(sheet_names)"
   ]
  },
  {
   "cell_type": "code",
   "execution_count": 204,
   "metadata": {},
   "outputs": [
    {
     "name": "stdout",
     "output_type": "stream",
     "text": [
      "     Flight Number Flight Date  Customer ID        Action       Date  \\\n",
      "0            PA001  2024-03-05           20        Booked 2023-12-01   \n",
      "1            PA001  2024-03-05           20     Cancelled 2023-12-24   \n",
      "2            PA001  2024-03-05           72        Booked 2023-12-25   \n",
      "3            PA001  2024-03-05           82        Booked 2024-01-31   \n",
      "4            PA001  2024-03-05          190        Booked 2024-01-07   \n",
      "...            ...         ...          ...           ...        ...   \n",
      "1694         PA012  2024-03-10         9547     Cancelled 2023-12-23   \n",
      "1695         PA012  2024-03-10         9956        Booked 2024-02-07   \n",
      "1696         PA012  2024-03-10         9957        Booked 2024-01-29   \n",
      "1697         PA012  2024-03-10         9957  Seat Changed 2024-02-07   \n",
      "1698         PA012  2024-03-10         9957  Seat Changed 2024-03-03   \n",
      "\n",
      "         Class   Row  Seat  \n",
      "0        First   7.0   3.0  \n",
      "1          NaN   NaN   NaN  \n",
      "2        First   8.0   2.0  \n",
      "3        First   5.0   2.0  \n",
      "4     Business  12.0   3.0  \n",
      "...        ...   ...   ...  \n",
      "1694       NaN   NaN   NaN  \n",
      "1695  Business  17.0   2.0  \n",
      "1696  Business   9.0   4.0  \n",
      "1697  Business  15.0   1.0  \n",
      "1698  Business  13.0   2.0  \n",
      "\n",
      "[1699 rows x 8 columns]\n"
     ]
    }
   ],
   "source": [
    "# Read the 'Customer Actions' sheet\n",
    "df = pd.read_excel(excel_file, sheet_name='Customer Actions')\n",
    "print(df)\n",
    "check_df = df"
   ]
  },
  {
   "cell_type": "code",
   "execution_count": 205,
   "metadata": {},
   "outputs": [
    {
     "name": "stdout",
     "output_type": "stream",
     "text": [
      "   Flight Number Flight Date            Class  Capacity\n",
      "0          PA001  2024-03-05            First        32\n",
      "1          PA001  2024-03-05         Business        40\n",
      "2          PA001  2024-03-05  Premium Economy        64\n",
      "3          PA001  2024-03-05          Economy       160\n",
      "4          PA002  2024-03-30            First        32\n",
      "5          PA002  2024-03-30         Business        40\n",
      "6          PA002  2024-03-30  Premium Economy        64\n",
      "7          PA002  2024-03-30          Economy       160\n",
      "8          PA003  2024-03-06            First        32\n",
      "9          PA003  2024-03-06         Business        40\n",
      "10         PA003  2024-03-06  Premium Economy        64\n",
      "11         PA003  2024-03-06          Economy       160\n",
      "12         PA004  2024-03-17            First        32\n",
      "13         PA004  2024-03-17         Business        40\n",
      "14         PA004  2024-03-17  Premium Economy        64\n",
      "15         PA004  2024-03-17          Economy       160\n",
      "16         PA005  2024-03-22            First        32\n",
      "17         PA005  2024-03-22         Business        40\n",
      "18         PA005  2024-03-22  Premium Economy        64\n",
      "19         PA005  2024-03-22          Economy       160\n",
      "20         PA006  2024-03-27            First        32\n",
      "21         PA006  2024-03-27         Business        40\n",
      "22         PA006  2024-03-27  Premium Economy        64\n",
      "23         PA006  2024-03-27          Economy       160\n",
      "24         PA007  2024-03-24            First        32\n",
      "25         PA007  2024-03-24         Business        40\n",
      "26         PA007  2024-03-24  Premium Economy        64\n",
      "27         PA007  2024-03-24          Economy       160\n",
      "28         PA008  2024-03-30            First        32\n",
      "29         PA008  2024-03-30         Business        40\n",
      "30         PA008  2024-03-30  Premium Economy        64\n",
      "31         PA008  2024-03-30          Economy       160\n",
      "32         PA009  2024-03-13            First        32\n",
      "33         PA009  2024-03-13         Business        40\n",
      "34         PA009  2024-03-13  Premium Economy        64\n",
      "35         PA009  2024-03-13          Economy       160\n",
      "36         PA010  2024-03-29            First        32\n",
      "37         PA010  2024-03-29         Business        40\n",
      "38         PA010  2024-03-29  Premium Economy        64\n",
      "39         PA010  2024-03-29          Economy       160\n",
      "40         PA011  2024-03-01            First        32\n",
      "41         PA011  2024-03-01         Business        40\n",
      "42         PA011  2024-03-01  Premium Economy        64\n",
      "43         PA011  2024-03-01          Economy       160\n",
      "44         PA012  2024-03-10            First        32\n",
      "45         PA012  2024-03-10         Business        40\n",
      "46         PA012  2024-03-10  Premium Economy        64\n",
      "47         PA012  2024-03-10          Economy       160\n"
     ]
    }
   ],
   "source": [
    "# Read the 'Flight Details' sheet\n",
    "df2 = pd.read_excel(excel_file, sheet_name='Flight Details')\n",
    "print(df2)"
   ]
  },
  {
   "cell_type": "code",
   "execution_count": 206,
   "metadata": {},
   "outputs": [
    {
     "name": "stdout",
     "output_type": "stream",
     "text": [
      "     Flight Number  Customer ID\n",
      "1            PA001           20\n",
      "11           PA001          253\n",
      "14           PA001          324\n",
      "16           PA001          326\n",
      "20           PA001          903\n",
      "...            ...          ...\n",
      "1677         PA012         9093\n",
      "1684         PA012         9336\n",
      "1688         PA012         9433\n",
      "1692         PA012         9493\n",
      "1694         PA012         9547\n",
      "\n",
      "[204 rows x 2 columns]\n"
     ]
    }
   ],
   "source": [
    "cancelled_flights_df = check_df[check_df['Action'] == 'Cancelled'][['Flight Number', 'Customer ID']]\n",
    "print(cancelled_flights_df)"
   ]
  },
  {
   "cell_type": "code",
   "execution_count": 207,
   "metadata": {},
   "outputs": [
    {
     "name": "stdout",
     "output_type": "stream",
     "text": [
      "     Flight Number Flight Date  Customer ID        Action       Date  \\\n",
      "2            PA001  2024-03-05           72        Booked 2023-12-25   \n",
      "3            PA001  2024-03-05           82        Booked 2024-01-31   \n",
      "4            PA001  2024-03-05          190        Booked 2024-01-07   \n",
      "5            PA001  2024-03-05          190      Upgraded 2024-01-31   \n",
      "6            PA001  2024-03-05          190  Seat Changed 2024-02-28   \n",
      "...            ...         ...          ...           ...        ...   \n",
      "1681         PA012  2024-03-10         9157  Seat Changed 2024-03-06   \n",
      "1695         PA012  2024-03-10         9956        Booked 2024-02-07   \n",
      "1696         PA012  2024-03-10         9957        Booked 2024-01-29   \n",
      "1697         PA012  2024-03-10         9957  Seat Changed 2024-02-07   \n",
      "1698         PA012  2024-03-10         9957  Seat Changed 2024-03-03   \n",
      "\n",
      "         Class   Row  Seat  \n",
      "2        First   8.0   2.0  \n",
      "3        First   5.0   2.0  \n",
      "4     Business  12.0   3.0  \n",
      "5        First   5.0   3.0  \n",
      "6        First   3.0   4.0  \n",
      "...        ...   ...   ...  \n",
      "1681  Business  13.0   2.0  \n",
      "1695  Business  17.0   2.0  \n",
      "1696  Business   9.0   4.0  \n",
      "1697  Business  15.0   1.0  \n",
      "1698  Business  13.0   2.0  \n",
      "\n",
      "[1114 rows x 8 columns]\n"
     ]
    }
   ],
   "source": [
    "# Merge df with cancelled_flights_df to identify cancelled flights\n",
    "merged_cancelled_df = pd.merge(df, cancelled_flights_df, on=['Flight Number', 'Customer ID'], how='left', indicator=True)\n",
    "\n",
    "# Filter out the cancelled flights\n",
    "df = merged_cancelled_df[merged_cancelled_df['_merge'] == 'left_only'].drop(columns=['_merge'])\n",
    "\n",
    "print(df)"
   ]
  },
  {
   "cell_type": "code",
   "execution_count": 208,
   "metadata": {},
   "outputs": [
    {
     "name": "stdout",
     "output_type": "stream",
     "text": [
      "     Flight Number Flight Date  Customer ID        Action       Date  \\\n",
      "2            PA001  2024-03-05           72        Booked 2023-12-25   \n",
      "3            PA001  2024-03-05           82        Booked 2024-01-31   \n",
      "6            PA001  2024-03-05          190  Seat Changed 2024-02-28   \n",
      "8            PA001  2024-03-05          228      Upgraded 2024-01-02   \n",
      "18           PA001  2024-03-05          330  Seat Changed 2024-02-13   \n",
      "...            ...         ...          ...           ...        ...   \n",
      "1674         PA012  2024-03-10         8779        Booked 2024-01-06   \n",
      "1678         PA012  2024-03-10         9109        Booked 2023-12-14   \n",
      "1681         PA012  2024-03-10         9157  Seat Changed 2024-03-06   \n",
      "1695         PA012  2024-03-10         9956        Booked 2024-02-07   \n",
      "1698         PA012  2024-03-10         9957  Seat Changed 2024-03-03   \n",
      "\n",
      "                Class   Row  Seat  \n",
      "2               First   8.0   2.0  \n",
      "3               First   5.0   2.0  \n",
      "6               First   3.0   4.0  \n",
      "8               First   7.0   2.0  \n",
      "18           Business   9.0   1.0  \n",
      "...               ...   ...   ...  \n",
      "1674         Business  11.0   1.0  \n",
      "1678  Premium Economy  22.0   5.0  \n",
      "1681         Business  13.0   2.0  \n",
      "1695         Business  17.0   2.0  \n",
      "1698         Business  13.0   2.0  \n",
      "\n",
      "[491 rows x 8 columns]\n"
     ]
    }
   ],
   "source": [
    "# Filter the dataset to the most recent action for each customer on a flight\n",
    "df = df.loc[df.groupby(['Flight Number', 'Customer ID'])['Date'].idxmax()]\n",
    "print(df)"
   ]
  },
  {
   "cell_type": "code",
   "execution_count": 209,
   "metadata": {},
   "outputs": [
    {
     "name": "stdout",
     "output_type": "stream",
     "text": [
      "     Flight Number Flight Date  Customer ID        Action       Date  \\\n",
      "22           PA001  2024-03-05         1027  Seat Changed 2023-12-12   \n",
      "52           PA001  2024-03-05         3632  Seat Changed 2023-12-29   \n",
      "42           PA001  2024-03-05         3111  Seat Changed 2023-12-31   \n",
      "77           PA001  2024-03-05         4963  Seat Changed 2024-01-04   \n",
      "148          PA001  2024-03-05         8518        Booked 2024-01-18   \n",
      "...            ...         ...          ...           ...        ...   \n",
      "1527         PA012  2024-03-10         1374        Booked 2024-02-03   \n",
      "1583         PA012  2024-03-10         4721  Seat Changed 2024-02-15   \n",
      "1673         PA012  2024-03-10         8720  Seat Changed 2024-02-23   \n",
      "1633         PA012  2024-03-10         6692  Seat Changed 2024-02-29   \n",
      "1635         PA012  2024-03-10         6781  Seat Changed 2024-02-29   \n",
      "\n",
      "                Class   Row  Seat  Total Seats Booked  \n",
      "22           Business  16.0   4.0                   1  \n",
      "52           Business  11.0   2.0                   2  \n",
      "42           Business  14.0   2.0                   3  \n",
      "77           Business  14.0   2.0                   4  \n",
      "148          Business  18.0   4.0                   5  \n",
      "...               ...   ...   ...                 ...  \n",
      "1527  Premium Economy  21.0   5.0                   3  \n",
      "1583  Premium Economy  19.0   6.0                   4  \n",
      "1673  Premium Economy  21.0   8.0                   5  \n",
      "1633  Premium Economy  25.0   3.0                   6  \n",
      "1635  Premium Economy  24.0   8.0                   7  \n",
      "\n",
      "[491 rows x 9 columns]\n"
     ]
    }
   ],
   "source": [
    "# Sort the dataframe by 'Flight Number', 'Class', and 'Date'\n",
    "df = df.sort_values(by=['Flight Number', 'Class', 'Date'])\n",
    "\n",
    "# Calculate the running sum of booked seats for each flight and class\n",
    "df['Total Seats Booked'] = df.groupby(['Flight Number', 'Class'])['Customer ID'].cumcount() + 1\n",
    "\n",
    "print(df)"
   ]
  },
  {
   "cell_type": "code",
   "execution_count": 210,
   "metadata": {},
   "outputs": [
    {
     "name": "stdout",
     "output_type": "stream",
     "text": [
      "    Flight Number Flight Date  Customer ID        Action       Date  \\\n",
      "0           PA001  2024-03-05         1027  Seat Changed 2023-12-12   \n",
      "1           PA001  2024-03-05         3632  Seat Changed 2023-12-29   \n",
      "2           PA001  2024-03-05         3111  Seat Changed 2023-12-31   \n",
      "3           PA001  2024-03-05         4963  Seat Changed 2024-01-04   \n",
      "4           PA001  2024-03-05         8518        Booked 2024-01-18   \n",
      "..            ...         ...          ...           ...        ...   \n",
      "486         PA012  2024-03-10         1374        Booked 2024-02-03   \n",
      "487         PA012  2024-03-10         4721  Seat Changed 2024-02-15   \n",
      "488         PA012  2024-03-10         8720  Seat Changed 2024-02-23   \n",
      "489         PA012  2024-03-10         6692  Seat Changed 2024-02-29   \n",
      "490         PA012  2024-03-10         6781  Seat Changed 2024-02-29   \n",
      "\n",
      "               Class   Row  Seat  Total Seats Booked  Capacity  \n",
      "0           Business  16.0   4.0                   1        40  \n",
      "1           Business  11.0   2.0                   2        40  \n",
      "2           Business  14.0   2.0                   3        40  \n",
      "3           Business  14.0   2.0                   4        40  \n",
      "4           Business  18.0   4.0                   5        40  \n",
      "..               ...   ...   ...                 ...       ...  \n",
      "486  Premium Economy  21.0   5.0                   3        64  \n",
      "487  Premium Economy  19.0   6.0                   4        64  \n",
      "488  Premium Economy  21.0   8.0                   5        64  \n",
      "489  Premium Economy  25.0   3.0                   6        64  \n",
      "490  Premium Economy  24.0   8.0                   7        64  \n",
      "\n",
      "[491 rows x 10 columns]\n"
     ]
    }
   ],
   "source": [
    "# Merge df and df2 on 'Flight Number' and 'Class'\n",
    "merged_df = pd.merge(df, df2, on=['Flight Number', 'Class', 'Flight Date'], how='left')\n",
    "\n",
    "print(merged_df)"
   ]
  },
  {
   "cell_type": "code",
   "execution_count": 211,
   "metadata": {},
   "outputs": [
    {
     "name": "stdout",
     "output_type": "stream",
     "text": [
      "    Flight Number Flight Date  Customer ID        Action       Date  \\\n",
      "0           PA001  2024-03-05         1027  Seat Changed 2023-12-12   \n",
      "1           PA001  2024-03-05         3632  Seat Changed 2023-12-29   \n",
      "2           PA001  2024-03-05         3111  Seat Changed 2023-12-31   \n",
      "3           PA001  2024-03-05         4963  Seat Changed 2024-01-04   \n",
      "4           PA001  2024-03-05         8518        Booked 2024-01-18   \n",
      "..            ...         ...          ...           ...        ...   \n",
      "486         PA012  2024-03-10         1374        Booked 2024-02-03   \n",
      "487         PA012  2024-03-10         4721  Seat Changed 2024-02-15   \n",
      "488         PA012  2024-03-10         8720  Seat Changed 2024-02-23   \n",
      "489         PA012  2024-03-10         6692  Seat Changed 2024-02-29   \n",
      "490         PA012  2024-03-10         6781  Seat Changed 2024-02-29   \n",
      "\n",
      "               Class   Row  Seat  Total Seats Booked  Capacity  Capacity %  \n",
      "0           Business  16.0   4.0                   1        40    0.025000  \n",
      "1           Business  11.0   2.0                   2        40    0.050000  \n",
      "2           Business  14.0   2.0                   3        40    0.075000  \n",
      "3           Business  14.0   2.0                   4        40    0.100000  \n",
      "4           Business  18.0   4.0                   5        40    0.125000  \n",
      "..               ...   ...   ...                 ...       ...         ...  \n",
      "486  Premium Economy  21.0   5.0                   3        64    0.046875  \n",
      "487  Premium Economy  19.0   6.0                   4        64    0.062500  \n",
      "488  Premium Economy  21.0   8.0                   5        64    0.078125  \n",
      "489  Premium Economy  25.0   3.0                   6        64    0.093750  \n",
      "490  Premium Economy  24.0   8.0                   7        64    0.109375  \n",
      "\n",
      "[491 rows x 11 columns]\n"
     ]
    }
   ],
   "source": [
    "# Calculate the Capacity % for each row\n",
    "merged_df['Capacity %'] = merged_df['Total Seats Booked'] / merged_df['Capacity']\n",
    "print(merged_df)"
   ]
  },
  {
   "cell_type": "code",
   "execution_count": 212,
   "metadata": {
    "vscode": {
     "languageId": "ruby"
    }
   },
   "outputs": [
    {
     "name": "stdout",
     "output_type": "stream",
     "text": [
      "    Flight Number Flight Date  Customer ID        Action       Date  \\\n",
      "0           PA001  2024-03-05       7019.0        Booked 2023-12-03   \n",
      "1           PA001  2024-03-05       9481.0      Upgraded 2023-12-19   \n",
      "2           PA001  2024-03-05       7961.0        Booked 2023-12-22   \n",
      "3           PA001  2024-03-05       9695.0        Booked 2023-12-23   \n",
      "4           PA001  2024-03-05         72.0        Booked 2023-12-25   \n",
      "..            ...         ...          ...           ...        ...   \n",
      "495         PA012  2024-03-10       4721.0  Seat Changed 2024-02-15   \n",
      "496         PA012  2024-03-10       8720.0  Seat Changed 2024-02-23   \n",
      "497         PA012  2024-03-10       6692.0  Seat Changed 2024-02-29   \n",
      "498         PA012  2024-03-10       6781.0  Seat Changed 2024-02-29   \n",
      "499         PA012  2024-03-10          NaN           NaN        NaT   \n",
      "\n",
      "               Class   Row  Seat  Total Seats Booked  Capacity  Capacity %  \n",
      "0              First   3.0   3.0                 1.0        32    0.031250  \n",
      "1              First   6.0   4.0                 2.0        32    0.062500  \n",
      "2              First   5.0   3.0                 3.0        32    0.093750  \n",
      "3              First   5.0   4.0                 4.0        32    0.125000  \n",
      "4              First   8.0   2.0                 5.0        32    0.156250  \n",
      "..               ...   ...   ...                 ...       ...         ...  \n",
      "495  Premium Economy  19.0   6.0                 4.0        64    0.062500  \n",
      "496  Premium Economy  21.0   8.0                 5.0        64    0.078125  \n",
      "497  Premium Economy  25.0   3.0                 6.0        64    0.093750  \n",
      "498  Premium Economy  24.0   8.0                 7.0        64    0.109375  \n",
      "499          Economy   NaN   NaN                 0.0       160    0.000000  \n",
      "\n",
      "[500 rows x 11 columns]\n"
     ]
    }
   ],
   "source": [
    "# Perform a right join with df2 to include all flight numbers and classes\n",
    "result_df = pd.merge(merged_df, df2, on=['Flight Number', 'Class', 'Flight Date', 'Capacity'], how='right')\n",
    "\n",
    "# Fill NaN values in 'Total Seats Booked' and 'Capacity %' with 0\n",
    "result_df['Total Seats Booked'] = result_df['Total Seats Booked'].fillna(0)\n",
    "result_df['Capacity %'] = result_df['Capacity %'].fillna(0)\n",
    "\n",
    "print(result_df)"
   ]
  },
  {
   "cell_type": "code",
   "execution_count": 213,
   "metadata": {
    "vscode": {
     "languageId": "ruby"
    }
   },
   "outputs": [],
   "source": [
    "output = result_df"
   ]
  }
 ],
 "metadata": {
  "kernelspec": {
   "display_name": "Python 3",
   "language": "python",
   "name": "python3"
  },
  "language_info": {
   "codemirror_mode": {
    "name": "ipython",
    "version": 3
   },
   "file_extension": ".py",
   "mimetype": "text/x-python",
   "name": "python",
   "nbconvert_exporter": "python",
   "pygments_lexer": "ipython3",
   "version": "3.12.2"
  }
 },
 "nbformat": 4,
 "nbformat_minor": 2
}

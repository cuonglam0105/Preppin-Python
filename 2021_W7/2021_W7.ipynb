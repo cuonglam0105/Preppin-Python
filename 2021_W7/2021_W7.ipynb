{
 "cells": [
  {
   "attachments": {},
   "cell_type": "markdown",
   "metadata": {},
   "source": [
    "# 2021: Week 7 - Vegan Shopping List\n",
    "\n",
    "February 17, 2021\n",
    "\n",
    "Challenge by: Jonathan Allenby\n",
    "\n",
    "Now that Veganuary has come and gone we thought it would be interesting to take a look at some common supermarket products and use Prep to figure out whether or not they are vegan. Some results may surprise you!\n",
    "\n",
    "For the sake of this analysis we're taking bee by-products as non-vegan (beeswax, honey, etc).\n",
    "\n",
    "## Inputs\n",
    "\n",
    "1. A shopping list of products and their ingredients (or allergens when ingredients were not available). I have a child-like palate so its mostly full of sweet treats, some of which you'd expect to be vegan and some of which you'd expect not to be, however everything is commonly found in UK supermarkets so no specialist shops required.\n",
    "\n",
    "<img src='https://1.bp.blogspot.com/-BfYMo--X7R0/X_RxbJVxzVI/AAAAAAAABDs/yNFOPkii-M8oy4jHtebRFhOt_zQJmJWWwCLcBGAsYHQ/s1059/01%2BShoppingListInput.jpg'>\n",
    "\n",
    "2. Two lists of common non-vegan ingredients and E numbers (source)\n",
    "\n",
    "<img src='https://1.bp.blogspot.com/-OKXkRvjBrUQ/X_RxbNpC42I/AAAAAAAABDo/dljP44u8uyMkN_5q4Kw8zUSX_zayCuGQACPcBGAYYCw/w640-h90/02%2BNonVeganIngredients.jpg'>\n",
    "\n",
    "## Requirements\n",
    "\n",
    "- Input the data\n",
    "- Prepare the keyword data\n",
    "    - Add an 'E' in front of every E number.\n",
    "    - Stack Animal Ingredients and E Numbers on top of each other.\n",
    "    - Get every ingredient and E number onto separate rows.\n",
    "- Append the keywords onto the product list.\n",
    "- Check whether each product contains any non-vegan ingredients.\n",
    "- Prepare a final shopping list of vegan products.\n",
    "    - Aggregate the products into vegan and non-vegan.\n",
    "    - Filter out the non-vegan products.\n",
    "- Prepare a list explaining why the other products aren't vegan.\n",
    "    - Keep only non-vegan products.\n",
    "    - Duplicate the keyword field.\n",
    "    - Rows to columns pivot the keywords using the duplicate as a header.\n",
    "    - Write a calculation to concatenate all the keywords into a single comma-separated list for each product, e.g. \"whey, milk, egg\".\n",
    "- Output the data.\n",
    "\n",
    "## Outputs\n",
    "\n",
    "- Vegan Shopping List\n",
    "    - Product\n",
    "    - Description\n",
    "    - 20 rows (21 including headers)\n",
    "\n",
    "<img src='https://1.bp.blogspot.com/-1WRcHfNPDAc/X_SEXlXvagI/AAAAAAAABD8/VmGKs9tDP1s713EKO1jYSO_yr3Kz-7_YwCLcBGAsYHQ/s834/03%2BVeganOutput.jpg'>\n",
    "\n",
    "- Non Vegan List\n",
    "    - Product\n",
    "    - Description\n",
    "    - Contains\n",
    "    - 19 rows (20 including headers)\n",
    "\n",
    "<img src='https://1.bp.blogspot.com/-n90BmuM-xgQ/X_SEe5KydyI/AAAAAAAABEA/uQpiNeQNhCoOT5ntFPgzDZzdbcHQDT8uQCLcBGAsYHQ/s807/04%2BNonVeganOutput.jpg'>\n"
   ]
  },
  {
   "cell_type": "code",
   "execution_count": 34,
   "metadata": {},
   "outputs": [],
   "source": [
    "import pandas as pd"
   ]
  },
  {
   "cell_type": "code",
   "execution_count": 35,
   "metadata": {},
   "outputs": [
    {
     "name": "stdout",
     "output_type": "stream",
     "text": [
      "['Shopping List', 'Keywords']\n"
     ]
    }
   ],
   "source": [
    "input = 'Shopping List and Ingredients.xlsx'\n",
    "excel_sheets = pd.ExcelFile(input).sheet_names\n",
    "print(excel_sheets)"
   ]
  },
  {
   "cell_type": "code",
   "execution_count": 36,
   "metadata": {},
   "outputs": [
    {
     "name": "stdout",
     "output_type": "stream",
     "text": [
      "<class 'pandas.core.frame.DataFrame'>\n",
      "RangeIndex: 39 entries, 0 to 38\n",
      "Data columns (total 3 columns):\n",
      " #   Column                 Non-Null Count  Dtype \n",
      "---  ------                 --------------  ----- \n",
      " 0   Product                39 non-null     object\n",
      " 1   Description            39 non-null     object\n",
      " 2   Ingredients/Allergens  39 non-null     object\n",
      "dtypes: object(3)\n",
      "memory usage: 1.0+ KB\n",
      "None\n"
     ]
    }
   ],
   "source": [
    "df1 = pd.read_excel(input, sheet_name='Shopping List')\n",
    "df1['Ingredients/Allergens'] = df1['Ingredients/Allergens'].str.lower()\n",
    "print(df1.info())"
   ]
  },
  {
   "cell_type": "code",
   "execution_count": 37,
   "metadata": {},
   "outputs": [
    {
     "name": "stdout",
     "output_type": "stream",
     "text": [
      "                                  Animal Ingredients  \\\n",
      "0  Milk, Whey, Honey, Egg, Lactose, Collagen, Ela...   \n",
      "\n",
      "                                          E Numbers  \n",
      "0  120, 441, 545, 901, 904, 910, 920, 921, 913, 966  \n",
      "<class 'pandas.core.frame.DataFrame'>\n",
      "RangeIndex: 1 entries, 0 to 0\n",
      "Data columns (total 2 columns):\n",
      " #   Column              Non-Null Count  Dtype \n",
      "---  ------              --------------  ----- \n",
      " 0   Animal Ingredients  1 non-null      object\n",
      " 1   E Numbers           1 non-null      object\n",
      "dtypes: object(2)\n",
      "memory usage: 144.0+ bytes\n",
      "None\n"
     ]
    }
   ],
   "source": [
    "df2 = pd.read_excel(input, sheet_name='Keywords')\n",
    "print(df2.head(5))\n",
    "print(df2.info())"
   ]
  },
  {
   "cell_type": "code",
   "execution_count": 38,
   "metadata": {},
   "outputs": [
    {
     "name": "stderr",
     "output_type": "stream",
     "text": [
      "C:\\Users\\Raguna\\AppData\\Local\\Temp\\ipykernel_29252\\3894742224.py:2: FutureWarning: The default value of regex will change from True to False in a future version.\n",
      "  df2['E Numbers'] = df2['E Numbers'].str.replace('(\\d+)', r'E\\1')\n"
     ]
    }
   ],
   "source": [
    "# Add an 'E' in front of every E number.\n",
    "df2['E Numbers'] = df2['E Numbers'].str.replace('(\\d+)', r'E\\1')"
   ]
  },
  {
   "cell_type": "code",
   "execution_count": 39,
   "metadata": {},
   "outputs": [
    {
     "name": "stdout",
     "output_type": "stream",
     "text": [
      "           pivot_name                                        pivot_value\n",
      "0  Animal Ingredients  Milk, Whey, Honey, Egg, Lactose, Collagen, Ela...\n",
      "1           E Numbers  E120, E441, E545, E901, E904, E910, E920, E921...\n"
     ]
    }
   ],
   "source": [
    "# Stack Animal Ingredients and E Numbers on top of each other.\n",
    "df2 = df2.melt(id_vars=None, value_vars=['Animal Ingredients', 'E Numbers'], var_name='pivot_name', value_name='pivot_value')\n",
    "print(df2)"
   ]
  },
  {
   "cell_type": "code",
   "execution_count": 40,
   "metadata": {},
   "outputs": [
    {
     "name": "stdout",
     "output_type": "stream",
     "text": [
      "     Keywords\n",
      "0        milk\n",
      "1        e120\n",
      "2        whey\n",
      "3        e441\n",
      "4       honey\n",
      "5        e545\n",
      "6         egg\n",
      "7        e901\n",
      "8     lactose\n",
      "9        e904\n",
      "10   collagen\n",
      "11       e910\n",
      "12    elastin\n",
      "13       e920\n",
      "14    keratin\n",
      "15       e921\n",
      "16   gelatine\n",
      "17       e913\n",
      "18    gelatin\n",
      "19       e966\n",
      "20     pepsin\n",
      "22  isinglass\n",
      "24    shellac\n",
      "26       lard\n",
      "28      aspic\n",
      "30    beeswax\n"
     ]
    }
   ],
   "source": [
    "# Get every ingredient and E number onto separate rows.\n",
    "# split the pivot_value column into multiple columns based on the comma separator\n",
    "df_split = df2['pivot_value'].str.split(', ', expand=True)\n",
    "\n",
    "df_split = df_split.melt(id_vars=None, value_vars=df_split.columns, var_name='pivot_name' , value_name='Keywords')\n",
    "df_split.drop(columns='pivot_name', inplace=True)\n",
    "\n",
    "# Remove null value\n",
    "df_split = df_split.dropna()\n",
    "df_split['Keywords'] = df_split['Keywords'].str.lower()\n",
    "print(df_split)"
   ]
  },
  {
   "cell_type": "code",
   "execution_count": 41,
   "metadata": {},
   "outputs": [],
   "source": [
    "# Append the keywords onto the product list.\n",
    "df_split['dummy_id'] = 1\n",
    "df1['dummy_id'] = 1\n",
    "append_df = pd.merge(left=df_split, right=df1, on='dummy_id', how='inner')\n"
   ]
  },
  {
   "cell_type": "code",
   "execution_count": 42,
   "metadata": {},
   "outputs": [
    {
     "name": "stdout",
     "output_type": "stream",
     "text": [
      "<class 'pandas.core.frame.DataFrame'>\n",
      "Int64Index: 1014 entries, 0 to 1013\n",
      "Data columns (total 6 columns):\n",
      " #   Column                 Non-Null Count  Dtype \n",
      "---  ------                 --------------  ----- \n",
      " 0   Keywords               1014 non-null   object\n",
      " 1   dummy_id               1014 non-null   int64 \n",
      " 2   Product                1014 non-null   object\n",
      " 3   Description            1014 non-null   object\n",
      " 4   Ingredients/Allergens  1014 non-null   object\n",
      " 5   Contains Ingredient    1014 non-null   int64 \n",
      "dtypes: int64(2), object(4)\n",
      "memory usage: 55.5+ KB\n",
      "None\n"
     ]
    }
   ],
   "source": [
    "# Check whether each product contains any non-vegan ingredients.\n",
    "append_df['Contains Ingredient'] = append_df.apply(lambda row: 1 if row['Keywords'] in row['Ingredients/Allergens'] else 0, axis=1)\n",
    "print(append_df.info())"
   ]
  },
  {
   "cell_type": "code",
   "execution_count": 43,
   "metadata": {},
   "outputs": [
    {
     "name": "stdout",
     "output_type": "stream",
     "text": [
      "                                  Product  \\\n",
      "1      Alpen Light Jaffa Cake Cereal Bars   \n",
      "4  Belvita Soft Filled Chocolate Biscuits   \n",
      "5   Cadbury Bourneville Chocolate Fingers   \n",
      "7       Co-op Bakery 5 Jam Ball Doughnuts   \n",
      "8  Doritos Chilli Heatwave Tortilla Chips   \n",
      "\n",
      "                                         Description  max_contain  \n",
      "1  Mixed cereal bar with orange flavoured fruity ...            0  \n",
      "4  Soft baked biscuits made with wholegrain cerea...            0  \n",
      "5  Crisp biscuits covered with dark chocolate (48...            0  \n",
      "7                                    Jam Doughnut 5s            0  \n",
      "8                 Chilli Heatwave Flavour Corn Chips            0  \n"
     ]
    }
   ],
   "source": [
    "# Prepare a final shopping list of vegan products\n",
    "vegan_list = append_df.groupby(['Product', 'Description']).agg(max_contain=('Contains Ingredient','max')).reset_index()\n",
    "vegan_list = vegan_list[vegan_list['max_contain'] == 0]\n",
    "print(vegan_list.head(5))"
   ]
  },
  {
   "cell_type": "code",
   "execution_count": 44,
   "metadata": {},
   "outputs": [
    {
     "name": "stdout",
     "output_type": "stream",
     "text": [
      "                                  Product  \\\n",
      "3           Walkers Max Flamin Hot Crisps   \n",
      "4            Smiths Frazzles Bacon Snacks   \n",
      "5            Sensations Thai Sweet Chilli   \n",
      "8              Tesco 5 Pack Jam Doughnuts   \n",
      "9  Krispy Kreme Original Glazed Doughnuts   \n",
      "\n",
      "                                         Description  \\\n",
      "3  Fiercely Flamin' Hot Flavour Ridged Potato Crisps   \n",
      "4                    Crispy Bacon Flavour Corn Snack   \n",
      "5            Thai Sweet Chilli Flavour Potato Crisps   \n",
      "8                                   Jam Doughnut 5PK   \n",
      "9  Bring some light and fluffy joy into your day ...   \n",
      "\n",
      "                               Ingredients/Allergens             Contains  \n",
      "3  potatoes, vegetable oils (sunflower, rapeseed,...           milk, whey  \n",
      "4  maize, rapeseed oil, bacon flavour seasoning [...  milk, whey, lactose  \n",
      "5  potatoes, vegetable oils (sunflower, rapeseed,...                 milk  \n",
      "8  wheat flour [wheat flour, calcium carbonate, i...                 milk  \n",
      "9                       gluten (wheat), egg and milk            milk, egg  \n"
     ]
    }
   ],
   "source": [
    "# Prepare a list explaining why the other products aren't vegan.\n",
    "non_vegan_list = append_df[append_df['Contains Ingredient'] == 1]\n",
    "# print(non_vegan_list.info())\n",
    "non_vegan_ingredient = non_vegan_list['Keywords'].unique()\n",
    "\n",
    "\n",
    "# print('======================================')\n",
    "# print(non_vegan_ingredient)\n",
    "non_vegan_list = non_vegan_list[['Product', 'Description', 'Ingredients/Allergens']]\n",
    "non_vegan_list = non_vegan_list.drop_duplicates()\n",
    "# print(non_vegan_list.head(5))\n",
    "\n",
    "for index, row in non_vegan_list.iterrows():\n",
    "    temp_contain = ''\n",
    "    for ingredient in non_vegan_ingredient:\n",
    "        if ingredient in row['Ingredients/Allergens']:\n",
    "            temp_contain = temp_contain + ', ' + ingredient\n",
    "    non_vegan_list.at[index, 'Contains'] = temp_contain\n",
    "\n",
    "non_vegan_list['Contains'] = non_vegan_list['Contains'].str[2:]\n",
    "print(non_vegan_list.head(5))\n"
   ]
  }
 ],
 "metadata": {
  "kernelspec": {
   "display_name": "Python 3",
   "language": "python",
   "name": "python3"
  },
  "language_info": {
   "codemirror_mode": {
    "name": "ipython",
    "version": 3
   },
   "file_extension": ".py",
   "mimetype": "text/x-python",
   "name": "python",
   "nbconvert_exporter": "python",
   "pygments_lexer": "ipython3",
   "version": "3.10.0"
  },
  "orig_nbformat": 4
 },
 "nbformat": 4,
 "nbformat_minor": 2
}

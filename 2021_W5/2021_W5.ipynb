{
 "cells": [
  {
   "attachments": {},
   "cell_type": "markdown",
   "metadata": {},
   "source": [
    "# 2021: Week 5 - Dealing with Duplication\n",
    "\n",
    "February 03, 2021\n",
    "\n",
    "Challenge by: Jenny Martin\n",
    "\n",
    "Have you ever been working with a dataset in Tableau Desktop and noticed some duplication occurring? Of course, this is something you can fix with some potentially tricky LODs or Table Calc filters, but wouldn't it be nicer for your dataset to be viz ready before heading into Desktop? \n",
    "\n",
    "If you attended the Tableau Fringe Festival last year, this concept may feel familiar, as I did a quick demo explaining why I, personally, would prefer to use Prep to solve my duplication issues. You can find the video [here](https://www.youtube.com/watch?v=oNV_S-td4SU&list=PLlwjCfjqIxWlEZskASdjsN61DLOfmCk-Y&index=4) if you like.\n",
    "\n",
    "## Input\n",
    "The dataset we'll be working with for this challenge follows the same theme as the Fringe Festival. We have information relating to which of our Clients are attending our training sessions. Also included in our dataset is which Account Managers look after which Clients. However, we have historical information about Account Ownership which is leading to duplication. So how can we fix it?\n",
    "\n",
    "<img src='https://1.bp.blogspot.com/-d0bHWDavGPk/X-HeazG_L2I/AAAAAAAAAp8/OwmFLFlx8zc6TOKgk6vDLSMTEtsys9JtwCLcBGAsYHQ/w640-h173/Joined%2BDataset.png'>\n",
    "\n",
    "## Requirements\n",
    "If you're new to the technique of deduplicating data, then check out [this blog](https://preppindata.blogspot.com/2020/03/how-to-deduplicate.html) post for some helpful thoughts about how to approach this challenge.\n",
    "- [Input the data](https://drive.google.com/file/d/1syLzqzqIqsHJbJzxV3GVqcPdTOjCA-A1/view?usp=sharing) \n",
    "- For each Client, work out who the most recent Account Manager is (help)\n",
    "- Filter the data so that only the most recent Account Manager remains (help)\n",
    "    - Be careful not to lose any attendees from the training sessions!\n",
    "- In some instances, the Client ID has changed along with the Account Manager. Ensure only the most recent Client ID remains\n",
    "- [Output the data](https://drive.google.com/file/d/1mTsq_0puEnSeypvIB8z2jnvWNpIR4OfH/view?usp=sharing)\n",
    "\n",
    "## Output\n",
    "\n",
    "<img src='https://1.bp.blogspot.com/-Kr_f9TYhdhg/X-HgeNwEzPI/AAAAAAAAAqQ/CDMGEy5J64Yml_B_JXOfX4sB95xEtuccQCLcBGAsYHQ/w640-h212/Output%2B2020W5.png'>\n",
    "\n",
    "- 7 fields\n",
    "    - Training\n",
    "    - Contact Email\n",
    "    - Contact Name\n",
    "    - Client\n",
    "    - Client ID\n",
    "    - Account Manager\n",
    "    - From Date\n",
    "- 13,528 rows (13,529 including headers)"
   ]
  },
  {
   "cell_type": "code",
   "execution_count": 54,
   "metadata": {},
   "outputs": [],
   "source": [
    "import pandas as pd"
   ]
  },
  {
   "cell_type": "code",
   "execution_count": 55,
   "metadata": {},
   "outputs": [
    {
     "name": "stdout",
     "output_type": "stream",
     "text": [
      "                Training                                 Contact Email  \\\n",
      "0  Prep 101 - 2020-10-01                 abagael.matresse@brauninc.com   \n",
      "1  Prep 101 - 2020-10-01               abagail.macconnell@lakinllc.com   \n",
      "2  Prep 101 - 2020-10-01                  abagail.moodey@raynorinc.com   \n",
      "3  Prep 101 - 2020-10-01                    abby.eager@paucekgroup.com   \n",
      "4  Prep 101 - 2020-10-01  abelard.mechell@lehner.swiftanddickinson.com   \n",
      "\n",
      "         Contact Name                       Client  Client ID Account Manager  \\\n",
      "0    Abagael Matresse                    Braun Inc       1200     Xiaoxuan Ma   \n",
      "1  Abagail MacConnell                    Lakin LLC        924  Lucy Stevenson   \n",
      "2      Abagail Moodey                   Raynor Inc        444     Nancy Smith   \n",
      "3          Abby Eager                 Paucek Group        893     Nancy Smith   \n",
      "4     Abelard Mechell  Lehner, Swift and Dickinson       1323     Xiaoxuan Ma   \n",
      "\n",
      "   From Date  \n",
      "0 2019-12-31  \n",
      "1 2019-01-01  \n",
      "2 2015-07-01  \n",
      "3 2018-09-20  \n",
      "4 2019-12-31  \n",
      "<class 'pandas.core.frame.DataFrame'>\n",
      "RangeIndex: 13623 entries, 0 to 13622\n",
      "Data columns (total 7 columns):\n",
      " #   Column           Non-Null Count  Dtype         \n",
      "---  ------           --------------  -----         \n",
      " 0   Training         13623 non-null  object        \n",
      " 1   Contact Email    13623 non-null  object        \n",
      " 2   Contact Name     13623 non-null  object        \n",
      " 3   Client           13623 non-null  object        \n",
      " 4   Client ID        13623 non-null  int64         \n",
      " 5   Account Manager  13623 non-null  object        \n",
      " 6   From Date        13623 non-null  datetime64[ns]\n",
      "dtypes: datetime64[ns](1), int64(1), object(5)\n",
      "memory usage: 745.1+ KB\n",
      "None\n"
     ]
    }
   ],
   "source": [
    "# Input the data\n",
    "input = 'Joined Dataset.csv'\n",
    "df = pd.read_csv(input)\n",
    "\n",
    "# Correct data type\n",
    "df['From Date'] = pd.to_datetime(df['From Date'], format=r'%d/%m/%Y')\n",
    "print(df.head(5))\n",
    "print(df.info())\n",
    "\n"
   ]
  },
  {
   "cell_type": "code",
   "execution_count": 56,
   "metadata": {},
   "outputs": [
    {
     "name": "stdout",
     "output_type": "stream",
     "text": [
      "                        Client  Client ID Account Manager  From Date\n",
      "0                    Lakin LLC        924  Lucy Stevenson 2019-01-01\n",
      "1                   Raynor Inc        444     Nancy Smith 2015-07-01\n",
      "2                 Paucek Group        893     Nancy Smith 2018-09-20\n",
      "3  Lehner, Swift and Dickinson       1323     Xiaoxuan Ma 2019-12-31\n",
      "4    Vandervort, Will and Wiza       1137    Louisa James 2018-09-01\n",
      "<class 'pandas.core.frame.DataFrame'>\n",
      "Int64Index: 527 entries, 0 to 526\n",
      "Data columns (total 4 columns):\n",
      " #   Column           Non-Null Count  Dtype         \n",
      "---  ------           --------------  -----         \n",
      " 0   Client           527 non-null    object        \n",
      " 1   Client ID        527 non-null    int64         \n",
      " 2   Account Manager  527 non-null    object        \n",
      " 3   From Date        527 non-null    datetime64[ns]\n",
      "dtypes: datetime64[ns](1), int64(1), object(2)\n",
      "memory usage: 20.6+ KB\n",
      "None\n"
     ]
    }
   ],
   "source": [
    "# For each Client, work out who the most recent Account Manager is\n",
    "# Summarize the client information\n",
    "account_managers_info = df[['Client', 'Client ID', 'Account Manager', 'From Date']]\n",
    "account_managers_info = account_managers_info.drop_duplicates()\n",
    "\n",
    "# Get the most recent date for each client\n",
    "max_from_date_df = account_managers_info.groupby('Client').agg(max_date=('From Date', 'max')).reset_index()\n",
    "\n",
    "# Keep only the most recent information for each client\n",
    "filter_to_current_AM = pd.merge(left=account_managers_info, right=max_from_date_df, left_on=['Client','From Date'], right_on=['Client','max_date'], how='inner')\n",
    "filter_to_current_AM.drop(columns='max_date', inplace=True)\n",
    "\n",
    "print(filter_to_current_AM.head(5))\n",
    "print(filter_to_current_AM.info())\n",
    "\n",
    "\n",
    "\n"
   ]
  },
  {
   "cell_type": "code",
   "execution_count": 57,
   "metadata": {},
   "outputs": [
    {
     "name": "stdout",
     "output_type": "stream",
     "text": [
      "                Training                     Contact Email  \\\n",
      "0  Prep 101 - 2020-10-01     abagael.matresse@brauninc.com   \n",
      "1  Prep 101 - 2020-10-01        amory.sinnatt@brauninc.com   \n",
      "2  Prep 101 - 2020-10-01          aurel.arter@brauninc.com   \n",
      "3  Prep 101 - 2020-10-01  briggs.sleightholme@brauninc.com   \n",
      "4  Prep 101 - 2020-10-01          hodge.letch@brauninc.com   \n",
      "\n",
      "          Contact Name     Client  Client ID Account Manager  From Date  \n",
      "0     Abagael Matresse  Braun Inc       2460     Oscar Adams 2020-06-30  \n",
      "1        Amory Sinnatt  Braun Inc       2460     Oscar Adams 2020-06-30  \n",
      "2          Aurel Arter  Braun Inc       2460     Oscar Adams 2020-06-30  \n",
      "3  Briggs Sleightholme  Braun Inc       2460     Oscar Adams 2020-06-30  \n",
      "4          Hodge Letch  Braun Inc       2460     Oscar Adams 2020-06-30  \n",
      "<class 'pandas.core.frame.DataFrame'>\n",
      "Int64Index: 13528 entries, 0 to 13527\n",
      "Data columns (total 7 columns):\n",
      " #   Column           Non-Null Count  Dtype         \n",
      "---  ------           --------------  -----         \n",
      " 0   Training         13528 non-null  object        \n",
      " 1   Contact Email    13528 non-null  object        \n",
      " 2   Contact Name     13528 non-null  object        \n",
      " 3   Client           13528 non-null  object        \n",
      " 4   Client ID        13528 non-null  int64         \n",
      " 5   Account Manager  13528 non-null  object        \n",
      " 6   From Date        13528 non-null  datetime64[ns]\n",
      "dtypes: datetime64[ns](1), int64(1), object(5)\n",
      "memory usage: 845.5+ KB\n",
      "None\n"
     ]
    }
   ],
   "source": [
    "# Filter the data so that only the most recent Account Manager remains\n",
    "# Be careful not to lose any attendees from the training sessions!\n",
    "# In some instances, the Client ID has changed along with the Account Manager. Ensure only the most recent Client ID remains\n",
    "training_info = df[['Training', 'Contact Email', 'Contact Name', 'Client']]\n",
    "training_info = training_info.drop_duplicates()\n",
    "\n",
    "output = pd.merge(left=training_info, right=filter_to_current_AM, on='Client')\n",
    "print(output.head(5))\n",
    "print(output.info())\n"
   ]
  }
 ],
 "metadata": {
  "kernelspec": {
   "display_name": "Python 3",
   "language": "python",
   "name": "python3"
  },
  "language_info": {
   "codemirror_mode": {
    "name": "ipython",
    "version": 3
   },
   "file_extension": ".py",
   "mimetype": "text/x-python",
   "name": "python",
   "nbconvert_exporter": "python",
   "pygments_lexer": "ipython3",
   "version": "3.10.0"
  },
  "orig_nbformat": 4
 },
 "nbformat": 4,
 "nbformat_minor": 2
}

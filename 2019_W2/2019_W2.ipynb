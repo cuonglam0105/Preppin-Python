{
 "cells": [
  {
   "cell_type": "markdown",
   "metadata": {},
   "source": [
    "2019: Week 2\n",
    "February 20, 2019\n",
    "\n",
    "So you survived week one (note: if you haven’t completed week one - go back and give it a go as we will be layering the techniques over time)... well done and let’s kick this up a notch. \n",
    "\n",
    "This week’s challenge uses a few of Jonathan’s and my favourite Tableau Prep features. Prep has a load of great features built in to the menus so let’s see which of them you can use to save you lots of fiddly calculations. \n",
    "\n",
    "\n",
    "So what’s the data? We need you decide where you are going to in the UK; London or Edinburgh, purely based on the weather (every Brit’s favourite subject).\n",
    "\n",
    "\n",
    "Requirements for this week:\n",
    "- Import the file\n",
    "- Get rid of those nicely formatted titles - no-one is viewing this in Excel! (sorry Excel fans)\n",
    "- Make sure you get all the data in the Excel sheet loaded in to Prep\n",
    "- Clean up the City names to create two cities in one column (London and Edinburgh)\n",
    "- Pivot the data to give a measure per column for the four metrics in the data set\n",
    "- Output the data to csv\n",
    "\n",
    "Your output file should:\n",
    "- have 6 columns\n",
    "- have 14 rows of data and a row of headers\n",
    "- Have no cells without a value\n",
    "- Just load beautifully into Tableau\n"
   ]
  },
  {
   "cell_type": "code",
   "execution_count": 64,
   "metadata": {},
   "outputs": [],
   "source": [
    "import pandas as pd\n",
    "import numpy as np"
   ]
  },
  {
   "cell_type": "markdown",
   "metadata": {},
   "source": [
    "Đọc 2 bảng trong sheet excel"
   ]
  },
  {
   "cell_type": "code",
   "execution_count": 29,
   "metadata": {},
   "outputs": [],
   "source": [
    "df1 = pd.read_excel(r'C:\\Users\\Raguna\\Documents\\Python\\Preppin Python\\PD 2019 Wk 2.xlsx', sheet_name='PC Wk 02', nrows=28)\n",
    "df2 = pd.read_excel(r'C:\\Users\\Raguna\\Documents\\Python\\Preppin Python\\PD 2019 Wk 2.xlsx', sheet_name='PC Wk 02', skiprows=31)\n"
   ]
  },
  {
   "cell_type": "markdown",
   "metadata": {},
   "source": [
    "Group value lại cho thống nhất"
   ]
  },
  {
   "cell_type": "code",
   "execution_count": 43,
   "metadata": {},
   "outputs": [],
   "source": [
    "df1['City'] = df1['City'].replace(['London', 'Londen', 'Lond0n', 'london', 'nodonL', 'Londin', 'Londoon'],'London')\n",
    "df2['City'] = df2['City'].replace(['Edinburgh', 'Edinborgh', 'edinburgh', 'edinborgh', 'Ed1nburgh', 'Ed!nburgh',\n",
    " 'Edenburgh', '3d!nburgh'],'Edinburgh')"
   ]
  },
  {
   "cell_type": "markdown",
   "metadata": {},
   "source": [
    "Union 2 bảng lại sau đó tạo trường Measure Name"
   ]
  },
  {
   "cell_type": "code",
   "execution_count": 73,
   "metadata": {},
   "outputs": [
    {
     "name": "stdout",
     "output_type": "stream",
     "text": [
      "         City  Value       Date               Measure Name\n",
      "0      London   13.0 2019-02-16  Max Temperature - Celsius\n",
      "1      London    6.0 2019-02-16  Min Temperature - Celsius\n",
      "2      London    2.0 2019-02-16         Precipitation - mm\n",
      "3      London    7.0 2019-02-16           Wind Speed - mph\n",
      "4      London   14.0 2019-02-17  Max Temperature - Celsius\n",
      "5      London    9.0 2019-02-17  Min Temperature - Celsius\n",
      "6      London    0.0 2019-02-17         Precipitation - mm\n",
      "7      London   12.0 2019-02-17           Wind Speed - mph\n",
      "8      London   11.0 2019-02-18  Max Temperature - Celsius\n",
      "9      London    4.0 2019-02-18  Min Temperature - Celsius\n",
      "10     London   12.0 2019-02-18         Precipitation - mm\n",
      "11     London   10.0 2019-02-18           Wind Speed - mph\n",
      "12     London   12.0 2019-02-19  Max Temperature - Celsius\n",
      "13     London    8.0 2019-02-19  Min Temperature - Celsius\n",
      "14     London    4.0 2019-02-19         Precipitation - mm\n",
      "15     London   11.0 2019-02-19           Wind Speed - mph\n",
      "16     London   13.0 2019-02-20  Max Temperature - Celsius\n",
      "17     London    9.0 2019-02-20  Min Temperature - Celsius\n",
      "18     London    2.0 2019-02-20         Precipitation - mm\n",
      "19     London   13.0 2019-02-20           Wind Speed - mph\n",
      "20     London   15.0 2019-02-21  Max Temperature - Celsius\n",
      "21     London    8.0 2019-02-21  Min Temperature - Celsius\n",
      "22     London    2.0 2019-02-21         Precipitation - mm\n",
      "23     London    8.0 2019-02-21           Wind Speed - mph\n",
      "24     London   16.0 2019-02-22  Max Temperature - Celsius\n",
      "25     London    9.0 2019-02-22  Min Temperature - Celsius\n",
      "26     London    0.0 2019-02-22         Precipitation - mm\n",
      "27     London    7.0 2019-02-22           Wind Speed - mph\n",
      "28  Edinburgh   11.0 2019-02-16  Max Temperature - Celsius\n",
      "29  Edinburgh    8.0 2019-02-16  Min Temperature - Celsius\n",
      "30  Edinburgh    4.0 2019-02-16         Precipitation - mm\n",
      "31  Edinburgh   13.0 2019-02-16           Wind Speed - mph\n",
      "32  Edinburgh   12.0 2019-02-17  Max Temperature - Celsius\n",
      "33  Edinburgh    6.0 2019-02-17  Min Temperature - Celsius\n",
      "34  Edinburgh    9.0 2019-02-17         Precipitation - mm\n",
      "35  Edinburgh   17.0 2019-02-17           Wind Speed - mph\n",
      "36  Edinburgh    9.0 2019-02-18  Max Temperature - Celsius\n",
      "37  Edinburgh    5.0 2019-02-18  Min Temperature - Celsius\n",
      "38  Edinburgh   11.0 2019-02-18         Precipitation - mm\n",
      "39  Edinburgh   20.0 2019-02-18           Wind Speed - mph\n",
      "40  Edinburgh    9.0 2019-02-19  Max Temperature - Celsius\n",
      "41  Edinburgh    7.0 2019-02-19  Min Temperature - Celsius\n",
      "42  Edinburgh   14.0 2019-02-19         Precipitation - mm\n",
      "43  Edinburgh   13.0 2019-02-19           Wind Speed - mph\n",
      "44  Edinburgh   11.0 2019-02-20  Max Temperature - Celsius\n",
      "45  Edinburgh    8.0 2019-02-20  Min Temperature - Celsius\n",
      "46  Edinburgh   18.0 2019-02-20         Precipitation - mm\n",
      "47  Edinburgh   13.0 2019-02-20           Wind Speed - mph\n",
      "48  Edinburgh   13.0 2019-02-21  Max Temperature - Celsius\n",
      "49  Edinburgh    8.0 2019-02-21  Min Temperature - Celsius\n",
      "50  Edinburgh    8.0 2019-02-21         Precipitation - mm\n",
      "51  Edinburgh   11.0 2019-02-21           Wind Speed - mph\n",
      "52  Edinburgh   13.0 2019-02-22  Max Temperature - Celsius\n",
      "53  Edinburgh    9.0 2019-02-22  Min Temperature - Celsius\n",
      "54  Edinburgh    8.0 2019-02-22         Precipitation - mm\n",
      "55  Edinburgh   12.0 2019-02-22           Wind Speed - mph\n"
     ]
    }
   ],
   "source": [
    "df = pd.concat([df1,df2], ignore_index=True)\n",
    "df['Measure Name'] = df['Metric'] + ' - ' + df['Measure']\n",
    "df.drop(columns=['Metric','Measure'], inplace=True)\n",
    "print(df)"
   ]
  },
  {
   "cell_type": "markdown",
   "metadata": {},
   "source": [
    "Pivot table bảng lại"
   ]
  },
  {
   "cell_type": "code",
   "execution_count": 74,
   "metadata": {},
   "outputs": [
    {
     "name": "stdout",
     "output_type": "stream",
     "text": [
      "Measure Name       City       Date  Max Temperature - Celsius  \\\n",
      "0             Edinburgh 2019-02-16                       11.0   \n",
      "1             Edinburgh 2019-02-17                       12.0   \n",
      "2             Edinburgh 2019-02-18                        9.0   \n",
      "3             Edinburgh 2019-02-19                        9.0   \n",
      "4             Edinburgh 2019-02-20                       11.0   \n",
      "5             Edinburgh 2019-02-21                       13.0   \n",
      "6             Edinburgh 2019-02-22                       13.0   \n",
      "7                London 2019-02-16                       13.0   \n",
      "8                London 2019-02-17                       14.0   \n",
      "9                London 2019-02-18                       11.0   \n",
      "10               London 2019-02-19                       12.0   \n",
      "11               London 2019-02-20                       13.0   \n",
      "12               London 2019-02-21                       15.0   \n",
      "13               London 2019-02-22                       16.0   \n",
      "\n",
      "Measure Name  Min Temperature - Celsius  Precipitation - mm  Wind Speed - mph  \n",
      "0                                   8.0                 4.0              13.0  \n",
      "1                                   6.0                 9.0              17.0  \n",
      "2                                   5.0                11.0              20.0  \n",
      "3                                   7.0                14.0              13.0  \n",
      "4                                   8.0                18.0              13.0  \n",
      "5                                   8.0                 8.0              11.0  \n",
      "6                                   9.0                 8.0              12.0  \n",
      "7                                   6.0                 2.0               7.0  \n",
      "8                                   9.0                 0.0              12.0  \n",
      "9                                   4.0                12.0              10.0  \n",
      "10                                  8.0                 4.0              11.0  \n",
      "11                                  9.0                 2.0              13.0  \n",
      "12                                  8.0                 2.0               8.0  \n",
      "13                                  9.0                 0.0               7.0  \n"
     ]
    }
   ],
   "source": [
    "df = pd.pivot_table(df,values='Value',index=['City','Date'] ,columns=['Measure Name'], aggfunc=np.sum).reset_index()\n",
    "print(df)"
   ]
  },
  {
   "cell_type": "markdown",
   "metadata": {},
   "source": [
    "Xuất output ra excel kiểm tra kết quả"
   ]
  },
  {
   "cell_type": "code",
   "execution_count": 77,
   "metadata": {},
   "outputs": [],
   "source": [
    "with pd.ExcelWriter('output.xlsx',mode='w') as write:\n",
    "    df.to_excel(write, index=False)"
   ]
  }
 ],
 "metadata": {
  "kernelspec": {
   "display_name": "Python 3.10.0 64-bit",
   "language": "python",
   "name": "python3"
  },
  "language_info": {
   "codemirror_mode": {
    "name": "ipython",
    "version": 3
   },
   "file_extension": ".py",
   "mimetype": "text/x-python",
   "name": "python",
   "nbconvert_exporter": "python",
   "pygments_lexer": "ipython3",
   "version": "3.10.0"
  },
  "orig_nbformat": 4,
  "vscode": {
   "interpreter": {
    "hash": "c3cedd81013b3798254e530f0d04430997cc2a4c554aece6737b52869c4f2a57"
   }
  }
 },
 "nbformat": 4,
 "nbformat_minor": 2
}
